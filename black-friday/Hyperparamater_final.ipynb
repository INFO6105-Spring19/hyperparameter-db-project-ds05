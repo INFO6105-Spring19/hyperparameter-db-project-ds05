{
 "cells": [
  {
   "cell_type": "code",
   "execution_count": 1,
   "metadata": {},
   "outputs": [],
   "source": [
    "import h2o\n",
    "from h2o.automl import H2OAutoML\n",
    "import random, os, sys\n",
    "import warnings\n",
    "warnings.filterwarnings('ignore')\n",
    "from datetime import datetime\n",
    "import pandas as pd\n",
    "import logging\n",
    "import csv\n",
    "import optparse\n",
    "import time\n",
    "import json\n",
    "from distutils.util import strtobool\n",
    "import psutil\n",
    "import pandas as pd\n",
    "import numpy as np\n",
    "import matplotlib.pyplot as plt\n",
    "import seaborn as sns"
   ]
  },
  {
   "cell_type": "code",
   "execution_count": 2,
   "metadata": {},
   "outputs": [],
   "source": [
    "# importing the dataset\n",
    "df=pd.read_csv(\"BlackFriday.csv\", decimal = ',')"
   ]
  },
  {
   "cell_type": "code",
   "execution_count": 3,
   "metadata": {},
   "outputs": [
    {
     "data": {
      "text/html": [
       "<div>\n",
       "<style scoped>\n",
       "    .dataframe tbody tr th:only-of-type {\n",
       "        vertical-align: middle;\n",
       "    }\n",
       "\n",
       "    .dataframe tbody tr th {\n",
       "        vertical-align: top;\n",
       "    }\n",
       "\n",
       "    .dataframe thead th {\n",
       "        text-align: right;\n",
       "    }\n",
       "</style>\n",
       "<table border=\"1\" class=\"dataframe\">\n",
       "  <thead>\n",
       "    <tr style=\"text-align: right;\">\n",
       "      <th></th>\n",
       "      <th>User_ID</th>\n",
       "      <th>Product_ID</th>\n",
       "      <th>Gender</th>\n",
       "      <th>Age</th>\n",
       "      <th>Occupation</th>\n",
       "      <th>City_Category</th>\n",
       "      <th>Stay_In_Current_City_Years</th>\n",
       "      <th>Marital_Status</th>\n",
       "      <th>Product_Category_1</th>\n",
       "      <th>Product_Category_2</th>\n",
       "      <th>Product_Category_3</th>\n",
       "      <th>Purchase</th>\n",
       "    </tr>\n",
       "  </thead>\n",
       "  <tbody>\n",
       "    <tr>\n",
       "      <th>0</th>\n",
       "      <td>1000001</td>\n",
       "      <td>P00069042</td>\n",
       "      <td>F</td>\n",
       "      <td>0-17</td>\n",
       "      <td>10</td>\n",
       "      <td>A</td>\n",
       "      <td>2</td>\n",
       "      <td>0</td>\n",
       "      <td>3</td>\n",
       "      <td>NaN</td>\n",
       "      <td>NaN</td>\n",
       "      <td>8370</td>\n",
       "    </tr>\n",
       "    <tr>\n",
       "      <th>1</th>\n",
       "      <td>1000001</td>\n",
       "      <td>P00248942</td>\n",
       "      <td>F</td>\n",
       "      <td>0-17</td>\n",
       "      <td>10</td>\n",
       "      <td>A</td>\n",
       "      <td>2</td>\n",
       "      <td>0</td>\n",
       "      <td>1</td>\n",
       "      <td>6.0</td>\n",
       "      <td>14.0</td>\n",
       "      <td>15200</td>\n",
       "    </tr>\n",
       "    <tr>\n",
       "      <th>2</th>\n",
       "      <td>1000001</td>\n",
       "      <td>P00087842</td>\n",
       "      <td>F</td>\n",
       "      <td>0-17</td>\n",
       "      <td>10</td>\n",
       "      <td>A</td>\n",
       "      <td>2</td>\n",
       "      <td>0</td>\n",
       "      <td>12</td>\n",
       "      <td>NaN</td>\n",
       "      <td>NaN</td>\n",
       "      <td>1422</td>\n",
       "    </tr>\n",
       "    <tr>\n",
       "      <th>3</th>\n",
       "      <td>1000001</td>\n",
       "      <td>P00085442</td>\n",
       "      <td>F</td>\n",
       "      <td>0-17</td>\n",
       "      <td>10</td>\n",
       "      <td>A</td>\n",
       "      <td>2</td>\n",
       "      <td>0</td>\n",
       "      <td>12</td>\n",
       "      <td>14.0</td>\n",
       "      <td>NaN</td>\n",
       "      <td>1057</td>\n",
       "    </tr>\n",
       "    <tr>\n",
       "      <th>4</th>\n",
       "      <td>1000002</td>\n",
       "      <td>P00285442</td>\n",
       "      <td>M</td>\n",
       "      <td>55+</td>\n",
       "      <td>16</td>\n",
       "      <td>C</td>\n",
       "      <td>4+</td>\n",
       "      <td>0</td>\n",
       "      <td>8</td>\n",
       "      <td>NaN</td>\n",
       "      <td>NaN</td>\n",
       "      <td>7969</td>\n",
       "    </tr>\n",
       "  </tbody>\n",
       "</table>\n",
       "</div>"
      ],
      "text/plain": [
       "   User_ID Product_ID Gender   Age  Occupation City_Category  \\\n",
       "0  1000001  P00069042      F  0-17          10             A   \n",
       "1  1000001  P00248942      F  0-17          10             A   \n",
       "2  1000001  P00087842      F  0-17          10             A   \n",
       "3  1000001  P00085442      F  0-17          10             A   \n",
       "4  1000002  P00285442      M   55+          16             C   \n",
       "\n",
       "  Stay_In_Current_City_Years  Marital_Status  Product_Category_1  \\\n",
       "0                          2               0                   3   \n",
       "1                          2               0                   1   \n",
       "2                          2               0                  12   \n",
       "3                          2               0                  12   \n",
       "4                         4+               0                   8   \n",
       "\n",
       "   Product_Category_2  Product_Category_3  Purchase  \n",
       "0                 NaN                 NaN      8370  \n",
       "1                 6.0                14.0     15200  \n",
       "2                 NaN                 NaN      1422  \n",
       "3                14.0                 NaN      1057  \n",
       "4                 NaN                 NaN      7969  "
      ]
     },
     "execution_count": 3,
     "metadata": {},
     "output_type": "execute_result"
    }
   ],
   "source": [
    "df.head()"
   ]
  },
  {
   "cell_type": "code",
   "execution_count": 4,
   "metadata": {},
   "outputs": [
    {
     "data": {
      "text/html": [
       "<div>\n",
       "<style scoped>\n",
       "    .dataframe tbody tr th:only-of-type {\n",
       "        vertical-align: middle;\n",
       "    }\n",
       "\n",
       "    .dataframe tbody tr th {\n",
       "        vertical-align: top;\n",
       "    }\n",
       "\n",
       "    .dataframe thead th {\n",
       "        text-align: right;\n",
       "    }\n",
       "</style>\n",
       "<table border=\"1\" class=\"dataframe\">\n",
       "  <thead>\n",
       "    <tr style=\"text-align: right;\">\n",
       "      <th></th>\n",
       "      <th>User_ID</th>\n",
       "      <th>Occupation</th>\n",
       "      <th>Marital_Status</th>\n",
       "      <th>Product_Category_1</th>\n",
       "      <th>Product_Category_2</th>\n",
       "      <th>Product_Category_3</th>\n",
       "      <th>Purchase</th>\n",
       "    </tr>\n",
       "  </thead>\n",
       "  <tbody>\n",
       "    <tr>\n",
       "      <th>count</th>\n",
       "      <td>5.375770e+05</td>\n",
       "      <td>537577.00000</td>\n",
       "      <td>537577.000000</td>\n",
       "      <td>537577.000000</td>\n",
       "      <td>370591.000000</td>\n",
       "      <td>164278.000000</td>\n",
       "      <td>537577.000000</td>\n",
       "    </tr>\n",
       "    <tr>\n",
       "      <th>mean</th>\n",
       "      <td>1.002992e+06</td>\n",
       "      <td>8.08271</td>\n",
       "      <td>0.408797</td>\n",
       "      <td>5.295546</td>\n",
       "      <td>9.842144</td>\n",
       "      <td>12.669840</td>\n",
       "      <td>9333.859853</td>\n",
       "    </tr>\n",
       "    <tr>\n",
       "      <th>std</th>\n",
       "      <td>1.714393e+03</td>\n",
       "      <td>6.52412</td>\n",
       "      <td>0.491612</td>\n",
       "      <td>3.750701</td>\n",
       "      <td>5.087259</td>\n",
       "      <td>4.124341</td>\n",
       "      <td>4981.022133</td>\n",
       "    </tr>\n",
       "    <tr>\n",
       "      <th>min</th>\n",
       "      <td>1.000001e+06</td>\n",
       "      <td>0.00000</td>\n",
       "      <td>0.000000</td>\n",
       "      <td>1.000000</td>\n",
       "      <td>2.000000</td>\n",
       "      <td>3.000000</td>\n",
       "      <td>185.000000</td>\n",
       "    </tr>\n",
       "    <tr>\n",
       "      <th>25%</th>\n",
       "      <td>1.001495e+06</td>\n",
       "      <td>2.00000</td>\n",
       "      <td>0.000000</td>\n",
       "      <td>1.000000</td>\n",
       "      <td>5.000000</td>\n",
       "      <td>9.000000</td>\n",
       "      <td>5866.000000</td>\n",
       "    </tr>\n",
       "    <tr>\n",
       "      <th>50%</th>\n",
       "      <td>1.003031e+06</td>\n",
       "      <td>7.00000</td>\n",
       "      <td>0.000000</td>\n",
       "      <td>5.000000</td>\n",
       "      <td>9.000000</td>\n",
       "      <td>14.000000</td>\n",
       "      <td>8062.000000</td>\n",
       "    </tr>\n",
       "    <tr>\n",
       "      <th>75%</th>\n",
       "      <td>1.004417e+06</td>\n",
       "      <td>14.00000</td>\n",
       "      <td>1.000000</td>\n",
       "      <td>8.000000</td>\n",
       "      <td>15.000000</td>\n",
       "      <td>16.000000</td>\n",
       "      <td>12073.000000</td>\n",
       "    </tr>\n",
       "    <tr>\n",
       "      <th>max</th>\n",
       "      <td>1.006040e+06</td>\n",
       "      <td>20.00000</td>\n",
       "      <td>1.000000</td>\n",
       "      <td>18.000000</td>\n",
       "      <td>18.000000</td>\n",
       "      <td>18.000000</td>\n",
       "      <td>23961.000000</td>\n",
       "    </tr>\n",
       "  </tbody>\n",
       "</table>\n",
       "</div>"
      ],
      "text/plain": [
       "            User_ID    Occupation  Marital_Status  Product_Category_1  \\\n",
       "count  5.375770e+05  537577.00000   537577.000000       537577.000000   \n",
       "mean   1.002992e+06       8.08271        0.408797            5.295546   \n",
       "std    1.714393e+03       6.52412        0.491612            3.750701   \n",
       "min    1.000001e+06       0.00000        0.000000            1.000000   \n",
       "25%    1.001495e+06       2.00000        0.000000            1.000000   \n",
       "50%    1.003031e+06       7.00000        0.000000            5.000000   \n",
       "75%    1.004417e+06      14.00000        1.000000            8.000000   \n",
       "max    1.006040e+06      20.00000        1.000000           18.000000   \n",
       "\n",
       "       Product_Category_2  Product_Category_3       Purchase  \n",
       "count       370591.000000       164278.000000  537577.000000  \n",
       "mean             9.842144           12.669840    9333.859853  \n",
       "std              5.087259            4.124341    4981.022133  \n",
       "min              2.000000            3.000000     185.000000  \n",
       "25%              5.000000            9.000000    5866.000000  \n",
       "50%              9.000000           14.000000    8062.000000  \n",
       "75%             15.000000           16.000000   12073.000000  \n",
       "max             18.000000           18.000000   23961.000000  "
      ]
     },
     "execution_count": 4,
     "metadata": {},
     "output_type": "execute_result"
    }
   ],
   "source": [
    "df.describe()"
   ]
  },
  {
   "cell_type": "code",
   "execution_count": 5,
   "metadata": {},
   "outputs": [
    {
     "data": {
      "text/plain": [
       "True"
      ]
     },
     "execution_count": 5,
     "metadata": {},
     "output_type": "execute_result"
    }
   ],
   "source": [
    "df.isnull().values.any()"
   ]
  },
  {
   "cell_type": "code",
   "execution_count": 6,
   "metadata": {},
   "outputs": [
    {
     "data": {
      "text/plain": [
       "User_ID                            0\n",
       "Product_ID                         0\n",
       "Gender                             0\n",
       "Age                                0\n",
       "Occupation                         0\n",
       "City_Category                      0\n",
       "Stay_In_Current_City_Years         0\n",
       "Marital_Status                     0\n",
       "Product_Category_1                 0\n",
       "Product_Category_2            166986\n",
       "Product_Category_3            373299\n",
       "Purchase                           0\n",
       "dtype: int64"
      ]
     },
     "execution_count": 6,
     "metadata": {},
     "output_type": "execute_result"
    }
   ],
   "source": [
    "df.isnull().sum()"
   ]
  },
  {
   "cell_type": "markdown",
   "metadata": {},
   "source": [
    "# EDA"
   ]
  },
  {
   "cell_type": "code",
   "execution_count": 7,
   "metadata": {},
   "outputs": [
    {
     "name": "stdout",
     "output_type": "stream",
     "text": [
      "<class 'pandas.core.frame.DataFrame'>\n",
      "RangeIndex: 537577 entries, 0 to 537576\n",
      "Data columns (total 12 columns):\n",
      "User_ID                       537577 non-null int64\n",
      "Product_ID                    537577 non-null object\n",
      "Gender                        537577 non-null object\n",
      "Age                           537577 non-null object\n",
      "Occupation                    537577 non-null int64\n",
      "City_Category                 537577 non-null object\n",
      "Stay_In_Current_City_Years    537577 non-null object\n",
      "Marital_Status                537577 non-null int64\n",
      "Product_Category_1            537577 non-null int64\n",
      "Product_Category_2            370591 non-null float64\n",
      "Product_Category_3            164278 non-null float64\n",
      "Purchase                      537577 non-null int64\n",
      "dtypes: float64(2), int64(5), object(5)\n",
      "memory usage: 49.2+ MB\n"
     ]
    },
    {
     "data": {
      "text/plain": [
       "(537577, 12)"
      ]
     },
     "execution_count": 7,
     "metadata": {},
     "output_type": "execute_result"
    }
   ],
   "source": [
    "df.info()\n",
    "df.shape"
   ]
  },
  {
   "cell_type": "code",
   "execution_count": 8,
   "metadata": {},
   "outputs": [],
   "source": [
    "count_m = df[df['Gender']=='M'].count()[0]\n",
    "count_f = df[df['Gender']=='F'].count()[0]"
   ]
  },
  {
   "cell_type": "code",
   "execution_count": 9,
   "metadata": {},
   "outputs": [
    {
     "name": "stdout",
     "output_type": "stream",
     "text": [
      "Number of male clients: 405380\n",
      "Number of female clients: 132197\n"
     ]
    }
   ],
   "source": [
    "print('Number of male clients:',count_m)\n",
    "print('Number of female clients:',count_f)"
   ]
  },
  {
   "cell_type": "code",
   "execution_count": 10,
   "metadata": {},
   "outputs": [
    {
     "data": {
      "image/png": "[encoded data removed]",
      "text/plain": [
       "<Figure size 936x432 with 2 Axes>"
      ]
     },
     "metadata": {},
     "output_type": "display_data"
    }
   ],
   "source": [
    "plt.figure(figsize=(13, 6))\n",
    "gender_gb = df[['Gender', 'Purchase']].groupby('Gender').agg(['count', 'sum'])\n",
    "params = {\n",
    "#     'colors': [(255/255, 102/255, 102/255, 1), (102/255, 179/255, 1, 1)],\n",
    "    'labels': gender_gb.index.map({'M': 'Male', 'F': 'Female'}),\n",
    "    'autopct': '%1.1f%%',\n",
    "    'startangle': -30, \n",
    "    'textprops': {'fontsize': 15},\n",
    "    'explode': (0.05, 0),\n",
    "    'shadow': True\n",
    "}\n",
    "plt.subplot(121)\n",
    "plt.pie(gender_gb['Purchase']['count'], **params)\n",
    "plt.title('Number of transactions', size=17)\n",
    "plt.subplot(122)\n",
    "plt.pie(gender_gb['Purchase']['sum'], **params)\n",
    "plt.title('Sum of purchases', size=17)\n",
    "plt.show()"
   ]
  },
  {
   "cell_type": "markdown",
   "metadata": {},
   "source": [
    "Men have had transactions about 3 times higher than women in black friday. They've also had proportionaly higher purchase amount, which leads to the assumption that there is no meaningful difference between mean purchase amounts of men and women. Let's check that."
   ]
  },
  {
   "cell_type": "code",
   "execution_count": 11,
   "metadata": {},
   "outputs": [
    {
     "data": {
      "image/png": "[encoded data removed]",
      "text/plain": [
       "<Figure size 432x288 with 1 Axes>"
      ]
     },
     "metadata": {
      "needs_background": "light"
     },
     "output_type": "display_data"
    }
   ],
   "source": [
    "gender_gb = df[['Gender', 'Purchase']].groupby('Gender', as_index=False).agg('mean')\n",
    "sns.barplot(x='Gender', y='Purchase', data=gender_gb)\n",
    "plt.ylabel('')\n",
    "plt.xlabel('')\n",
    "for spine in plt.gca().spines.values():\n",
    "    spine.set_visible(False)\n",
    "plt.title('Mean purchase amount by gender', size=14)\n",
    "plt.show()"
   ]
  },
  {
   "cell_type": "markdown",
   "metadata": {},
   "source": [
    "# Age"
   ]
  },
  {
   "cell_type": "code",
   "execution_count": 12,
   "metadata": {},
   "outputs": [
    {
     "data": {
      "text/plain": [
       "<matplotlib.axes._subplots.AxesSubplot at 0x11f50639908>"
      ]
     },
     "execution_count": 12,
     "metadata": {},
     "output_type": "execute_result"
    },
    {
     "data": {
      "image/png": "[encoded data removed]",
      "text/plain": [
       "<Figure size 432x288 with 1 Axes>"
      ]
     },
     "metadata": {
      "needs_background": "light"
     },
     "output_type": "display_data"
    }
   ],
   "source": [
    "sns.countplot(df['Age'])"
   ]
  },
  {
   "cell_type": "markdown",
   "metadata": {},
   "source": [
    "Further, I could also check among the age groups, which gender was a majority by adding a hue. And as seen below, more males spent in the sale than females."
   ]
  },
  {
   "cell_type": "code",
   "execution_count": 13,
   "metadata": {},
   "outputs": [
    {
     "data": {
      "text/plain": [
       "<matplotlib.axes._subplots.AxesSubplot at 0x11f506b64e0>"
      ]
     },
     "execution_count": 13,
     "metadata": {},
     "output_type": "execute_result"
    },
    {
     "data": {
      "image/png": "[encoded data removed]",
      "text/plain": [
       "<Figure size 432x288 with 1 Axes>"
      ]
     },
     "metadata": {
      "needs_background": "light"
     },
     "output_type": "display_data"
    }
   ],
   "source": [
    "sns.countplot(df['Age'],hue=df['Gender'])"
   ]
  },
  {
   "cell_type": "code",
   "execution_count": 14,
   "metadata": {},
   "outputs": [
    {
     "name": "stdout",
     "output_type": "stream",
     "text": [
      "['F_0' 'M_0' 'M_1' 'F_1']\n"
     ]
    }
   ],
   "source": [
    "df['combined_G_M'] = df.apply(lambda x:'%s_%s' % (x['Gender'],x['Marital_Status']),axis=1)\n",
    "print(df['combined_G_M'].unique())"
   ]
  },
  {
   "cell_type": "code",
   "execution_count": 15,
   "metadata": {},
   "outputs": [
    {
     "data": {
      "text/plain": [
       "<matplotlib.axes._subplots.AxesSubplot at 0x11f51a07550>"
      ]
     },
     "execution_count": 15,
     "metadata": {},
     "output_type": "execute_result"
    },
    {
     "data": {
      "image/png": "[encoded data removed]",
      "text/plain": [
       "<Figure size 432x288 with 1 Axes>"
      ]
     },
     "metadata": {
      "needs_background": "light"
     },
     "output_type": "display_data"
    }
   ],
   "source": [
    "sns.countplot(df['Age'],hue=df['combined_G_M'])"
   ]
  },
  {
   "cell_type": "markdown",
   "metadata": {},
   "source": [
    "As we see above, there are no bars for the married in the 0-17 range which makes sense. And then if we look at the 46 and above groups, females are very less. But on the other hand, married males paying in range 46-55 are also comparatively more than married females. So it could also imply that though ladies do shop a lot, their spouses are possibly paying for it and hence data reflects that men shopped more. If we had more categorical data defining what kind of products were purchased by men, we could dig in this statement further. However, since in this dataset we don't know if there is a category that implies feminine products/clothes we cannot further explore this case."
   ]
  },
  {
   "cell_type": "code",
   "execution_count": 16,
   "metadata": {},
   "outputs": [
    {
     "data": {
      "text/html": [
       "<div>\n",
       "<style scoped>\n",
       "    .dataframe tbody tr th:only-of-type {\n",
       "        vertical-align: middle;\n",
       "    }\n",
       "\n",
       "    .dataframe tbody tr th {\n",
       "        vertical-align: top;\n",
       "    }\n",
       "\n",
       "    .dataframe thead th {\n",
       "        text-align: right;\n",
       "    }\n",
       "</style>\n",
       "<table border=\"1\" class=\"dataframe\">\n",
       "  <thead>\n",
       "    <tr style=\"text-align: right;\">\n",
       "      <th></th>\n",
       "      <th>User_ID</th>\n",
       "      <th>Occupation</th>\n",
       "      <th>Marital_Status</th>\n",
       "      <th>Product_Category_1</th>\n",
       "      <th>Product_Category_2</th>\n",
       "      <th>Product_Category_3</th>\n",
       "      <th>Purchase</th>\n",
       "    </tr>\n",
       "  </thead>\n",
       "  <tbody>\n",
       "    <tr>\n",
       "      <th>User_ID</th>\n",
       "      <td>1.000000</td>\n",
       "      <td>-0.023024</td>\n",
       "      <td>0.018732</td>\n",
       "      <td>0.003687</td>\n",
       "      <td>0.001471</td>\n",
       "      <td>0.004045</td>\n",
       "      <td>0.005389</td>\n",
       "    </tr>\n",
       "    <tr>\n",
       "      <th>Occupation</th>\n",
       "      <td>-0.023024</td>\n",
       "      <td>1.000000</td>\n",
       "      <td>0.024691</td>\n",
       "      <td>-0.008114</td>\n",
       "      <td>-0.000031</td>\n",
       "      <td>0.013452</td>\n",
       "      <td>0.021104</td>\n",
       "    </tr>\n",
       "    <tr>\n",
       "      <th>Marital_Status</th>\n",
       "      <td>0.018732</td>\n",
       "      <td>0.024691</td>\n",
       "      <td>1.000000</td>\n",
       "      <td>0.020546</td>\n",
       "      <td>0.015116</td>\n",
       "      <td>0.019452</td>\n",
       "      <td>0.000129</td>\n",
       "    </tr>\n",
       "    <tr>\n",
       "      <th>Product_Category_1</th>\n",
       "      <td>0.003687</td>\n",
       "      <td>-0.008114</td>\n",
       "      <td>0.020546</td>\n",
       "      <td>1.000000</td>\n",
       "      <td>0.540423</td>\n",
       "      <td>0.229490</td>\n",
       "      <td>-0.314125</td>\n",
       "    </tr>\n",
       "    <tr>\n",
       "      <th>Product_Category_2</th>\n",
       "      <td>0.001471</td>\n",
       "      <td>-0.000031</td>\n",
       "      <td>0.015116</td>\n",
       "      <td>0.540423</td>\n",
       "      <td>1.000000</td>\n",
       "      <td>0.543544</td>\n",
       "      <td>-0.209973</td>\n",
       "    </tr>\n",
       "    <tr>\n",
       "      <th>Product_Category_3</th>\n",
       "      <td>0.004045</td>\n",
       "      <td>0.013452</td>\n",
       "      <td>0.019452</td>\n",
       "      <td>0.229490</td>\n",
       "      <td>0.543544</td>\n",
       "      <td>1.000000</td>\n",
       "      <td>-0.022257</td>\n",
       "    </tr>\n",
       "    <tr>\n",
       "      <th>Purchase</th>\n",
       "      <td>0.005389</td>\n",
       "      <td>0.021104</td>\n",
       "      <td>0.000129</td>\n",
       "      <td>-0.314125</td>\n",
       "      <td>-0.209973</td>\n",
       "      <td>-0.022257</td>\n",
       "      <td>1.000000</td>\n",
       "    </tr>\n",
       "  </tbody>\n",
       "</table>\n",
       "</div>"
      ],
      "text/plain": [
       "                     User_ID  Occupation  Marital_Status  Product_Category_1  \\\n",
       "User_ID             1.000000   -0.023024        0.018732            0.003687   \n",
       "Occupation         -0.023024    1.000000        0.024691           -0.008114   \n",
       "Marital_Status      0.018732    0.024691        1.000000            0.020546   \n",
       "Product_Category_1  0.003687   -0.008114        0.020546            1.000000   \n",
       "Product_Category_2  0.001471   -0.000031        0.015116            0.540423   \n",
       "Product_Category_3  0.004045    0.013452        0.019452            0.229490   \n",
       "Purchase            0.005389    0.021104        0.000129           -0.314125   \n",
       "\n",
       "                    Product_Category_2  Product_Category_3  Purchase  \n",
       "User_ID                       0.001471            0.004045  0.005389  \n",
       "Occupation                   -0.000031            0.013452  0.021104  \n",
       "Marital_Status                0.015116            0.019452  0.000129  \n",
       "Product_Category_1            0.540423            0.229490 -0.314125  \n",
       "Product_Category_2            1.000000            0.543544 -0.209973  \n",
       "Product_Category_3            0.543544            1.000000 -0.022257  \n",
       "Purchase                     -0.209973           -0.022257  1.000000  "
      ]
     },
     "execution_count": 16,
     "metadata": {},
     "output_type": "execute_result"
    }
   ],
   "source": [
    "df.corr()"
   ]
  },
  {
   "cell_type": "code",
   "execution_count": 17,
   "metadata": {},
   "outputs": [
    {
     "data": {
      "image/png": "[encoded data removed]",
      "text/plain": [
       "<Figure size 576x576 with 2 Axes>"
      ]
     },
     "metadata": {
      "needs_background": "light"
     },
     "output_type": "display_data"
    }
   ],
   "source": [
    "plt.figure(figsize=(8,8))\n",
    "sns.heatmap(data=df.iloc[:,:].corr(),annot=True,fmt='.2f',cmap='coolwarm')\n",
    "plt.show()"
   ]
  },
  {
   "cell_type": "markdown",
   "metadata": {},
   "source": [
    "# H20"
   ]
  },
  {
   "cell_type": "code",
   "execution_count": 18,
   "metadata": {},
   "outputs": [],
   "source": [
    "data_path=None\n",
    "all_variables=None\n",
    "test_path=None\n",
    "# target='search_term'\n",
    "target=None\n",
    "nthreads=1 \n",
    "min_mem_size=6 \n",
    "run_time=500\n",
    "classification=False\n",
    "scale=False\n",
    "max_models=9    \n",
    "model_path=None\n",
    "balance_y=False \n",
    "balance_threshold=0.2\n",
    "name=None \n",
    "server_path=None  \n",
    "analysis=0"
   ]
  },
  {
   "cell_type": "code",
   "execution_count": 19,
   "metadata": {},
   "outputs": [
    {
     "name": "stdout",
     "output_type": "stream",
     "text": [
      "5\n"
     ]
    }
   ],
   "source": [
    "pct_memory=0.5\n",
    "virtual_memory=psutil.virtual_memory()\n",
    "min_mem_size=int(round(int(pct_memory*virtual_memory.available)/1073741824,0))\n",
    "print(min_mem_size)"
   ]
  },
  {
   "cell_type": "code",
   "execution_count": 20,
   "metadata": {},
   "outputs": [],
   "source": [
    "# Functions\n",
    "\n",
    "def alphabet(n):\n",
    "  alpha='0123456789abcdefghijklmnopqrstuvwxyzABCDEFGHIJKLMNOPQRSTUVWXYZ'    \n",
    "  str=''\n",
    "  r=len(alpha)-1   \n",
    "  while len(str)<n:\n",
    "    i=random.randint(0,r)\n",
    "    str+=alpha[i]   \n",
    "  return str\n",
    "  \n",
    "  \n",
    "def set_meta_data(analysis,run_id,server,data,test,model_path,target,run_time,classification,scale,model,balance,balance_threshold,name,path,nthreads,min_mem_size):\n",
    "  m_data={}\n",
    "  m_data['start_time'] = time.time()\n",
    "  m_data['target']=target\n",
    "  m_data['server_path']=server\n",
    "  m_data['data_path']=data \n",
    "  m_data['test_path']=test\n",
    "  m_data['max_models']=model\n",
    "  m_data['run_time']=run_time\n",
    "  m_data['run_id'] =run_id\n",
    "  m_data['scale']=scale\n",
    "  m_data['classification']=classification\n",
    "  m_data['scale']=False\n",
    "  m_data['model_path']=model_path\n",
    "  m_data['balance']=balance\n",
    "  m_data['balance_threshold']=balance_threshold\n",
    "  m_data['project'] =name\n",
    "  m_data['end_time'] = time.time()\n",
    "  m_data['execution_time'] = 0.0\n",
    "  m_data['run_path'] =path\n",
    "  m_data['nthreads'] = nthreads\n",
    "  m_data['min_mem_size'] = min_mem_size\n",
    "  m_data['analysis'] = analysis\n",
    "  return m_data\n",
    "\n",
    "\n",
    "def dict_to_json(dct,n):\n",
    "  j = json.dumps(dct, indent=4)\n",
    "  f = open(n, 'w')\n",
    "  print(j, file=f)\n",
    "  f.close()\n",
    "  \n",
    "  \n",
    "def stackedensemble(mod):\n",
    "    coef_norm=None\n",
    "    try:\n",
    "      metalearner = h2o.get_model(mod.metalearner()['name'])\n",
    "      coef_norm=metalearner.coef_norm()\n",
    "    except:\n",
    "      pass        \n",
    "    return coef_norm\n",
    "\n",
    "def stackedensemble_df(df):\n",
    "    bm_algo={ 'GBM': None,'GLM': None,'DRF': None,'XRT': None,'Dee': None}\n",
    "    for index, row in df.iterrows():\n",
    "      if len(row['model_id'])>3:\n",
    "        key=row['model_id'][0:3]\n",
    "        if key in bm_algo:\n",
    "          if bm_algo[key] is None:\n",
    "                bm_algo[key]=row['model_id']\n",
    "    bm=list(bm_algo.values()) \n",
    "    bm=list(filter(None.__ne__, bm))             \n",
    "    return bm\n",
    "\n",
    "def se_stats(modl):\n",
    "    d={}\n",
    "    d['algo']=modl.algo\n",
    "    d['model_id']=modl.model_id   \n",
    "    d['auc']=modl.auc()   \n",
    "    d['roc']=modl.roc()\n",
    "    d['mse']=modl.mse()   \n",
    "    d['null_degrees_of_freedom']=modl.null_degrees_of_freedom()\n",
    "    d['null_deviance']=modl.null_deviance()\n",
    "    d['residual_degrees_of_freedom']=modl.residual_degrees_of_freedom()   \n",
    "    d['residual_deviance']=modl.residual_deviance()\n",
    "    d['rmse']=modl.rmse()\n",
    "    return d\n",
    "\n",
    "def get_model_by_algo(algo,models_dict):\n",
    "    mod=None\n",
    "    mod_id=None    \n",
    "    for m in list(models_dict.keys()):\n",
    "        if m[0:3]==algo:\n",
    "            mod_id=m\n",
    "            mod=h2o.get_model(m)      \n",
    "    return mod,mod_id     \n",
    "    \n",
    "    \n",
    "def gbm_stats(modl):\n",
    "    d={}\n",
    "    d['algo']=modl.algo\n",
    "    d['model_id']=modl.model_id   \n",
    "    d['varimp']=modl.varimp()  \n",
    "    return d\n",
    "    \n",
    "    \n",
    "def dl_stats(modl):\n",
    "    d={}\n",
    "    d['algo']=modl.algo\n",
    "    d['model_id']=modl.model_id   \n",
    "    d['varimp']=modl.varimp()  \n",
    "    return d\n",
    "    \n",
    "    \n",
    "def drf_stats(modl):\n",
    "    d={}\n",
    "    d['algo']=modl.algo\n",
    "    d['model_id']=modl.model_id   \n",
    "    d['varimp']=modl.varimp()  \n",
    "    d['roc']=modl.roc()      \n",
    "    return d\n",
    "    \n",
    "def xrt_stats(modl):\n",
    "    d={}\n",
    "    d['algo']=modl.algo\n",
    "    d['model_id']=modl.model_id   \n",
    "    d['varimp']=modl.varimp()  \n",
    "    d['roc']=modl.roc()      \n",
    "    return d\n",
    "    \n",
    "    \n",
    "def glm_stats(modl):\n",
    "    d={}\n",
    "    d['algo']=modl.algo\n",
    "    d['model_id']=modl.model_id   \n",
    "    d['coef']=modl.coef()  \n",
    "    d['coef_norm']=modl.coef_norm()      \n",
    "    return d\n",
    "    \n",
    "def model_performance_stats(perf):\n",
    "    d={}\n",
    "    try:    \n",
    "      d['mse']=perf.mse()\n",
    "    except:\n",
    "      pass      \n",
    "    try:    \n",
    "      d['rmse']=perf.rmse() \n",
    "    except:\n",
    "      pass      \n",
    "    try:    \n",
    "      d['null_degrees_of_freedom']=perf.null_degrees_of_freedom()\n",
    "    except:\n",
    "      pass      \n",
    "    try:    \n",
    "      d['residual_degrees_of_freedom']=perf.residual_degrees_of_freedom()\n",
    "    except:\n",
    "      pass      \n",
    "    try:    \n",
    "      d['residual_deviance']=perf.residual_deviance() \n",
    "    except:\n",
    "      pass      \n",
    "    try:    \n",
    "      d['null_deviance']=perf.null_deviance() \n",
    "    except:\n",
    "      pass      \n",
    "    try:    \n",
    "      d['aic']=perf.aic() \n",
    "    except:\n",
    "      pass      \n",
    "    try:\n",
    "      d['logloss']=perf.logloss() \n",
    "    except:\n",
    "      pass    \n",
    "    try:\n",
    "      d['auc']=perf.auc()\n",
    "    except:\n",
    "      pass  \n",
    "    try:\n",
    "      d['gini']=perf.gini()\n",
    "    except:\n",
    "      pass    \n",
    "    return d\n",
    "    \n",
    "def impute_missing_values(df, x, scal=False):\n",
    "    # determine column types\n",
    "    ints, reals, enums = [], [], []\n",
    "    for key, val in df.types.items():\n",
    "        if key in x:\n",
    "            if val == 'enum':\n",
    "                enums.append(key)\n",
    "            elif val == 'int':\n",
    "                ints.append(key)            \n",
    "            else: \n",
    "                reals.append(key)    \n",
    "    _ = df[reals].impute(method='mean')\n",
    "    _ = df[ints].impute(method='median')\n",
    "    if scal:\n",
    "        df[reals] = df[reals].scale()\n",
    "        df[ints] = df[ints].scale()    \n",
    "    return\n",
    "\n",
    "\n",
    "def get_independent_variables(df, targ):\n",
    "    C = [name for name in df.columns if name != targ]\n",
    "    # determine column types\n",
    "    ints, reals, enums = [], [], []\n",
    "    for key, val in df.types.items():\n",
    "        if key in C:\n",
    "            if val == 'enum':\n",
    "                enums.append(key)\n",
    "            elif val == 'int':\n",
    "                ints.append(key)            \n",
    "            else: \n",
    "                reals.append(key)    \n",
    "    x=ints+enums+reals\n",
    "    return x\n",
    "    \n",
    "def get_all_variables_csv(i):\n",
    "    ivd={}\n",
    "    try:\n",
    "      iv = pd.read_csv(i,header=None)\n",
    "    except:\n",
    "      sys.exit(1)    \n",
    "    col=iv.values.tolist()[0]\n",
    "    dt=iv.values.tolist()[1]\n",
    "    i=0\n",
    "    for c in col:\n",
    "      ivd[c.strip()]=dt[i].strip()\n",
    "      i+=1        \n",
    "    return ivd\n",
    "    \n",
    "    \n",
    "\n",
    "def check_all_variables(df,dct,y=None):     \n",
    "    targ=list(dct.keys())     \n",
    "    for key, val in df.types.items():\n",
    "        if key in targ:\n",
    "          if dct[key] not in ['real','int','enum']:                      \n",
    "            targ.remove(key)  \n",
    "    for key, val in df.types.items():\n",
    "        if key in targ:            \n",
    "          if dct[key] != val:\n",
    "            print('convert ',key,' ',dct[key],' ',val)\n",
    "            if dct[key]=='enum':\n",
    "                try:\n",
    "                  df[key] = df[key].asfactor() \n",
    "                except:\n",
    "                  targ.remove(key)                 \n",
    "            if dct[key]=='int': \n",
    "                try:                \n",
    "                  df[key] = df[key].asnumeric() \n",
    "                except:\n",
    "                  targ.remove(key)                  \n",
    "            if dct[key]=='real':\n",
    "                try:                \n",
    "                  df[key] = df[key].asnumeric()  \n",
    "                except:\n",
    "                  targ.remove(key)                  \n",
    "    if y is None:\n",
    "      y=df.columns[-1] \n",
    "    if y in targ:\n",
    "      targ.remove(y)\n",
    "    else:\n",
    "      y=targ.pop()            \n",
    "    return targ    \n",
    "    \n",
    "def predictions(mod,data,run_id):\n",
    "    test = h2o.import_file(data)\n",
    "    mod_perf=mod_best.model_performance(test)\n",
    "              \n",
    "    stats_test={}\n",
    "    stats_test=model_performance_stats(mod_perf)\n",
    "\n",
    "    n=run_id+'_test_stats.json'\n",
    "    dict_to_json(stats_test,n) \n",
    "\n",
    "    try:    \n",
    "      cf=mod_perf.confusion_matrix(metrics=[\"f1\",\"f2\",\"f0point5\",\"accuracy\",\"precision\",\"recall\",\"specificity\",\"absolute_mcc\",\"min_per_class_accuracy\",\"mean_per_class_accuracy\"])\n",
    "      cf_df=cf[0].table.as_data_frame()\n",
    "      cf_df.to_csv(run_id+'_test_confusion_matrix.csv')\n",
    "    except:\n",
    "      pass\n",
    "\n",
    "    predictions = mod_best.predict(test)\n",
    "    predictions_df=test.cbind(predictions).as_data_frame() \n",
    "    predictions_df.to_csv(run_id+'_predictions.csv')\n",
    "    return\n",
    "\n",
    "def predictions_test(mod,test,run_id):\n",
    "    mod_perf=mod_best.model_performance(test)          \n",
    "    stats_test={}\n",
    "    stats_test=model_performance_stats(mod_perf)\n",
    "    n=run_id+'_test_stats.json'\n",
    "    dict_to_json(stats_test,n) \n",
    "    try:\n",
    "      cf=mod_perf.confusion_matrix()\n",
    "#      cf=mod_perf.confusion_matrix(metrics=[\"f1\",\"f2\",\"f0point5\",\"accuracy\",\"precision\",\"recall\",\"specificity\",\"absolute_mcc\",\"min_per_class_accuracy\",\"mean_per_class_accuracy\"])\n",
    "      cf_df=cf.table.as_data_frame()\n",
    "      cf_df.to_csv(run_id+'_test_confusion_matrix.csv')\n",
    "    except:\n",
    "      pass\n",
    "    predictions = mod_best.predict(test)    \n",
    "    predictions_df=test.cbind(predictions).as_data_frame() \n",
    "    predictions_df.to_csv(run_id+'_predictions.csv')\n",
    "    return predictions\n",
    "\n",
    "def check_X(x,df):\n",
    "    for name in x:\n",
    "        if name not in df.columns:\n",
    "          x.remove(name)  \n",
    "    return x    \n",
    "    \n",
    "    \n",
    "def get_stacked_ensemble(lst):\n",
    "    se=None\n",
    "    for model in model_set:\n",
    "      if 'BestOfFamily' in model:\n",
    "        se=model\n",
    "    if se is None:     \n",
    "      for model in model_set:\n",
    "        if 'AllModels'in model:\n",
    "          se=model           \n",
    "    return se       \n",
    "    \n",
    "def get_variables_types(df):\n",
    "    d={}\n",
    "    for key, val in df.types.items():\n",
    "        d[key]=val           \n",
    "    return d    \n",
    "    \n",
    "#  End Functions"
   ]
  },
  {
   "cell_type": "code",
   "execution_count": 21,
   "metadata": {},
   "outputs": [
    {
     "name": "stdout",
     "output_type": "stream",
     "text": [
      "9aTclywXj\n"
     ]
    }
   ],
   "source": [
    "run_id=alphabet(9)\n",
    "if server_path==None:\n",
    "  server_path=os.path.abspath(os.curdir)\n",
    "os.chdir(server_path) \n",
    "run_dir = os.path.join(server_path,run_id)\n",
    "os.mkdir(run_dir)\n",
    "os.chdir(run_dir)    \n",
    "\n",
    "# run_id to std out\n",
    "print (run_id)"
   ]
  },
  {
   "cell_type": "code",
   "execution_count": 22,
   "metadata": {},
   "outputs": [
    {
     "name": "stdout",
     "output_type": "stream",
     "text": [
      "Checking whether there is an H2O instance running at http://localhost:13222 ..... not found.\n",
      "Attempting to start a local H2O server...\n",
      "; Java HotSpot(TM) 64-Bit Server VM (build 25.191-b12, mixed mode)\n",
      "  Starting server from C:\\Users\\vrush\\.jupyter\\AnacondaNew\\lib\\site-packages\\h2o\\backend\\bin\\h2o.jar\n",
      "  Ice root: C:\\Users\\vrush\\AppData\\Local\\Temp\\tmp546bhngo\n",
      "  JVM stdout: C:\\Users\\vrush\\AppData\\Local\\Temp\\tmp546bhngo\\h2o_vrush_started_from_python.out\n",
      "  JVM stderr: C:\\Users\\vrush\\AppData\\Local\\Temp\\tmp546bhngo\\h2o_vrush_started_from_python.err\n",
      "  Server is running at http://127.0.0.1:13222\n",
      "Connecting to H2O server at http://127.0.0.1:13222 ... successful.\n"
     ]
    },
    {
     "data": {
      "text/html": [
       "<div style=\"overflow:auto\"><table style=\"width:50%\"><tr><td>H2O cluster uptime:</td>\n",
       "<td>04 secs</td></tr>\n",
       "<tr><td>H2O cluster timezone:</td>\n",
       "<td>America/New_York</td></tr>\n",
       "<tr><td>H2O data parsing timezone:</td>\n",
       "<td>UTC</td></tr>\n",
       "<tr><td>H2O cluster version:</td>\n",
       "<td>3.24.0.1</td></tr>\n",
       "<tr><td>H2O cluster version age:</td>\n",
       "<td>15 days </td></tr>\n",
       "<tr><td>H2O cluster name:</td>\n",
       "<td>H2O_from_python_vrush_v9pnwh</td></tr>\n",
       "<tr><td>H2O cluster total nodes:</td>\n",
       "<td>1</td></tr>\n",
       "<tr><td>H2O cluster free memory:</td>\n",
       "<td>4.792 Gb</td></tr>\n",
       "<tr><td>H2O cluster total cores:</td>\n",
       "<td>8</td></tr>\n",
       "<tr><td>H2O cluster allowed cores:</td>\n",
       "<td>8</td></tr>\n",
       "<tr><td>H2O cluster status:</td>\n",
       "<td>accepting new members, healthy</td></tr>\n",
       "<tr><td>H2O connection url:</td>\n",
       "<td>http://127.0.0.1:13222</td></tr>\n",
       "<tr><td>H2O connection proxy:</td>\n",
       "<td>None</td></tr>\n",
       "<tr><td>H2O internal security:</td>\n",
       "<td>False</td></tr>\n",
       "<tr><td>H2O API Extensions:</td>\n",
       "<td>Amazon S3, Algos, AutoML, Core V3, Core V4</td></tr>\n",
       "<tr><td>Python version:</td>\n",
       "<td>3.7.1 final</td></tr></table></div>"
      ],
      "text/plain": [
       "--------------------------  ------------------------------------------\n",
       "H2O cluster uptime:         04 secs\n",
       "H2O cluster timezone:       America/New_York\n",
       "H2O data parsing timezone:  UTC\n",
       "H2O cluster version:        3.24.0.1\n",
       "H2O cluster version age:    15 days\n",
       "H2O cluster name:           H2O_from_python_vrush_v9pnwh\n",
       "H2O cluster total nodes:    1\n",
       "H2O cluster free memory:    4.792 Gb\n",
       "H2O cluster total cores:    8\n",
       "H2O cluster allowed cores:  8\n",
       "H2O cluster status:         accepting new members, healthy\n",
       "H2O connection url:         http://127.0.0.1:13222\n",
       "H2O connection proxy:\n",
       "H2O internal security:      False\n",
       "H2O API Extensions:         Amazon S3, Algos, AutoML, Core V3, Core V4\n",
       "Python version:             3.7.1 final\n",
       "--------------------------  ------------------------------------------"
      ]
     },
     "metadata": {},
     "output_type": "display_data"
    }
   ],
   "source": [
    "# 65535 Highest port no\n",
    "port_no=random.randint(5555,55555)\n",
    "h2o.init(strict_version_check=False,min_mem_size_GB=min_mem_size,port=port_no)"
   ]
  },
  {
   "cell_type": "code",
   "execution_count": 23,
   "metadata": {},
   "outputs": [
    {
     "name": "stdout",
     "output_type": "stream",
     "text": [
      "{'start_time': 1555442139.0373821, 'target': None, 'server_path': 'C:\\\\Users\\\\vrush\\\\Desktop\\\\python\\\\FinalProject\\\\black-friday', 'data_path': None, 'test_path': None, 'max_models': 9, 'run_time': 500, 'run_id': '9aTclywXj', 'scale': False, 'classification': False, 'model_path': None, 'balance': False, 'balance_threshold': 0.2, 'project': None, 'end_time': 1555442139.0373821, 'execution_time': 0.0, 'run_path': 'C:\\\\Users\\\\vrush\\\\Desktop\\\\python\\\\FinalProject\\\\black-friday\\\\9aTclywXj', 'nthreads': 1, 'min_mem_size': 5, 'analysis': 0}\n"
     ]
    }
   ],
   "source": [
    "\n",
    "# meta data\n",
    "meta_data = set_meta_data(analysis, run_id,server_path,data_path,test_path,model_path,target,run_time,classification,scale,max_models,balance_y,balance_threshold,name,run_dir,nthreads,min_mem_size)\n",
    "print(meta_data)"
   ]
  },
  {
   "cell_type": "code",
   "execution_count": 24,
   "metadata": {},
   "outputs": [],
   "source": [
    "df.to_csv('train1.csv')"
   ]
  },
  {
   "cell_type": "code",
   "execution_count": 25,
   "metadata": {},
   "outputs": [],
   "source": [
    "data_path='train1.csv'\n"
   ]
  },
  {
   "cell_type": "code",
   "execution_count": 30,
   "metadata": {},
   "outputs": [
    {
     "name": "stdout",
     "output_type": "stream",
     "text": [
      "Parse progress: |█████████████████████████████████████████████████████████| 100%\n"
     ]
    }
   ],
   "source": [
    "# Load data into H2O\n",
    "train_data = h2o.import_file(data_path)"
   ]
  },
  {
   "cell_type": "code",
   "execution_count": 31,
   "metadata": {},
   "outputs": [
    {
     "data": {
      "text/html": [
       "<table>\n",
       "<thead>\n",
       "<tr><th style=\"text-align: right;\">  C1</th><th style=\"text-align: right;\">    User_ID</th><th>Product_ID  </th><th>Gender  </th><th>Age  </th><th style=\"text-align: right;\">  Occupation</th><th>City_Category  </th><th style=\"text-align: right;\">  Stay_In_Current_City_Years</th><th style=\"text-align: right;\">  Marital_Status</th><th style=\"text-align: right;\">  Product_Category_1</th><th style=\"text-align: right;\">  Product_Category_2</th><th style=\"text-align: right;\">  Product_Category_3</th><th style=\"text-align: right;\">  Purchase</th><th>combined_G_M  </th></tr>\n",
       "</thead>\n",
       "<tbody>\n",
       "<tr><td style=\"text-align: right;\">   0</td><td style=\"text-align: right;\">1e+06      </td><td>P00069042   </td><td>F       </td><td>0-17 </td><td style=\"text-align: right;\">          10</td><td>A              </td><td style=\"text-align: right;\">                           2</td><td style=\"text-align: right;\">               0</td><td style=\"text-align: right;\">                   3</td><td style=\"text-align: right;\">                 nan</td><td style=\"text-align: right;\">                 nan</td><td style=\"text-align: right;\">      8370</td><td>F_0           </td></tr>\n",
       "<tr><td style=\"text-align: right;\">   1</td><td style=\"text-align: right;\">1e+06      </td><td>P00248942   </td><td>F       </td><td>0-17 </td><td style=\"text-align: right;\">          10</td><td>A              </td><td style=\"text-align: right;\">                           2</td><td style=\"text-align: right;\">               0</td><td style=\"text-align: right;\">                   1</td><td style=\"text-align: right;\">                   6</td><td style=\"text-align: right;\">                  14</td><td style=\"text-align: right;\">     15200</td><td>F_0           </td></tr>\n",
       "<tr><td style=\"text-align: right;\">   2</td><td style=\"text-align: right;\">1e+06      </td><td>P00087842   </td><td>F       </td><td>0-17 </td><td style=\"text-align: right;\">          10</td><td>A              </td><td style=\"text-align: right;\">                           2</td><td style=\"text-align: right;\">               0</td><td style=\"text-align: right;\">                  12</td><td style=\"text-align: right;\">                 nan</td><td style=\"text-align: right;\">                 nan</td><td style=\"text-align: right;\">      1422</td><td>F_0           </td></tr>\n",
       "<tr><td style=\"text-align: right;\">   3</td><td style=\"text-align: right;\">1e+06      </td><td>P00085442   </td><td>F       </td><td>0-17 </td><td style=\"text-align: right;\">          10</td><td>A              </td><td style=\"text-align: right;\">                           2</td><td style=\"text-align: right;\">               0</td><td style=\"text-align: right;\">                  12</td><td style=\"text-align: right;\">                  14</td><td style=\"text-align: right;\">                 nan</td><td style=\"text-align: right;\">      1057</td><td>F_0           </td></tr>\n",
       "<tr><td style=\"text-align: right;\">   4</td><td style=\"text-align: right;\">1e+06      </td><td>P00285442   </td><td>M       </td><td>55+  </td><td style=\"text-align: right;\">          16</td><td>C              </td><td style=\"text-align: right;\">                         nan</td><td style=\"text-align: right;\">               0</td><td style=\"text-align: right;\">                   8</td><td style=\"text-align: right;\">                 nan</td><td style=\"text-align: right;\">                 nan</td><td style=\"text-align: right;\">      7969</td><td>M_0           </td></tr>\n",
       "<tr><td style=\"text-align: right;\">   5</td><td style=\"text-align: right;\">1e+06      </td><td>P00193542   </td><td>M       </td><td>26-35</td><td style=\"text-align: right;\">          15</td><td>A              </td><td style=\"text-align: right;\">                           3</td><td style=\"text-align: right;\">               0</td><td style=\"text-align: right;\">                   1</td><td style=\"text-align: right;\">                   2</td><td style=\"text-align: right;\">                 nan</td><td style=\"text-align: right;\">     15227</td><td>M_0           </td></tr>\n",
       "<tr><td style=\"text-align: right;\">   6</td><td style=\"text-align: right;\">1e+06      </td><td>P00184942   </td><td>M       </td><td>46-50</td><td style=\"text-align: right;\">           7</td><td>B              </td><td style=\"text-align: right;\">                           2</td><td style=\"text-align: right;\">               1</td><td style=\"text-align: right;\">                   1</td><td style=\"text-align: right;\">                   8</td><td style=\"text-align: right;\">                  17</td><td style=\"text-align: right;\">     19215</td><td>M_1           </td></tr>\n",
       "<tr><td style=\"text-align: right;\">   7</td><td style=\"text-align: right;\">1e+06      </td><td>P00346142   </td><td>M       </td><td>46-50</td><td style=\"text-align: right;\">           7</td><td>B              </td><td style=\"text-align: right;\">                           2</td><td style=\"text-align: right;\">               1</td><td style=\"text-align: right;\">                   1</td><td style=\"text-align: right;\">                  15</td><td style=\"text-align: right;\">                 nan</td><td style=\"text-align: right;\">     15854</td><td>M_1           </td></tr>\n",
       "<tr><td style=\"text-align: right;\">   8</td><td style=\"text-align: right;\">1e+06      </td><td>P0097242    </td><td>M       </td><td>46-50</td><td style=\"text-align: right;\">           7</td><td>B              </td><td style=\"text-align: right;\">                           2</td><td style=\"text-align: right;\">               1</td><td style=\"text-align: right;\">                   1</td><td style=\"text-align: right;\">                  16</td><td style=\"text-align: right;\">                 nan</td><td style=\"text-align: right;\">     15686</td><td>M_1           </td></tr>\n",
       "<tr><td style=\"text-align: right;\">   9</td><td style=\"text-align: right;\">1.00000e+06</td><td>P00274942   </td><td>M       </td><td>26-35</td><td style=\"text-align: right;\">          20</td><td>A              </td><td style=\"text-align: right;\">                           1</td><td style=\"text-align: right;\">               1</td><td style=\"text-align: right;\">                   8</td><td style=\"text-align: right;\">                 nan</td><td style=\"text-align: right;\">                 nan</td><td style=\"text-align: right;\">      7871</td><td>M_1           </td></tr>\n",
       "</tbody>\n",
       "</table>"
      ]
     },
     "metadata": {},
     "output_type": "display_data"
    },
    {
     "data": {
      "text/plain": []
     },
     "execution_count": 31,
     "metadata": {},
     "output_type": "execute_result"
    }
   ],
   "source": [
    "train_data.head()"
   ]
  },
  {
   "cell_type": "code",
   "execution_count": 32,
   "metadata": {},
   "outputs": [
    {
     "name": "stdout",
     "output_type": "stream",
     "text": [
      "Rows:537577\n",
      "Cols:14\n",
      "\n",
      "\n"
     ]
    },
    {
     "data": {
      "text/html": [
       "<table>\n",
       "<thead>\n",
       "<tr><th>       </th><th>C1               </th><th>User_ID           </th><th>Product_ID  </th><th>Gender  </th><th>Age  </th><th>Occupation       </th><th>City_Category  </th><th>Stay_In_Current_City_Years  </th><th>Marital_Status    </th><th>Product_Category_1  </th><th>Product_Category_2  </th><th>Product_Category_3  </th><th>Purchase         </th><th>combined_G_M  </th></tr>\n",
       "</thead>\n",
       "<tbody>\n",
       "<tr><td>type   </td><td>int              </td><td>int               </td><td>enum        </td><td>enum    </td><td>enum </td><td>int              </td><td>enum           </td><td>int                         </td><td>int               </td><td>int                 </td><td>int                 </td><td>int                 </td><td>int              </td><td>enum          </td></tr>\n",
       "<tr><td>mins   </td><td>0.0              </td><td>1000001.0         </td><td>            </td><td>        </td><td>     </td><td>0.0              </td><td>               </td><td>0.0                         </td><td>0.0               </td><td>1.0                 </td><td>2.0                 </td><td>3.0                 </td><td>185.0            </td><td>              </td></tr>\n",
       "<tr><td>mean   </td><td>268788.0         </td><td>1002991.8470284262</td><td>            </td><td>        </td><td>     </td><td>8.08271001177507 </td><td>               </td><td>1.4692404461960729          </td><td>0.4087972513705013</td><td>5.295546498455105   </td><td>9.842144034798466   </td><td>12.669840149015695  </td><td>9333.859852635058</td><td>              </td></tr>\n",
       "<tr><td>maxs   </td><td>537576.0         </td><td>1006040.0         </td><td>            </td><td>        </td><td>     </td><td>20.0             </td><td>               </td><td>3.0                         </td><td>1.0               </td><td>18.0                </td><td>18.0                </td><td>18.0                </td><td>23961.0          </td><td>              </td></tr>\n",
       "<tr><td>sigma  </td><td>155185.2571675759</td><td>1714.3926953608495</td><td>            </td><td>        </td><td>     </td><td>6.524119769935606</td><td>               </td><td>0.9896412335601001          </td><td>0.4916121522296775</td><td>3.7507009498797923  </td><td>5.087259152856601   </td><td>4.124341017353132   </td><td>4981.02213265648 </td><td>              </td></tr>\n",
       "<tr><td>zeros  </td><td>1                </td><td>0                 </td><td>            </td><td>        </td><td>     </td><td>68120            </td><td>               </td><td>72725                       </td><td>317817            </td><td>0                   </td><td>0                   </td><td>0                   </td><td>0                </td><td>              </td></tr>\n",
       "<tr><td>missing</td><td>0                </td><td>0                 </td><td>0           </td><td>0       </td><td>0    </td><td>0                </td><td>0              </td><td>82889                       </td><td>0                 </td><td>0                   </td><td>166986              </td><td>373299              </td><td>0                </td><td>0             </td></tr>\n",
       "<tr><td>0      </td><td>0.0              </td><td>1000001.0         </td><td>P00069042   </td><td>F       </td><td>0-17 </td><td>10.0             </td><td>A              </td><td>2.0                         </td><td>0.0               </td><td>3.0                 </td><td>nan                 </td><td>nan                 </td><td>8370.0           </td><td>F_0           </td></tr>\n",
       "<tr><td>1      </td><td>1.0              </td><td>1000001.0         </td><td>P00248942   </td><td>F       </td><td>0-17 </td><td>10.0             </td><td>A              </td><td>2.0                         </td><td>0.0               </td><td>1.0                 </td><td>6.0                 </td><td>14.0                </td><td>15200.0          </td><td>F_0           </td></tr>\n",
       "<tr><td>2      </td><td>2.0              </td><td>1000001.0         </td><td>P00087842   </td><td>F       </td><td>0-17 </td><td>10.0             </td><td>A              </td><td>2.0                         </td><td>0.0               </td><td>12.0                </td><td>nan                 </td><td>nan                 </td><td>1422.0           </td><td>F_0           </td></tr>\n",
       "<tr><td>3      </td><td>3.0              </td><td>1000001.0         </td><td>P00085442   </td><td>F       </td><td>0-17 </td><td>10.0             </td><td>A              </td><td>2.0                         </td><td>0.0               </td><td>12.0                </td><td>14.0                </td><td>nan                 </td><td>1057.0           </td><td>F_0           </td></tr>\n",
       "<tr><td>4      </td><td>4.0              </td><td>1000002.0         </td><td>P00285442   </td><td>M       </td><td>55+  </td><td>16.0             </td><td>C              </td><td>nan                         </td><td>0.0               </td><td>8.0                 </td><td>nan                 </td><td>nan                 </td><td>7969.0           </td><td>M_0           </td></tr>\n",
       "<tr><td>5      </td><td>5.0              </td><td>1000003.0         </td><td>P00193542   </td><td>M       </td><td>26-35</td><td>15.0             </td><td>A              </td><td>3.0                         </td><td>0.0               </td><td>1.0                 </td><td>2.0                 </td><td>nan                 </td><td>15227.0          </td><td>M_0           </td></tr>\n",
       "<tr><td>6      </td><td>6.0              </td><td>1000004.0         </td><td>P00184942   </td><td>M       </td><td>46-50</td><td>7.0              </td><td>B              </td><td>2.0                         </td><td>1.0               </td><td>1.0                 </td><td>8.0                 </td><td>17.0                </td><td>19215.0          </td><td>M_1           </td></tr>\n",
       "<tr><td>7      </td><td>7.0              </td><td>1000004.0         </td><td>P00346142   </td><td>M       </td><td>46-50</td><td>7.0              </td><td>B              </td><td>2.0                         </td><td>1.0               </td><td>1.0                 </td><td>15.0                </td><td>nan                 </td><td>15854.0          </td><td>M_1           </td></tr>\n",
       "<tr><td>8      </td><td>8.0              </td><td>1000004.0         </td><td>P0097242    </td><td>M       </td><td>46-50</td><td>7.0              </td><td>B              </td><td>2.0                         </td><td>1.0               </td><td>1.0                 </td><td>16.0                </td><td>nan                 </td><td>15686.0          </td><td>M_1           </td></tr>\n",
       "<tr><td>9      </td><td>9.0              </td><td>1000005.0         </td><td>P00274942   </td><td>M       </td><td>26-35</td><td>20.0             </td><td>A              </td><td>1.0                         </td><td>1.0               </td><td>8.0                 </td><td>nan                 </td><td>nan                 </td><td>7871.0           </td><td>M_1           </td></tr>\n",
       "</tbody>\n",
       "</table>"
      ]
     },
     "metadata": {},
     "output_type": "display_data"
    }
   ],
   "source": [
    "train_data.describe()"
   ]
  },
  {
   "cell_type": "code",
   "execution_count": 33,
   "metadata": {},
   "outputs": [],
   "source": [
    "target = 'Purchase'"
   ]
  },
  {
   "cell_type": "code",
   "execution_count": 34,
   "metadata": {},
   "outputs": [
    {
     "name": "stdout",
     "output_type": "stream",
     "text": [
      "Purchase\n",
      "['User_ID', 'Product_ID', 'Gender', 'Age', 'Occupation', 'City_Category', 'Stay_In_Current_City_Years', 'Marital_Status', 'Product_Category_1', 'Product_Category_2', 'Product_Category_3', 'combined_G_M']\n"
     ]
    }
   ],
   "source": [
    "# assign target and inputs for logistic regression\n",
    "y = target\n",
    "X = [name for name in df.columns if name != y]\n",
    "print(y)\n",
    "print(X)"
   ]
  },
  {
   "cell_type": "code",
   "execution_count": 35,
   "metadata": {},
   "outputs": [
    {
     "name": "stdout",
     "output_type": "stream",
     "text": [
      "['User_ID', 'Product_ID', 'Gender', 'Age', 'Occupation', 'City_Category', 'Stay_In_Current_City_Years', 'Marital_Status', 'Product_Category_1', 'Product_Category_2', 'Product_Category_3', 'combined_G_M']\n",
      "Purchase\n"
     ]
    }
   ],
   "source": [
    "print(X)\n",
    "print(y)"
   ]
  },
  {
   "cell_type": "code",
   "execution_count": 36,
   "metadata": {},
   "outputs": [],
   "source": [
    "# setup autoML\n",
    "run_time=500\n",
    "aml = H2OAutoML(max_runtime_secs=run_time)"
   ]
  },
  {
   "cell_type": "code",
   "execution_count": 37,
   "metadata": {},
   "outputs": [],
   "source": [
    "logs_path = os.getcwd()\n",
    "logfile = 'logs.txt'"
   ]
  },
  {
   "cell_type": "code",
   "execution_count": 38,
   "metadata": {},
   "outputs": [
    {
     "name": "stdout",
     "output_type": "stream",
     "text": [
      "AutoML progress: |████████████████████████████████████████████████████████| 100%\n"
     ]
    }
   ],
   "source": [
    "model_start_time = time.time()\n",
    "aml.train(x=X,y=y,training_frame=train_data)  # Change training_frame=train"
   ]
  },
  {
   "cell_type": "code",
   "execution_count": 39,
   "metadata": {},
   "outputs": [
    {
     "data": {
      "text/html": [
       "<table>\n",
       "<thead>\n",
       "<tr><th>model_id                                           </th><th style=\"text-align: right;\">  mean_residual_deviance</th><th style=\"text-align: right;\">   rmse</th><th style=\"text-align: right;\">        mse</th><th style=\"text-align: right;\">    mae</th><th style=\"text-align: right;\">     rmsle</th></tr>\n",
       "</thead>\n",
       "<tbody>\n",
       "<tr><td>GBM_1_AutoML_20190416_151701                       </td><td style=\"text-align: right;\">             6.97055e+06</td><td style=\"text-align: right;\">2640.18</td><td style=\"text-align: right;\">6.97055e+06</td><td style=\"text-align: right;\">1972.75</td><td style=\"text-align: right;\">nan       </td></tr>\n",
       "<tr><td>GBM_2_AutoML_20190416_151701                       </td><td style=\"text-align: right;\">             7.9109e+06 </td><td style=\"text-align: right;\">2812.63</td><td style=\"text-align: right;\">7.9109e+06 </td><td style=\"text-align: right;\">2135.32</td><td style=\"text-align: right;\">  0.38789 </td></tr>\n",
       "<tr><td>DRF_1_AutoML_20190416_151701                       </td><td style=\"text-align: right;\">             7.92068e+06</td><td style=\"text-align: right;\">2814.37</td><td style=\"text-align: right;\">7.92068e+06</td><td style=\"text-align: right;\">2120.74</td><td style=\"text-align: right;\">  0.392668</td></tr>\n",
       "<tr><td>StackedEnsemble_AllModels_AutoML_20190416_151701   </td><td style=\"text-align: right;\">             1.44352e+07</td><td style=\"text-align: right;\">3799.37</td><td style=\"text-align: right;\">1.44352e+07</td><td style=\"text-align: right;\">3009.28</td><td style=\"text-align: right;\">  0.547956</td></tr>\n",
       "<tr><td>StackedEnsemble_BestOfFamily_AutoML_20190416_151701</td><td style=\"text-align: right;\">             1.64811e+07</td><td style=\"text-align: right;\">4059.69</td><td style=\"text-align: right;\">1.64811e+07</td><td style=\"text-align: right;\">3236.09</td><td style=\"text-align: right;\">  0.575729</td></tr>\n",
       "<tr><td>GLM_grid_1_AutoML_20190416_151701_model_1          </td><td style=\"text-align: right;\">             2.48106e+07</td><td style=\"text-align: right;\">4981.02</td><td style=\"text-align: right;\">2.48106e+07</td><td style=\"text-align: right;\">4047.52</td><td style=\"text-align: right;\">  0.666417</td></tr>\n",
       "</tbody>\n",
       "</table>"
      ]
     },
     "metadata": {},
     "output_type": "display_data"
    },
    {
     "data": {
      "text/plain": []
     },
     "execution_count": 39,
     "metadata": {},
     "output_type": "execute_result"
    }
   ],
   "source": [
    "# view leaderboard\n",
    "lb = aml.leaderboard\n",
    "lb.head(500)"
   ]
  },
  {
   "cell_type": "code",
   "execution_count": 40,
   "metadata": {},
   "outputs": [],
   "source": [
    "\n",
    "# get leaderboard\n",
    "aml_leaderboard_df=aml.leaderboard.as_data_frame()"
   ]
  },
  {
   "cell_type": "code",
   "execution_count": 42,
   "metadata": {},
   "outputs": [],
   "source": [
    "\n",
    "# STart best model as first model\n",
    "\n",
    "model_set=aml_leaderboard_df['model_id']\n",
    "mod_best=h2o.get_model(model_set[0])"
   ]
  },
  {
   "cell_type": "code",
   "execution_count": 43,
   "metadata": {},
   "outputs": [
    {
     "data": {
      "text/plain": [
       "'GBM_1_AutoML_20190416_151701'"
      ]
     },
     "execution_count": 43,
     "metadata": {},
     "output_type": "execute_result"
    }
   ],
   "source": [
    "\n",
    "mod_best._id"
   ]
  },
  {
   "cell_type": "markdown",
   "metadata": {},
   "source": [
    "# Hyperparameters are amongst below generated"
   ]
  },
  {
   "cell_type": "code",
   "execution_count": 44,
   "metadata": {},
   "outputs": [
    {
     "data": {
      "text/plain": [
       "{'model_id': {'default': None,\n",
       "  'actual': {'__meta': {'schema_version': 3,\n",
       "    'schema_name': 'ModelKeyV3',\n",
       "    'schema_type': 'Key<Model>'},\n",
       "   'name': 'GBM_1_AutoML_20190416_151701',\n",
       "   'type': 'Key<Model>',\n",
       "   'URL': '/3/Models/GBM_1_AutoML_20190416_151701'}},\n",
       " 'training_frame': {'default': None,\n",
       "  'actual': {'__meta': {'schema_version': 3,\n",
       "    'schema_name': 'FrameKeyV3',\n",
       "    'schema_type': 'Key<Frame>'},\n",
       "   'name': 'automl_training_train11.hex',\n",
       "   'type': 'Key<Frame>',\n",
       "   'URL': '/3/Frames/automl_training_train11.hex'}},\n",
       " 'validation_frame': {'default': None, 'actual': None},\n",
       " 'nfolds': {'default': 0, 'actual': 5},\n",
       " 'keep_cross_validation_models': {'default': True, 'actual': False},\n",
       " 'keep_cross_validation_predictions': {'default': False, 'actual': True},\n",
       " 'keep_cross_validation_fold_assignment': {'default': False, 'actual': False},\n",
       " 'score_each_iteration': {'default': False, 'actual': False},\n",
       " 'score_tree_interval': {'default': 0, 'actual': 5},\n",
       " 'fold_assignment': {'default': 'AUTO', 'actual': 'Modulo'},\n",
       " 'fold_column': {'default': None, 'actual': None},\n",
       " 'response_column': {'default': None,\n",
       "  'actual': {'__meta': {'schema_version': 3,\n",
       "    'schema_name': 'ColSpecifierV3',\n",
       "    'schema_type': 'VecSpecifier'},\n",
       "   'column_name': 'Purchase',\n",
       "   'is_member_of_frames': None}},\n",
       " 'ignored_columns': {'default': None, 'actual': ['C1']},\n",
       " 'ignore_const_cols': {'default': True, 'actual': True},\n",
       " 'offset_column': {'default': None, 'actual': None},\n",
       " 'weights_column': {'default': None, 'actual': None},\n",
       " 'balance_classes': {'default': False, 'actual': False},\n",
       " 'class_sampling_factors': {'default': None, 'actual': None},\n",
       " 'max_after_balance_size': {'default': 5.0, 'actual': 5.0},\n",
       " 'max_confusion_matrix_size': {'default': 20, 'actual': 20},\n",
       " 'max_hit_ratio_k': {'default': 0, 'actual': 0},\n",
       " 'ntrees': {'default': 50, 'actual': 32},\n",
       " 'max_depth': {'default': 5, 'actual': 15},\n",
       " 'min_rows': {'default': 10.0, 'actual': 100.0},\n",
       " 'nbins': {'default': 20, 'actual': 20},\n",
       " 'nbins_top_level': {'default': 1024, 'actual': 1024},\n",
       " 'nbins_cats': {'default': 1024, 'actual': 1024},\n",
       " 'r2_stopping': {'default': 1.7976931348623157e+308,\n",
       "  'actual': 1.7976931348623157e+308},\n",
       " 'stopping_rounds': {'default': 0, 'actual': 0},\n",
       " 'stopping_metric': {'default': 'AUTO', 'actual': 'deviance'},\n",
       " 'stopping_tolerance': {'default': 0.001, 'actual': 0.001363890989782514},\n",
       " 'max_runtime_secs': {'default': 0.0, 'actual': 0.0},\n",
       " 'seed': {'default': -1, 'actual': 1314068390613646606},\n",
       " 'build_tree_one_node': {'default': False, 'actual': False},\n",
       " 'learn_rate': {'default': 0.1, 'actual': 0.1},\n",
       " 'learn_rate_annealing': {'default': 1.0, 'actual': 1.0},\n",
       " 'distribution': {'default': 'AUTO', 'actual': 'gaussian'},\n",
       " 'quantile_alpha': {'default': 0.5, 'actual': 0.5},\n",
       " 'tweedie_power': {'default': 1.5, 'actual': 1.5},\n",
       " 'huber_alpha': {'default': 0.9, 'actual': 0.9},\n",
       " 'checkpoint': {'default': None, 'actual': None},\n",
       " 'sample_rate': {'default': 1.0, 'actual': 0.8},\n",
       " 'sample_rate_per_class': {'default': None, 'actual': None},\n",
       " 'col_sample_rate': {'default': 1.0, 'actual': 0.8},\n",
       " 'col_sample_rate_change_per_level': {'default': 1.0, 'actual': 1.0},\n",
       " 'col_sample_rate_per_tree': {'default': 1.0, 'actual': 0.8},\n",
       " 'min_split_improvement': {'default': 1e-05, 'actual': 1e-05},\n",
       " 'histogram_type': {'default': 'AUTO', 'actual': 'AUTO'},\n",
       " 'max_abs_leafnode_pred': {'default': 1.7976931348623157e+308,\n",
       "  'actual': 1.7976931348623157e+308},\n",
       " 'pred_noise_bandwidth': {'default': 0.0, 'actual': 0.0},\n",
       " 'categorical_encoding': {'default': 'AUTO', 'actual': 'AUTO'},\n",
       " 'calibrate_model': {'default': False, 'actual': False},\n",
       " 'calibration_frame': {'default': None, 'actual': None},\n",
       " 'custom_metric_func': {'default': None, 'actual': None},\n",
       " 'export_checkpoints_dir': {'default': None, 'actual': None},\n",
       " 'monotone_constraints': {'default': None, 'actual': None},\n",
       " 'check_constant_response': {'default': True, 'actual': True}}"
      ]
     },
     "execution_count": 44,
     "metadata": {},
     "output_type": "execute_result"
    }
   ],
   "source": [
    "# h2o.get_model(mod_best)\n",
    "mod_best.params"
   ]
  },
  {
   "cell_type": "code",
   "execution_count": 45,
   "metadata": {},
   "outputs": [],
   "source": [
    "def dict_to_json(dct,n):\n",
    "  j = json.dumps(dct, indent=4)\n",
    "  f = open(n, 'w')\n",
    "  print(j, file=f)\n",
    "  f.close()"
   ]
  },
  {
   "cell_type": "code",
   "execution_count": 46,
   "metadata": {},
   "outputs": [],
   "source": [
    "hy_parameter = mod_best.params\n",
    "n='hyperparameter1_500.json'"
   ]
  },
  {
   "cell_type": "code",
   "execution_count": 47,
   "metadata": {},
   "outputs": [],
   "source": [
    "dict_to_json(hy_parameter,n)"
   ]
  },
  {
   "cell_type": "markdown",
   "metadata": {},
   "source": [
    "# H2O Model 2 for 500 seconds"
   ]
  },
  {
   "cell_type": "code",
   "execution_count": 48,
   "metadata": {},
   "outputs": [],
   "source": [
    "\n",
    "# STart best model as first model\n",
    "\n",
    "model_set=aml_leaderboard_df['model_id']\n",
    "mod_best=h2o.get_model(model_set[1])"
   ]
  },
  {
   "cell_type": "code",
   "execution_count": 49,
   "metadata": {},
   "outputs": [
    {
     "data": {
      "text/plain": [
       "'GBM_2_AutoML_20190416_151701'"
      ]
     },
     "execution_count": 49,
     "metadata": {},
     "output_type": "execute_result"
    }
   ],
   "source": [
    "mod_best._id"
   ]
  },
  {
   "cell_type": "code",
   "execution_count": 50,
   "metadata": {},
   "outputs": [
    {
     "data": {
      "text/plain": [
       "{'model_id': {'default': None,\n",
       "  'actual': {'__meta': {'schema_version': 3,\n",
       "    'schema_name': 'ModelKeyV3',\n",
       "    'schema_type': 'Key<Model>'},\n",
       "   'name': 'GBM_2_AutoML_20190416_151701',\n",
       "   'type': 'Key<Model>',\n",
       "   'URL': '/3/Models/GBM_2_AutoML_20190416_151701'}},\n",
       " 'training_frame': {'default': None,\n",
       "  'actual': {'__meta': {'schema_version': 3,\n",
       "    'schema_name': 'FrameKeyV3',\n",
       "    'schema_type': 'Key<Frame>'},\n",
       "   'name': 'automl_training_train11.hex',\n",
       "   'type': 'Key<Frame>',\n",
       "   'URL': '/3/Frames/automl_training_train11.hex'}},\n",
       " 'validation_frame': {'default': None, 'actual': None},\n",
       " 'nfolds': {'default': 0, 'actual': 5},\n",
       " 'keep_cross_validation_models': {'default': True, 'actual': False},\n",
       " 'keep_cross_validation_predictions': {'default': False, 'actual': True},\n",
       " 'keep_cross_validation_fold_assignment': {'default': False, 'actual': False},\n",
       " 'score_each_iteration': {'default': False, 'actual': False},\n",
       " 'score_tree_interval': {'default': 0, 'actual': 5},\n",
       " 'fold_assignment': {'default': 'AUTO', 'actual': 'Modulo'},\n",
       " 'fold_column': {'default': None, 'actual': None},\n",
       " 'response_column': {'default': None,\n",
       "  'actual': {'__meta': {'schema_version': 3,\n",
       "    'schema_name': 'ColSpecifierV3',\n",
       "    'schema_type': 'VecSpecifier'},\n",
       "   'column_name': 'Purchase',\n",
       "   'is_member_of_frames': None}},\n",
       " 'ignored_columns': {'default': None, 'actual': ['C1']},\n",
       " 'ignore_const_cols': {'default': True, 'actual': True},\n",
       " 'offset_column': {'default': None, 'actual': None},\n",
       " 'weights_column': {'default': None, 'actual': None},\n",
       " 'balance_classes': {'default': False, 'actual': False},\n",
       " 'class_sampling_factors': {'default': None, 'actual': None},\n",
       " 'max_after_balance_size': {'default': 5.0, 'actual': 5.0},\n",
       " 'max_confusion_matrix_size': {'default': 20, 'actual': 20},\n",
       " 'max_hit_ratio_k': {'default': 0, 'actual': 0},\n",
       " 'ntrees': {'default': 50, 'actual': 32},\n",
       " 'max_depth': {'default': 5, 'actual': 15},\n",
       " 'min_rows': {'default': 10.0, 'actual': 100.0},\n",
       " 'nbins': {'default': 20, 'actual': 20},\n",
       " 'nbins_top_level': {'default': 1024, 'actual': 1024},\n",
       " 'nbins_cats': {'default': 1024, 'actual': 1024},\n",
       " 'r2_stopping': {'default': 1.7976931348623157e+308,\n",
       "  'actual': 1.7976931348623157e+308},\n",
       " 'stopping_rounds': {'default': 0, 'actual': 0},\n",
       " 'stopping_metric': {'default': 'AUTO', 'actual': 'deviance'},\n",
       " 'stopping_tolerance': {'default': 0.001, 'actual': 0.001363890989782514},\n",
       " 'max_runtime_secs': {'default': 0.0, 'actual': 0.0},\n",
       " 'seed': {'default': -1, 'actual': 1314068390613646606},\n",
       " 'build_tree_one_node': {'default': False, 'actual': False},\n",
       " 'learn_rate': {'default': 0.1, 'actual': 0.1},\n",
       " 'learn_rate_annealing': {'default': 1.0, 'actual': 1.0},\n",
       " 'distribution': {'default': 'AUTO', 'actual': 'gaussian'},\n",
       " 'quantile_alpha': {'default': 0.5, 'actual': 0.5},\n",
       " 'tweedie_power': {'default': 1.5, 'actual': 1.5},\n",
       " 'huber_alpha': {'default': 0.9, 'actual': 0.9},\n",
       " 'checkpoint': {'default': None, 'actual': None},\n",
       " 'sample_rate': {'default': 1.0, 'actual': 0.8},\n",
       " 'sample_rate_per_class': {'default': None, 'actual': None},\n",
       " 'col_sample_rate': {'default': 1.0, 'actual': 0.8},\n",
       " 'col_sample_rate_change_per_level': {'default': 1.0, 'actual': 1.0},\n",
       " 'col_sample_rate_per_tree': {'default': 1.0, 'actual': 0.8},\n",
       " 'min_split_improvement': {'default': 1e-05, 'actual': 1e-05},\n",
       " 'histogram_type': {'default': 'AUTO', 'actual': 'AUTO'},\n",
       " 'max_abs_leafnode_pred': {'default': 1.7976931348623157e+308,\n",
       "  'actual': 1.7976931348623157e+308},\n",
       " 'pred_noise_bandwidth': {'default': 0.0, 'actual': 0.0},\n",
       " 'categorical_encoding': {'default': 'AUTO', 'actual': 'AUTO'},\n",
       " 'calibrate_model': {'default': False, 'actual': False},\n",
       " 'calibration_frame': {'default': None, 'actual': None},\n",
       " 'custom_metric_func': {'default': None, 'actual': None},\n",
       " 'export_checkpoints_dir': {'default': None, 'actual': None},\n",
       " 'monotone_constraints': {'default': None, 'actual': None},\n",
       " 'check_constant_response': {'default': True, 'actual': True}}"
      ]
     },
     "execution_count": 50,
     "metadata": {},
     "output_type": "execute_result"
    }
   ],
   "source": [
    "# h2o.get_model(mod_best)\n",
    "mod_best.params"
   ]
  },
  {
   "cell_type": "code",
   "execution_count": 51,
   "metadata": {},
   "outputs": [],
   "source": [
    "def dict_to_json(dct,n):\n",
    "  j = json.dumps(dct, indent=4)\n",
    "  f = open(n, 'w')\n",
    "  print(j, file=f)\n",
    "  f.close()"
   ]
  },
  {
   "cell_type": "code",
   "execution_count": 52,
   "metadata": {},
   "outputs": [],
   "source": [
    "hy_parameter = mod_best.params\n",
    "n='hyperparameter2_500.json'"
   ]
  },
  {
   "cell_type": "code",
   "execution_count": 53,
   "metadata": {},
   "outputs": [],
   "source": [
    "dict_to_json(hy_parameter,n)"
   ]
  },
  {
   "cell_type": "markdown",
   "metadata": {},
   "source": [
    "# H2O Model 3 for 500 seconds"
   ]
  },
  {
   "cell_type": "code",
   "execution_count": 54,
   "metadata": {},
   "outputs": [],
   "source": [
    "\n",
    "# STart best model as first model\n",
    "\n",
    "model_set=aml_leaderboard_df['model_id']\n",
    "mod_best=h2o.get_model(model_set[2])"
   ]
  },
  {
   "cell_type": "code",
   "execution_count": 55,
   "metadata": {},
   "outputs": [
    {
     "data": {
      "text/plain": [
       "'DRF_1_AutoML_20190416_151701'"
      ]
     },
     "execution_count": 55,
     "metadata": {},
     "output_type": "execute_result"
    }
   ],
   "source": [
    "mod_best._id"
   ]
  },
  {
   "cell_type": "code",
   "execution_count": 56,
   "metadata": {},
   "outputs": [
    {
     "data": {
      "text/plain": [
       "{'model_id': {'default': None,\n",
       "  'actual': {'__meta': {'schema_version': 3,\n",
       "    'schema_name': 'ModelKeyV3',\n",
       "    'schema_type': 'Key<Model>'},\n",
       "   'name': 'DRF_1_AutoML_20190416_151701',\n",
       "   'type': 'Key<Model>',\n",
       "   'URL': '/3/Models/DRF_1_AutoML_20190416_151701'}},\n",
       " 'training_frame': {'default': None,\n",
       "  'actual': {'__meta': {'schema_version': 3,\n",
       "    'schema_name': 'FrameKeyV3',\n",
       "    'schema_type': 'Key<Frame>'},\n",
       "   'name': 'automl_training_train11.hex',\n",
       "   'type': 'Key<Frame>',\n",
       "   'URL': '/3/Frames/automl_training_train11.hex'}},\n",
       " 'validation_frame': {'default': None, 'actual': None},\n",
       " 'nfolds': {'default': 0, 'actual': 5},\n",
       " 'keep_cross_validation_models': {'default': True, 'actual': False},\n",
       " 'keep_cross_validation_predictions': {'default': False, 'actual': True},\n",
       " 'keep_cross_validation_fold_assignment': {'default': False, 'actual': False},\n",
       " 'score_each_iteration': {'default': False, 'actual': False},\n",
       " 'score_tree_interval': {'default': 0, 'actual': 0},\n",
       " 'fold_assignment': {'default': 'AUTO', 'actual': 'Modulo'},\n",
       " 'fold_column': {'default': None, 'actual': None},\n",
       " 'response_column': {'default': None,\n",
       "  'actual': {'__meta': {'schema_version': 3,\n",
       "    'schema_name': 'ColSpecifierV3',\n",
       "    'schema_type': 'VecSpecifier'},\n",
       "   'column_name': 'Purchase',\n",
       "   'is_member_of_frames': None}},\n",
       " 'ignored_columns': {'default': None, 'actual': ['C1']},\n",
       " 'ignore_const_cols': {'default': True, 'actual': True},\n",
       " 'offset_column': {'default': None, 'actual': None},\n",
       " 'weights_column': {'default': None, 'actual': None},\n",
       " 'balance_classes': {'default': False, 'actual': False},\n",
       " 'class_sampling_factors': {'default': None, 'actual': None},\n",
       " 'max_after_balance_size': {'default': 5.0, 'actual': 5.0},\n",
       " 'max_confusion_matrix_size': {'default': 20, 'actual': 20},\n",
       " 'max_hit_ratio_k': {'default': 0, 'actual': 0},\n",
       " 'ntrees': {'default': 50, 'actual': 20},\n",
       " 'max_depth': {'default': 20, 'actual': 20},\n",
       " 'min_rows': {'default': 1.0, 'actual': 1.0},\n",
       " 'nbins': {'default': 20, 'actual': 20},\n",
       " 'nbins_top_level': {'default': 1024, 'actual': 1024},\n",
       " 'nbins_cats': {'default': 1024, 'actual': 1024},\n",
       " 'r2_stopping': {'default': 1.7976931348623157e+308,\n",
       "  'actual': 1.7976931348623157e+308},\n",
       " 'stopping_rounds': {'default': 0, 'actual': 0},\n",
       " 'stopping_metric': {'default': 'AUTO', 'actual': 'deviance'},\n",
       " 'stopping_tolerance': {'default': 0.001, 'actual': 0.001363890989782514},\n",
       " 'max_runtime_secs': {'default': 0.0, 'actual': 0.0},\n",
       " 'seed': {'default': -1, 'actual': -4547186799594963384},\n",
       " 'build_tree_one_node': {'default': False, 'actual': False},\n",
       " 'mtries': {'default': -1, 'actual': -1},\n",
       " 'sample_rate': {'default': 0.6320000290870667, 'actual': 0.6320000290870667},\n",
       " 'sample_rate_per_class': {'default': None, 'actual': None},\n",
       " 'binomial_double_trees': {'default': False, 'actual': False},\n",
       " 'checkpoint': {'default': None, 'actual': None},\n",
       " 'col_sample_rate_change_per_level': {'default': 1.0, 'actual': 1.0},\n",
       " 'col_sample_rate_per_tree': {'default': 1.0, 'actual': 1.0},\n",
       " 'min_split_improvement': {'default': 1e-05, 'actual': 1e-05},\n",
       " 'histogram_type': {'default': 'AUTO', 'actual': 'AUTO'},\n",
       " 'categorical_encoding': {'default': 'AUTO', 'actual': 'AUTO'},\n",
       " 'calibrate_model': {'default': False, 'actual': False},\n",
       " 'calibration_frame': {'default': None, 'actual': None},\n",
       " 'distribution': {'default': 'AUTO', 'actual': 'gaussian'},\n",
       " 'custom_metric_func': {'default': None, 'actual': None},\n",
       " 'export_checkpoints_dir': {'default': None, 'actual': None},\n",
       " 'check_constant_response': {'default': True, 'actual': True}}"
      ]
     },
     "execution_count": 56,
     "metadata": {},
     "output_type": "execute_result"
    }
   ],
   "source": [
    "# h2o.get_model(mod_best)\n",
    "mod_best.params"
   ]
  },
  {
   "cell_type": "code",
   "execution_count": 57,
   "metadata": {},
   "outputs": [],
   "source": [
    "def dict_to_json(dct,n):\n",
    "  j = json.dumps(dct, indent=4)\n",
    "  f = open(n, 'w')\n",
    "  print(j, file=f)\n",
    "  f.close()"
   ]
  },
  {
   "cell_type": "code",
   "execution_count": 58,
   "metadata": {},
   "outputs": [],
   "source": [
    "hy_parameter = mod_best.params\n",
    "n='hyperparameter3_500.json'"
   ]
  },
  {
   "cell_type": "code",
   "execution_count": 59,
   "metadata": {},
   "outputs": [],
   "source": [
    "dict_to_json(hy_parameter,n)"
   ]
  },
  {
   "cell_type": "markdown",
   "metadata": {},
   "source": [
    "# H2O Model 4 for 500 seconds"
   ]
  },
  {
   "cell_type": "code",
   "execution_count": 62,
   "metadata": {},
   "outputs": [],
   "source": [
    "\n",
    "# STart best model as first model\n",
    "\n",
    "model_set=aml_leaderboard_df['model_id']\n",
    "mod_best=h2o.get_model(model_set[3])"
   ]
  },
  {
   "cell_type": "code",
   "execution_count": 63,
   "metadata": {},
   "outputs": [
    {
     "data": {
      "text/plain": [
       "'StackedEnsemble_AllModels_AutoML_20190416_151701'"
      ]
     },
     "execution_count": 63,
     "metadata": {},
     "output_type": "execute_result"
    }
   ],
   "source": [
    "mod_best._id"
   ]
  },
  {
   "cell_type": "code",
   "execution_count": 64,
   "metadata": {},
   "outputs": [
    {
     "data": {
      "text/plain": [
       "{'model_id': {'default': None,\n",
       "  'actual': {'__meta': {'schema_version': 3,\n",
       "    'schema_name': 'ModelKeyV3',\n",
       "    'schema_type': 'Key<Model>'},\n",
       "   'name': 'StackedEnsemble_AllModels_AutoML_20190416_151701',\n",
       "   'type': 'Key<Model>',\n",
       "   'URL': '/3/Models/StackedEnsemble_AllModels_AutoML_20190416_151701'}},\n",
       " 'training_frame': {'default': None,\n",
       "  'actual': {'__meta': {'schema_version': 3,\n",
       "    'schema_name': 'FrameKeyV3',\n",
       "    'schema_type': 'Key<Frame>'},\n",
       "   'name': 'automl_training_train11.hex',\n",
       "   'type': 'Key<Frame>',\n",
       "   'URL': '/3/Frames/automl_training_train11.hex'}},\n",
       " 'response_column': {'default': None,\n",
       "  'actual': {'__meta': {'schema_version': 3,\n",
       "    'schema_name': 'ColSpecifierV3',\n",
       "    'schema_type': 'VecSpecifier'},\n",
       "   'column_name': 'Purchase',\n",
       "   'is_member_of_frames': None}},\n",
       " 'validation_frame': {'default': None, 'actual': None},\n",
       " 'blending_frame': {'default': None, 'actual': None},\n",
       " 'base_models': {'default': [],\n",
       "  'actual': [{'__meta': {'schema_version': 3,\n",
       "     'schema_name': 'ModelKeyV3',\n",
       "     'schema_type': 'Key<Model>'},\n",
       "    'name': 'GBM_1_AutoML_20190416_151701',\n",
       "    'type': 'Key<Model>',\n",
       "    'URL': '/3/Models/GBM_1_AutoML_20190416_151701'},\n",
       "   {'__meta': {'schema_version': 3,\n",
       "     'schema_name': 'ModelKeyV3',\n",
       "     'schema_type': 'Key<Model>'},\n",
       "    'name': 'GBM_2_AutoML_20190416_151701',\n",
       "    'type': 'Key<Model>',\n",
       "    'URL': '/3/Models/GBM_2_AutoML_20190416_151701'},\n",
       "   {'__meta': {'schema_version': 3,\n",
       "     'schema_name': 'ModelKeyV3',\n",
       "     'schema_type': 'Key<Model>'},\n",
       "    'name': 'DRF_1_AutoML_20190416_151701',\n",
       "    'type': 'Key<Model>',\n",
       "    'URL': '/3/Models/DRF_1_AutoML_20190416_151701'},\n",
       "   {'__meta': {'schema_version': 3,\n",
       "     'schema_name': 'ModelKeyV3',\n",
       "     'schema_type': 'Key<Model>'},\n",
       "    'name': 'GLM_grid_1_AutoML_20190416_151701_model_1',\n",
       "    'type': 'Key<Model>',\n",
       "    'URL': '/3/Models/GLM_grid_1_AutoML_20190416_151701_model_1'}]},\n",
       " 'metalearner_algorithm': {'default': 'AUTO', 'actual': 'AUTO'},\n",
       " 'metalearner_nfolds': {'default': 0, 'actual': 5},\n",
       " 'metalearner_fold_assignment': {'default': None, 'actual': None},\n",
       " 'metalearner_fold_column': {'default': None, 'actual': None},\n",
       " 'metalearner_params': {'default': '', 'actual': ''},\n",
       " 'seed': {'default': -1, 'actual': 332504964535847841},\n",
       " 'keep_levelone_frame': {'default': False, 'actual': True},\n",
       " 'export_checkpoints_dir': {'default': None, 'actual': None}}"
      ]
     },
     "execution_count": 64,
     "metadata": {},
     "output_type": "execute_result"
    }
   ],
   "source": [
    "# h2o.get_model(mod_best)\n",
    "mod_best.params"
   ]
  },
  {
   "cell_type": "code",
   "execution_count": 65,
   "metadata": {},
   "outputs": [],
   "source": [
    "def dict_to_json(dct,n):\n",
    "  j = json.dumps(dct, indent=4)\n",
    "  f = open(n, 'w')\n",
    "  print(j, file=f)\n",
    "  f.close()"
   ]
  },
  {
   "cell_type": "code",
   "execution_count": 66,
   "metadata": {},
   "outputs": [],
   "source": [
    "hy_parameter = mod_best.params\n",
    "n='hyperparameter4_500.json'"
   ]
  },
  {
   "cell_type": "code",
   "execution_count": 67,
   "metadata": {},
   "outputs": [],
   "source": [
    "dict_to_json(hy_parameter,n)"
   ]
  },
  {
   "cell_type": "markdown",
   "metadata": {},
   "source": [
    "# H2O Model 5 for 500 Seconds\n"
   ]
  },
  {
   "cell_type": "code",
   "execution_count": 68,
   "metadata": {},
   "outputs": [],
   "source": [
    "# STart best model as first model\n",
    "\n",
    "model_set=aml_leaderboard_df['model_id']\n",
    "mod_best=h2o.get_model(model_set[4])"
   ]
  },
  {
   "cell_type": "code",
   "execution_count": 69,
   "metadata": {},
   "outputs": [
    {
     "data": {
      "text/plain": [
       "'StackedEnsemble_BestOfFamily_AutoML_20190416_151701'"
      ]
     },
     "execution_count": 69,
     "metadata": {},
     "output_type": "execute_result"
    }
   ],
   "source": [
    "mod_best._id"
   ]
  },
  {
   "cell_type": "code",
   "execution_count": 70,
   "metadata": {},
   "outputs": [
    {
     "data": {
      "text/plain": [
       "{'model_id': {'default': None,\n",
       "  'actual': {'__meta': {'schema_version': 3,\n",
       "    'schema_name': 'ModelKeyV3',\n",
       "    'schema_type': 'Key<Model>'},\n",
       "   'name': 'StackedEnsemble_BestOfFamily_AutoML_20190416_151701',\n",
       "   'type': 'Key<Model>',\n",
       "   'URL': '/3/Models/StackedEnsemble_BestOfFamily_AutoML_20190416_151701'}},\n",
       " 'training_frame': {'default': None,\n",
       "  'actual': {'__meta': {'schema_version': 3,\n",
       "    'schema_name': 'FrameKeyV3',\n",
       "    'schema_type': 'Key<Frame>'},\n",
       "   'name': 'automl_training_train11.hex',\n",
       "   'type': 'Key<Frame>',\n",
       "   'URL': '/3/Frames/automl_training_train11.hex'}},\n",
       " 'response_column': {'default': None,\n",
       "  'actual': {'__meta': {'schema_version': 3,\n",
       "    'schema_name': 'ColSpecifierV3',\n",
       "    'schema_type': 'VecSpecifier'},\n",
       "   'column_name': 'Purchase',\n",
       "   'is_member_of_frames': None}},\n",
       " 'validation_frame': {'default': None, 'actual': None},\n",
       " 'blending_frame': {'default': None, 'actual': None},\n",
       " 'base_models': {'default': [],\n",
       "  'actual': [{'__meta': {'schema_version': 3,\n",
       "     'schema_name': 'ModelKeyV3',\n",
       "     'schema_type': 'Key<Model>'},\n",
       "    'name': 'GBM_1_AutoML_20190416_151701',\n",
       "    'type': 'Key<Model>',\n",
       "    'URL': '/3/Models/GBM_1_AutoML_20190416_151701'},\n",
       "   {'__meta': {'schema_version': 3,\n",
       "     'schema_name': 'ModelKeyV3',\n",
       "     'schema_type': 'Key<Model>'},\n",
       "    'name': 'DRF_1_AutoML_20190416_151701',\n",
       "    'type': 'Key<Model>',\n",
       "    'URL': '/3/Models/DRF_1_AutoML_20190416_151701'},\n",
       "   {'__meta': {'schema_version': 3,\n",
       "     'schema_name': 'ModelKeyV3',\n",
       "     'schema_type': 'Key<Model>'},\n",
       "    'name': 'GLM_grid_1_AutoML_20190416_151701_model_1',\n",
       "    'type': 'Key<Model>',\n",
       "    'URL': '/3/Models/GLM_grid_1_AutoML_20190416_151701_model_1'}]},\n",
       " 'metalearner_algorithm': {'default': 'AUTO', 'actual': 'AUTO'},\n",
       " 'metalearner_nfolds': {'default': 0, 'actual': 5},\n",
       " 'metalearner_fold_assignment': {'default': None, 'actual': None},\n",
       " 'metalearner_fold_column': {'default': None, 'actual': None},\n",
       " 'metalearner_params': {'default': '', 'actual': ''},\n",
       " 'seed': {'default': -1, 'actual': 5914738629931840243},\n",
       " 'keep_levelone_frame': {'default': False, 'actual': True},\n",
       " 'export_checkpoints_dir': {'default': None, 'actual': None}}"
      ]
     },
     "execution_count": 70,
     "metadata": {},
     "output_type": "execute_result"
    }
   ],
   "source": [
    "\n",
    "# h2o.get_model(mod_best)\n",
    "mod_best.params"
   ]
  },
  {
   "cell_type": "code",
   "execution_count": 71,
   "metadata": {},
   "outputs": [],
   "source": [
    "def dict_to_json(dct,n):\n",
    "  j = json.dumps(dct, indent=4)\n",
    "  f = open(n, 'w')\n",
    "  print(j, file=f)\n",
    "  f.close()"
   ]
  },
  {
   "cell_type": "code",
   "execution_count": 72,
   "metadata": {},
   "outputs": [],
   "source": [
    "hy_parameter = mod_best.params\n",
    "n='hyperparameter5_500.json'"
   ]
  },
  {
   "cell_type": "code",
   "execution_count": 73,
   "metadata": {},
   "outputs": [],
   "source": [
    "dict_to_json(hy_parameter,n)"
   ]
  },
  {
   "cell_type": "markdown",
   "metadata": {},
   "source": [
    "# H2O Model 6 for 500 Seconds"
   ]
  },
  {
   "cell_type": "code",
   "execution_count": 74,
   "metadata": {},
   "outputs": [],
   "source": [
    "# STart best model as first model\n",
    "\n",
    "model_set=aml_leaderboard_df['model_id']\n",
    "mod_best=h2o.get_model(model_set[5])"
   ]
  },
  {
   "cell_type": "code",
   "execution_count": 75,
   "metadata": {},
   "outputs": [
    {
     "data": {
      "text/plain": [
       "'GLM_grid_1_AutoML_20190416_151701_model_1'"
      ]
     },
     "execution_count": 75,
     "metadata": {},
     "output_type": "execute_result"
    }
   ],
   "source": [
    "mod_best._id"
   ]
  },
  {
   "cell_type": "code",
   "execution_count": 76,
   "metadata": {},
   "outputs": [
    {
     "data": {
      "text/plain": [
       "{'model_id': {'default': None,\n",
       "  'actual': {'__meta': {'schema_version': 3,\n",
       "    'schema_name': 'ModelKeyV3',\n",
       "    'schema_type': 'Key<Model>'},\n",
       "   'name': 'GLM_grid_1_AutoML_20190416_151701_model_1',\n",
       "   'type': 'Key<Model>',\n",
       "   'URL': '/3/Models/GLM_grid_1_AutoML_20190416_151701_model_1'}},\n",
       " 'training_frame': {'default': None,\n",
       "  'actual': {'__meta': {'schema_version': 3,\n",
       "    'schema_name': 'FrameKeyV3',\n",
       "    'schema_type': 'Key<Frame>'},\n",
       "   'name': 'automl_training_train11.hex',\n",
       "   'type': 'Key<Frame>',\n",
       "   'URL': '/3/Frames/automl_training_train11.hex'}},\n",
       " 'validation_frame': {'default': None, 'actual': None},\n",
       " 'nfolds': {'default': 0, 'actual': 5},\n",
       " 'seed': {'default': -1, 'actual': 2938085526509567255},\n",
       " 'keep_cross_validation_models': {'default': True, 'actual': False},\n",
       " 'keep_cross_validation_predictions': {'default': False, 'actual': True},\n",
       " 'keep_cross_validation_fold_assignment': {'default': False, 'actual': False},\n",
       " 'fold_assignment': {'default': 'AUTO', 'actual': 'Modulo'},\n",
       " 'fold_column': {'default': None, 'actual': None},\n",
       " 'response_column': {'default': None,\n",
       "  'actual': {'__meta': {'schema_version': 3,\n",
       "    'schema_name': 'ColSpecifierV3',\n",
       "    'schema_type': 'VecSpecifier'},\n",
       "   'column_name': 'Purchase',\n",
       "   'is_member_of_frames': None}},\n",
       " 'ignored_columns': {'default': None, 'actual': ['C1']},\n",
       " 'ignore_const_cols': {'default': True, 'actual': True},\n",
       " 'score_each_iteration': {'default': False, 'actual': False},\n",
       " 'offset_column': {'default': None, 'actual': None},\n",
       " 'weights_column': {'default': None, 'actual': None},\n",
       " 'family': {'default': 'gaussian', 'actual': 'gaussian'},\n",
       " 'tweedie_variance_power': {'default': 0.0, 'actual': 0.0},\n",
       " 'tweedie_link_power': {'default': 1.0, 'actual': 1.0},\n",
       " 'theta': {'default': 1e-10, 'actual': 1e-10},\n",
       " 'solver': {'default': 'AUTO', 'actual': 'COORDINATE_DESCENT'},\n",
       " 'alpha': {'default': None, 'actual': [0.0, 0.2, 0.4, 0.6, 0.8, 1.0]},\n",
       " 'lambda': {'default': None,\n",
       "  'actual': [156465.93492127347,\n",
       "   97167.99641501333,\n",
       "   60342.971983381794,\n",
       "   37474.00792576794,\n",
       "   23271.993802480545]},\n",
       " 'lambda_search': {'default': False, 'actual': True},\n",
       " 'early_stopping': {'default': True, 'actual': True},\n",
       " 'nlambdas': {'default': -1, 'actual': 30},\n",
       " 'standardize': {'default': True, 'actual': True},\n",
       " 'missing_values_handling': {'default': 'MeanImputation',\n",
       "  'actual': 'MeanImputation'},\n",
       " 'compute_p_values': {'default': False, 'actual': False},\n",
       " 'remove_collinear_columns': {'default': False, 'actual': False},\n",
       " 'intercept': {'default': True, 'actual': True},\n",
       " 'non_negative': {'default': False, 'actual': False},\n",
       " 'max_iterations': {'default': -1, 'actual': 300},\n",
       " 'objective_epsilon': {'default': -1.0, 'actual': 0.0001},\n",
       " 'beta_epsilon': {'default': 0.0001, 'actual': 0.0001},\n",
       " 'gradient_epsilon': {'default': -1.0, 'actual': 1.0000000000000002e-06},\n",
       " 'link': {'default': 'family_default', 'actual': 'identity'},\n",
       " 'prior': {'default': -1.0, 'actual': -1.0},\n",
       " 'lambda_min_ratio': {'default': -1.0, 'actual': 1.0000000000000002e-06},\n",
       " 'beta_constraints': {'default': None, 'actual': None},\n",
       " 'max_active_predictors': {'default': -1, 'actual': 5000},\n",
       " 'interactions': {'default': None, 'actual': None},\n",
       " 'interaction_pairs': {'default': None, 'actual': None},\n",
       " 'obj_reg': {'default': -1.0, 'actual': 1.860198632009926e-06},\n",
       " 'export_checkpoints_dir': {'default': None, 'actual': None},\n",
       " 'balance_classes': {'default': False, 'actual': False},\n",
       " 'class_sampling_factors': {'default': None, 'actual': None},\n",
       " 'max_after_balance_size': {'default': 5.0, 'actual': 5.0},\n",
       " 'max_confusion_matrix_size': {'default': 20, 'actual': 20},\n",
       " 'max_hit_ratio_k': {'default': 0, 'actual': 0},\n",
       " 'max_runtime_secs': {'default': 0.0, 'actual': 0.0},\n",
       " 'custom_metric_func': {'default': None, 'actual': None}}"
      ]
     },
     "execution_count": 76,
     "metadata": {},
     "output_type": "execute_result"
    }
   ],
   "source": [
    "\n",
    "# h2o.get_model(mod_best)\n",
    "mod_best.params"
   ]
  },
  {
   "cell_type": "code",
   "execution_count": 77,
   "metadata": {},
   "outputs": [],
   "source": [
    "def dict_to_json(dct,n):\n",
    "  j = json.dumps(dct, indent=4)\n",
    "  f = open(n, 'w')\n",
    "  print(j, file=f)\n",
    "  f.close()"
   ]
  },
  {
   "cell_type": "code",
   "execution_count": 78,
   "metadata": {},
   "outputs": [],
   "source": [
    "hy_parameter = mod_best.params\n",
    "n='hyperparameter6_500.json'"
   ]
  },
  {
   "cell_type": "code",
   "execution_count": 79,
   "metadata": {},
   "outputs": [],
   "source": [
    "dict_to_json(hy_parameter,n)"
   ]
  },
  {
   "cell_type": "markdown",
   "metadata": {},
   "source": [
    "# H2O Model for 1000 Seconds"
   ]
  },
  {
   "cell_type": "code",
   "execution_count": 80,
   "metadata": {},
   "outputs": [],
   "source": [
    "data_path=None\n",
    "all_variables=None\n",
    "test_path=None\n",
    "# target='search_term'\n",
    "target=None\n",
    "nthreads=1 \n",
    "min_mem_size=6 \n",
    "run_time=1000\n",
    "classification=False\n",
    "scale=False\n",
    "max_models=9    \n",
    "model_path=None\n",
    "balance_y=False \n",
    "balance_threshold=0.2\n",
    "name=None \n",
    "server_path=None  \n",
    "analysis=0"
   ]
  },
  {
   "cell_type": "code",
   "execution_count": 81,
   "metadata": {},
   "outputs": [
    {
     "name": "stdout",
     "output_type": "stream",
     "text": [
      "3\n"
     ]
    }
   ],
   "source": [
    "pct_memory=0.5\n",
    "virtual_memory=psutil.virtual_memory()\n",
    "min_mem_size=int(round(int(pct_memory*virtual_memory.available)/1073741824,0))\n",
    "print(min_mem_size)"
   ]
  },
  {
   "cell_type": "code",
   "execution_count": 82,
   "metadata": {},
   "outputs": [],
   "source": [
    "# Functions\n",
    "\n",
    "def alphabet(n):\n",
    "  alpha='0123456789abcdefghijklmnopqrstuvwxyzABCDEFGHIJKLMNOPQRSTUVWXYZ'    \n",
    "  str=''\n",
    "  r=len(alpha)-1   \n",
    "  while len(str)<n:\n",
    "    i=random.randint(0,r)\n",
    "    str+=alpha[i]   \n",
    "  return str\n",
    "  \n",
    "  \n",
    "def set_meta_data(analysis,run_id,server,data,test,model_path,target,run_time,classification,scale,model,balance,balance_threshold,name,path,nthreads,min_mem_size):\n",
    "  m_data={}\n",
    "  m_data['start_time'] = time.time()\n",
    "  m_data['target']=target\n",
    "  m_data['server_path']=server\n",
    "  m_data['data_path']=data \n",
    "  m_data['test_path']=test\n",
    "  m_data['max_models']=model\n",
    "  m_data['run_time']=run_time\n",
    "  m_data['run_id'] =run_id\n",
    "  m_data['scale']=scale\n",
    "  m_data['classification']=classification\n",
    "  m_data['scale']=False\n",
    "  m_data['model_path']=model_path\n",
    "  m_data['balance']=balance\n",
    "  m_data['balance_threshold']=balance_threshold\n",
    "  m_data['project'] =name\n",
    "  m_data['end_time'] = time.time()\n",
    "  m_data['execution_time'] = 0.0\n",
    "  m_data['run_path'] =path\n",
    "  m_data['nthreads'] = nthreads\n",
    "  m_data['min_mem_size'] = min_mem_size\n",
    "  m_data['analysis'] = analysis\n",
    "  return m_data\n",
    "\n",
    "\n",
    "def dict_to_json(dct,n):\n",
    "  j = json.dumps(dct, indent=4)\n",
    "  f = open(n, 'w')\n",
    "  print(j, file=f)\n",
    "  f.close()\n",
    "  \n",
    "  \n",
    "def stackedensemble(mod):\n",
    "    coef_norm=None\n",
    "    try:\n",
    "      metalearner = h2o.get_model(mod.metalearner()['name'])\n",
    "      coef_norm=metalearner.coef_norm()\n",
    "    except:\n",
    "      pass        \n",
    "    return coef_norm\n",
    "\n",
    "def stackedensemble_df(df):\n",
    "    bm_algo={ 'GBM': None,'GLM': None,'DRF': None,'XRT': None,'Dee': None}\n",
    "    for index, row in df.iterrows():\n",
    "      if len(row['model_id'])>3:\n",
    "        key=row['model_id'][0:3]\n",
    "        if key in bm_algo:\n",
    "          if bm_algo[key] is None:\n",
    "                bm_algo[key]=row['model_id']\n",
    "    bm=list(bm_algo.values()) \n",
    "    bm=list(filter(None.__ne__, bm))             \n",
    "    return bm\n",
    "\n",
    "def se_stats(modl):\n",
    "    d={}\n",
    "    d['algo']=modl.algo\n",
    "    d['model_id']=modl.model_id   \n",
    "    d['auc']=modl.auc()   \n",
    "    d['roc']=modl.roc()\n",
    "    d['mse']=modl.mse()   \n",
    "    d['null_degrees_of_freedom']=modl.null_degrees_of_freedom()\n",
    "    d['null_deviance']=modl.null_deviance()\n",
    "    d['residual_degrees_of_freedom']=modl.residual_degrees_of_freedom()   \n",
    "    d['residual_deviance']=modl.residual_deviance()\n",
    "    d['rmse']=modl.rmse()\n",
    "    return d\n",
    "\n",
    "def get_model_by_algo(algo,models_dict):\n",
    "    mod=None\n",
    "    mod_id=None    \n",
    "    for m in list(models_dict.keys()):\n",
    "        if m[0:3]==algo:\n",
    "            mod_id=m\n",
    "            mod=h2o.get_model(m)      \n",
    "    return mod,mod_id     \n",
    "    \n",
    "    \n",
    "def gbm_stats(modl):\n",
    "    d={}\n",
    "    d['algo']=modl.algo\n",
    "    d['model_id']=modl.model_id   \n",
    "    d['varimp']=modl.varimp()  \n",
    "    return d\n",
    "    \n",
    "    \n",
    "def dl_stats(modl):\n",
    "    d={}\n",
    "    d['algo']=modl.algo\n",
    "    d['model_id']=modl.model_id   \n",
    "    d['varimp']=modl.varimp()  \n",
    "    return d\n",
    "    \n",
    "    \n",
    "def drf_stats(modl):\n",
    "    d={}\n",
    "    d['algo']=modl.algo\n",
    "    d['model_id']=modl.model_id   \n",
    "    d['varimp']=modl.varimp()  \n",
    "    d['roc']=modl.roc()      \n",
    "    return d\n",
    "    \n",
    "def xrt_stats(modl):\n",
    "    d={}\n",
    "    d['algo']=modl.algo\n",
    "    d['model_id']=modl.model_id   \n",
    "    d['varimp']=modl.varimp()  \n",
    "    d['roc']=modl.roc()      \n",
    "    return d\n",
    "    \n",
    "    \n",
    "def glm_stats(modl):\n",
    "    d={}\n",
    "    d['algo']=modl.algo\n",
    "    d['model_id']=modl.model_id   \n",
    "    d['coef']=modl.coef()  \n",
    "    d['coef_norm']=modl.coef_norm()      \n",
    "    return d\n",
    "    \n",
    "def model_performance_stats(perf):\n",
    "    d={}\n",
    "    try:    \n",
    "      d['mse']=perf.mse()\n",
    "    except:\n",
    "      pass      \n",
    "    try:    \n",
    "      d['rmse']=perf.rmse() \n",
    "    except:\n",
    "      pass      \n",
    "    try:    \n",
    "      d['null_degrees_of_freedom']=perf.null_degrees_of_freedom()\n",
    "    except:\n",
    "      pass      \n",
    "    try:    \n",
    "      d['residual_degrees_of_freedom']=perf.residual_degrees_of_freedom()\n",
    "    except:\n",
    "      pass      \n",
    "    try:    \n",
    "      d['residual_deviance']=perf.residual_deviance() \n",
    "    except:\n",
    "      pass      \n",
    "    try:    \n",
    "      d['null_deviance']=perf.null_deviance() \n",
    "    except:\n",
    "      pass      \n",
    "    try:    \n",
    "      d['aic']=perf.aic() \n",
    "    except:\n",
    "      pass      \n",
    "    try:\n",
    "      d['logloss']=perf.logloss() \n",
    "    except:\n",
    "      pass    \n",
    "    try:\n",
    "      d['auc']=perf.auc()\n",
    "    except:\n",
    "      pass  \n",
    "    try:\n",
    "      d['gini']=perf.gini()\n",
    "    except:\n",
    "      pass    \n",
    "    return d\n",
    "    \n",
    "def impute_missing_values(df, x, scal=False):\n",
    "    # determine column types\n",
    "    ints, reals, enums = [], [], []\n",
    "    for key, val in df.types.items():\n",
    "        if key in x:\n",
    "            if val == 'enum':\n",
    "                enums.append(key)\n",
    "            elif val == 'int':\n",
    "                ints.append(key)            \n",
    "            else: \n",
    "                reals.append(key)    \n",
    "    _ = df[reals].impute(method='mean')\n",
    "    _ = df[ints].impute(method='median')\n",
    "    if scal:\n",
    "        df[reals] = df[reals].scale()\n",
    "        df[ints] = df[ints].scale()    \n",
    "    return\n",
    "\n",
    "\n",
    "def get_independent_variables(df, targ):\n",
    "    C = [name for name in df.columns if name != targ]\n",
    "    # determine column types\n",
    "    ints, reals, enums = [], [], []\n",
    "    for key, val in df.types.items():\n",
    "        if key in C:\n",
    "            if val == 'enum':\n",
    "                enums.append(key)\n",
    "            elif val == 'int':\n",
    "                ints.append(key)            \n",
    "            else: \n",
    "                reals.append(key)    \n",
    "    x=ints+enums+reals\n",
    "    return x\n",
    "    \n",
    "def get_all_variables_csv(i):\n",
    "    ivd={}\n",
    "    try:\n",
    "      iv = pd.read_csv(i,header=None)\n",
    "    except:\n",
    "      sys.exit(1)    \n",
    "    col=iv.values.tolist()[0]\n",
    "    dt=iv.values.tolist()[1]\n",
    "    i=0\n",
    "    for c in col:\n",
    "      ivd[c.strip()]=dt[i].strip()\n",
    "      i+=1        \n",
    "    return ivd\n",
    "    \n",
    "    \n",
    "\n",
    "def check_all_variables(df,dct,y=None):     \n",
    "    targ=list(dct.keys())     \n",
    "    for key, val in df.types.items():\n",
    "        if key in targ:\n",
    "          if dct[key] not in ['real','int','enum']:                      \n",
    "            targ.remove(key)  \n",
    "    for key, val in df.types.items():\n",
    "        if key in targ:            \n",
    "          if dct[key] != val:\n",
    "            print('convert ',key,' ',dct[key],' ',val)\n",
    "            if dct[key]=='enum':\n",
    "                try:\n",
    "                  df[key] = df[key].asfactor() \n",
    "                except:\n",
    "                  targ.remove(key)                 \n",
    "            if dct[key]=='int': \n",
    "                try:                \n",
    "                  df[key] = df[key].asnumeric() \n",
    "                except:\n",
    "                  targ.remove(key)                  \n",
    "            if dct[key]=='real':\n",
    "                try:                \n",
    "                  df[key] = df[key].asnumeric()  \n",
    "                except:\n",
    "                  targ.remove(key)                  \n",
    "    if y is None:\n",
    "      y=df.columns[-1] \n",
    "    if y in targ:\n",
    "      targ.remove(y)\n",
    "    else:\n",
    "      y=targ.pop()            \n",
    "    return targ    \n",
    "    \n",
    "def predictions(mod,data,run_id):\n",
    "    test = h2o.import_file(data)\n",
    "    mod_perf=mod_best.model_performance(test)\n",
    "              \n",
    "    stats_test={}\n",
    "    stats_test=model_performance_stats(mod_perf)\n",
    "\n",
    "    n=run_id+'_test_stats.json'\n",
    "    dict_to_json(stats_test,n) \n",
    "\n",
    "    try:    \n",
    "      cf=mod_perf.confusion_matrix(metrics=[\"f1\",\"f2\",\"f0point5\",\"accuracy\",\"precision\",\"recall\",\"specificity\",\"absolute_mcc\",\"min_per_class_accuracy\",\"mean_per_class_accuracy\"])\n",
    "      cf_df=cf[0].table.as_data_frame()\n",
    "      cf_df.to_csv(run_id+'_test_confusion_matrix.csv')\n",
    "    except:\n",
    "      pass\n",
    "\n",
    "    predictions = mod_best.predict(test)\n",
    "    predictions_df=test.cbind(predictions).as_data_frame() \n",
    "    predictions_df.to_csv(run_id+'_predictions.csv')\n",
    "    return\n",
    "\n",
    "def predictions_test(mod,test,run_id):\n",
    "    mod_perf=mod_best.model_performance(test)          \n",
    "    stats_test={}\n",
    "    stats_test=model_performance_stats(mod_perf)\n",
    "    n=run_id+'_test_stats.json'\n",
    "    dict_to_json(stats_test,n) \n",
    "    try:\n",
    "      cf=mod_perf.confusion_matrix()\n",
    "#      cf=mod_perf.confusion_matrix(metrics=[\"f1\",\"f2\",\"f0point5\",\"accuracy\",\"precision\",\"recall\",\"specificity\",\"absolute_mcc\",\"min_per_class_accuracy\",\"mean_per_class_accuracy\"])\n",
    "      cf_df=cf.table.as_data_frame()\n",
    "      cf_df.to_csv(run_id+'_test_confusion_matrix.csv')\n",
    "    except:\n",
    "      pass\n",
    "    predictions = mod_best.predict(test)    \n",
    "    predictions_df=test.cbind(predictions).as_data_frame() \n",
    "    predictions_df.to_csv(run_id+'_predictions.csv')\n",
    "    return predictions\n",
    "\n",
    "def check_X(x,df):\n",
    "    for name in x:\n",
    "        if name not in df.columns:\n",
    "          x.remove(name)  \n",
    "    return x    \n",
    "    \n",
    "    \n",
    "def get_stacked_ensemble(lst):\n",
    "    se=None\n",
    "    for model in model_set:\n",
    "      if 'BestOfFamily' in model:\n",
    "        se=model\n",
    "    if se is None:     \n",
    "      for model in model_set:\n",
    "        if 'AllModels'in model:\n",
    "          se=model           \n",
    "    return se       \n",
    "    \n",
    "def get_variables_types(df):\n",
    "    d={}\n",
    "    for key, val in df.types.items():\n",
    "        d[key]=val           \n",
    "    return d    \n",
    "    \n",
    "#  End Functions"
   ]
  },
  {
   "cell_type": "code",
   "execution_count": 83,
   "metadata": {},
   "outputs": [
    {
     "name": "stdout",
     "output_type": "stream",
     "text": [
      "Hc4K9U9pf\n"
     ]
    }
   ],
   "source": [
    "run_id=alphabet(9)\n",
    "if server_path==None:\n",
    "  server_path=os.path.abspath(os.curdir)\n",
    "os.chdir(server_path) \n",
    "run_dir = os.path.join(server_path,run_id)\n",
    "os.mkdir(run_dir)\n",
    "os.chdir(run_dir)    \n",
    "\n",
    "# run_id to std out\n",
    "print (run_id)"
   ]
  },
  {
   "cell_type": "code",
   "execution_count": 84,
   "metadata": {},
   "outputs": [
    {
     "name": "stdout",
     "output_type": "stream",
     "text": [
      "Checking whether there is an H2O instance running at http://localhost:28768 ..... not found.\n",
      "Attempting to start a local H2O server...\n",
      "; Java HotSpot(TM) 64-Bit Server VM (build 25.191-b12, mixed mode)\n",
      "  Starting server from C:\\Users\\vrush\\.jupyter\\AnacondaNew\\lib\\site-packages\\h2o\\backend\\bin\\h2o.jar\n",
      "  Ice root: C:\\Users\\vrush\\AppData\\Local\\Temp\\tmp177qgbi5\n",
      "  JVM stdout: C:\\Users\\vrush\\AppData\\Local\\Temp\\tmp177qgbi5\\h2o_vrush_started_from_python.out\n",
      "  JVM stderr: C:\\Users\\vrush\\AppData\\Local\\Temp\\tmp177qgbi5\\h2o_vrush_started_from_python.err\n",
      "  Server is running at http://127.0.0.1:28768\n",
      "Connecting to H2O server at http://127.0.0.1:28768 ... successful.\n"
     ]
    },
    {
     "data": {
      "text/html": [
       "<div style=\"overflow:auto\"><table style=\"width:50%\"><tr><td>H2O cluster uptime:</td>\n",
       "<td>02 secs</td></tr>\n",
       "<tr><td>H2O cluster timezone:</td>\n",
       "<td>America/New_York</td></tr>\n",
       "<tr><td>H2O data parsing timezone:</td>\n",
       "<td>UTC</td></tr>\n",
       "<tr><td>H2O cluster version:</td>\n",
       "<td>3.24.0.1</td></tr>\n",
       "<tr><td>H2O cluster version age:</td>\n",
       "<td>15 days </td></tr>\n",
       "<tr><td>H2O cluster name:</td>\n",
       "<td>H2O_from_python_vrush_3u4tf3</td></tr>\n",
       "<tr><td>H2O cluster total nodes:</td>\n",
       "<td>1</td></tr>\n",
       "<tr><td>H2O cluster free memory:</td>\n",
       "<td>3.521 Gb</td></tr>\n",
       "<tr><td>H2O cluster total cores:</td>\n",
       "<td>8</td></tr>\n",
       "<tr><td>H2O cluster allowed cores:</td>\n",
       "<td>8</td></tr>\n",
       "<tr><td>H2O cluster status:</td>\n",
       "<td>accepting new members, healthy</td></tr>\n",
       "<tr><td>H2O connection url:</td>\n",
       "<td>http://127.0.0.1:28768</td></tr>\n",
       "<tr><td>H2O connection proxy:</td>\n",
       "<td>None</td></tr>\n",
       "<tr><td>H2O internal security:</td>\n",
       "<td>False</td></tr>\n",
       "<tr><td>H2O API Extensions:</td>\n",
       "<td>Amazon S3, Algos, AutoML, Core V3, Core V4</td></tr>\n",
       "<tr><td>Python version:</td>\n",
       "<td>3.7.1 final</td></tr></table></div>"
      ],
      "text/plain": [
       "--------------------------  ------------------------------------------\n",
       "H2O cluster uptime:         02 secs\n",
       "H2O cluster timezone:       America/New_York\n",
       "H2O data parsing timezone:  UTC\n",
       "H2O cluster version:        3.24.0.1\n",
       "H2O cluster version age:    15 days\n",
       "H2O cluster name:           H2O_from_python_vrush_3u4tf3\n",
       "H2O cluster total nodes:    1\n",
       "H2O cluster free memory:    3.521 Gb\n",
       "H2O cluster total cores:    8\n",
       "H2O cluster allowed cores:  8\n",
       "H2O cluster status:         accepting new members, healthy\n",
       "H2O connection url:         http://127.0.0.1:28768\n",
       "H2O connection proxy:\n",
       "H2O internal security:      False\n",
       "H2O API Extensions:         Amazon S3, Algos, AutoML, Core V3, Core V4\n",
       "Python version:             3.7.1 final\n",
       "--------------------------  ------------------------------------------"
      ]
     },
     "metadata": {},
     "output_type": "display_data"
    }
   ],
   "source": [
    "# 65535 Highest port no\n",
    "port_no=random.randint(5555,55555)\n",
    "h2o.init(strict_version_check=False,min_mem_size_GB=min_mem_size,port=port_no)"
   ]
  },
  {
   "cell_type": "code",
   "execution_count": 85,
   "metadata": {},
   "outputs": [
    {
     "name": "stdout",
     "output_type": "stream",
     "text": [
      "{'start_time': 1555444098.7387574, 'target': None, 'server_path': 'C:\\\\Users\\\\vrush\\\\Desktop\\\\python\\\\FinalProject\\\\black-friday\\\\9aTclywXj', 'data_path': None, 'test_path': None, 'max_models': 9, 'run_time': 1000, 'run_id': 'Hc4K9U9pf', 'scale': False, 'classification': False, 'model_path': None, 'balance': False, 'balance_threshold': 0.2, 'project': None, 'end_time': 1555444098.7387574, 'execution_time': 0.0, 'run_path': 'C:\\\\Users\\\\vrush\\\\Desktop\\\\python\\\\FinalProject\\\\black-friday\\\\9aTclywXj\\\\Hc4K9U9pf', 'nthreads': 1, 'min_mem_size': 3, 'analysis': 0}\n"
     ]
    }
   ],
   "source": [
    "\n",
    "# meta data\n",
    "meta_data = set_meta_data(analysis, run_id,server_path,data_path,test_path,model_path,target,run_time,classification,scale,max_models,balance_y,balance_threshold,name,run_dir,nthreads,min_mem_size)\n",
    "print(meta_data)"
   ]
  },
  {
   "cell_type": "code",
   "execution_count": 86,
   "metadata": {},
   "outputs": [],
   "source": [
    "df.to_csv('train1.csv')"
   ]
  },
  {
   "cell_type": "code",
   "execution_count": 87,
   "metadata": {},
   "outputs": [],
   "source": [
    "data_path='train1.csv'\n"
   ]
  },
  {
   "cell_type": "code",
   "execution_count": 88,
   "metadata": {},
   "outputs": [
    {
     "name": "stdout",
     "output_type": "stream",
     "text": [
      "Parse progress: |█████████████████████████████████████████████████████████| 100%\n"
     ]
    }
   ],
   "source": [
    "# Load data into H2O\n",
    "train_data = h2o.import_file(data_path)"
   ]
  },
  {
   "cell_type": "code",
   "execution_count": 89,
   "metadata": {},
   "outputs": [],
   "source": [
    "target = 'Purchase'"
   ]
  },
  {
   "cell_type": "code",
   "execution_count": 90,
   "metadata": {},
   "outputs": [
    {
     "name": "stdout",
     "output_type": "stream",
     "text": [
      "Purchase\n",
      "['User_ID', 'Product_ID', 'Gender', 'Age', 'Occupation', 'City_Category', 'Stay_In_Current_City_Years', 'Marital_Status', 'Product_Category_1', 'Product_Category_2', 'Product_Category_3', 'combined_G_M']\n"
     ]
    }
   ],
   "source": [
    "# assign target and inputs for logistic regression\n",
    "y = target\n",
    "X = [name for name in df.columns if name != y]\n",
    "print(y)\n",
    "print(X)"
   ]
  },
  {
   "cell_type": "code",
   "execution_count": 91,
   "metadata": {},
   "outputs": [],
   "source": [
    "# setup autoML\n",
    "run_time=1000\n",
    "aml = H2OAutoML(max_runtime_secs=run_time)"
   ]
  },
  {
   "cell_type": "code",
   "execution_count": 92,
   "metadata": {},
   "outputs": [],
   "source": [
    "logs_path = os.getcwd()\n",
    "logfile = 'logs.txt'"
   ]
  },
  {
   "cell_type": "code",
   "execution_count": 93,
   "metadata": {},
   "outputs": [
    {
     "name": "stdout",
     "output_type": "stream",
     "text": [
      "AutoML progress: |████████████████████████████████████████████████████████| 100%\n"
     ]
    }
   ],
   "source": [
    "model_start_time = time.time()\n",
    "aml.train(x=X,y=y,training_frame=train_data)  # Change training_frame=train"
   ]
  },
  {
   "cell_type": "code",
   "execution_count": 94,
   "metadata": {},
   "outputs": [
    {
     "data": {
      "text/html": [
       "<table>\n",
       "<thead>\n",
       "<tr><th>model_id                                           </th><th style=\"text-align: right;\">  mean_residual_deviance</th><th style=\"text-align: right;\">   rmse</th><th style=\"text-align: right;\">        mse</th><th style=\"text-align: right;\">    mae</th><th style=\"text-align: right;\">     rmsle</th></tr>\n",
       "</thead>\n",
       "<tbody>\n",
       "<tr><td>GBM_5_AutoML_20190416_154932                       </td><td style=\"text-align: right;\">             6.62925e+06</td><td style=\"text-align: right;\">2574.73</td><td style=\"text-align: right;\">6.62925e+06</td><td style=\"text-align: right;\">1907.43</td><td style=\"text-align: right;\">nan       </td></tr>\n",
       "<tr><td>GBM_4_AutoML_20190416_154932                       </td><td style=\"text-align: right;\">             6.66137e+06</td><td style=\"text-align: right;\">2580.96</td><td style=\"text-align: right;\">6.66137e+06</td><td style=\"text-align: right;\">1920.02</td><td style=\"text-align: right;\">nan       </td></tr>\n",
       "<tr><td>GBM_3_AutoML_20190416_154932                       </td><td style=\"text-align: right;\">             6.77356e+06</td><td style=\"text-align: right;\">2602.61</td><td style=\"text-align: right;\">6.77356e+06</td><td style=\"text-align: right;\">1941.15</td><td style=\"text-align: right;\">nan       </td></tr>\n",
       "<tr><td>GBM_2_AutoML_20190416_154932                       </td><td style=\"text-align: right;\">             6.86883e+06</td><td style=\"text-align: right;\">2620.85</td><td style=\"text-align: right;\">6.86883e+06</td><td style=\"text-align: right;\">1955.92</td><td style=\"text-align: right;\">nan       </td></tr>\n",
       "<tr><td>GBM_1_AutoML_20190416_154932                       </td><td style=\"text-align: right;\">             6.94847e+06</td><td style=\"text-align: right;\">2636   </td><td style=\"text-align: right;\">6.94847e+06</td><td style=\"text-align: right;\">1968.13</td><td style=\"text-align: right;\">nan       </td></tr>\n",
       "<tr><td>DRF_1_AutoML_20190416_154932                       </td><td style=\"text-align: right;\">             8.24042e+06</td><td style=\"text-align: right;\">2870.61</td><td style=\"text-align: right;\">8.24042e+06</td><td style=\"text-align: right;\">2163.46</td><td style=\"text-align: right;\">  0.405858</td></tr>\n",
       "<tr><td>StackedEnsemble_AllModels_AutoML_20190416_154932   </td><td style=\"text-align: right;\">             1.08029e+07</td><td style=\"text-align: right;\">3286.78</td><td style=\"text-align: right;\">1.08029e+07</td><td style=\"text-align: right;\">2567.39</td><td style=\"text-align: right;\">  0.487381</td></tr>\n",
       "<tr><td>StackedEnsemble_BestOfFamily_AutoML_20190416_154932</td><td style=\"text-align: right;\">             1.6485e+07 </td><td style=\"text-align: right;\">4060.17</td><td style=\"text-align: right;\">1.6485e+07 </td><td style=\"text-align: right;\">3236.93</td><td style=\"text-align: right;\">  0.575928</td></tr>\n",
       "<tr><td>GLM_grid_1_AutoML_20190416_154932_model_1          </td><td style=\"text-align: right;\">             2.48106e+07</td><td style=\"text-align: right;\">4981.02</td><td style=\"text-align: right;\">2.48106e+07</td><td style=\"text-align: right;\">4047.52</td><td style=\"text-align: right;\">  0.666417</td></tr>\n",
       "</tbody>\n",
       "</table>"
      ]
     },
     "metadata": {},
     "output_type": "display_data"
    },
    {
     "data": {
      "text/plain": []
     },
     "execution_count": 94,
     "metadata": {},
     "output_type": "execute_result"
    }
   ],
   "source": [
    "# view leaderboard\n",
    "lb = aml.leaderboard\n",
    "lb.head(100)"
   ]
  },
  {
   "cell_type": "code",
   "execution_count": 95,
   "metadata": {},
   "outputs": [],
   "source": [
    "\n",
    "# get leaderboard\n",
    "aml_leaderboard_df=aml.leaderboard.as_data_frame()"
   ]
  },
  {
   "cell_type": "code",
   "execution_count": 97,
   "metadata": {},
   "outputs": [],
   "source": [
    "\n",
    "# STart best model as first model\n",
    "\n",
    "model_set=aml_leaderboard_df['model_id']\n",
    "mod_best=h2o.get_model(model_set[0])"
   ]
  },
  {
   "cell_type": "code",
   "execution_count": 98,
   "metadata": {},
   "outputs": [
    {
     "data": {
      "text/plain": [
       "'GBM_5_AutoML_20190416_154932'"
      ]
     },
     "execution_count": 98,
     "metadata": {},
     "output_type": "execute_result"
    }
   ],
   "source": [
    "mod_best._id"
   ]
  },
  {
   "cell_type": "markdown",
   "metadata": {},
   "source": [
    "# Hyperparameters are amongst following"
   ]
  },
  {
   "cell_type": "code",
   "execution_count": 99,
   "metadata": {},
   "outputs": [
    {
     "data": {
      "text/plain": [
       "{'model_id': {'default': None,\n",
       "  'actual': {'__meta': {'schema_version': 3,\n",
       "    'schema_name': 'ModelKeyV3',\n",
       "    'schema_type': 'Key<Model>'},\n",
       "   'name': 'GBM_5_AutoML_20190416_154932',\n",
       "   'type': 'Key<Model>',\n",
       "   'URL': '/3/Models/GBM_5_AutoML_20190416_154932'}},\n",
       " 'training_frame': {'default': None,\n",
       "  'actual': {'__meta': {'schema_version': 3,\n",
       "    'schema_name': 'FrameKeyV3',\n",
       "    'schema_type': 'Key<Frame>'},\n",
       "   'name': 'automl_training_train1.hex',\n",
       "   'type': 'Key<Frame>',\n",
       "   'URL': '/3/Frames/automl_training_train1.hex'}},\n",
       " 'validation_frame': {'default': None, 'actual': None},\n",
       " 'nfolds': {'default': 0, 'actual': 5},\n",
       " 'keep_cross_validation_models': {'default': True, 'actual': False},\n",
       " 'keep_cross_validation_predictions': {'default': False, 'actual': True},\n",
       " 'keep_cross_validation_fold_assignment': {'default': False, 'actual': False},\n",
       " 'score_each_iteration': {'default': False, 'actual': False},\n",
       " 'score_tree_interval': {'default': 0, 'actual': 5},\n",
       " 'fold_assignment': {'default': 'AUTO', 'actual': 'Modulo'},\n",
       " 'fold_column': {'default': None, 'actual': None},\n",
       " 'response_column': {'default': None,\n",
       "  'actual': {'__meta': {'schema_version': 3,\n",
       "    'schema_name': 'ColSpecifierV3',\n",
       "    'schema_type': 'VecSpecifier'},\n",
       "   'column_name': 'Purchase',\n",
       "   'is_member_of_frames': None}},\n",
       " 'ignored_columns': {'default': None, 'actual': ['C1']},\n",
       " 'ignore_const_cols': {'default': True, 'actual': True},\n",
       " 'offset_column': {'default': None, 'actual': None},\n",
       " 'weights_column': {'default': None, 'actual': None},\n",
       " 'balance_classes': {'default': False, 'actual': False},\n",
       " 'class_sampling_factors': {'default': None, 'actual': None},\n",
       " 'max_after_balance_size': {'default': 5.0, 'actual': 5.0},\n",
       " 'max_confusion_matrix_size': {'default': 20, 'actual': 20},\n",
       " 'max_hit_ratio_k': {'default': 0, 'actual': 0},\n",
       " 'ntrees': {'default': 50, 'actual': 65},\n",
       " 'max_depth': {'default': 5, 'actual': 15},\n",
       " 'min_rows': {'default': 10.0, 'actual': 100.0},\n",
       " 'nbins': {'default': 20, 'actual': 20},\n",
       " 'nbins_top_level': {'default': 1024, 'actual': 1024},\n",
       " 'nbins_cats': {'default': 1024, 'actual': 1024},\n",
       " 'r2_stopping': {'default': 1.7976931348623157e+308,\n",
       "  'actual': 1.7976931348623157e+308},\n",
       " 'stopping_rounds': {'default': 0, 'actual': 0},\n",
       " 'stopping_metric': {'default': 'AUTO', 'actual': 'deviance'},\n",
       " 'stopping_tolerance': {'default': 0.001, 'actual': 0.001363890989782514},\n",
       " 'max_runtime_secs': {'default': 0.0, 'actual': 0.0},\n",
       " 'seed': {'default': -1, 'actual': 2158604012916423509},\n",
       " 'build_tree_one_node': {'default': False, 'actual': False},\n",
       " 'learn_rate': {'default': 0.1, 'actual': 0.1},\n",
       " 'learn_rate_annealing': {'default': 1.0, 'actual': 1.0},\n",
       " 'distribution': {'default': 'AUTO', 'actual': 'gaussian'},\n",
       " 'quantile_alpha': {'default': 0.5, 'actual': 0.5},\n",
       " 'tweedie_power': {'default': 1.5, 'actual': 1.5},\n",
       " 'huber_alpha': {'default': 0.9, 'actual': 0.9},\n",
       " 'checkpoint': {'default': None, 'actual': None},\n",
       " 'sample_rate': {'default': 1.0, 'actual': 0.8},\n",
       " 'sample_rate_per_class': {'default': None, 'actual': None},\n",
       " 'col_sample_rate': {'default': 1.0, 'actual': 0.8},\n",
       " 'col_sample_rate_change_per_level': {'default': 1.0, 'actual': 1.0},\n",
       " 'col_sample_rate_per_tree': {'default': 1.0, 'actual': 0.8},\n",
       " 'min_split_improvement': {'default': 1e-05, 'actual': 1e-05},\n",
       " 'histogram_type': {'default': 'AUTO', 'actual': 'AUTO'},\n",
       " 'max_abs_leafnode_pred': {'default': 1.7976931348623157e+308,\n",
       "  'actual': 1.7976931348623157e+308},\n",
       " 'pred_noise_bandwidth': {'default': 0.0, 'actual': 0.0},\n",
       " 'categorical_encoding': {'default': 'AUTO', 'actual': 'AUTO'},\n",
       " 'calibrate_model': {'default': False, 'actual': False},\n",
       " 'calibration_frame': {'default': None, 'actual': None},\n",
       " 'custom_metric_func': {'default': None, 'actual': None},\n",
       " 'export_checkpoints_dir': {'default': None, 'actual': None},\n",
       " 'monotone_constraints': {'default': None, 'actual': None},\n",
       " 'check_constant_response': {'default': True, 'actual': True}}"
      ]
     },
     "execution_count": 99,
     "metadata": {},
     "output_type": "execute_result"
    }
   ],
   "source": [
    "# h2o.get_model(mod_best)\n",
    "mod_best.params"
   ]
  },
  {
   "cell_type": "code",
   "execution_count": 100,
   "metadata": {},
   "outputs": [],
   "source": [
    "def dict_to_json(dct,n):\n",
    "  j = json.dumps(dct, indent=4)\n",
    "  f = open(n, 'w')\n",
    "  print(j, file=f)\n",
    "  f.close()"
   ]
  },
  {
   "cell_type": "code",
   "execution_count": 101,
   "metadata": {},
   "outputs": [],
   "source": [
    "hy_parameter = mod_best.params\n",
    "n='hyperparameter1_1000.json'"
   ]
  },
  {
   "cell_type": "code",
   "execution_count": 102,
   "metadata": {},
   "outputs": [],
   "source": [
    "dict_to_json(hy_parameter,n)"
   ]
  },
  {
   "cell_type": "markdown",
   "metadata": {},
   "source": [
    "# H2O Model 2 for 1000 Seconds"
   ]
  },
  {
   "cell_type": "code",
   "execution_count": 103,
   "metadata": {},
   "outputs": [],
   "source": [
    "\n",
    "# STart best model as first model\n",
    "\n",
    "model_set=aml_leaderboard_df['model_id']\n",
    "mod_best=h2o.get_model(model_set[1])"
   ]
  },
  {
   "cell_type": "code",
   "execution_count": 104,
   "metadata": {},
   "outputs": [
    {
     "data": {
      "text/plain": [
       "'GBM_4_AutoML_20190416_154932'"
      ]
     },
     "execution_count": 104,
     "metadata": {},
     "output_type": "execute_result"
    }
   ],
   "source": [
    "mod_best._id"
   ]
  },
  {
   "cell_type": "code",
   "execution_count": 105,
   "metadata": {},
   "outputs": [
    {
     "data": {
      "text/plain": [
       "{'model_id': {'default': None,\n",
       "  'actual': {'__meta': {'schema_version': 3,\n",
       "    'schema_name': 'ModelKeyV3',\n",
       "    'schema_type': 'Key<Model>'},\n",
       "   'name': 'GBM_4_AutoML_20190416_154932',\n",
       "   'type': 'Key<Model>',\n",
       "   'URL': '/3/Models/GBM_4_AutoML_20190416_154932'}},\n",
       " 'training_frame': {'default': None,\n",
       "  'actual': {'__meta': {'schema_version': 3,\n",
       "    'schema_name': 'FrameKeyV3',\n",
       "    'schema_type': 'Key<Frame>'},\n",
       "   'name': 'automl_training_train1.hex',\n",
       "   'type': 'Key<Frame>',\n",
       "   'URL': '/3/Frames/automl_training_train1.hex'}},\n",
       " 'validation_frame': {'default': None, 'actual': None},\n",
       " 'nfolds': {'default': 0, 'actual': 5},\n",
       " 'keep_cross_validation_models': {'default': True, 'actual': False},\n",
       " 'keep_cross_validation_predictions': {'default': False, 'actual': True},\n",
       " 'keep_cross_validation_fold_assignment': {'default': False, 'actual': False},\n",
       " 'score_each_iteration': {'default': False, 'actual': False},\n",
       " 'score_tree_interval': {'default': 0, 'actual': 5},\n",
       " 'fold_assignment': {'default': 'AUTO', 'actual': 'Modulo'},\n",
       " 'fold_column': {'default': None, 'actual': None},\n",
       " 'response_column': {'default': None,\n",
       "  'actual': {'__meta': {'schema_version': 3,\n",
       "    'schema_name': 'ColSpecifierV3',\n",
       "    'schema_type': 'VecSpecifier'},\n",
       "   'column_name': 'Purchase',\n",
       "   'is_member_of_frames': None}},\n",
       " 'ignored_columns': {'default': None, 'actual': ['C1']},\n",
       " 'ignore_const_cols': {'default': True, 'actual': True},\n",
       " 'offset_column': {'default': None, 'actual': None},\n",
       " 'weights_column': {'default': None, 'actual': None},\n",
       " 'balance_classes': {'default': False, 'actual': False},\n",
       " 'class_sampling_factors': {'default': None, 'actual': None},\n",
       " 'max_after_balance_size': {'default': 5.0, 'actual': 5.0},\n",
       " 'max_confusion_matrix_size': {'default': 20, 'actual': 20},\n",
       " 'max_hit_ratio_k': {'default': 0, 'actual': 0},\n",
       " 'ntrees': {'default': 50, 'actual': 65},\n",
       " 'max_depth': {'default': 5, 'actual': 15},\n",
       " 'min_rows': {'default': 10.0, 'actual': 100.0},\n",
       " 'nbins': {'default': 20, 'actual': 20},\n",
       " 'nbins_top_level': {'default': 1024, 'actual': 1024},\n",
       " 'nbins_cats': {'default': 1024, 'actual': 1024},\n",
       " 'r2_stopping': {'default': 1.7976931348623157e+308,\n",
       "  'actual': 1.7976931348623157e+308},\n",
       " 'stopping_rounds': {'default': 0, 'actual': 0},\n",
       " 'stopping_metric': {'default': 'AUTO', 'actual': 'deviance'},\n",
       " 'stopping_tolerance': {'default': 0.001, 'actual': 0.001363890989782514},\n",
       " 'max_runtime_secs': {'default': 0.0, 'actual': 0.0},\n",
       " 'seed': {'default': -1, 'actual': 2158604012916423509},\n",
       " 'build_tree_one_node': {'default': False, 'actual': False},\n",
       " 'learn_rate': {'default': 0.1, 'actual': 0.1},\n",
       " 'learn_rate_annealing': {'default': 1.0, 'actual': 1.0},\n",
       " 'distribution': {'default': 'AUTO', 'actual': 'gaussian'},\n",
       " 'quantile_alpha': {'default': 0.5, 'actual': 0.5},\n",
       " 'tweedie_power': {'default': 1.5, 'actual': 1.5},\n",
       " 'huber_alpha': {'default': 0.9, 'actual': 0.9},\n",
       " 'checkpoint': {'default': None, 'actual': None},\n",
       " 'sample_rate': {'default': 1.0, 'actual': 0.8},\n",
       " 'sample_rate_per_class': {'default': None, 'actual': None},\n",
       " 'col_sample_rate': {'default': 1.0, 'actual': 0.8},\n",
       " 'col_sample_rate_change_per_level': {'default': 1.0, 'actual': 1.0},\n",
       " 'col_sample_rate_per_tree': {'default': 1.0, 'actual': 0.8},\n",
       " 'min_split_improvement': {'default': 1e-05, 'actual': 1e-05},\n",
       " 'histogram_type': {'default': 'AUTO', 'actual': 'AUTO'},\n",
       " 'max_abs_leafnode_pred': {'default': 1.7976931348623157e+308,\n",
       "  'actual': 1.7976931348623157e+308},\n",
       " 'pred_noise_bandwidth': {'default': 0.0, 'actual': 0.0},\n",
       " 'categorical_encoding': {'default': 'AUTO', 'actual': 'AUTO'},\n",
       " 'calibrate_model': {'default': False, 'actual': False},\n",
       " 'calibration_frame': {'default': None, 'actual': None},\n",
       " 'custom_metric_func': {'default': None, 'actual': None},\n",
       " 'export_checkpoints_dir': {'default': None, 'actual': None},\n",
       " 'monotone_constraints': {'default': None, 'actual': None},\n",
       " 'check_constant_response': {'default': True, 'actual': True}}"
      ]
     },
     "execution_count": 105,
     "metadata": {},
     "output_type": "execute_result"
    }
   ],
   "source": [
    "# h2o.get_model(mod_best)\n",
    "mod_best.params"
   ]
  },
  {
   "cell_type": "code",
   "execution_count": 106,
   "metadata": {},
   "outputs": [],
   "source": [
    "def dict_to_json(dct,n):\n",
    "  j = json.dumps(dct, indent=4)\n",
    "  f = open(n, 'w')\n",
    "  print(j, file=f)\n",
    "  f.close()"
   ]
  },
  {
   "cell_type": "code",
   "execution_count": 107,
   "metadata": {},
   "outputs": [],
   "source": [
    "hy_parameter = mod_best.params\n",
    "n='hyperparameter2_1000.json'"
   ]
  },
  {
   "cell_type": "code",
   "execution_count": 108,
   "metadata": {},
   "outputs": [],
   "source": [
    "dict_to_json(hy_parameter,n)"
   ]
  },
  {
   "cell_type": "markdown",
   "metadata": {},
   "source": [
    "# H2O Model 3 for 1000 seconds"
   ]
  },
  {
   "cell_type": "code",
   "execution_count": 109,
   "metadata": {},
   "outputs": [],
   "source": [
    "\n",
    "# STart best model as first model\n",
    "\n",
    "model_set=aml_leaderboard_df['model_id']\n",
    "mod_best=h2o.get_model(model_set[2])"
   ]
  },
  {
   "cell_type": "code",
   "execution_count": 110,
   "metadata": {},
   "outputs": [
    {
     "data": {
      "text/plain": [
       "'GBM_3_AutoML_20190416_154932'"
      ]
     },
     "execution_count": 110,
     "metadata": {},
     "output_type": "execute_result"
    }
   ],
   "source": [
    "mod_best._id"
   ]
  },
  {
   "cell_type": "code",
   "execution_count": 111,
   "metadata": {},
   "outputs": [
    {
     "data": {
      "text/plain": [
       "{'model_id': {'default': None,\n",
       "  'actual': {'__meta': {'schema_version': 3,\n",
       "    'schema_name': 'ModelKeyV3',\n",
       "    'schema_type': 'Key<Model>'},\n",
       "   'name': 'GBM_3_AutoML_20190416_154932',\n",
       "   'type': 'Key<Model>',\n",
       "   'URL': '/3/Models/GBM_3_AutoML_20190416_154932'}},\n",
       " 'training_frame': {'default': None,\n",
       "  'actual': {'__meta': {'schema_version': 3,\n",
       "    'schema_name': 'FrameKeyV3',\n",
       "    'schema_type': 'Key<Frame>'},\n",
       "   'name': 'automl_training_train1.hex',\n",
       "   'type': 'Key<Frame>',\n",
       "   'URL': '/3/Frames/automl_training_train1.hex'}},\n",
       " 'validation_frame': {'default': None, 'actual': None},\n",
       " 'nfolds': {'default': 0, 'actual': 5},\n",
       " 'keep_cross_validation_models': {'default': True, 'actual': False},\n",
       " 'keep_cross_validation_predictions': {'default': False, 'actual': True},\n",
       " 'keep_cross_validation_fold_assignment': {'default': False, 'actual': False},\n",
       " 'score_each_iteration': {'default': False, 'actual': False},\n",
       " 'score_tree_interval': {'default': 0, 'actual': 5},\n",
       " 'fold_assignment': {'default': 'AUTO', 'actual': 'Modulo'},\n",
       " 'fold_column': {'default': None, 'actual': None},\n",
       " 'response_column': {'default': None,\n",
       "  'actual': {'__meta': {'schema_version': 3,\n",
       "    'schema_name': 'ColSpecifierV3',\n",
       "    'schema_type': 'VecSpecifier'},\n",
       "   'column_name': 'Purchase',\n",
       "   'is_member_of_frames': None}},\n",
       " 'ignored_columns': {'default': None, 'actual': ['C1']},\n",
       " 'ignore_const_cols': {'default': True, 'actual': True},\n",
       " 'offset_column': {'default': None, 'actual': None},\n",
       " 'weights_column': {'default': None, 'actual': None},\n",
       " 'balance_classes': {'default': False, 'actual': False},\n",
       " 'class_sampling_factors': {'default': None, 'actual': None},\n",
       " 'max_after_balance_size': {'default': 5.0, 'actual': 5.0},\n",
       " 'max_confusion_matrix_size': {'default': 20, 'actual': 20},\n",
       " 'max_hit_ratio_k': {'default': 0, 'actual': 0},\n",
       " 'ntrees': {'default': 50, 'actual': 65},\n",
       " 'max_depth': {'default': 5, 'actual': 15},\n",
       " 'min_rows': {'default': 10.0, 'actual': 100.0},\n",
       " 'nbins': {'default': 20, 'actual': 20},\n",
       " 'nbins_top_level': {'default': 1024, 'actual': 1024},\n",
       " 'nbins_cats': {'default': 1024, 'actual': 1024},\n",
       " 'r2_stopping': {'default': 1.7976931348623157e+308,\n",
       "  'actual': 1.7976931348623157e+308},\n",
       " 'stopping_rounds': {'default': 0, 'actual': 0},\n",
       " 'stopping_metric': {'default': 'AUTO', 'actual': 'deviance'},\n",
       " 'stopping_tolerance': {'default': 0.001, 'actual': 0.001363890989782514},\n",
       " 'max_runtime_secs': {'default': 0.0, 'actual': 0.0},\n",
       " 'seed': {'default': -1, 'actual': 2158604012916423509},\n",
       " 'build_tree_one_node': {'default': False, 'actual': False},\n",
       " 'learn_rate': {'default': 0.1, 'actual': 0.1},\n",
       " 'learn_rate_annealing': {'default': 1.0, 'actual': 1.0},\n",
       " 'distribution': {'default': 'AUTO', 'actual': 'gaussian'},\n",
       " 'quantile_alpha': {'default': 0.5, 'actual': 0.5},\n",
       " 'tweedie_power': {'default': 1.5, 'actual': 1.5},\n",
       " 'huber_alpha': {'default': 0.9, 'actual': 0.9},\n",
       " 'checkpoint': {'default': None, 'actual': None},\n",
       " 'sample_rate': {'default': 1.0, 'actual': 0.8},\n",
       " 'sample_rate_per_class': {'default': None, 'actual': None},\n",
       " 'col_sample_rate': {'default': 1.0, 'actual': 0.8},\n",
       " 'col_sample_rate_change_per_level': {'default': 1.0, 'actual': 1.0},\n",
       " 'col_sample_rate_per_tree': {'default': 1.0, 'actual': 0.8},\n",
       " 'min_split_improvement': {'default': 1e-05, 'actual': 1e-05},\n",
       " 'histogram_type': {'default': 'AUTO', 'actual': 'AUTO'},\n",
       " 'max_abs_leafnode_pred': {'default': 1.7976931348623157e+308,\n",
       "  'actual': 1.7976931348623157e+308},\n",
       " 'pred_noise_bandwidth': {'default': 0.0, 'actual': 0.0},\n",
       " 'categorical_encoding': {'default': 'AUTO', 'actual': 'AUTO'},\n",
       " 'calibrate_model': {'default': False, 'actual': False},\n",
       " 'calibration_frame': {'default': None, 'actual': None},\n",
       " 'custom_metric_func': {'default': None, 'actual': None},\n",
       " 'export_checkpoints_dir': {'default': None, 'actual': None},\n",
       " 'monotone_constraints': {'default': None, 'actual': None},\n",
       " 'check_constant_response': {'default': True, 'actual': True}}"
      ]
     },
     "execution_count": 111,
     "metadata": {},
     "output_type": "execute_result"
    }
   ],
   "source": [
    "# h2o.get_model(mod_best)\n",
    "mod_best.params"
   ]
  },
  {
   "cell_type": "code",
   "execution_count": 112,
   "metadata": {},
   "outputs": [],
   "source": [
    "def dict_to_json(dct,n):\n",
    "  j = json.dumps(dct, indent=4)\n",
    "  f = open(n, 'w')\n",
    "  print(j, file=f)\n",
    "  f.close()"
   ]
  },
  {
   "cell_type": "code",
   "execution_count": 113,
   "metadata": {},
   "outputs": [],
   "source": [
    "hy_parameter = mod_best.params\n",
    "n='hyperparameter3_1000.json'"
   ]
  },
  {
   "cell_type": "code",
   "execution_count": 114,
   "metadata": {},
   "outputs": [],
   "source": [
    "dict_to_json(hy_parameter,n)"
   ]
  },
  {
   "cell_type": "markdown",
   "metadata": {},
   "source": [
    "# H2O Model 4 for 1000 Seconds"
   ]
  },
  {
   "cell_type": "code",
   "execution_count": 115,
   "metadata": {},
   "outputs": [],
   "source": [
    "\n",
    "# STart best model as first model\n",
    "\n",
    "model_set=aml_leaderboard_df['model_id']\n",
    "mod_best=h2o.get_model(model_set[3])"
   ]
  },
  {
   "cell_type": "code",
   "execution_count": 116,
   "metadata": {},
   "outputs": [
    {
     "data": {
      "text/plain": [
       "'GBM_2_AutoML_20190416_154932'"
      ]
     },
     "execution_count": 116,
     "metadata": {},
     "output_type": "execute_result"
    }
   ],
   "source": [
    "mod_best._id"
   ]
  },
  {
   "cell_type": "code",
   "execution_count": 117,
   "metadata": {},
   "outputs": [
    {
     "data": {
      "text/plain": [
       "{'model_id': {'default': None,\n",
       "  'actual': {'__meta': {'schema_version': 3,\n",
       "    'schema_name': 'ModelKeyV3',\n",
       "    'schema_type': 'Key<Model>'},\n",
       "   'name': 'GBM_2_AutoML_20190416_154932',\n",
       "   'type': 'Key<Model>',\n",
       "   'URL': '/3/Models/GBM_2_AutoML_20190416_154932'}},\n",
       " 'training_frame': {'default': None,\n",
       "  'actual': {'__meta': {'schema_version': 3,\n",
       "    'schema_name': 'FrameKeyV3',\n",
       "    'schema_type': 'Key<Frame>'},\n",
       "   'name': 'automl_training_train1.hex',\n",
       "   'type': 'Key<Frame>',\n",
       "   'URL': '/3/Frames/automl_training_train1.hex'}},\n",
       " 'validation_frame': {'default': None, 'actual': None},\n",
       " 'nfolds': {'default': 0, 'actual': 5},\n",
       " 'keep_cross_validation_models': {'default': True, 'actual': False},\n",
       " 'keep_cross_validation_predictions': {'default': False, 'actual': True},\n",
       " 'keep_cross_validation_fold_assignment': {'default': False, 'actual': False},\n",
       " 'score_each_iteration': {'default': False, 'actual': False},\n",
       " 'score_tree_interval': {'default': 0, 'actual': 5},\n",
       " 'fold_assignment': {'default': 'AUTO', 'actual': 'Modulo'},\n",
       " 'fold_column': {'default': None, 'actual': None},\n",
       " 'response_column': {'default': None,\n",
       "  'actual': {'__meta': {'schema_version': 3,\n",
       "    'schema_name': 'ColSpecifierV3',\n",
       "    'schema_type': 'VecSpecifier'},\n",
       "   'column_name': 'Purchase',\n",
       "   'is_member_of_frames': None}},\n",
       " 'ignored_columns': {'default': None, 'actual': ['C1']},\n",
       " 'ignore_const_cols': {'default': True, 'actual': True},\n",
       " 'offset_column': {'default': None, 'actual': None},\n",
       " 'weights_column': {'default': None, 'actual': None},\n",
       " 'balance_classes': {'default': False, 'actual': False},\n",
       " 'class_sampling_factors': {'default': None, 'actual': None},\n",
       " 'max_after_balance_size': {'default': 5.0, 'actual': 5.0},\n",
       " 'max_confusion_matrix_size': {'default': 20, 'actual': 20},\n",
       " 'max_hit_ratio_k': {'default': 0, 'actual': 0},\n",
       " 'ntrees': {'default': 50, 'actual': 65},\n",
       " 'max_depth': {'default': 5, 'actual': 15},\n",
       " 'min_rows': {'default': 10.0, 'actual': 100.0},\n",
       " 'nbins': {'default': 20, 'actual': 20},\n",
       " 'nbins_top_level': {'default': 1024, 'actual': 1024},\n",
       " 'nbins_cats': {'default': 1024, 'actual': 1024},\n",
       " 'r2_stopping': {'default': 1.7976931348623157e+308,\n",
       "  'actual': 1.7976931348623157e+308},\n",
       " 'stopping_rounds': {'default': 0, 'actual': 0},\n",
       " 'stopping_metric': {'default': 'AUTO', 'actual': 'deviance'},\n",
       " 'stopping_tolerance': {'default': 0.001, 'actual': 0.001363890989782514},\n",
       " 'max_runtime_secs': {'default': 0.0, 'actual': 0.0},\n",
       " 'seed': {'default': -1, 'actual': 2158604012916423509},\n",
       " 'build_tree_one_node': {'default': False, 'actual': False},\n",
       " 'learn_rate': {'default': 0.1, 'actual': 0.1},\n",
       " 'learn_rate_annealing': {'default': 1.0, 'actual': 1.0},\n",
       " 'distribution': {'default': 'AUTO', 'actual': 'gaussian'},\n",
       " 'quantile_alpha': {'default': 0.5, 'actual': 0.5},\n",
       " 'tweedie_power': {'default': 1.5, 'actual': 1.5},\n",
       " 'huber_alpha': {'default': 0.9, 'actual': 0.9},\n",
       " 'checkpoint': {'default': None, 'actual': None},\n",
       " 'sample_rate': {'default': 1.0, 'actual': 0.8},\n",
       " 'sample_rate_per_class': {'default': None, 'actual': None},\n",
       " 'col_sample_rate': {'default': 1.0, 'actual': 0.8},\n",
       " 'col_sample_rate_change_per_level': {'default': 1.0, 'actual': 1.0},\n",
       " 'col_sample_rate_per_tree': {'default': 1.0, 'actual': 0.8},\n",
       " 'min_split_improvement': {'default': 1e-05, 'actual': 1e-05},\n",
       " 'histogram_type': {'default': 'AUTO', 'actual': 'AUTO'},\n",
       " 'max_abs_leafnode_pred': {'default': 1.7976931348623157e+308,\n",
       "  'actual': 1.7976931348623157e+308},\n",
       " 'pred_noise_bandwidth': {'default': 0.0, 'actual': 0.0},\n",
       " 'categorical_encoding': {'default': 'AUTO', 'actual': 'AUTO'},\n",
       " 'calibrate_model': {'default': False, 'actual': False},\n",
       " 'calibration_frame': {'default': None, 'actual': None},\n",
       " 'custom_metric_func': {'default': None, 'actual': None},\n",
       " 'export_checkpoints_dir': {'default': None, 'actual': None},\n",
       " 'monotone_constraints': {'default': None, 'actual': None},\n",
       " 'check_constant_response': {'default': True, 'actual': True}}"
      ]
     },
     "execution_count": 117,
     "metadata": {},
     "output_type": "execute_result"
    }
   ],
   "source": [
    "# h2o.get_model(mod_best)\n",
    "mod_best.params"
   ]
  },
  {
   "cell_type": "code",
   "execution_count": 118,
   "metadata": {},
   "outputs": [],
   "source": [
    "def dict_to_json(dct,n):\n",
    "  j = json.dumps(dct, indent=4)\n",
    "  f = open(n, 'w')\n",
    "  print(j, file=f)\n",
    "  f.close()"
   ]
  },
  {
   "cell_type": "code",
   "execution_count": 119,
   "metadata": {},
   "outputs": [],
   "source": [
    "hy_parameter = mod_best.params\n",
    "n='hyperparameter4_1000.json'"
   ]
  },
  {
   "cell_type": "code",
   "execution_count": 120,
   "metadata": {},
   "outputs": [],
   "source": [
    "dict_to_json(hy_parameter,n)"
   ]
  },
  {
   "cell_type": "markdown",
   "metadata": {},
   "source": [
    "# H2O Model 5 for 1000 seconds"
   ]
  },
  {
   "cell_type": "code",
   "execution_count": 121,
   "metadata": {},
   "outputs": [],
   "source": [
    "\n",
    "# STart best model as first model\n",
    "\n",
    "model_set=aml_leaderboard_df['model_id']\n",
    "mod_best=h2o.get_model(model_set[4])"
   ]
  },
  {
   "cell_type": "code",
   "execution_count": 122,
   "metadata": {},
   "outputs": [
    {
     "data": {
      "text/plain": [
       "'GBM_1_AutoML_20190416_154932'"
      ]
     },
     "execution_count": 122,
     "metadata": {},
     "output_type": "execute_result"
    }
   ],
   "source": [
    "mod_best._id"
   ]
  },
  {
   "cell_type": "code",
   "execution_count": 123,
   "metadata": {},
   "outputs": [
    {
     "data": {
      "text/plain": [
       "{'model_id': {'default': None,\n",
       "  'actual': {'__meta': {'schema_version': 3,\n",
       "    'schema_name': 'ModelKeyV3',\n",
       "    'schema_type': 'Key<Model>'},\n",
       "   'name': 'GBM_1_AutoML_20190416_154932',\n",
       "   'type': 'Key<Model>',\n",
       "   'URL': '/3/Models/GBM_1_AutoML_20190416_154932'}},\n",
       " 'training_frame': {'default': None,\n",
       "  'actual': {'__meta': {'schema_version': 3,\n",
       "    'schema_name': 'FrameKeyV3',\n",
       "    'schema_type': 'Key<Frame>'},\n",
       "   'name': 'automl_training_train1.hex',\n",
       "   'type': 'Key<Frame>',\n",
       "   'URL': '/3/Frames/automl_training_train1.hex'}},\n",
       " 'validation_frame': {'default': None, 'actual': None},\n",
       " 'nfolds': {'default': 0, 'actual': 5},\n",
       " 'keep_cross_validation_models': {'default': True, 'actual': False},\n",
       " 'keep_cross_validation_predictions': {'default': False, 'actual': True},\n",
       " 'keep_cross_validation_fold_assignment': {'default': False, 'actual': False},\n",
       " 'score_each_iteration': {'default': False, 'actual': False},\n",
       " 'score_tree_interval': {'default': 0, 'actual': 5},\n",
       " 'fold_assignment': {'default': 'AUTO', 'actual': 'Modulo'},\n",
       " 'fold_column': {'default': None, 'actual': None},\n",
       " 'response_column': {'default': None,\n",
       "  'actual': {'__meta': {'schema_version': 3,\n",
       "    'schema_name': 'ColSpecifierV3',\n",
       "    'schema_type': 'VecSpecifier'},\n",
       "   'column_name': 'Purchase',\n",
       "   'is_member_of_frames': None}},\n",
       " 'ignored_columns': {'default': None, 'actual': ['C1']},\n",
       " 'ignore_const_cols': {'default': True, 'actual': True},\n",
       " 'offset_column': {'default': None, 'actual': None},\n",
       " 'weights_column': {'default': None, 'actual': None},\n",
       " 'balance_classes': {'default': False, 'actual': False},\n",
       " 'class_sampling_factors': {'default': None, 'actual': None},\n",
       " 'max_after_balance_size': {'default': 5.0, 'actual': 5.0},\n",
       " 'max_confusion_matrix_size': {'default': 20, 'actual': 20},\n",
       " 'max_hit_ratio_k': {'default': 0, 'actual': 0},\n",
       " 'ntrees': {'default': 50, 'actual': 65},\n",
       " 'max_depth': {'default': 5, 'actual': 15},\n",
       " 'min_rows': {'default': 10.0, 'actual': 100.0},\n",
       " 'nbins': {'default': 20, 'actual': 20},\n",
       " 'nbins_top_level': {'default': 1024, 'actual': 1024},\n",
       " 'nbins_cats': {'default': 1024, 'actual': 1024},\n",
       " 'r2_stopping': {'default': 1.7976931348623157e+308,\n",
       "  'actual': 1.7976931348623157e+308},\n",
       " 'stopping_rounds': {'default': 0, 'actual': 0},\n",
       " 'stopping_metric': {'default': 'AUTO', 'actual': 'deviance'},\n",
       " 'stopping_tolerance': {'default': 0.001, 'actual': 0.001363890989782514},\n",
       " 'max_runtime_secs': {'default': 0.0, 'actual': 0.0},\n",
       " 'seed': {'default': -1, 'actual': 2158604012916423509},\n",
       " 'build_tree_one_node': {'default': False, 'actual': False},\n",
       " 'learn_rate': {'default': 0.1, 'actual': 0.1},\n",
       " 'learn_rate_annealing': {'default': 1.0, 'actual': 1.0},\n",
       " 'distribution': {'default': 'AUTO', 'actual': 'gaussian'},\n",
       " 'quantile_alpha': {'default': 0.5, 'actual': 0.5},\n",
       " 'tweedie_power': {'default': 1.5, 'actual': 1.5},\n",
       " 'huber_alpha': {'default': 0.9, 'actual': 0.9},\n",
       " 'checkpoint': {'default': None, 'actual': None},\n",
       " 'sample_rate': {'default': 1.0, 'actual': 0.8},\n",
       " 'sample_rate_per_class': {'default': None, 'actual': None},\n",
       " 'col_sample_rate': {'default': 1.0, 'actual': 0.8},\n",
       " 'col_sample_rate_change_per_level': {'default': 1.0, 'actual': 1.0},\n",
       " 'col_sample_rate_per_tree': {'default': 1.0, 'actual': 0.8},\n",
       " 'min_split_improvement': {'default': 1e-05, 'actual': 1e-05},\n",
       " 'histogram_type': {'default': 'AUTO', 'actual': 'AUTO'},\n",
       " 'max_abs_leafnode_pred': {'default': 1.7976931348623157e+308,\n",
       "  'actual': 1.7976931348623157e+308},\n",
       " 'pred_noise_bandwidth': {'default': 0.0, 'actual': 0.0},\n",
       " 'categorical_encoding': {'default': 'AUTO', 'actual': 'AUTO'},\n",
       " 'calibrate_model': {'default': False, 'actual': False},\n",
       " 'calibration_frame': {'default': None, 'actual': None},\n",
       " 'custom_metric_func': {'default': None, 'actual': None},\n",
       " 'export_checkpoints_dir': {'default': None, 'actual': None},\n",
       " 'monotone_constraints': {'default': None, 'actual': None},\n",
       " 'check_constant_response': {'default': True, 'actual': True}}"
      ]
     },
     "execution_count": 123,
     "metadata": {},
     "output_type": "execute_result"
    }
   ],
   "source": [
    "# h2o.get_model(mod_best)\n",
    "mod_best.params"
   ]
  },
  {
   "cell_type": "code",
   "execution_count": 124,
   "metadata": {},
   "outputs": [],
   "source": [
    "def dict_to_json(dct,n):\n",
    "  j = json.dumps(dct, indent=4)\n",
    "  f = open(n, 'w')\n",
    "  print(j, file=f)\n",
    "  f.close()"
   ]
  },
  {
   "cell_type": "code",
   "execution_count": 125,
   "metadata": {},
   "outputs": [],
   "source": [
    "hy_parameter = mod_best.params\n",
    "n='hyperparameter5_1000.json'"
   ]
  },
  {
   "cell_type": "code",
   "execution_count": 126,
   "metadata": {},
   "outputs": [],
   "source": [
    "dict_to_json(hy_parameter,n)"
   ]
  },
  {
   "cell_type": "markdown",
   "metadata": {},
   "source": [
    "# H2O Model 6 for 1000 Seconds"
   ]
  },
  {
   "cell_type": "code",
   "execution_count": 149,
   "metadata": {},
   "outputs": [],
   "source": [
    "\n",
    "# STart best model as first model\n",
    "\n",
    "model_set=aml_leaderboard_df['model_id']\n",
    "mod_best=h2o.get_model(model_set[5])"
   ]
  },
  {
   "cell_type": "code",
   "execution_count": 150,
   "metadata": {},
   "outputs": [
    {
     "data": {
      "text/plain": [
       "'DRF_1_AutoML_20190416_154932'"
      ]
     },
     "execution_count": 150,
     "metadata": {},
     "output_type": "execute_result"
    }
   ],
   "source": [
    "mod_best._id"
   ]
  },
  {
   "cell_type": "code",
   "execution_count": 151,
   "metadata": {},
   "outputs": [
    {
     "data": {
      "text/plain": [
       "{'model_id': {'default': None,\n",
       "  'actual': {'__meta': {'schema_version': 3,\n",
       "    'schema_name': 'ModelKeyV3',\n",
       "    'schema_type': 'Key<Model>'},\n",
       "   'name': 'DRF_1_AutoML_20190416_154932',\n",
       "   'type': 'Key<Model>',\n",
       "   'URL': '/3/Models/DRF_1_AutoML_20190416_154932'}},\n",
       " 'training_frame': {'default': None,\n",
       "  'actual': {'__meta': {'schema_version': 3,\n",
       "    'schema_name': 'FrameKeyV3',\n",
       "    'schema_type': 'Key<Frame>'},\n",
       "   'name': 'automl_training_train1.hex',\n",
       "   'type': 'Key<Frame>',\n",
       "   'URL': '/3/Frames/automl_training_train1.hex'}},\n",
       " 'validation_frame': {'default': None, 'actual': None},\n",
       " 'nfolds': {'default': 0, 'actual': 5},\n",
       " 'keep_cross_validation_models': {'default': True, 'actual': False},\n",
       " 'keep_cross_validation_predictions': {'default': False, 'actual': True},\n",
       " 'keep_cross_validation_fold_assignment': {'default': False, 'actual': False},\n",
       " 'score_each_iteration': {'default': False, 'actual': False},\n",
       " 'score_tree_interval': {'default': 0, 'actual': 0},\n",
       " 'fold_assignment': {'default': 'AUTO', 'actual': 'Modulo'},\n",
       " 'fold_column': {'default': None, 'actual': None},\n",
       " 'response_column': {'default': None,\n",
       "  'actual': {'__meta': {'schema_version': 3,\n",
       "    'schema_name': 'ColSpecifierV3',\n",
       "    'schema_type': 'VecSpecifier'},\n",
       "   'column_name': 'Purchase',\n",
       "   'is_member_of_frames': None}},\n",
       " 'ignored_columns': {'default': None, 'actual': ['C1']},\n",
       " 'ignore_const_cols': {'default': True, 'actual': True},\n",
       " 'offset_column': {'default': None, 'actual': None},\n",
       " 'weights_column': {'default': None, 'actual': None},\n",
       " 'balance_classes': {'default': False, 'actual': False},\n",
       " 'class_sampling_factors': {'default': None, 'actual': None},\n",
       " 'max_after_balance_size': {'default': 5.0, 'actual': 5.0},\n",
       " 'max_confusion_matrix_size': {'default': 20, 'actual': 20},\n",
       " 'max_hit_ratio_k': {'default': 0, 'actual': 0},\n",
       " 'ntrees': {'default': 50, 'actual': 37},\n",
       " 'max_depth': {'default': 20, 'actual': 20},\n",
       " 'min_rows': {'default': 1.0, 'actual': 1.0},\n",
       " 'nbins': {'default': 20, 'actual': 20},\n",
       " 'nbins_top_level': {'default': 1024, 'actual': 1024},\n",
       " 'nbins_cats': {'default': 1024, 'actual': 1024},\n",
       " 'r2_stopping': {'default': 1.7976931348623157e+308,\n",
       "  'actual': 1.7976931348623157e+308},\n",
       " 'stopping_rounds': {'default': 0, 'actual': 0},\n",
       " 'stopping_metric': {'default': 'AUTO', 'actual': 'deviance'},\n",
       " 'stopping_tolerance': {'default': 0.001, 'actual': 0.001363890989782514},\n",
       " 'max_runtime_secs': {'default': 0.0, 'actual': 0.0},\n",
       " 'seed': {'default': -1, 'actual': -1722435267371370814},\n",
       " 'build_tree_one_node': {'default': False, 'actual': False},\n",
       " 'mtries': {'default': -1, 'actual': -1},\n",
       " 'sample_rate': {'default': 0.6320000290870667, 'actual': 0.6320000290870667},\n",
       " 'sample_rate_per_class': {'default': None, 'actual': None},\n",
       " 'binomial_double_trees': {'default': False, 'actual': False},\n",
       " 'checkpoint': {'default': None, 'actual': None},\n",
       " 'col_sample_rate_change_per_level': {'default': 1.0, 'actual': 1.0},\n",
       " 'col_sample_rate_per_tree': {'default': 1.0, 'actual': 1.0},\n",
       " 'min_split_improvement': {'default': 1e-05, 'actual': 1e-05},\n",
       " 'histogram_type': {'default': 'AUTO', 'actual': 'AUTO'},\n",
       " 'categorical_encoding': {'default': 'AUTO', 'actual': 'AUTO'},\n",
       " 'calibrate_model': {'default': False, 'actual': False},\n",
       " 'calibration_frame': {'default': None, 'actual': None},\n",
       " 'distribution': {'default': 'AUTO', 'actual': 'gaussian'},\n",
       " 'custom_metric_func': {'default': None, 'actual': None},\n",
       " 'export_checkpoints_dir': {'default': None, 'actual': None},\n",
       " 'check_constant_response': {'default': True, 'actual': True}}"
      ]
     },
     "execution_count": 151,
     "metadata": {},
     "output_type": "execute_result"
    }
   ],
   "source": [
    "# h2o.get_model(mod_best)\n",
    "mod_best.params"
   ]
  },
  {
   "cell_type": "code",
   "execution_count": 152,
   "metadata": {},
   "outputs": [],
   "source": [
    "def dict_to_json(dct,n):\n",
    "  j = json.dumps(dct, indent=4)\n",
    "  f = open(n, 'w')\n",
    "  print(j, file=f)\n",
    "  f.close()"
   ]
  },
  {
   "cell_type": "code",
   "execution_count": 153,
   "metadata": {},
   "outputs": [],
   "source": [
    "hy_parameter = mod_best.params\n",
    "n='hyperparameter6_1000.json'"
   ]
  },
  {
   "cell_type": "code",
   "execution_count": 154,
   "metadata": {},
   "outputs": [],
   "source": [
    "dict_to_json(hy_parameter,n)"
   ]
  },
  {
   "cell_type": "markdown",
   "metadata": {},
   "source": [
    "# H2O Model 7 for 1000 Seconds"
   ]
  },
  {
   "cell_type": "code",
   "execution_count": 155,
   "metadata": {},
   "outputs": [],
   "source": [
    "\n",
    "# STart best model as first model\n",
    "\n",
    "model_set=aml_leaderboard_df['model_id']\n",
    "mod_best=h2o.get_model(model_set[6])"
   ]
  },
  {
   "cell_type": "code",
   "execution_count": 156,
   "metadata": {},
   "outputs": [
    {
     "data": {
      "text/plain": [
       "'StackedEnsemble_AllModels_AutoML_20190416_154932'"
      ]
     },
     "execution_count": 156,
     "metadata": {},
     "output_type": "execute_result"
    }
   ],
   "source": [
    "mod_best._id"
   ]
  },
  {
   "cell_type": "code",
   "execution_count": 157,
   "metadata": {},
   "outputs": [
    {
     "data": {
      "text/plain": [
       "{'model_id': {'default': None,\n",
       "  'actual': {'__meta': {'schema_version': 3,\n",
       "    'schema_name': 'ModelKeyV3',\n",
       "    'schema_type': 'Key<Model>'},\n",
       "   'name': 'StackedEnsemble_AllModels_AutoML_20190416_154932',\n",
       "   'type': 'Key<Model>',\n",
       "   'URL': '/3/Models/StackedEnsemble_AllModels_AutoML_20190416_154932'}},\n",
       " 'training_frame': {'default': None,\n",
       "  'actual': {'__meta': {'schema_version': 3,\n",
       "    'schema_name': 'FrameKeyV3',\n",
       "    'schema_type': 'Key<Frame>'},\n",
       "   'name': 'automl_training_train1.hex',\n",
       "   'type': 'Key<Frame>',\n",
       "   'URL': '/3/Frames/automl_training_train1.hex'}},\n",
       " 'response_column': {'default': None,\n",
       "  'actual': {'__meta': {'schema_version': 3,\n",
       "    'schema_name': 'ColSpecifierV3',\n",
       "    'schema_type': 'VecSpecifier'},\n",
       "   'column_name': 'Purchase',\n",
       "   'is_member_of_frames': None}},\n",
       " 'validation_frame': {'default': None, 'actual': None},\n",
       " 'blending_frame': {'default': None, 'actual': None},\n",
       " 'base_models': {'default': [],\n",
       "  'actual': [{'__meta': {'schema_version': 3,\n",
       "     'schema_name': 'ModelKeyV3',\n",
       "     'schema_type': 'Key<Model>'},\n",
       "    'name': 'GBM_5_AutoML_20190416_154932',\n",
       "    'type': 'Key<Model>',\n",
       "    'URL': '/3/Models/GBM_5_AutoML_20190416_154932'},\n",
       "   {'__meta': {'schema_version': 3,\n",
       "     'schema_name': 'ModelKeyV3',\n",
       "     'schema_type': 'Key<Model>'},\n",
       "    'name': 'GBM_4_AutoML_20190416_154932',\n",
       "    'type': 'Key<Model>',\n",
       "    'URL': '/3/Models/GBM_4_AutoML_20190416_154932'},\n",
       "   {'__meta': {'schema_version': 3,\n",
       "     'schema_name': 'ModelKeyV3',\n",
       "     'schema_type': 'Key<Model>'},\n",
       "    'name': 'GBM_3_AutoML_20190416_154932',\n",
       "    'type': 'Key<Model>',\n",
       "    'URL': '/3/Models/GBM_3_AutoML_20190416_154932'},\n",
       "   {'__meta': {'schema_version': 3,\n",
       "     'schema_name': 'ModelKeyV3',\n",
       "     'schema_type': 'Key<Model>'},\n",
       "    'name': 'GBM_2_AutoML_20190416_154932',\n",
       "    'type': 'Key<Model>',\n",
       "    'URL': '/3/Models/GBM_2_AutoML_20190416_154932'},\n",
       "   {'__meta': {'schema_version': 3,\n",
       "     'schema_name': 'ModelKeyV3',\n",
       "     'schema_type': 'Key<Model>'},\n",
       "    'name': 'GBM_1_AutoML_20190416_154932',\n",
       "    'type': 'Key<Model>',\n",
       "    'URL': '/3/Models/GBM_1_AutoML_20190416_154932'},\n",
       "   {'__meta': {'schema_version': 3,\n",
       "     'schema_name': 'ModelKeyV3',\n",
       "     'schema_type': 'Key<Model>'},\n",
       "    'name': 'DRF_1_AutoML_20190416_154932',\n",
       "    'type': 'Key<Model>',\n",
       "    'URL': '/3/Models/DRF_1_AutoML_20190416_154932'},\n",
       "   {'__meta': {'schema_version': 3,\n",
       "     'schema_name': 'ModelKeyV3',\n",
       "     'schema_type': 'Key<Model>'},\n",
       "    'name': 'GLM_grid_1_AutoML_20190416_154932_model_1',\n",
       "    'type': 'Key<Model>',\n",
       "    'URL': '/3/Models/GLM_grid_1_AutoML_20190416_154932_model_1'}]},\n",
       " 'metalearner_algorithm': {'default': 'AUTO', 'actual': 'AUTO'},\n",
       " 'metalearner_nfolds': {'default': 0, 'actual': 5},\n",
       " 'metalearner_fold_assignment': {'default': None, 'actual': None},\n",
       " 'metalearner_fold_column': {'default': None, 'actual': None},\n",
       " 'metalearner_params': {'default': '', 'actual': ''},\n",
       " 'seed': {'default': -1, 'actual': -1585204506880427785},\n",
       " 'keep_levelone_frame': {'default': False, 'actual': True},\n",
       " 'export_checkpoints_dir': {'default': None, 'actual': None}}"
      ]
     },
     "execution_count": 157,
     "metadata": {},
     "output_type": "execute_result"
    }
   ],
   "source": [
    "mod_best.params"
   ]
  },
  {
   "cell_type": "code",
   "execution_count": 158,
   "metadata": {},
   "outputs": [],
   "source": [
    "def dict_to_json(dct,n):\n",
    "  j = json.dumps(dct, indent=4)\n",
    "  f = open(n, 'w')\n",
    "  print(j, file=f)\n",
    "  f.close()"
   ]
  },
  {
   "cell_type": "code",
   "execution_count": 159,
   "metadata": {},
   "outputs": [],
   "source": [
    "hy_parameter = mod_best.params\n",
    "n='hyperparameter7_1000.json'"
   ]
  },
  {
   "cell_type": "code",
   "execution_count": 160,
   "metadata": {},
   "outputs": [],
   "source": [
    "dict_to_json(hy_parameter,n)"
   ]
  },
  {
   "cell_type": "markdown",
   "metadata": {},
   "source": [
    "# Hyperparameter for Model 8 for 1000 Seconds"
   ]
  },
  {
   "cell_type": "code",
   "execution_count": 161,
   "metadata": {},
   "outputs": [],
   "source": [
    "\n",
    "# STart best model as first model\n",
    "\n",
    "model_set=aml_leaderboard_df['model_id']\n",
    "mod_best=h2o.get_model(model_set[7])"
   ]
  },
  {
   "cell_type": "code",
   "execution_count": 162,
   "metadata": {},
   "outputs": [
    {
     "data": {
      "text/plain": [
       "'StackedEnsemble_BestOfFamily_AutoML_20190416_154932'"
      ]
     },
     "execution_count": 162,
     "metadata": {},
     "output_type": "execute_result"
    }
   ],
   "source": [
    "mod_best._id"
   ]
  },
  {
   "cell_type": "code",
   "execution_count": 163,
   "metadata": {},
   "outputs": [
    {
     "data": {
      "text/plain": [
       "{'model_id': {'default': None,\n",
       "  'actual': {'__meta': {'schema_version': 3,\n",
       "    'schema_name': 'ModelKeyV3',\n",
       "    'schema_type': 'Key<Model>'},\n",
       "   'name': 'StackedEnsemble_BestOfFamily_AutoML_20190416_154932',\n",
       "   'type': 'Key<Model>',\n",
       "   'URL': '/3/Models/StackedEnsemble_BestOfFamily_AutoML_20190416_154932'}},\n",
       " 'training_frame': {'default': None,\n",
       "  'actual': {'__meta': {'schema_version': 3,\n",
       "    'schema_name': 'FrameKeyV3',\n",
       "    'schema_type': 'Key<Frame>'},\n",
       "   'name': 'automl_training_train1.hex',\n",
       "   'type': 'Key<Frame>',\n",
       "   'URL': '/3/Frames/automl_training_train1.hex'}},\n",
       " 'response_column': {'default': None,\n",
       "  'actual': {'__meta': {'schema_version': 3,\n",
       "    'schema_name': 'ColSpecifierV3',\n",
       "    'schema_type': 'VecSpecifier'},\n",
       "   'column_name': 'Purchase',\n",
       "   'is_member_of_frames': None}},\n",
       " 'validation_frame': {'default': None, 'actual': None},\n",
       " 'blending_frame': {'default': None, 'actual': None},\n",
       " 'base_models': {'default': [],\n",
       "  'actual': [{'__meta': {'schema_version': 3,\n",
       "     'schema_name': 'ModelKeyV3',\n",
       "     'schema_type': 'Key<Model>'},\n",
       "    'name': 'GBM_5_AutoML_20190416_154932',\n",
       "    'type': 'Key<Model>',\n",
       "    'URL': '/3/Models/GBM_5_AutoML_20190416_154932'},\n",
       "   {'__meta': {'schema_version': 3,\n",
       "     'schema_name': 'ModelKeyV3',\n",
       "     'schema_type': 'Key<Model>'},\n",
       "    'name': 'DRF_1_AutoML_20190416_154932',\n",
       "    'type': 'Key<Model>',\n",
       "    'URL': '/3/Models/DRF_1_AutoML_20190416_154932'},\n",
       "   {'__meta': {'schema_version': 3,\n",
       "     'schema_name': 'ModelKeyV3',\n",
       "     'schema_type': 'Key<Model>'},\n",
       "    'name': 'GLM_grid_1_AutoML_20190416_154932_model_1',\n",
       "    'type': 'Key<Model>',\n",
       "    'URL': '/3/Models/GLM_grid_1_AutoML_20190416_154932_model_1'}]},\n",
       " 'metalearner_algorithm': {'default': 'AUTO', 'actual': 'AUTO'},\n",
       " 'metalearner_nfolds': {'default': 0, 'actual': 5},\n",
       " 'metalearner_fold_assignment': {'default': None, 'actual': None},\n",
       " 'metalearner_fold_column': {'default': None, 'actual': None},\n",
       " 'metalearner_params': {'default': '', 'actual': ''},\n",
       " 'seed': {'default': -1, 'actual': -4093396167075240024},\n",
       " 'keep_levelone_frame': {'default': False, 'actual': True},\n",
       " 'export_checkpoints_dir': {'default': None, 'actual': None}}"
      ]
     },
     "execution_count": 163,
     "metadata": {},
     "output_type": "execute_result"
    }
   ],
   "source": [
    "mod_best.params"
   ]
  },
  {
   "cell_type": "code",
   "execution_count": 164,
   "metadata": {},
   "outputs": [],
   "source": [
    "def dict_to_json(dct,n):\n",
    "  j = json.dumps(dct, indent=4)\n",
    "  f = open(n, 'w')\n",
    "  print(j, file=f)\n",
    "  f.close()"
   ]
  },
  {
   "cell_type": "code",
   "execution_count": 165,
   "metadata": {},
   "outputs": [],
   "source": [
    "hy_parameter = mod_best.params\n",
    "n='hyperparameter8_1000.json'"
   ]
  },
  {
   "cell_type": "code",
   "execution_count": 166,
   "metadata": {},
   "outputs": [],
   "source": [
    "dict_to_json(hy_parameter,n)"
   ]
  },
  {
   "cell_type": "markdown",
   "metadata": {},
   "source": [
    "# Hyperparameter for model 9 for 1000 seconds"
   ]
  },
  {
   "cell_type": "code",
   "execution_count": 167,
   "metadata": {},
   "outputs": [],
   "source": [
    "\n",
    "# STart best model as first model\n",
    "\n",
    "model_set=aml_leaderboard_df['model_id']\n",
    "mod_best=h2o.get_model(model_set[8])"
   ]
  },
  {
   "cell_type": "code",
   "execution_count": 168,
   "metadata": {},
   "outputs": [
    {
     "data": {
      "text/plain": [
       "'GLM_grid_1_AutoML_20190416_154932_model_1'"
      ]
     },
     "execution_count": 168,
     "metadata": {},
     "output_type": "execute_result"
    }
   ],
   "source": [
    "mod_best._id"
   ]
  },
  {
   "cell_type": "code",
   "execution_count": 169,
   "metadata": {},
   "outputs": [
    {
     "data": {
      "text/plain": [
       "{'model_id': {'default': None,\n",
       "  'actual': {'__meta': {'schema_version': 3,\n",
       "    'schema_name': 'ModelKeyV3',\n",
       "    'schema_type': 'Key<Model>'},\n",
       "   'name': 'GLM_grid_1_AutoML_20190416_154932_model_1',\n",
       "   'type': 'Key<Model>',\n",
       "   'URL': '/3/Models/GLM_grid_1_AutoML_20190416_154932_model_1'}},\n",
       " 'training_frame': {'default': None,\n",
       "  'actual': {'__meta': {'schema_version': 3,\n",
       "    'schema_name': 'FrameKeyV3',\n",
       "    'schema_type': 'Key<Frame>'},\n",
       "   'name': 'automl_training_train1.hex',\n",
       "   'type': 'Key<Frame>',\n",
       "   'URL': '/3/Frames/automl_training_train1.hex'}},\n",
       " 'validation_frame': {'default': None, 'actual': None},\n",
       " 'nfolds': {'default': 0, 'actual': 5},\n",
       " 'seed': {'default': -1, 'actual': 7554553798172570151},\n",
       " 'keep_cross_validation_models': {'default': True, 'actual': False},\n",
       " 'keep_cross_validation_predictions': {'default': False, 'actual': True},\n",
       " 'keep_cross_validation_fold_assignment': {'default': False, 'actual': False},\n",
       " 'fold_assignment': {'default': 'AUTO', 'actual': 'Modulo'},\n",
       " 'fold_column': {'default': None, 'actual': None},\n",
       " 'response_column': {'default': None,\n",
       "  'actual': {'__meta': {'schema_version': 3,\n",
       "    'schema_name': 'ColSpecifierV3',\n",
       "    'schema_type': 'VecSpecifier'},\n",
       "   'column_name': 'Purchase',\n",
       "   'is_member_of_frames': None}},\n",
       " 'ignored_columns': {'default': None, 'actual': ['C1']},\n",
       " 'ignore_const_cols': {'default': True, 'actual': True},\n",
       " 'score_each_iteration': {'default': False, 'actual': False},\n",
       " 'offset_column': {'default': None, 'actual': None},\n",
       " 'weights_column': {'default': None, 'actual': None},\n",
       " 'family': {'default': 'gaussian', 'actual': 'gaussian'},\n",
       " 'tweedie_variance_power': {'default': 0.0, 'actual': 0.0},\n",
       " 'tweedie_link_power': {'default': 1.0, 'actual': 1.0},\n",
       " 'theta': {'default': 1e-10, 'actual': 1e-10},\n",
       " 'solver': {'default': 'AUTO', 'actual': 'COORDINATE_DESCENT'},\n",
       " 'alpha': {'default': None, 'actual': [0.0, 0.2, 0.4, 0.6, 0.8, 1.0]},\n",
       " 'lambda': {'default': None,\n",
       "  'actual': [156465.93492127347,\n",
       "   97167.99641501333,\n",
       "   60342.971983381794,\n",
       "   37474.00792576794,\n",
       "   23271.993802480545]},\n",
       " 'lambda_search': {'default': False, 'actual': True},\n",
       " 'early_stopping': {'default': True, 'actual': True},\n",
       " 'nlambdas': {'default': -1, 'actual': 30},\n",
       " 'standardize': {'default': True, 'actual': True},\n",
       " 'missing_values_handling': {'default': 'MeanImputation',\n",
       "  'actual': 'MeanImputation'},\n",
       " 'compute_p_values': {'default': False, 'actual': False},\n",
       " 'remove_collinear_columns': {'default': False, 'actual': False},\n",
       " 'intercept': {'default': True, 'actual': True},\n",
       " 'non_negative': {'default': False, 'actual': False},\n",
       " 'max_iterations': {'default': -1, 'actual': 300},\n",
       " 'objective_epsilon': {'default': -1.0, 'actual': 0.0001},\n",
       " 'beta_epsilon': {'default': 0.0001, 'actual': 0.0001},\n",
       " 'gradient_epsilon': {'default': -1.0, 'actual': 1.0000000000000002e-06},\n",
       " 'link': {'default': 'family_default', 'actual': 'identity'},\n",
       " 'prior': {'default': -1.0, 'actual': -1.0},\n",
       " 'lambda_min_ratio': {'default': -1.0, 'actual': 1.0000000000000002e-06},\n",
       " 'beta_constraints': {'default': None, 'actual': None},\n",
       " 'max_active_predictors': {'default': -1, 'actual': 5000},\n",
       " 'interactions': {'default': None, 'actual': None},\n",
       " 'interaction_pairs': {'default': None, 'actual': None},\n",
       " 'obj_reg': {'default': -1.0, 'actual': 1.860198632009926e-06},\n",
       " 'export_checkpoints_dir': {'default': None, 'actual': None},\n",
       " 'balance_classes': {'default': False, 'actual': False},\n",
       " 'class_sampling_factors': {'default': None, 'actual': None},\n",
       " 'max_after_balance_size': {'default': 5.0, 'actual': 5.0},\n",
       " 'max_confusion_matrix_size': {'default': 20, 'actual': 20},\n",
       " 'max_hit_ratio_k': {'default': 0, 'actual': 0},\n",
       " 'max_runtime_secs': {'default': 0.0, 'actual': 0.0},\n",
       " 'custom_metric_func': {'default': None, 'actual': None}}"
      ]
     },
     "execution_count": 169,
     "metadata": {},
     "output_type": "execute_result"
    }
   ],
   "source": [
    "mod_best.params"
   ]
  },
  {
   "cell_type": "code",
   "execution_count": 170,
   "metadata": {},
   "outputs": [],
   "source": [
    "def dict_to_json(dct,n):\n",
    "  j = json.dumps(dct, indent=4)\n",
    "  f = open(n, 'w')\n",
    "  print(j, file=f)\n",
    "  f.close()"
   ]
  },
  {
   "cell_type": "code",
   "execution_count": 171,
   "metadata": {},
   "outputs": [],
   "source": [
    "hy_parameter = mod_best.params\n",
    "n='hyperparameter9_1000.json'"
   ]
  },
  {
   "cell_type": "code",
   "execution_count": 172,
   "metadata": {},
   "outputs": [],
   "source": [
    "dict_to_json(hy_parameter,n)"
   ]
  },
  {
   "cell_type": "markdown",
   "metadata": {},
   "source": [
    "# H2O Model 3"
   ]
  },
  {
   "cell_type": "code",
   "execution_count": 245,
   "metadata": {},
   "outputs": [],
   "source": [
    "data_path=None\n",
    "all_variables=None\n",
    "test_path=None\n",
    "# target='search_term'\n",
    "target=None\n",
    "nthreads=1 \n",
    "min_mem_size=6 \n",
    "run_time=1500\n",
    "classification=False\n",
    "scale=False\n",
    "max_models=9    \n",
    "model_path=None\n",
    "balance_y=False \n",
    "balance_threshold=0.2\n",
    "name=None \n",
    "server_path=None  \n",
    "analysis=0"
   ]
  },
  {
   "cell_type": "code",
   "execution_count": 246,
   "metadata": {},
   "outputs": [
    {
     "name": "stdout",
     "output_type": "stream",
     "text": [
      "2\n"
     ]
    }
   ],
   "source": [
    "pct_memory=0.5\n",
    "virtual_memory=psutil.virtual_memory()\n",
    "min_mem_size=int(round(int(pct_memory*virtual_memory.available)/1073741824,0))\n",
    "print(min_mem_size)"
   ]
  },
  {
   "cell_type": "code",
   "execution_count": 247,
   "metadata": {},
   "outputs": [],
   "source": [
    "# Functions\n",
    "\n",
    "def alphabet(n):\n",
    "  alpha='0123456789abcdefghijklmnopqrstuvwxyzABCDEFGHIJKLMNOPQRSTUVWXYZ'    \n",
    "  str=''\n",
    "  r=len(alpha)-1   \n",
    "  while len(str)<n:\n",
    "    i=random.randint(0,r)\n",
    "    str+=alpha[i]   \n",
    "  return str\n",
    "  \n",
    "  \n",
    "def set_meta_data(analysis,run_id,server,data,test,model_path,target,run_time,classification,scale,model,balance,balance_threshold,name,path,nthreads,min_mem_size):\n",
    "  m_data={}\n",
    "  m_data['start_time'] = time.time()\n",
    "  m_data['target']=target\n",
    "  m_data['server_path']=server\n",
    "  m_data['data_path']=data \n",
    "  m_data['test_path']=test\n",
    "  m_data['max_models']=model\n",
    "  m_data['run_time']=run_time\n",
    "  m_data['run_id'] =run_id\n",
    "  m_data['scale']=scale\n",
    "  m_data['classification']=classification\n",
    "  m_data['scale']=False\n",
    "  m_data['model_path']=model_path\n",
    "  m_data['balance']=balance\n",
    "  m_data['balance_threshold']=balance_threshold\n",
    "  m_data['project'] =name\n",
    "  m_data['end_time'] = time.time()\n",
    "  m_data['execution_time'] = 0.0\n",
    "  m_data['run_path'] =path\n",
    "  m_data['nthreads'] = nthreads\n",
    "  m_data['min_mem_size'] = min_mem_size\n",
    "  m_data['analysis'] = analysis\n",
    "  return m_data\n",
    "\n",
    "\n",
    "def dict_to_json(dct,n):\n",
    "  j = json.dumps(dct, indent=4)\n",
    "  f = open(n, 'w')\n",
    "  print(j, file=f)\n",
    "  f.close()\n",
    "  \n",
    "  \n",
    "def stackedensemble(mod):\n",
    "    coef_norm=None\n",
    "    try:\n",
    "      metalearner = h2o.get_model(mod.metalearner()['name'])\n",
    "      coef_norm=metalearner.coef_norm()\n",
    "    except:\n",
    "      pass        \n",
    "    return coef_norm\n",
    "\n",
    "def stackedensemble_df(df):\n",
    "    bm_algo={ 'GBM': None,'GLM': None,'DRF': None,'XRT': None,'Dee': None}\n",
    "    for index, row in df.iterrows():\n",
    "      if len(row['model_id'])>3:\n",
    "        key=row['model_id'][0:3]\n",
    "        if key in bm_algo:\n",
    "          if bm_algo[key] is None:\n",
    "                bm_algo[key]=row['model_id']\n",
    "    bm=list(bm_algo.values()) \n",
    "    bm=list(filter(None.__ne__, bm))             \n",
    "    return bm\n",
    "\n",
    "def se_stats(modl):\n",
    "    d={}\n",
    "    d['algo']=modl.algo\n",
    "    d['model_id']=modl.model_id   \n",
    "    d['auc']=modl.auc()   \n",
    "    d['roc']=modl.roc()\n",
    "    d['mse']=modl.mse()   \n",
    "    d['null_degrees_of_freedom']=modl.null_degrees_of_freedom()\n",
    "    d['null_deviance']=modl.null_deviance()\n",
    "    d['residual_degrees_of_freedom']=modl.residual_degrees_of_freedom()   \n",
    "    d['residual_deviance']=modl.residual_deviance()\n",
    "    d['rmse']=modl.rmse()\n",
    "    return d\n",
    "\n",
    "def get_model_by_algo(algo,models_dict):\n",
    "    mod=None\n",
    "    mod_id=None    \n",
    "    for m in list(models_dict.keys()):\n",
    "        if m[0:3]==algo:\n",
    "            mod_id=m\n",
    "            mod=h2o.get_model(m)      \n",
    "    return mod,mod_id     \n",
    "    \n",
    "    \n",
    "def gbm_stats(modl):\n",
    "    d={}\n",
    "    d['algo']=modl.algo\n",
    "    d['model_id']=modl.model_id   \n",
    "    d['varimp']=modl.varimp()  \n",
    "    return d\n",
    "    \n",
    "    \n",
    "def dl_stats(modl):\n",
    "    d={}\n",
    "    d['algo']=modl.algo\n",
    "    d['model_id']=modl.model_id   \n",
    "    d['varimp']=modl.varimp()  \n",
    "    return d\n",
    "    \n",
    "    \n",
    "def drf_stats(modl):\n",
    "    d={}\n",
    "    d['algo']=modl.algo\n",
    "    d['model_id']=modl.model_id   \n",
    "    d['varimp']=modl.varimp()  \n",
    "    d['roc']=modl.roc()      \n",
    "    return d\n",
    "    \n",
    "def xrt_stats(modl):\n",
    "    d={}\n",
    "    d['algo']=modl.algo\n",
    "    d['model_id']=modl.model_id   \n",
    "    d['varimp']=modl.varimp()  \n",
    "    d['roc']=modl.roc()      \n",
    "    return d\n",
    "    \n",
    "    \n",
    "def glm_stats(modl):\n",
    "    d={}\n",
    "    d['algo']=modl.algo\n",
    "    d['model_id']=modl.model_id   \n",
    "    d['coef']=modl.coef()  \n",
    "    d['coef_norm']=modl.coef_norm()      \n",
    "    return d\n",
    "    \n",
    "def model_performance_stats(perf):\n",
    "    d={}\n",
    "    try:    \n",
    "      d['mse']=perf.mse()\n",
    "    except:\n",
    "      pass      \n",
    "    try:    \n",
    "      d['rmse']=perf.rmse() \n",
    "    except:\n",
    "      pass      \n",
    "    try:    \n",
    "      d['null_degrees_of_freedom']=perf.null_degrees_of_freedom()\n",
    "    except:\n",
    "      pass      \n",
    "    try:    \n",
    "      d['residual_degrees_of_freedom']=perf.residual_degrees_of_freedom()\n",
    "    except:\n",
    "      pass      \n",
    "    try:    \n",
    "      d['residual_deviance']=perf.residual_deviance() \n",
    "    except:\n",
    "      pass      \n",
    "    try:    \n",
    "      d['null_deviance']=perf.null_deviance() \n",
    "    except:\n",
    "      pass      \n",
    "    try:    \n",
    "      d['aic']=perf.aic() \n",
    "    except:\n",
    "      pass      \n",
    "    try:\n",
    "      d['logloss']=perf.logloss() \n",
    "    except:\n",
    "      pass    \n",
    "    try:\n",
    "      d['auc']=perf.auc()\n",
    "    except:\n",
    "      pass  \n",
    "    try:\n",
    "      d['gini']=perf.gini()\n",
    "    except:\n",
    "      pass    \n",
    "    return d\n",
    "    \n",
    "def impute_missing_values(df, x, scal=False):\n",
    "    # determine column types\n",
    "    ints, reals, enums = [], [], []\n",
    "    for key, val in df.types.items():\n",
    "        if key in x:\n",
    "            if val == 'enum':\n",
    "                enums.append(key)\n",
    "            elif val == 'int':\n",
    "                ints.append(key)            \n",
    "            else: \n",
    "                reals.append(key)    \n",
    "    _ = df[reals].impute(method='mean')\n",
    "    _ = df[ints].impute(method='median')\n",
    "    if scal:\n",
    "        df[reals] = df[reals].scale()\n",
    "        df[ints] = df[ints].scale()    \n",
    "    return\n",
    "\n",
    "\n",
    "def get_independent_variables(df, targ):\n",
    "    C = [name for name in df.columns if name != targ]\n",
    "    # determine column types\n",
    "    ints, reals, enums = [], [], []\n",
    "    for key, val in df.types.items():\n",
    "        if key in C:\n",
    "            if val == 'enum':\n",
    "                enums.append(key)\n",
    "            elif val == 'int':\n",
    "                ints.append(key)            \n",
    "            else: \n",
    "                reals.append(key)    \n",
    "    x=ints+enums+reals\n",
    "    return x\n",
    "    \n",
    "def get_all_variables_csv(i):\n",
    "    ivd={}\n",
    "    try:\n",
    "      iv = pd.read_csv(i,header=None)\n",
    "    except:\n",
    "      sys.exit(1)    \n",
    "    col=iv.values.tolist()[0]\n",
    "    dt=iv.values.tolist()[1]\n",
    "    i=0\n",
    "    for c in col:\n",
    "      ivd[c.strip()]=dt[i].strip()\n",
    "      i+=1        \n",
    "    return ivd\n",
    "    \n",
    "    \n",
    "\n",
    "def check_all_variables(df,dct,y=None):     \n",
    "    targ=list(dct.keys())     \n",
    "    for key, val in df.types.items():\n",
    "        if key in targ:\n",
    "          if dct[key] not in ['real','int','enum']:                      \n",
    "            targ.remove(key)  \n",
    "    for key, val in df.types.items():\n",
    "        if key in targ:            \n",
    "          if dct[key] != val:\n",
    "            print('convert ',key,' ',dct[key],' ',val)\n",
    "            if dct[key]=='enum':\n",
    "                try:\n",
    "                  df[key] = df[key].asfactor() \n",
    "                except:\n",
    "                  targ.remove(key)                 \n",
    "            if dct[key]=='int': \n",
    "                try:                \n",
    "                  df[key] = df[key].asnumeric() \n",
    "                except:\n",
    "                  targ.remove(key)                  \n",
    "            if dct[key]=='real':\n",
    "                try:                \n",
    "                  df[key] = df[key].asnumeric()  \n",
    "                except:\n",
    "                  targ.remove(key)                  \n",
    "    if y is None:\n",
    "      y=df.columns[-1] \n",
    "    if y in targ:\n",
    "      targ.remove(y)\n",
    "    else:\n",
    "      y=targ.pop()            \n",
    "    return targ    \n",
    "    \n",
    "def predictions(mod,data,run_id):\n",
    "    test = h2o.import_file(data)\n",
    "    mod_perf=mod_best.model_performance(test)\n",
    "              \n",
    "    stats_test={}\n",
    "    stats_test=model_performance_stats(mod_perf)\n",
    "\n",
    "    n=run_id+'_test_stats.json'\n",
    "    dict_to_json(stats_test,n) \n",
    "\n",
    "    try:    \n",
    "      cf=mod_perf.confusion_matrix(metrics=[\"f1\",\"f2\",\"f0point5\",\"accuracy\",\"precision\",\"recall\",\"specificity\",\"absolute_mcc\",\"min_per_class_accuracy\",\"mean_per_class_accuracy\"])\n",
    "      cf_df=cf[0].table.as_data_frame()\n",
    "      cf_df.to_csv(run_id+'_test_confusion_matrix.csv')\n",
    "    except:\n",
    "      pass\n",
    "\n",
    "    predictions = mod_best.predict(test)\n",
    "    predictions_df=test.cbind(predictions).as_data_frame() \n",
    "    predictions_df.to_csv(run_id+'_predictions.csv')\n",
    "    return\n",
    "\n",
    "def predictions_test(mod,test,run_id):\n",
    "    mod_perf=mod_best.model_performance(test)          \n",
    "    stats_test={}\n",
    "    stats_test=model_performance_stats(mod_perf)\n",
    "    n=run_id+'_test_stats.json'\n",
    "    dict_to_json(stats_test,n) \n",
    "    try:\n",
    "      cf=mod_perf.confusion_matrix()\n",
    "#      cf=mod_perf.confusion_matrix(metrics=[\"f1\",\"f2\",\"f0point5\",\"accuracy\",\"precision\",\"recall\",\"specificity\",\"absolute_mcc\",\"min_per_class_accuracy\",\"mean_per_class_accuracy\"])\n",
    "      cf_df=cf.table.as_data_frame()\n",
    "      cf_df.to_csv(run_id+'_test_confusion_matrix.csv')\n",
    "    except:\n",
    "      pass\n",
    "    predictions = mod_best.predict(test)    \n",
    "    predictions_df=test.cbind(predictions).as_data_frame() \n",
    "    predictions_df.to_csv(run_id+'_predictions.csv')\n",
    "    return predictions\n",
    "\n",
    "def check_X(x,df):\n",
    "    for name in x:\n",
    "        if name not in df.columns:\n",
    "          x.remove(name)  \n",
    "    return x    \n",
    "    \n",
    "    \n",
    "def get_stacked_ensemble(lst):\n",
    "    se=None\n",
    "    for model in model_set:\n",
    "      if 'BestOfFamily' in model:\n",
    "        se=model\n",
    "    if se is None:     \n",
    "      for model in model_set:\n",
    "        if 'AllModels'in model:\n",
    "          se=model           \n",
    "    return se       \n",
    "    \n",
    "def get_variables_types(df):\n",
    "    d={}\n",
    "    for key, val in df.types.items():\n",
    "        d[key]=val           \n",
    "    return d    \n",
    "    \n",
    "#  End Functions"
   ]
  },
  {
   "cell_type": "code",
   "execution_count": 248,
   "metadata": {},
   "outputs": [
    {
     "name": "stdout",
     "output_type": "stream",
     "text": [
      "nmjKijPyX\n"
     ]
    }
   ],
   "source": [
    "run_id=alphabet(9)\n",
    "if server_path==None:\n",
    "  server_path=os.path.abspath(os.curdir)\n",
    "os.chdir(server_path) \n",
    "run_dir = os.path.join(server_path,run_id)\n",
    "os.mkdir(run_dir)\n",
    "os.chdir(run_dir)    \n",
    "\n",
    "# run_id to std out\n",
    "print (run_id)"
   ]
  },
  {
   "cell_type": "code",
   "execution_count": 249,
   "metadata": {},
   "outputs": [
    {
     "name": "stdout",
     "output_type": "stream",
     "text": [
      "Checking whether there is an H2O instance running at http://localhost:42863 ..... not found.\n",
      "Attempting to start a local H2O server...\n",
      "; Java HotSpot(TM) 64-Bit Server VM (build 25.191-b12, mixed mode)\n",
      "  Starting server from C:\\Users\\vrush\\.jupyter\\AnacondaNew\\lib\\site-packages\\h2o\\backend\\bin\\h2o.jar\n",
      "  Ice root: C:\\Users\\vrush\\AppData\\Local\\Temp\\tmpkdje4vzu\n",
      "  JVM stdout: C:\\Users\\vrush\\AppData\\Local\\Temp\\tmpkdje4vzu\\h2o_vrush_started_from_python.out\n",
      "  JVM stderr: C:\\Users\\vrush\\AppData\\Local\\Temp\\tmpkdje4vzu\\h2o_vrush_started_from_python.err\n",
      "  Server is running at http://127.0.0.1:42863\n",
      "Connecting to H2O server at http://127.0.0.1:42863 ... successful.\n"
     ]
    },
    {
     "data": {
      "text/html": [
       "<div style=\"overflow:auto\"><table style=\"width:50%\"><tr><td>H2O cluster uptime:</td>\n",
       "<td>02 secs</td></tr>\n",
       "<tr><td>H2O cluster timezone:</td>\n",
       "<td>America/New_York</td></tr>\n",
       "<tr><td>H2O data parsing timezone:</td>\n",
       "<td>UTC</td></tr>\n",
       "<tr><td>H2O cluster version:</td>\n",
       "<td>3.24.0.1</td></tr>\n",
       "<tr><td>H2O cluster version age:</td>\n",
       "<td>15 days </td></tr>\n",
       "<tr><td>H2O cluster name:</td>\n",
       "<td>H2O_from_python_vrush_h3307c</td></tr>\n",
       "<tr><td>H2O cluster total nodes:</td>\n",
       "<td>1</td></tr>\n",
       "<tr><td>H2O cluster free memory:</td>\n",
       "<td>3.521 Gb</td></tr>\n",
       "<tr><td>H2O cluster total cores:</td>\n",
       "<td>8</td></tr>\n",
       "<tr><td>H2O cluster allowed cores:</td>\n",
       "<td>8</td></tr>\n",
       "<tr><td>H2O cluster status:</td>\n",
       "<td>accepting new members, healthy</td></tr>\n",
       "<tr><td>H2O connection url:</td>\n",
       "<td>http://127.0.0.1:42863</td></tr>\n",
       "<tr><td>H2O connection proxy:</td>\n",
       "<td>None</td></tr>\n",
       "<tr><td>H2O internal security:</td>\n",
       "<td>False</td></tr>\n",
       "<tr><td>H2O API Extensions:</td>\n",
       "<td>Amazon S3, Algos, AutoML, Core V3, Core V4</td></tr>\n",
       "<tr><td>Python version:</td>\n",
       "<td>3.7.1 final</td></tr></table></div>"
      ],
      "text/plain": [
       "--------------------------  ------------------------------------------\n",
       "H2O cluster uptime:         02 secs\n",
       "H2O cluster timezone:       America/New_York\n",
       "H2O data parsing timezone:  UTC\n",
       "H2O cluster version:        3.24.0.1\n",
       "H2O cluster version age:    15 days\n",
       "H2O cluster name:           H2O_from_python_vrush_h3307c\n",
       "H2O cluster total nodes:    1\n",
       "H2O cluster free memory:    3.521 Gb\n",
       "H2O cluster total cores:    8\n",
       "H2O cluster allowed cores:  8\n",
       "H2O cluster status:         accepting new members, healthy\n",
       "H2O connection url:         http://127.0.0.1:42863\n",
       "H2O connection proxy:\n",
       "H2O internal security:      False\n",
       "H2O API Extensions:         Amazon S3, Algos, AutoML, Core V3, Core V4\n",
       "Python version:             3.7.1 final\n",
       "--------------------------  ------------------------------------------"
      ]
     },
     "metadata": {},
     "output_type": "display_data"
    }
   ],
   "source": [
    "# 65535 Highest port no\n",
    "port_no=random.randint(5555,55555)\n",
    "h2o.init(strict_version_check=False,min_mem_size_GB=min_mem_size,port=port_no)"
   ]
  },
  {
   "cell_type": "code",
   "execution_count": 250,
   "metadata": {},
   "outputs": [
    {
     "name": "stdout",
     "output_type": "stream",
     "text": [
      "{'start_time': 1555459605.9320474, 'target': None, 'server_path': 'C:\\\\Users\\\\vrush\\\\Desktop\\\\python\\\\FinalProject\\\\black-friday\\\\9aTclywXj\\\\Hc4K9U9pf\\\\ad7rvktEw', 'data_path': None, 'test_path': None, 'max_models': 9, 'run_time': 1500, 'run_id': 'nmjKijPyX', 'scale': False, 'classification': False, 'model_path': None, 'balance': False, 'balance_threshold': 0.2, 'project': None, 'end_time': 1555459605.9320474, 'execution_time': 0.0, 'run_path': 'C:\\\\Users\\\\vrush\\\\Desktop\\\\python\\\\FinalProject\\\\black-friday\\\\9aTclywXj\\\\Hc4K9U9pf\\\\ad7rvktEw\\\\nmjKijPyX', 'nthreads': 1, 'min_mem_size': 2, 'analysis': 0}\n"
     ]
    }
   ],
   "source": [
    "\n",
    "# meta data\n",
    "meta_data = set_meta_data(analysis, run_id,server_path,data_path,test_path,model_path,target,run_time,classification,scale,max_models,balance_y,balance_threshold,name,run_dir,nthreads,min_mem_size)\n",
    "print(meta_data)"
   ]
  },
  {
   "cell_type": "code",
   "execution_count": 179,
   "metadata": {},
   "outputs": [],
   "source": [
    "df.to_csv('train1.csv')"
   ]
  },
  {
   "cell_type": "code",
   "execution_count": 180,
   "metadata": {},
   "outputs": [],
   "source": [
    "data_path='train1.csv'\n"
   ]
  },
  {
   "cell_type": "code",
   "execution_count": 181,
   "metadata": {},
   "outputs": [
    {
     "name": "stdout",
     "output_type": "stream",
     "text": [
      "Parse progress: |█████████████████████████████████████████████████████████| 100%\n"
     ]
    }
   ],
   "source": [
    "# Load data into H2O\n",
    "train_data = h2o.import_file(data_path)"
   ]
  },
  {
   "cell_type": "code",
   "execution_count": 182,
   "metadata": {},
   "outputs": [],
   "source": [
    "target = 'Purchase'"
   ]
  },
  {
   "cell_type": "code",
   "execution_count": 183,
   "metadata": {},
   "outputs": [
    {
     "name": "stdout",
     "output_type": "stream",
     "text": [
      "Purchase\n",
      "['User_ID', 'Product_ID', 'Gender', 'Age', 'Occupation', 'City_Category', 'Stay_In_Current_City_Years', 'Marital_Status', 'Product_Category_1', 'Product_Category_2', 'Product_Category_3', 'combined_G_M']\n"
     ]
    }
   ],
   "source": [
    "# assign target and inputs for logistic regression\n",
    "y = target\n",
    "X = [name for name in df.columns if name != y]\n",
    "print(y)\n",
    "print(X)"
   ]
  },
  {
   "cell_type": "code",
   "execution_count": 184,
   "metadata": {},
   "outputs": [],
   "source": [
    "# setup autoML\n",
    "run_time=1500\n",
    "aml = H2OAutoML(max_runtime_secs=run_time)"
   ]
  },
  {
   "cell_type": "code",
   "execution_count": 185,
   "metadata": {},
   "outputs": [],
   "source": [
    "logs_path = os.getcwd()\n",
    "logfile = 'logs.txt'"
   ]
  },
  {
   "cell_type": "code",
   "execution_count": 186,
   "metadata": {},
   "outputs": [
    {
     "name": "stdout",
     "output_type": "stream",
     "text": [
      "AutoML progress: |████████████████████████████████████████████████████████| 100%\n"
     ]
    }
   ],
   "source": [
    "model_start_time = time.time()\n",
    "aml.train(x=X,y=y,training_frame=train_data)  # Change training_frame=train"
   ]
  },
  {
   "cell_type": "code",
   "execution_count": 187,
   "metadata": {},
   "outputs": [
    {
     "data": {
      "text/html": [
       "<table>\n",
       "<thead>\n",
       "<tr><th>model_id                                           </th><th style=\"text-align: right;\">  mean_residual_deviance</th><th style=\"text-align: right;\">   rmse</th><th style=\"text-align: right;\">        mse</th><th style=\"text-align: right;\">    mae</th><th style=\"text-align: right;\">     rmsle</th></tr>\n",
       "</thead>\n",
       "<tbody>\n",
       "<tr><td>GBM_5_AutoML_20190416_190838                       </td><td style=\"text-align: right;\">             6.57815e+06</td><td style=\"text-align: right;\">2564.79</td><td style=\"text-align: right;\">6.57815e+06</td><td style=\"text-align: right;\">1898.75</td><td style=\"text-align: right;\">nan       </td></tr>\n",
       "<tr><td>GBM_4_AutoML_20190416_190838                       </td><td style=\"text-align: right;\">             6.61991e+06</td><td style=\"text-align: right;\">2572.92</td><td style=\"text-align: right;\">6.61991e+06</td><td style=\"text-align: right;\">1911.26</td><td style=\"text-align: right;\">nan       </td></tr>\n",
       "<tr><td>GBM_3_AutoML_20190416_190838                       </td><td style=\"text-align: right;\">             6.765e+06  </td><td style=\"text-align: right;\">2600.96</td><td style=\"text-align: right;\">6.765e+06  </td><td style=\"text-align: right;\">1939.74</td><td style=\"text-align: right;\">nan       </td></tr>\n",
       "<tr><td>GBM_2_AutoML_20190416_190838                       </td><td style=\"text-align: right;\">             6.86895e+06</td><td style=\"text-align: right;\">2620.87</td><td style=\"text-align: right;\">6.86895e+06</td><td style=\"text-align: right;\">1956.33</td><td style=\"text-align: right;\">nan       </td></tr>\n",
       "<tr><td>GBM_1_AutoML_20190416_190838                       </td><td style=\"text-align: right;\">             6.96638e+06</td><td style=\"text-align: right;\">2639.39</td><td style=\"text-align: right;\">6.96638e+06</td><td style=\"text-align: right;\">1971.03</td><td style=\"text-align: right;\">nan       </td></tr>\n",
       "<tr><td>DRF_1_AutoML_20190416_190838                       </td><td style=\"text-align: right;\">             8.19193e+06</td><td style=\"text-align: right;\">2862.15</td><td style=\"text-align: right;\">8.19193e+06</td><td style=\"text-align: right;\">2158.63</td><td style=\"text-align: right;\">  0.403952</td></tr>\n",
       "<tr><td>StackedEnsemble_AllModels_AutoML_20190416_190838   </td><td style=\"text-align: right;\">             1.07945e+07</td><td style=\"text-align: right;\">3285.5 </td><td style=\"text-align: right;\">1.07945e+07</td><td style=\"text-align: right;\">2566.15</td><td style=\"text-align: right;\">  0.487278</td></tr>\n",
       "<tr><td>StackedEnsemble_BestOfFamily_AutoML_20190416_190838</td><td style=\"text-align: right;\">             1.64783e+07</td><td style=\"text-align: right;\">4059.35</td><td style=\"text-align: right;\">1.64783e+07</td><td style=\"text-align: right;\">3236.15</td><td style=\"text-align: right;\">  0.575882</td></tr>\n",
       "<tr><td>GLM_grid_1_AutoML_20190416_190838_model_1          </td><td style=\"text-align: right;\">             2.48106e+07</td><td style=\"text-align: right;\">4981.02</td><td style=\"text-align: right;\">2.48106e+07</td><td style=\"text-align: right;\">4047.52</td><td style=\"text-align: right;\">  0.666417</td></tr>\n",
       "</tbody>\n",
       "</table>"
      ]
     },
     "metadata": {},
     "output_type": "display_data"
    },
    {
     "data": {
      "text/plain": []
     },
     "execution_count": 187,
     "metadata": {},
     "output_type": "execute_result"
    }
   ],
   "source": [
    "# view leaderboard\n",
    "lb = aml.leaderboard\n",
    "lb.head(100)"
   ]
  },
  {
   "cell_type": "code",
   "execution_count": 188,
   "metadata": {},
   "outputs": [],
   "source": [
    "\n",
    "# get leaderboard\n",
    "aml_leaderboard_df=aml.leaderboard.as_data_frame()"
   ]
  },
  {
   "cell_type": "code",
   "execution_count": 189,
   "metadata": {},
   "outputs": [],
   "source": [
    "\n",
    "# STart best model as first model\n",
    "\n",
    "model_set=aml_leaderboard_df['model_id']\n",
    "mod_best=h2o.get_model(model_set[0])"
   ]
  },
  {
   "cell_type": "code",
   "execution_count": 190,
   "metadata": {},
   "outputs": [
    {
     "data": {
      "text/plain": [
       "'GBM_5_AutoML_20190416_190838'"
      ]
     },
     "execution_count": 190,
     "metadata": {},
     "output_type": "execute_result"
    }
   ],
   "source": [
    "mod_best._id"
   ]
  },
  {
   "cell_type": "code",
   "execution_count": 191,
   "metadata": {},
   "outputs": [
    {
     "data": {
      "text/plain": [
       "{'model_id': {'default': None,\n",
       "  'actual': {'__meta': {'schema_version': 3,\n",
       "    'schema_name': 'ModelKeyV3',\n",
       "    'schema_type': 'Key<Model>'},\n",
       "   'name': 'GBM_5_AutoML_20190416_190838',\n",
       "   'type': 'Key<Model>',\n",
       "   'URL': '/3/Models/GBM_5_AutoML_20190416_190838'}},\n",
       " 'training_frame': {'default': None,\n",
       "  'actual': {'__meta': {'schema_version': 3,\n",
       "    'schema_name': 'FrameKeyV3',\n",
       "    'schema_type': 'Key<Frame>'},\n",
       "   'name': 'automl_training_train1.hex',\n",
       "   'type': 'Key<Frame>',\n",
       "   'URL': '/3/Frames/automl_training_train1.hex'}},\n",
       " 'validation_frame': {'default': None, 'actual': None},\n",
       " 'nfolds': {'default': 0, 'actual': 5},\n",
       " 'keep_cross_validation_models': {'default': True, 'actual': False},\n",
       " 'keep_cross_validation_predictions': {'default': False, 'actual': True},\n",
       " 'keep_cross_validation_fold_assignment': {'default': False, 'actual': False},\n",
       " 'score_each_iteration': {'default': False, 'actual': False},\n",
       " 'score_tree_interval': {'default': 0, 'actual': 5},\n",
       " 'fold_assignment': {'default': 'AUTO', 'actual': 'Modulo'},\n",
       " 'fold_column': {'default': None, 'actual': None},\n",
       " 'response_column': {'default': None,\n",
       "  'actual': {'__meta': {'schema_version': 3,\n",
       "    'schema_name': 'ColSpecifierV3',\n",
       "    'schema_type': 'VecSpecifier'},\n",
       "   'column_name': 'Purchase',\n",
       "   'is_member_of_frames': None}},\n",
       " 'ignored_columns': {'default': None, 'actual': ['C1']},\n",
       " 'ignore_const_cols': {'default': True, 'actual': True},\n",
       " 'offset_column': {'default': None, 'actual': None},\n",
       " 'weights_column': {'default': None, 'actual': None},\n",
       " 'balance_classes': {'default': False, 'actual': False},\n",
       " 'class_sampling_factors': {'default': None, 'actual': None},\n",
       " 'max_after_balance_size': {'default': 5.0, 'actual': 5.0},\n",
       " 'max_confusion_matrix_size': {'default': 20, 'actual': 20},\n",
       " 'max_hit_ratio_k': {'default': 0, 'actual': 0},\n",
       " 'ntrees': {'default': 50, 'actual': 88},\n",
       " 'max_depth': {'default': 5, 'actual': 15},\n",
       " 'min_rows': {'default': 10.0, 'actual': 100.0},\n",
       " 'nbins': {'default': 20, 'actual': 20},\n",
       " 'nbins_top_level': {'default': 1024, 'actual': 1024},\n",
       " 'nbins_cats': {'default': 1024, 'actual': 1024},\n",
       " 'r2_stopping': {'default': 1.7976931348623157e+308,\n",
       "  'actual': 1.7976931348623157e+308},\n",
       " 'stopping_rounds': {'default': 0, 'actual': 0},\n",
       " 'stopping_metric': {'default': 'AUTO', 'actual': 'deviance'},\n",
       " 'stopping_tolerance': {'default': 0.001, 'actual': 0.001363890989782514},\n",
       " 'max_runtime_secs': {'default': 0.0, 'actual': 0.0},\n",
       " 'seed': {'default': -1, 'actual': 436659726612408543},\n",
       " 'build_tree_one_node': {'default': False, 'actual': False},\n",
       " 'learn_rate': {'default': 0.1, 'actual': 0.1},\n",
       " 'learn_rate_annealing': {'default': 1.0, 'actual': 1.0},\n",
       " 'distribution': {'default': 'AUTO', 'actual': 'gaussian'},\n",
       " 'quantile_alpha': {'default': 0.5, 'actual': 0.5},\n",
       " 'tweedie_power': {'default': 1.5, 'actual': 1.5},\n",
       " 'huber_alpha': {'default': 0.9, 'actual': 0.9},\n",
       " 'checkpoint': {'default': None, 'actual': None},\n",
       " 'sample_rate': {'default': 1.0, 'actual': 0.8},\n",
       " 'sample_rate_per_class': {'default': None, 'actual': None},\n",
       " 'col_sample_rate': {'default': 1.0, 'actual': 0.8},\n",
       " 'col_sample_rate_change_per_level': {'default': 1.0, 'actual': 1.0},\n",
       " 'col_sample_rate_per_tree': {'default': 1.0, 'actual': 0.8},\n",
       " 'min_split_improvement': {'default': 1e-05, 'actual': 1e-05},\n",
       " 'histogram_type': {'default': 'AUTO', 'actual': 'AUTO'},\n",
       " 'max_abs_leafnode_pred': {'default': 1.7976931348623157e+308,\n",
       "  'actual': 1.7976931348623157e+308},\n",
       " 'pred_noise_bandwidth': {'default': 0.0, 'actual': 0.0},\n",
       " 'categorical_encoding': {'default': 'AUTO', 'actual': 'AUTO'},\n",
       " 'calibrate_model': {'default': False, 'actual': False},\n",
       " 'calibration_frame': {'default': None, 'actual': None},\n",
       " 'custom_metric_func': {'default': None, 'actual': None},\n",
       " 'export_checkpoints_dir': {'default': None, 'actual': None},\n",
       " 'monotone_constraints': {'default': None, 'actual': None},\n",
       " 'check_constant_response': {'default': True, 'actual': True}}"
      ]
     },
     "execution_count": 191,
     "metadata": {},
     "output_type": "execute_result"
    }
   ],
   "source": [
    "# h2o.get_model(mod_best)\n",
    "mod_best.params"
   ]
  },
  {
   "cell_type": "code",
   "execution_count": 192,
   "metadata": {},
   "outputs": [],
   "source": [
    "def dict_to_json(dct,n):\n",
    "  j = json.dumps(dct, indent=4)\n",
    "  f = open(n, 'w')\n",
    "  print(j, file=f)\n",
    "  f.close()"
   ]
  },
  {
   "cell_type": "code",
   "execution_count": 193,
   "metadata": {},
   "outputs": [],
   "source": [
    "hy_parameter = mod_best.params\n",
    "n='hyperparameter1_1500.json'"
   ]
  },
  {
   "cell_type": "code",
   "execution_count": 194,
   "metadata": {},
   "outputs": [],
   "source": [
    "dict_to_json(hy_parameter,n)"
   ]
  },
  {
   "cell_type": "markdown",
   "metadata": {},
   "source": [
    "# Hyperparameter Model 2 for 1500 Seconds"
   ]
  },
  {
   "cell_type": "code",
   "execution_count": 195,
   "metadata": {},
   "outputs": [],
   "source": [
    "\n",
    "# STart best model as first model\n",
    "\n",
    "model_set=aml_leaderboard_df['model_id']\n",
    "mod_best=h2o.get_model(model_set[1])"
   ]
  },
  {
   "cell_type": "code",
   "execution_count": 196,
   "metadata": {},
   "outputs": [
    {
     "data": {
      "text/plain": [
       "'GBM_4_AutoML_20190416_190838'"
      ]
     },
     "execution_count": 196,
     "metadata": {},
     "output_type": "execute_result"
    }
   ],
   "source": [
    "mod_best._id"
   ]
  },
  {
   "cell_type": "code",
   "execution_count": 197,
   "metadata": {},
   "outputs": [
    {
     "data": {
      "text/plain": [
       "{'model_id': {'default': None,\n",
       "  'actual': {'__meta': {'schema_version': 3,\n",
       "    'schema_name': 'ModelKeyV3',\n",
       "    'schema_type': 'Key<Model>'},\n",
       "   'name': 'GBM_4_AutoML_20190416_190838',\n",
       "   'type': 'Key<Model>',\n",
       "   'URL': '/3/Models/GBM_4_AutoML_20190416_190838'}},\n",
       " 'training_frame': {'default': None,\n",
       "  'actual': {'__meta': {'schema_version': 3,\n",
       "    'schema_name': 'FrameKeyV3',\n",
       "    'schema_type': 'Key<Frame>'},\n",
       "   'name': 'automl_training_train1.hex',\n",
       "   'type': 'Key<Frame>',\n",
       "   'URL': '/3/Frames/automl_training_train1.hex'}},\n",
       " 'validation_frame': {'default': None, 'actual': None},\n",
       " 'nfolds': {'default': 0, 'actual': 5},\n",
       " 'keep_cross_validation_models': {'default': True, 'actual': False},\n",
       " 'keep_cross_validation_predictions': {'default': False, 'actual': True},\n",
       " 'keep_cross_validation_fold_assignment': {'default': False, 'actual': False},\n",
       " 'score_each_iteration': {'default': False, 'actual': False},\n",
       " 'score_tree_interval': {'default': 0, 'actual': 5},\n",
       " 'fold_assignment': {'default': 'AUTO', 'actual': 'Modulo'},\n",
       " 'fold_column': {'default': None, 'actual': None},\n",
       " 'response_column': {'default': None,\n",
       "  'actual': {'__meta': {'schema_version': 3,\n",
       "    'schema_name': 'ColSpecifierV3',\n",
       "    'schema_type': 'VecSpecifier'},\n",
       "   'column_name': 'Purchase',\n",
       "   'is_member_of_frames': None}},\n",
       " 'ignored_columns': {'default': None, 'actual': ['C1']},\n",
       " 'ignore_const_cols': {'default': True, 'actual': True},\n",
       " 'offset_column': {'default': None, 'actual': None},\n",
       " 'weights_column': {'default': None, 'actual': None},\n",
       " 'balance_classes': {'default': False, 'actual': False},\n",
       " 'class_sampling_factors': {'default': None, 'actual': None},\n",
       " 'max_after_balance_size': {'default': 5.0, 'actual': 5.0},\n",
       " 'max_confusion_matrix_size': {'default': 20, 'actual': 20},\n",
       " 'max_hit_ratio_k': {'default': 0, 'actual': 0},\n",
       " 'ntrees': {'default': 50, 'actual': 88},\n",
       " 'max_depth': {'default': 5, 'actual': 15},\n",
       " 'min_rows': {'default': 10.0, 'actual': 100.0},\n",
       " 'nbins': {'default': 20, 'actual': 20},\n",
       " 'nbins_top_level': {'default': 1024, 'actual': 1024},\n",
       " 'nbins_cats': {'default': 1024, 'actual': 1024},\n",
       " 'r2_stopping': {'default': 1.7976931348623157e+308,\n",
       "  'actual': 1.7976931348623157e+308},\n",
       " 'stopping_rounds': {'default': 0, 'actual': 0},\n",
       " 'stopping_metric': {'default': 'AUTO', 'actual': 'deviance'},\n",
       " 'stopping_tolerance': {'default': 0.001, 'actual': 0.001363890989782514},\n",
       " 'max_runtime_secs': {'default': 0.0, 'actual': 0.0},\n",
       " 'seed': {'default': -1, 'actual': 436659726612408543},\n",
       " 'build_tree_one_node': {'default': False, 'actual': False},\n",
       " 'learn_rate': {'default': 0.1, 'actual': 0.1},\n",
       " 'learn_rate_annealing': {'default': 1.0, 'actual': 1.0},\n",
       " 'distribution': {'default': 'AUTO', 'actual': 'gaussian'},\n",
       " 'quantile_alpha': {'default': 0.5, 'actual': 0.5},\n",
       " 'tweedie_power': {'default': 1.5, 'actual': 1.5},\n",
       " 'huber_alpha': {'default': 0.9, 'actual': 0.9},\n",
       " 'checkpoint': {'default': None, 'actual': None},\n",
       " 'sample_rate': {'default': 1.0, 'actual': 0.8},\n",
       " 'sample_rate_per_class': {'default': None, 'actual': None},\n",
       " 'col_sample_rate': {'default': 1.0, 'actual': 0.8},\n",
       " 'col_sample_rate_change_per_level': {'default': 1.0, 'actual': 1.0},\n",
       " 'col_sample_rate_per_tree': {'default': 1.0, 'actual': 0.8},\n",
       " 'min_split_improvement': {'default': 1e-05, 'actual': 1e-05},\n",
       " 'histogram_type': {'default': 'AUTO', 'actual': 'AUTO'},\n",
       " 'max_abs_leafnode_pred': {'default': 1.7976931348623157e+308,\n",
       "  'actual': 1.7976931348623157e+308},\n",
       " 'pred_noise_bandwidth': {'default': 0.0, 'actual': 0.0},\n",
       " 'categorical_encoding': {'default': 'AUTO', 'actual': 'AUTO'},\n",
       " 'calibrate_model': {'default': False, 'actual': False},\n",
       " 'calibration_frame': {'default': None, 'actual': None},\n",
       " 'custom_metric_func': {'default': None, 'actual': None},\n",
       " 'export_checkpoints_dir': {'default': None, 'actual': None},\n",
       " 'monotone_constraints': {'default': None, 'actual': None},\n",
       " 'check_constant_response': {'default': True, 'actual': True}}"
      ]
     },
     "execution_count": 197,
     "metadata": {},
     "output_type": "execute_result"
    }
   ],
   "source": [
    "# h2o.get_model(mod_best)\n",
    "mod_best.params"
   ]
  },
  {
   "cell_type": "code",
   "execution_count": 198,
   "metadata": {},
   "outputs": [],
   "source": [
    "def dict_to_json(dct,n):\n",
    "  j = json.dumps(dct, indent=4)\n",
    "  f = open(n, 'w')\n",
    "  print(j, file=f)\n",
    "  f.close()"
   ]
  },
  {
   "cell_type": "code",
   "execution_count": 200,
   "metadata": {},
   "outputs": [],
   "source": [
    "hy_parameter = mod_best.params\n",
    "n='hyperparameter2_1500.json'"
   ]
  },
  {
   "cell_type": "code",
   "execution_count": 201,
   "metadata": {},
   "outputs": [],
   "source": [
    "dict_to_json(hy_parameter,n)"
   ]
  },
  {
   "cell_type": "markdown",
   "metadata": {},
   "source": [
    "# Hyperparameter for model 3 for 1500 Seconds"
   ]
  },
  {
   "cell_type": "code",
   "execution_count": 203,
   "metadata": {},
   "outputs": [],
   "source": [
    "\n",
    "# STart best model as first model\n",
    "\n",
    "model_set=aml_leaderboard_df['model_id']\n",
    "mod_best=h2o.get_model(model_set[2])"
   ]
  },
  {
   "cell_type": "code",
   "execution_count": 204,
   "metadata": {},
   "outputs": [
    {
     "data": {
      "text/plain": [
       "'GBM_3_AutoML_20190416_190838'"
      ]
     },
     "execution_count": 204,
     "metadata": {},
     "output_type": "execute_result"
    }
   ],
   "source": [
    "mod_best._id"
   ]
  },
  {
   "cell_type": "code",
   "execution_count": 205,
   "metadata": {},
   "outputs": [
    {
     "data": {
      "text/plain": [
       "{'model_id': {'default': None,\n",
       "  'actual': {'__meta': {'schema_version': 3,\n",
       "    'schema_name': 'ModelKeyV3',\n",
       "    'schema_type': 'Key<Model>'},\n",
       "   'name': 'GBM_3_AutoML_20190416_190838',\n",
       "   'type': 'Key<Model>',\n",
       "   'URL': '/3/Models/GBM_3_AutoML_20190416_190838'}},\n",
       " 'training_frame': {'default': None,\n",
       "  'actual': {'__meta': {'schema_version': 3,\n",
       "    'schema_name': 'FrameKeyV3',\n",
       "    'schema_type': 'Key<Frame>'},\n",
       "   'name': 'automl_training_train1.hex',\n",
       "   'type': 'Key<Frame>',\n",
       "   'URL': '/3/Frames/automl_training_train1.hex'}},\n",
       " 'validation_frame': {'default': None, 'actual': None},\n",
       " 'nfolds': {'default': 0, 'actual': 5},\n",
       " 'keep_cross_validation_models': {'default': True, 'actual': False},\n",
       " 'keep_cross_validation_predictions': {'default': False, 'actual': True},\n",
       " 'keep_cross_validation_fold_assignment': {'default': False, 'actual': False},\n",
       " 'score_each_iteration': {'default': False, 'actual': False},\n",
       " 'score_tree_interval': {'default': 0, 'actual': 5},\n",
       " 'fold_assignment': {'default': 'AUTO', 'actual': 'Modulo'},\n",
       " 'fold_column': {'default': None, 'actual': None},\n",
       " 'response_column': {'default': None,\n",
       "  'actual': {'__meta': {'schema_version': 3,\n",
       "    'schema_name': 'ColSpecifierV3',\n",
       "    'schema_type': 'VecSpecifier'},\n",
       "   'column_name': 'Purchase',\n",
       "   'is_member_of_frames': None}},\n",
       " 'ignored_columns': {'default': None, 'actual': ['C1']},\n",
       " 'ignore_const_cols': {'default': True, 'actual': True},\n",
       " 'offset_column': {'default': None, 'actual': None},\n",
       " 'weights_column': {'default': None, 'actual': None},\n",
       " 'balance_classes': {'default': False, 'actual': False},\n",
       " 'class_sampling_factors': {'default': None, 'actual': None},\n",
       " 'max_after_balance_size': {'default': 5.0, 'actual': 5.0},\n",
       " 'max_confusion_matrix_size': {'default': 20, 'actual': 20},\n",
       " 'max_hit_ratio_k': {'default': 0, 'actual': 0},\n",
       " 'ntrees': {'default': 50, 'actual': 88},\n",
       " 'max_depth': {'default': 5, 'actual': 15},\n",
       " 'min_rows': {'default': 10.0, 'actual': 100.0},\n",
       " 'nbins': {'default': 20, 'actual': 20},\n",
       " 'nbins_top_level': {'default': 1024, 'actual': 1024},\n",
       " 'nbins_cats': {'default': 1024, 'actual': 1024},\n",
       " 'r2_stopping': {'default': 1.7976931348623157e+308,\n",
       "  'actual': 1.7976931348623157e+308},\n",
       " 'stopping_rounds': {'default': 0, 'actual': 0},\n",
       " 'stopping_metric': {'default': 'AUTO', 'actual': 'deviance'},\n",
       " 'stopping_tolerance': {'default': 0.001, 'actual': 0.001363890989782514},\n",
       " 'max_runtime_secs': {'default': 0.0, 'actual': 0.0},\n",
       " 'seed': {'default': -1, 'actual': 436659726612408543},\n",
       " 'build_tree_one_node': {'default': False, 'actual': False},\n",
       " 'learn_rate': {'default': 0.1, 'actual': 0.1},\n",
       " 'learn_rate_annealing': {'default': 1.0, 'actual': 1.0},\n",
       " 'distribution': {'default': 'AUTO', 'actual': 'gaussian'},\n",
       " 'quantile_alpha': {'default': 0.5, 'actual': 0.5},\n",
       " 'tweedie_power': {'default': 1.5, 'actual': 1.5},\n",
       " 'huber_alpha': {'default': 0.9, 'actual': 0.9},\n",
       " 'checkpoint': {'default': None, 'actual': None},\n",
       " 'sample_rate': {'default': 1.0, 'actual': 0.8},\n",
       " 'sample_rate_per_class': {'default': None, 'actual': None},\n",
       " 'col_sample_rate': {'default': 1.0, 'actual': 0.8},\n",
       " 'col_sample_rate_change_per_level': {'default': 1.0, 'actual': 1.0},\n",
       " 'col_sample_rate_per_tree': {'default': 1.0, 'actual': 0.8},\n",
       " 'min_split_improvement': {'default': 1e-05, 'actual': 1e-05},\n",
       " 'histogram_type': {'default': 'AUTO', 'actual': 'AUTO'},\n",
       " 'max_abs_leafnode_pred': {'default': 1.7976931348623157e+308,\n",
       "  'actual': 1.7976931348623157e+308},\n",
       " 'pred_noise_bandwidth': {'default': 0.0, 'actual': 0.0},\n",
       " 'categorical_encoding': {'default': 'AUTO', 'actual': 'AUTO'},\n",
       " 'calibrate_model': {'default': False, 'actual': False},\n",
       " 'calibration_frame': {'default': None, 'actual': None},\n",
       " 'custom_metric_func': {'default': None, 'actual': None},\n",
       " 'export_checkpoints_dir': {'default': None, 'actual': None},\n",
       " 'monotone_constraints': {'default': None, 'actual': None},\n",
       " 'check_constant_response': {'default': True, 'actual': True}}"
      ]
     },
     "execution_count": 205,
     "metadata": {},
     "output_type": "execute_result"
    }
   ],
   "source": [
    "# h2o.get_model(mod_best)\n",
    "mod_best.params"
   ]
  },
  {
   "cell_type": "code",
   "execution_count": 206,
   "metadata": {},
   "outputs": [],
   "source": [
    "def dict_to_json(dct,n):\n",
    "  j = json.dumps(dct, indent=4)\n",
    "  f = open(n, 'w')\n",
    "  print(j, file=f)\n",
    "  f.close()"
   ]
  },
  {
   "cell_type": "code",
   "execution_count": 207,
   "metadata": {},
   "outputs": [],
   "source": [
    "hy_parameter = mod_best.params\n",
    "n='hyperparameter3_1500.json'"
   ]
  },
  {
   "cell_type": "code",
   "execution_count": 208,
   "metadata": {},
   "outputs": [],
   "source": [
    "dict_to_json(hy_parameter,n)"
   ]
  },
  {
   "cell_type": "markdown",
   "metadata": {},
   "source": [
    "# Hyperparameter Model 4 for 1500 Seconds"
   ]
  },
  {
   "cell_type": "code",
   "execution_count": 209,
   "metadata": {},
   "outputs": [],
   "source": [
    "\n",
    "# STart best model as first model\n",
    "\n",
    "model_set=aml_leaderboard_df['model_id']\n",
    "mod_best=h2o.get_model(model_set[3])"
   ]
  },
  {
   "cell_type": "code",
   "execution_count": 210,
   "metadata": {},
   "outputs": [
    {
     "data": {
      "text/plain": [
       "'GBM_2_AutoML_20190416_190838'"
      ]
     },
     "execution_count": 210,
     "metadata": {},
     "output_type": "execute_result"
    }
   ],
   "source": [
    "mod_best._id"
   ]
  },
  {
   "cell_type": "code",
   "execution_count": 211,
   "metadata": {},
   "outputs": [
    {
     "data": {
      "text/plain": [
       "{'model_id': {'default': None,\n",
       "  'actual': {'__meta': {'schema_version': 3,\n",
       "    'schema_name': 'ModelKeyV3',\n",
       "    'schema_type': 'Key<Model>'},\n",
       "   'name': 'GBM_2_AutoML_20190416_190838',\n",
       "   'type': 'Key<Model>',\n",
       "   'URL': '/3/Models/GBM_2_AutoML_20190416_190838'}},\n",
       " 'training_frame': {'default': None,\n",
       "  'actual': {'__meta': {'schema_version': 3,\n",
       "    'schema_name': 'FrameKeyV3',\n",
       "    'schema_type': 'Key<Frame>'},\n",
       "   'name': 'automl_training_train1.hex',\n",
       "   'type': 'Key<Frame>',\n",
       "   'URL': '/3/Frames/automl_training_train1.hex'}},\n",
       " 'validation_frame': {'default': None, 'actual': None},\n",
       " 'nfolds': {'default': 0, 'actual': 5},\n",
       " 'keep_cross_validation_models': {'default': True, 'actual': False},\n",
       " 'keep_cross_validation_predictions': {'default': False, 'actual': True},\n",
       " 'keep_cross_validation_fold_assignment': {'default': False, 'actual': False},\n",
       " 'score_each_iteration': {'default': False, 'actual': False},\n",
       " 'score_tree_interval': {'default': 0, 'actual': 5},\n",
       " 'fold_assignment': {'default': 'AUTO', 'actual': 'Modulo'},\n",
       " 'fold_column': {'default': None, 'actual': None},\n",
       " 'response_column': {'default': None,\n",
       "  'actual': {'__meta': {'schema_version': 3,\n",
       "    'schema_name': 'ColSpecifierV3',\n",
       "    'schema_type': 'VecSpecifier'},\n",
       "   'column_name': 'Purchase',\n",
       "   'is_member_of_frames': None}},\n",
       " 'ignored_columns': {'default': None, 'actual': ['C1']},\n",
       " 'ignore_const_cols': {'default': True, 'actual': True},\n",
       " 'offset_column': {'default': None, 'actual': None},\n",
       " 'weights_column': {'default': None, 'actual': None},\n",
       " 'balance_classes': {'default': False, 'actual': False},\n",
       " 'class_sampling_factors': {'default': None, 'actual': None},\n",
       " 'max_after_balance_size': {'default': 5.0, 'actual': 5.0},\n",
       " 'max_confusion_matrix_size': {'default': 20, 'actual': 20},\n",
       " 'max_hit_ratio_k': {'default': 0, 'actual': 0},\n",
       " 'ntrees': {'default': 50, 'actual': 88},\n",
       " 'max_depth': {'default': 5, 'actual': 15},\n",
       " 'min_rows': {'default': 10.0, 'actual': 100.0},\n",
       " 'nbins': {'default': 20, 'actual': 20},\n",
       " 'nbins_top_level': {'default': 1024, 'actual': 1024},\n",
       " 'nbins_cats': {'default': 1024, 'actual': 1024},\n",
       " 'r2_stopping': {'default': 1.7976931348623157e+308,\n",
       "  'actual': 1.7976931348623157e+308},\n",
       " 'stopping_rounds': {'default': 0, 'actual': 0},\n",
       " 'stopping_metric': {'default': 'AUTO', 'actual': 'deviance'},\n",
       " 'stopping_tolerance': {'default': 0.001, 'actual': 0.001363890989782514},\n",
       " 'max_runtime_secs': {'default': 0.0, 'actual': 0.0},\n",
       " 'seed': {'default': -1, 'actual': 436659726612408543},\n",
       " 'build_tree_one_node': {'default': False, 'actual': False},\n",
       " 'learn_rate': {'default': 0.1, 'actual': 0.1},\n",
       " 'learn_rate_annealing': {'default': 1.0, 'actual': 1.0},\n",
       " 'distribution': {'default': 'AUTO', 'actual': 'gaussian'},\n",
       " 'quantile_alpha': {'default': 0.5, 'actual': 0.5},\n",
       " 'tweedie_power': {'default': 1.5, 'actual': 1.5},\n",
       " 'huber_alpha': {'default': 0.9, 'actual': 0.9},\n",
       " 'checkpoint': {'default': None, 'actual': None},\n",
       " 'sample_rate': {'default': 1.0, 'actual': 0.8},\n",
       " 'sample_rate_per_class': {'default': None, 'actual': None},\n",
       " 'col_sample_rate': {'default': 1.0, 'actual': 0.8},\n",
       " 'col_sample_rate_change_per_level': {'default': 1.0, 'actual': 1.0},\n",
       " 'col_sample_rate_per_tree': {'default': 1.0, 'actual': 0.8},\n",
       " 'min_split_improvement': {'default': 1e-05, 'actual': 1e-05},\n",
       " 'histogram_type': {'default': 'AUTO', 'actual': 'AUTO'},\n",
       " 'max_abs_leafnode_pred': {'default': 1.7976931348623157e+308,\n",
       "  'actual': 1.7976931348623157e+308},\n",
       " 'pred_noise_bandwidth': {'default': 0.0, 'actual': 0.0},\n",
       " 'categorical_encoding': {'default': 'AUTO', 'actual': 'AUTO'},\n",
       " 'calibrate_model': {'default': False, 'actual': False},\n",
       " 'calibration_frame': {'default': None, 'actual': None},\n",
       " 'custom_metric_func': {'default': None, 'actual': None},\n",
       " 'export_checkpoints_dir': {'default': None, 'actual': None},\n",
       " 'monotone_constraints': {'default': None, 'actual': None},\n",
       " 'check_constant_response': {'default': True, 'actual': True}}"
      ]
     },
     "execution_count": 211,
     "metadata": {},
     "output_type": "execute_result"
    }
   ],
   "source": [
    "# h2o.get_model(mod_best)\n",
    "mod_best.params"
   ]
  },
  {
   "cell_type": "code",
   "execution_count": 212,
   "metadata": {},
   "outputs": [],
   "source": [
    "def dict_to_json(dct,n):\n",
    "  j = json.dumps(dct, indent=4)\n",
    "  f = open(n, 'w')\n",
    "  print(j, file=f)\n",
    "  f.close()"
   ]
  },
  {
   "cell_type": "code",
   "execution_count": 213,
   "metadata": {},
   "outputs": [],
   "source": [
    "hy_parameter = mod_best.params\n",
    "n='hyperparameter4_1500.json'"
   ]
  },
  {
   "cell_type": "code",
   "execution_count": 214,
   "metadata": {},
   "outputs": [],
   "source": [
    "dict_to_json(hy_parameter,n)"
   ]
  },
  {
   "cell_type": "markdown",
   "metadata": {},
   "source": [
    "# Hyperparameter Model 5 for 1500 Seconds"
   ]
  },
  {
   "cell_type": "code",
   "execution_count": 215,
   "metadata": {},
   "outputs": [],
   "source": [
    "\n",
    "# STart best model as first model\n",
    "\n",
    "model_set=aml_leaderboard_df['model_id']\n",
    "mod_best=h2o.get_model(model_set[4])"
   ]
  },
  {
   "cell_type": "code",
   "execution_count": 216,
   "metadata": {},
   "outputs": [
    {
     "data": {
      "text/plain": [
       "'GBM_1_AutoML_20190416_190838'"
      ]
     },
     "execution_count": 216,
     "metadata": {},
     "output_type": "execute_result"
    }
   ],
   "source": [
    "mod_best._id"
   ]
  },
  {
   "cell_type": "code",
   "execution_count": 217,
   "metadata": {},
   "outputs": [
    {
     "data": {
      "text/plain": [
       "{'model_id': {'default': None,\n",
       "  'actual': {'__meta': {'schema_version': 3,\n",
       "    'schema_name': 'ModelKeyV3',\n",
       "    'schema_type': 'Key<Model>'},\n",
       "   'name': 'GBM_1_AutoML_20190416_190838',\n",
       "   'type': 'Key<Model>',\n",
       "   'URL': '/3/Models/GBM_1_AutoML_20190416_190838'}},\n",
       " 'training_frame': {'default': None,\n",
       "  'actual': {'__meta': {'schema_version': 3,\n",
       "    'schema_name': 'FrameKeyV3',\n",
       "    'schema_type': 'Key<Frame>'},\n",
       "   'name': 'automl_training_train1.hex',\n",
       "   'type': 'Key<Frame>',\n",
       "   'URL': '/3/Frames/automl_training_train1.hex'}},\n",
       " 'validation_frame': {'default': None, 'actual': None},\n",
       " 'nfolds': {'default': 0, 'actual': 5},\n",
       " 'keep_cross_validation_models': {'default': True, 'actual': False},\n",
       " 'keep_cross_validation_predictions': {'default': False, 'actual': True},\n",
       " 'keep_cross_validation_fold_assignment': {'default': False, 'actual': False},\n",
       " 'score_each_iteration': {'default': False, 'actual': False},\n",
       " 'score_tree_interval': {'default': 0, 'actual': 5},\n",
       " 'fold_assignment': {'default': 'AUTO', 'actual': 'Modulo'},\n",
       " 'fold_column': {'default': None, 'actual': None},\n",
       " 'response_column': {'default': None,\n",
       "  'actual': {'__meta': {'schema_version': 3,\n",
       "    'schema_name': 'ColSpecifierV3',\n",
       "    'schema_type': 'VecSpecifier'},\n",
       "   'column_name': 'Purchase',\n",
       "   'is_member_of_frames': None}},\n",
       " 'ignored_columns': {'default': None, 'actual': ['C1']},\n",
       " 'ignore_const_cols': {'default': True, 'actual': True},\n",
       " 'offset_column': {'default': None, 'actual': None},\n",
       " 'weights_column': {'default': None, 'actual': None},\n",
       " 'balance_classes': {'default': False, 'actual': False},\n",
       " 'class_sampling_factors': {'default': None, 'actual': None},\n",
       " 'max_after_balance_size': {'default': 5.0, 'actual': 5.0},\n",
       " 'max_confusion_matrix_size': {'default': 20, 'actual': 20},\n",
       " 'max_hit_ratio_k': {'default': 0, 'actual': 0},\n",
       " 'ntrees': {'default': 50, 'actual': 88},\n",
       " 'max_depth': {'default': 5, 'actual': 15},\n",
       " 'min_rows': {'default': 10.0, 'actual': 100.0},\n",
       " 'nbins': {'default': 20, 'actual': 20},\n",
       " 'nbins_top_level': {'default': 1024, 'actual': 1024},\n",
       " 'nbins_cats': {'default': 1024, 'actual': 1024},\n",
       " 'r2_stopping': {'default': 1.7976931348623157e+308,\n",
       "  'actual': 1.7976931348623157e+308},\n",
       " 'stopping_rounds': {'default': 0, 'actual': 0},\n",
       " 'stopping_metric': {'default': 'AUTO', 'actual': 'deviance'},\n",
       " 'stopping_tolerance': {'default': 0.001, 'actual': 0.001363890989782514},\n",
       " 'max_runtime_secs': {'default': 0.0, 'actual': 0.0},\n",
       " 'seed': {'default': -1, 'actual': 436659726612408543},\n",
       " 'build_tree_one_node': {'default': False, 'actual': False},\n",
       " 'learn_rate': {'default': 0.1, 'actual': 0.1},\n",
       " 'learn_rate_annealing': {'default': 1.0, 'actual': 1.0},\n",
       " 'distribution': {'default': 'AUTO', 'actual': 'gaussian'},\n",
       " 'quantile_alpha': {'default': 0.5, 'actual': 0.5},\n",
       " 'tweedie_power': {'default': 1.5, 'actual': 1.5},\n",
       " 'huber_alpha': {'default': 0.9, 'actual': 0.9},\n",
       " 'checkpoint': {'default': None, 'actual': None},\n",
       " 'sample_rate': {'default': 1.0, 'actual': 0.8},\n",
       " 'sample_rate_per_class': {'default': None, 'actual': None},\n",
       " 'col_sample_rate': {'default': 1.0, 'actual': 0.8},\n",
       " 'col_sample_rate_change_per_level': {'default': 1.0, 'actual': 1.0},\n",
       " 'col_sample_rate_per_tree': {'default': 1.0, 'actual': 0.8},\n",
       " 'min_split_improvement': {'default': 1e-05, 'actual': 1e-05},\n",
       " 'histogram_type': {'default': 'AUTO', 'actual': 'AUTO'},\n",
       " 'max_abs_leafnode_pred': {'default': 1.7976931348623157e+308,\n",
       "  'actual': 1.7976931348623157e+308},\n",
       " 'pred_noise_bandwidth': {'default': 0.0, 'actual': 0.0},\n",
       " 'categorical_encoding': {'default': 'AUTO', 'actual': 'AUTO'},\n",
       " 'calibrate_model': {'default': False, 'actual': False},\n",
       " 'calibration_frame': {'default': None, 'actual': None},\n",
       " 'custom_metric_func': {'default': None, 'actual': None},\n",
       " 'export_checkpoints_dir': {'default': None, 'actual': None},\n",
       " 'monotone_constraints': {'default': None, 'actual': None},\n",
       " 'check_constant_response': {'default': True, 'actual': True}}"
      ]
     },
     "execution_count": 217,
     "metadata": {},
     "output_type": "execute_result"
    }
   ],
   "source": [
    "# h2o.get_model(mod_best)\n",
    "mod_best.params"
   ]
  },
  {
   "cell_type": "code",
   "execution_count": 218,
   "metadata": {},
   "outputs": [],
   "source": [
    "def dict_to_json(dct,n):\n",
    "  j = json.dumps(dct, indent=4)\n",
    "  f = open(n, 'w')\n",
    "  print(j, file=f)\n",
    "  f.close()"
   ]
  },
  {
   "cell_type": "code",
   "execution_count": 219,
   "metadata": {},
   "outputs": [],
   "source": [
    "hy_parameter = mod_best.params\n",
    "n='hyperparameter5_1500.json'"
   ]
  },
  {
   "cell_type": "code",
   "execution_count": 220,
   "metadata": {},
   "outputs": [],
   "source": [
    "dict_to_json(hy_parameter,n)"
   ]
  },
  {
   "cell_type": "markdown",
   "metadata": {},
   "source": [
    "# Hyperparameter Model 6 for 1500 Seconds"
   ]
  },
  {
   "cell_type": "code",
   "execution_count": 221,
   "metadata": {},
   "outputs": [],
   "source": [
    "\n",
    "# STart best model as first model\n",
    "\n",
    "model_set=aml_leaderboard_df['model_id']\n",
    "mod_best=h2o.get_model(model_set[5])"
   ]
  },
  {
   "cell_type": "code",
   "execution_count": 222,
   "metadata": {},
   "outputs": [
    {
     "data": {
      "text/plain": [
       "'DRF_1_AutoML_20190416_190838'"
      ]
     },
     "execution_count": 222,
     "metadata": {},
     "output_type": "execute_result"
    }
   ],
   "source": [
    "mod_best._id"
   ]
  },
  {
   "cell_type": "code",
   "execution_count": 223,
   "metadata": {},
   "outputs": [
    {
     "data": {
      "text/plain": [
       "{'model_id': {'default': None,\n",
       "  'actual': {'__meta': {'schema_version': 3,\n",
       "    'schema_name': 'ModelKeyV3',\n",
       "    'schema_type': 'Key<Model>'},\n",
       "   'name': 'DRF_1_AutoML_20190416_190838',\n",
       "   'type': 'Key<Model>',\n",
       "   'URL': '/3/Models/DRF_1_AutoML_20190416_190838'}},\n",
       " 'training_frame': {'default': None,\n",
       "  'actual': {'__meta': {'schema_version': 3,\n",
       "    'schema_name': 'FrameKeyV3',\n",
       "    'schema_type': 'Key<Frame>'},\n",
       "   'name': 'automl_training_train1.hex',\n",
       "   'type': 'Key<Frame>',\n",
       "   'URL': '/3/Frames/automl_training_train1.hex'}},\n",
       " 'validation_frame': {'default': None, 'actual': None},\n",
       " 'nfolds': {'default': 0, 'actual': 5},\n",
       " 'keep_cross_validation_models': {'default': True, 'actual': False},\n",
       " 'keep_cross_validation_predictions': {'default': False, 'actual': True},\n",
       " 'keep_cross_validation_fold_assignment': {'default': False, 'actual': False},\n",
       " 'score_each_iteration': {'default': False, 'actual': False},\n",
       " 'score_tree_interval': {'default': 0, 'actual': 0},\n",
       " 'fold_assignment': {'default': 'AUTO', 'actual': 'Modulo'},\n",
       " 'fold_column': {'default': None, 'actual': None},\n",
       " 'response_column': {'default': None,\n",
       "  'actual': {'__meta': {'schema_version': 3,\n",
       "    'schema_name': 'ColSpecifierV3',\n",
       "    'schema_type': 'VecSpecifier'},\n",
       "   'column_name': 'Purchase',\n",
       "   'is_member_of_frames': None}},\n",
       " 'ignored_columns': {'default': None, 'actual': ['C1']},\n",
       " 'ignore_const_cols': {'default': True, 'actual': True},\n",
       " 'offset_column': {'default': None, 'actual': None},\n",
       " 'weights_column': {'default': None, 'actual': None},\n",
       " 'balance_classes': {'default': False, 'actual': False},\n",
       " 'class_sampling_factors': {'default': None, 'actual': None},\n",
       " 'max_after_balance_size': {'default': 5.0, 'actual': 5.0},\n",
       " 'max_confusion_matrix_size': {'default': 20, 'actual': 20},\n",
       " 'max_hit_ratio_k': {'default': 0, 'actual': 0},\n",
       " 'ntrees': {'default': 50, 'actual': 36},\n",
       " 'max_depth': {'default': 20, 'actual': 20},\n",
       " 'min_rows': {'default': 1.0, 'actual': 1.0},\n",
       " 'nbins': {'default': 20, 'actual': 20},\n",
       " 'nbins_top_level': {'default': 1024, 'actual': 1024},\n",
       " 'nbins_cats': {'default': 1024, 'actual': 1024},\n",
       " 'r2_stopping': {'default': 1.7976931348623157e+308,\n",
       "  'actual': 1.7976931348623157e+308},\n",
       " 'stopping_rounds': {'default': 0, 'actual': 0},\n",
       " 'stopping_metric': {'default': 'AUTO', 'actual': 'deviance'},\n",
       " 'stopping_tolerance': {'default': 0.001, 'actual': 0.001363890989782514},\n",
       " 'max_runtime_secs': {'default': 0.0, 'actual': 0.0},\n",
       " 'seed': {'default': -1, 'actual': -2502465873165953042},\n",
       " 'build_tree_one_node': {'default': False, 'actual': False},\n",
       " 'mtries': {'default': -1, 'actual': -1},\n",
       " 'sample_rate': {'default': 0.6320000290870667, 'actual': 0.6320000290870667},\n",
       " 'sample_rate_per_class': {'default': None, 'actual': None},\n",
       " 'binomial_double_trees': {'default': False, 'actual': False},\n",
       " 'checkpoint': {'default': None, 'actual': None},\n",
       " 'col_sample_rate_change_per_level': {'default': 1.0, 'actual': 1.0},\n",
       " 'col_sample_rate_per_tree': {'default': 1.0, 'actual': 1.0},\n",
       " 'min_split_improvement': {'default': 1e-05, 'actual': 1e-05},\n",
       " 'histogram_type': {'default': 'AUTO', 'actual': 'AUTO'},\n",
       " 'categorical_encoding': {'default': 'AUTO', 'actual': 'AUTO'},\n",
       " 'calibrate_model': {'default': False, 'actual': False},\n",
       " 'calibration_frame': {'default': None, 'actual': None},\n",
       " 'distribution': {'default': 'AUTO', 'actual': 'gaussian'},\n",
       " 'custom_metric_func': {'default': None, 'actual': None},\n",
       " 'export_checkpoints_dir': {'default': None, 'actual': None},\n",
       " 'check_constant_response': {'default': True, 'actual': True}}"
      ]
     },
     "execution_count": 223,
     "metadata": {},
     "output_type": "execute_result"
    }
   ],
   "source": [
    "# h2o.get_model(mod_best)\n",
    "mod_best.params"
   ]
  },
  {
   "cell_type": "code",
   "execution_count": 224,
   "metadata": {},
   "outputs": [],
   "source": [
    "def dict_to_json(dct,n):\n",
    "  j = json.dumps(dct, indent=4)\n",
    "  f = open(n, 'w')\n",
    "  print(j, file=f)\n",
    "  f.close()"
   ]
  },
  {
   "cell_type": "code",
   "execution_count": 225,
   "metadata": {},
   "outputs": [],
   "source": [
    "hy_parameter = mod_best.params\n",
    "n='hyperparameter6_1500.json'"
   ]
  },
  {
   "cell_type": "code",
   "execution_count": 226,
   "metadata": {},
   "outputs": [],
   "source": [
    "dict_to_json(hy_parameter,n)"
   ]
  },
  {
   "cell_type": "markdown",
   "metadata": {},
   "source": [
    "# Hyperparameter Model 7 for 1500 Seconds"
   ]
  },
  {
   "cell_type": "code",
   "execution_count": 227,
   "metadata": {},
   "outputs": [],
   "source": [
    "\n",
    "# STart best model as first model\n",
    "\n",
    "model_set=aml_leaderboard_df['model_id']\n",
    "mod_best=h2o.get_model(model_set[6])"
   ]
  },
  {
   "cell_type": "code",
   "execution_count": 228,
   "metadata": {},
   "outputs": [
    {
     "data": {
      "text/plain": [
       "'StackedEnsemble_AllModels_AutoML_20190416_190838'"
      ]
     },
     "execution_count": 228,
     "metadata": {},
     "output_type": "execute_result"
    }
   ],
   "source": [
    "mod_best._id"
   ]
  },
  {
   "cell_type": "code",
   "execution_count": 229,
   "metadata": {},
   "outputs": [
    {
     "data": {
      "text/plain": [
       "{'model_id': {'default': None,\n",
       "  'actual': {'__meta': {'schema_version': 3,\n",
       "    'schema_name': 'ModelKeyV3',\n",
       "    'schema_type': 'Key<Model>'},\n",
       "   'name': 'StackedEnsemble_AllModels_AutoML_20190416_190838',\n",
       "   'type': 'Key<Model>',\n",
       "   'URL': '/3/Models/StackedEnsemble_AllModels_AutoML_20190416_190838'}},\n",
       " 'training_frame': {'default': None,\n",
       "  'actual': {'__meta': {'schema_version': 3,\n",
       "    'schema_name': 'FrameKeyV3',\n",
       "    'schema_type': 'Key<Frame>'},\n",
       "   'name': 'automl_training_train1.hex',\n",
       "   'type': 'Key<Frame>',\n",
       "   'URL': '/3/Frames/automl_training_train1.hex'}},\n",
       " 'response_column': {'default': None,\n",
       "  'actual': {'__meta': {'schema_version': 3,\n",
       "    'schema_name': 'ColSpecifierV3',\n",
       "    'schema_type': 'VecSpecifier'},\n",
       "   'column_name': 'Purchase',\n",
       "   'is_member_of_frames': None}},\n",
       " 'validation_frame': {'default': None, 'actual': None},\n",
       " 'blending_frame': {'default': None, 'actual': None},\n",
       " 'base_models': {'default': [],\n",
       "  'actual': [{'__meta': {'schema_version': 3,\n",
       "     'schema_name': 'ModelKeyV3',\n",
       "     'schema_type': 'Key<Model>'},\n",
       "    'name': 'GBM_5_AutoML_20190416_190838',\n",
       "    'type': 'Key<Model>',\n",
       "    'URL': '/3/Models/GBM_5_AutoML_20190416_190838'},\n",
       "   {'__meta': {'schema_version': 3,\n",
       "     'schema_name': 'ModelKeyV3',\n",
       "     'schema_type': 'Key<Model>'},\n",
       "    'name': 'GBM_4_AutoML_20190416_190838',\n",
       "    'type': 'Key<Model>',\n",
       "    'URL': '/3/Models/GBM_4_AutoML_20190416_190838'},\n",
       "   {'__meta': {'schema_version': 3,\n",
       "     'schema_name': 'ModelKeyV3',\n",
       "     'schema_type': 'Key<Model>'},\n",
       "    'name': 'GBM_3_AutoML_20190416_190838',\n",
       "    'type': 'Key<Model>',\n",
       "    'URL': '/3/Models/GBM_3_AutoML_20190416_190838'},\n",
       "   {'__meta': {'schema_version': 3,\n",
       "     'schema_name': 'ModelKeyV3',\n",
       "     'schema_type': 'Key<Model>'},\n",
       "    'name': 'GBM_2_AutoML_20190416_190838',\n",
       "    'type': 'Key<Model>',\n",
       "    'URL': '/3/Models/GBM_2_AutoML_20190416_190838'},\n",
       "   {'__meta': {'schema_version': 3,\n",
       "     'schema_name': 'ModelKeyV3',\n",
       "     'schema_type': 'Key<Model>'},\n",
       "    'name': 'GBM_1_AutoML_20190416_190838',\n",
       "    'type': 'Key<Model>',\n",
       "    'URL': '/3/Models/GBM_1_AutoML_20190416_190838'},\n",
       "   {'__meta': {'schema_version': 3,\n",
       "     'schema_name': 'ModelKeyV3',\n",
       "     'schema_type': 'Key<Model>'},\n",
       "    'name': 'DRF_1_AutoML_20190416_190838',\n",
       "    'type': 'Key<Model>',\n",
       "    'URL': '/3/Models/DRF_1_AutoML_20190416_190838'},\n",
       "   {'__meta': {'schema_version': 3,\n",
       "     'schema_name': 'ModelKeyV3',\n",
       "     'schema_type': 'Key<Model>'},\n",
       "    'name': 'GLM_grid_1_AutoML_20190416_190838_model_1',\n",
       "    'type': 'Key<Model>',\n",
       "    'URL': '/3/Models/GLM_grid_1_AutoML_20190416_190838_model_1'}]},\n",
       " 'metalearner_algorithm': {'default': 'AUTO', 'actual': 'AUTO'},\n",
       " 'metalearner_nfolds': {'default': 0, 'actual': 5},\n",
       " 'metalearner_fold_assignment': {'default': None, 'actual': None},\n",
       " 'metalearner_fold_column': {'default': None, 'actual': None},\n",
       " 'metalearner_params': {'default': '', 'actual': ''},\n",
       " 'seed': {'default': -1, 'actual': -5546576335301960594},\n",
       " 'keep_levelone_frame': {'default': False, 'actual': True},\n",
       " 'export_checkpoints_dir': {'default': None, 'actual': None}}"
      ]
     },
     "execution_count": 229,
     "metadata": {},
     "output_type": "execute_result"
    }
   ],
   "source": [
    "# h2o.get_model(mod_best)\n",
    "mod_best.params"
   ]
  },
  {
   "cell_type": "code",
   "execution_count": 230,
   "metadata": {},
   "outputs": [],
   "source": [
    "def dict_to_json(dct,n):\n",
    "  j = json.dumps(dct, indent=4)\n",
    "  f = open(n, 'w')\n",
    "  print(j, file=f)\n",
    "  f.close()"
   ]
  },
  {
   "cell_type": "code",
   "execution_count": 231,
   "metadata": {},
   "outputs": [],
   "source": [
    "hy_parameter = mod_best.params\n",
    "n='hyperparameter7_1500.json'"
   ]
  },
  {
   "cell_type": "code",
   "execution_count": 237,
   "metadata": {},
   "outputs": [],
   "source": [
    "dict_to_json(hy_parameter,n)"
   ]
  },
  {
   "cell_type": "markdown",
   "metadata": {},
   "source": [
    "# Hyperparameter Model 8 for 1500 Seconds"
   ]
  },
  {
   "cell_type": "code",
   "execution_count": 232,
   "metadata": {},
   "outputs": [],
   "source": [
    "\n",
    "# STart best model as first model\n",
    "\n",
    "model_set=aml_leaderboard_df['model_id']\n",
    "mod_best=h2o.get_model(model_set[7])"
   ]
  },
  {
   "cell_type": "code",
   "execution_count": 233,
   "metadata": {},
   "outputs": [
    {
     "data": {
      "text/plain": [
       "'StackedEnsemble_BestOfFamily_AutoML_20190416_190838'"
      ]
     },
     "execution_count": 233,
     "metadata": {},
     "output_type": "execute_result"
    }
   ],
   "source": [
    "mod_best._id"
   ]
  },
  {
   "cell_type": "code",
   "execution_count": 234,
   "metadata": {},
   "outputs": [
    {
     "data": {
      "text/plain": [
       "{'model_id': {'default': None,\n",
       "  'actual': {'__meta': {'schema_version': 3,\n",
       "    'schema_name': 'ModelKeyV3',\n",
       "    'schema_type': 'Key<Model>'},\n",
       "   'name': 'StackedEnsemble_BestOfFamily_AutoML_20190416_190838',\n",
       "   'type': 'Key<Model>',\n",
       "   'URL': '/3/Models/StackedEnsemble_BestOfFamily_AutoML_20190416_190838'}},\n",
       " 'training_frame': {'default': None,\n",
       "  'actual': {'__meta': {'schema_version': 3,\n",
       "    'schema_name': 'FrameKeyV3',\n",
       "    'schema_type': 'Key<Frame>'},\n",
       "   'name': 'automl_training_train1.hex',\n",
       "   'type': 'Key<Frame>',\n",
       "   'URL': '/3/Frames/automl_training_train1.hex'}},\n",
       " 'response_column': {'default': None,\n",
       "  'actual': {'__meta': {'schema_version': 3,\n",
       "    'schema_name': 'ColSpecifierV3',\n",
       "    'schema_type': 'VecSpecifier'},\n",
       "   'column_name': 'Purchase',\n",
       "   'is_member_of_frames': None}},\n",
       " 'validation_frame': {'default': None, 'actual': None},\n",
       " 'blending_frame': {'default': None, 'actual': None},\n",
       " 'base_models': {'default': [],\n",
       "  'actual': [{'__meta': {'schema_version': 3,\n",
       "     'schema_name': 'ModelKeyV3',\n",
       "     'schema_type': 'Key<Model>'},\n",
       "    'name': 'GBM_5_AutoML_20190416_190838',\n",
       "    'type': 'Key<Model>',\n",
       "    'URL': '/3/Models/GBM_5_AutoML_20190416_190838'},\n",
       "   {'__meta': {'schema_version': 3,\n",
       "     'schema_name': 'ModelKeyV3',\n",
       "     'schema_type': 'Key<Model>'},\n",
       "    'name': 'DRF_1_AutoML_20190416_190838',\n",
       "    'type': 'Key<Model>',\n",
       "    'URL': '/3/Models/DRF_1_AutoML_20190416_190838'},\n",
       "   {'__meta': {'schema_version': 3,\n",
       "     'schema_name': 'ModelKeyV3',\n",
       "     'schema_type': 'Key<Model>'},\n",
       "    'name': 'GLM_grid_1_AutoML_20190416_190838_model_1',\n",
       "    'type': 'Key<Model>',\n",
       "    'URL': '/3/Models/GLM_grid_1_AutoML_20190416_190838_model_1'}]},\n",
       " 'metalearner_algorithm': {'default': 'AUTO', 'actual': 'AUTO'},\n",
       " 'metalearner_nfolds': {'default': 0, 'actual': 5},\n",
       " 'metalearner_fold_assignment': {'default': None, 'actual': None},\n",
       " 'metalearner_fold_column': {'default': None, 'actual': None},\n",
       " 'metalearner_params': {'default': '', 'actual': ''},\n",
       " 'seed': {'default': -1, 'actual': 5956338318195290584},\n",
       " 'keep_levelone_frame': {'default': False, 'actual': True},\n",
       " 'export_checkpoints_dir': {'default': None, 'actual': None}}"
      ]
     },
     "execution_count": 234,
     "metadata": {},
     "output_type": "execute_result"
    }
   ],
   "source": [
    "mod_best.params"
   ]
  },
  {
   "cell_type": "code",
   "execution_count": 235,
   "metadata": {},
   "outputs": [],
   "source": [
    "def dict_to_json(dct,n):\n",
    "  j = json.dumps(dct, indent=4)\n",
    "  f = open(n, 'w')\n",
    "  print(j, file=f)\n",
    "  f.close()"
   ]
  },
  {
   "cell_type": "code",
   "execution_count": 236,
   "metadata": {},
   "outputs": [],
   "source": [
    "hy_parameter = mod_best.params\n",
    "n='hyperparameter8_1500.json'"
   ]
  },
  {
   "cell_type": "code",
   "execution_count": 238,
   "metadata": {},
   "outputs": [],
   "source": [
    "dict_to_json(hy_parameter,n)"
   ]
  },
  {
   "cell_type": "markdown",
   "metadata": {},
   "source": [
    "# Hyperparameter for Model 9 For 1500 Seconds"
   ]
  },
  {
   "cell_type": "code",
   "execution_count": 239,
   "metadata": {},
   "outputs": [],
   "source": [
    "\n",
    "# STart best model as first model\n",
    "\n",
    "model_set=aml_leaderboard_df['model_id']\n",
    "mod_best=h2o.get_model(model_set[8])"
   ]
  },
  {
   "cell_type": "code",
   "execution_count": 240,
   "metadata": {},
   "outputs": [
    {
     "data": {
      "text/plain": [
       "'GLM_grid_1_AutoML_20190416_190838_model_1'"
      ]
     },
     "execution_count": 240,
     "metadata": {},
     "output_type": "execute_result"
    }
   ],
   "source": [
    "mod_best._id"
   ]
  },
  {
   "cell_type": "code",
   "execution_count": 241,
   "metadata": {},
   "outputs": [
    {
     "data": {
      "text/plain": [
       "{'model_id': {'default': None,\n",
       "  'actual': {'__meta': {'schema_version': 3,\n",
       "    'schema_name': 'ModelKeyV3',\n",
       "    'schema_type': 'Key<Model>'},\n",
       "   'name': 'GLM_grid_1_AutoML_20190416_190838_model_1',\n",
       "   'type': 'Key<Model>',\n",
       "   'URL': '/3/Models/GLM_grid_1_AutoML_20190416_190838_model_1'}},\n",
       " 'training_frame': {'default': None,\n",
       "  'actual': {'__meta': {'schema_version': 3,\n",
       "    'schema_name': 'FrameKeyV3',\n",
       "    'schema_type': 'Key<Frame>'},\n",
       "   'name': 'automl_training_train1.hex',\n",
       "   'type': 'Key<Frame>',\n",
       "   'URL': '/3/Frames/automl_training_train1.hex'}},\n",
       " 'validation_frame': {'default': None, 'actual': None},\n",
       " 'nfolds': {'default': 0, 'actual': 5},\n",
       " 'seed': {'default': -1, 'actual': -3094801649326299151},\n",
       " 'keep_cross_validation_models': {'default': True, 'actual': False},\n",
       " 'keep_cross_validation_predictions': {'default': False, 'actual': True},\n",
       " 'keep_cross_validation_fold_assignment': {'default': False, 'actual': False},\n",
       " 'fold_assignment': {'default': 'AUTO', 'actual': 'Modulo'},\n",
       " 'fold_column': {'default': None, 'actual': None},\n",
       " 'response_column': {'default': None,\n",
       "  'actual': {'__meta': {'schema_version': 3,\n",
       "    'schema_name': 'ColSpecifierV3',\n",
       "    'schema_type': 'VecSpecifier'},\n",
       "   'column_name': 'Purchase',\n",
       "   'is_member_of_frames': None}},\n",
       " 'ignored_columns': {'default': None, 'actual': ['C1']},\n",
       " 'ignore_const_cols': {'default': True, 'actual': True},\n",
       " 'score_each_iteration': {'default': False, 'actual': False},\n",
       " 'offset_column': {'default': None, 'actual': None},\n",
       " 'weights_column': {'default': None, 'actual': None},\n",
       " 'family': {'default': 'gaussian', 'actual': 'gaussian'},\n",
       " 'tweedie_variance_power': {'default': 0.0, 'actual': 0.0},\n",
       " 'tweedie_link_power': {'default': 1.0, 'actual': 1.0},\n",
       " 'theta': {'default': 1e-10, 'actual': 1e-10},\n",
       " 'solver': {'default': 'AUTO', 'actual': 'COORDINATE_DESCENT'},\n",
       " 'alpha': {'default': None, 'actual': [0.0, 0.2, 0.4, 0.6, 0.8, 1.0]},\n",
       " 'lambda': {'default': None,\n",
       "  'actual': [156465.93492127347,\n",
       "   97167.99641501333,\n",
       "   60342.971983381794,\n",
       "   37474.00792576794,\n",
       "   23271.993802480545]},\n",
       " 'lambda_search': {'default': False, 'actual': True},\n",
       " 'early_stopping': {'default': True, 'actual': True},\n",
       " 'nlambdas': {'default': -1, 'actual': 30},\n",
       " 'standardize': {'default': True, 'actual': True},\n",
       " 'missing_values_handling': {'default': 'MeanImputation',\n",
       "  'actual': 'MeanImputation'},\n",
       " 'compute_p_values': {'default': False, 'actual': False},\n",
       " 'remove_collinear_columns': {'default': False, 'actual': False},\n",
       " 'intercept': {'default': True, 'actual': True},\n",
       " 'non_negative': {'default': False, 'actual': False},\n",
       " 'max_iterations': {'default': -1, 'actual': 300},\n",
       " 'objective_epsilon': {'default': -1.0, 'actual': 0.0001},\n",
       " 'beta_epsilon': {'default': 0.0001, 'actual': 0.0001},\n",
       " 'gradient_epsilon': {'default': -1.0, 'actual': 1.0000000000000002e-06},\n",
       " 'link': {'default': 'family_default', 'actual': 'identity'},\n",
       " 'prior': {'default': -1.0, 'actual': -1.0},\n",
       " 'lambda_min_ratio': {'default': -1.0, 'actual': 1.0000000000000002e-06},\n",
       " 'beta_constraints': {'default': None, 'actual': None},\n",
       " 'max_active_predictors': {'default': -1, 'actual': 5000},\n",
       " 'interactions': {'default': None, 'actual': None},\n",
       " 'interaction_pairs': {'default': None, 'actual': None},\n",
       " 'obj_reg': {'default': -1.0, 'actual': 1.860198632009926e-06},\n",
       " 'export_checkpoints_dir': {'default': None, 'actual': None},\n",
       " 'balance_classes': {'default': False, 'actual': False},\n",
       " 'class_sampling_factors': {'default': None, 'actual': None},\n",
       " 'max_after_balance_size': {'default': 5.0, 'actual': 5.0},\n",
       " 'max_confusion_matrix_size': {'default': 20, 'actual': 20},\n",
       " 'max_hit_ratio_k': {'default': 0, 'actual': 0},\n",
       " 'max_runtime_secs': {'default': 0.0, 'actual': 0.0},\n",
       " 'custom_metric_func': {'default': None, 'actual': None}}"
      ]
     },
     "execution_count": 241,
     "metadata": {},
     "output_type": "execute_result"
    }
   ],
   "source": [
    "mod_best.params"
   ]
  },
  {
   "cell_type": "code",
   "execution_count": 242,
   "metadata": {},
   "outputs": [],
   "source": [
    "def dict_to_json(dct,n):\n",
    "  j = json.dumps(dct, indent=4)\n",
    "  f = open(n, 'w')\n",
    "  print(j, file=f)\n",
    "  f.close()"
   ]
  },
  {
   "cell_type": "code",
   "execution_count": 243,
   "metadata": {},
   "outputs": [],
   "source": [
    "hy_parameter = mod_best.params\n",
    "n='hyperparameter9_1500.json'"
   ]
  },
  {
   "cell_type": "code",
   "execution_count": 244,
   "metadata": {},
   "outputs": [],
   "source": [
    "dict_to_json(hy_parameter,n)"
   ]
  },
  {
   "cell_type": "code",
   "execution_count": null,
   "metadata": {},
   "outputs": [],
   "source": []
  },
  {
   "cell_type": "code",
   "execution_count": null,
   "metadata": {},
   "outputs": [],
   "source": []
  },
  {
   "cell_type": "code",
   "execution_count": null,
   "metadata": {},
   "outputs": [],
   "source": []
  },
  {
   "cell_type": "markdown",
   "metadata": {},
   "source": [
    "# H2O Model 4"
   ]
  },
  {
   "cell_type": "code",
   "execution_count": 18,
   "metadata": {},
   "outputs": [],
   "source": [
    "data_path=None\n",
    "all_variables=None\n",
    "test_path=None\n",
    "# target='search_term'\n",
    "target=None\n",
    "nthreads=1 \n",
    "min_mem_size=6 \n",
    "run_time=2000\n",
    "classification=False\n",
    "scale=False\n",
    "max_models=9    \n",
    "model_path=None\n",
    "balance_y=False \n",
    "balance_threshold=0.2\n",
    "name=None \n",
    "server_path=None  \n",
    "analysis=0"
   ]
  },
  {
   "cell_type": "code",
   "execution_count": 19,
   "metadata": {},
   "outputs": [
    {
     "name": "stdout",
     "output_type": "stream",
     "text": [
      "5\n"
     ]
    }
   ],
   "source": [
    "pct_memory=0.5\n",
    "virtual_memory=psutil.virtual_memory()\n",
    "min_mem_size=int(round(int(pct_memory*virtual_memory.available)/1073741824,0))\n",
    "print(min_mem_size)"
   ]
  },
  {
   "cell_type": "code",
   "execution_count": 20,
   "metadata": {},
   "outputs": [],
   "source": [
    "# Functions\n",
    "\n",
    "def alphabet(n):\n",
    "  alpha='0123456789abcdefghijklmnopqrstuvwxyzABCDEFGHIJKLMNOPQRSTUVWXYZ'    \n",
    "  str=''\n",
    "  r=len(alpha)-1   \n",
    "  while len(str)<n:\n",
    "    i=random.randint(0,r)\n",
    "    str+=alpha[i]   \n",
    "  return str\n",
    "  \n",
    "  \n",
    "def set_meta_data(analysis,run_id,server,data,test,model_path,target,run_time,classification,scale,model,balance,balance_threshold,name,path,nthreads,min_mem_size):\n",
    "  m_data={}\n",
    "  m_data['start_time'] = time.time()\n",
    "  m_data['target']=target\n",
    "  m_data['server_path']=server\n",
    "  m_data['data_path']=data \n",
    "  m_data['test_path']=test\n",
    "  m_data['max_models']=model\n",
    "  m_data['run_time']=run_time\n",
    "  m_data['run_id'] =run_id\n",
    "  m_data['scale']=scale\n",
    "  m_data['classification']=classification\n",
    "  m_data['scale']=False\n",
    "  m_data['model_path']=model_path\n",
    "  m_data['balance']=balance\n",
    "  m_data['balance_threshold']=balance_threshold\n",
    "  m_data['project'] =name\n",
    "  m_data['end_time'] = time.time()\n",
    "  m_data['execution_time'] = 0.0\n",
    "  m_data['run_path'] =path\n",
    "  m_data['nthreads'] = nthreads\n",
    "  m_data['min_mem_size'] = min_mem_size\n",
    "  m_data['analysis'] = analysis\n",
    "  return m_data\n",
    "\n",
    "\n",
    "def dict_to_json(dct,n):\n",
    "  j = json.dumps(dct, indent=4)\n",
    "  f = open(n, 'w')\n",
    "  print(j, file=f)\n",
    "  f.close()\n",
    "  \n",
    "  \n",
    "def stackedensemble(mod):\n",
    "    coef_norm=None\n",
    "    try:\n",
    "      metalearner = h2o.get_model(mod.metalearner()['name'])\n",
    "      coef_norm=metalearner.coef_norm()\n",
    "    except:\n",
    "      pass        \n",
    "    return coef_norm\n",
    "\n",
    "def stackedensemble_df(df):\n",
    "    bm_algo={ 'GBM': None,'GLM': None,'DRF': None,'XRT': None,'Dee': None}\n",
    "    for index, row in df.iterrows():\n",
    "      if len(row['model_id'])>3:\n",
    "        key=row['model_id'][0:3]\n",
    "        if key in bm_algo:\n",
    "          if bm_algo[key] is None:\n",
    "                bm_algo[key]=row['model_id']\n",
    "    bm=list(bm_algo.values()) \n",
    "    bm=list(filter(None.__ne__, bm))             \n",
    "    return bm\n",
    "\n",
    "def se_stats(modl):\n",
    "    d={}\n",
    "    d['algo']=modl.algo\n",
    "    d['model_id']=modl.model_id   \n",
    "    d['auc']=modl.auc()   \n",
    "    d['roc']=modl.roc()\n",
    "    d['mse']=modl.mse()   \n",
    "    d['null_degrees_of_freedom']=modl.null_degrees_of_freedom()\n",
    "    d['null_deviance']=modl.null_deviance()\n",
    "    d['residual_degrees_of_freedom']=modl.residual_degrees_of_freedom()   \n",
    "    d['residual_deviance']=modl.residual_deviance()\n",
    "    d['rmse']=modl.rmse()\n",
    "    return d\n",
    "\n",
    "def get_model_by_algo(algo,models_dict):\n",
    "    mod=None\n",
    "    mod_id=None    \n",
    "    for m in list(models_dict.keys()):\n",
    "        if m[0:3]==algo:\n",
    "            mod_id=m\n",
    "            mod=h2o.get_model(m)      \n",
    "    return mod,mod_id     \n",
    "    \n",
    "    \n",
    "def gbm_stats(modl):\n",
    "    d={}\n",
    "    d['algo']=modl.algo\n",
    "    d['model_id']=modl.model_id   \n",
    "    d['varimp']=modl.varimp()  \n",
    "    return d\n",
    "    \n",
    "    \n",
    "def dl_stats(modl):\n",
    "    d={}\n",
    "    d['algo']=modl.algo\n",
    "    d['model_id']=modl.model_id   \n",
    "    d['varimp']=modl.varimp()  \n",
    "    return d\n",
    "    \n",
    "    \n",
    "def drf_stats(modl):\n",
    "    d={}\n",
    "    d['algo']=modl.algo\n",
    "    d['model_id']=modl.model_id   \n",
    "    d['varimp']=modl.varimp()  \n",
    "    d['roc']=modl.roc()      \n",
    "    return d\n",
    "    \n",
    "def xrt_stats(modl):\n",
    "    d={}\n",
    "    d['algo']=modl.algo\n",
    "    d['model_id']=modl.model_id   \n",
    "    d['varimp']=modl.varimp()  \n",
    "    d['roc']=modl.roc()      \n",
    "    return d\n",
    "    \n",
    "    \n",
    "def glm_stats(modl):\n",
    "    d={}\n",
    "    d['algo']=modl.algo\n",
    "    d['model_id']=modl.model_id   \n",
    "    d['coef']=modl.coef()  \n",
    "    d['coef_norm']=modl.coef_norm()      \n",
    "    return d\n",
    "    \n",
    "def model_performance_stats(perf):\n",
    "    d={}\n",
    "    try:    \n",
    "      d['mse']=perf.mse()\n",
    "    except:\n",
    "      pass      \n",
    "    try:    \n",
    "      d['rmse']=perf.rmse() \n",
    "    except:\n",
    "      pass      \n",
    "    try:    \n",
    "      d['null_degrees_of_freedom']=perf.null_degrees_of_freedom()\n",
    "    except:\n",
    "      pass      \n",
    "    try:    \n",
    "      d['residual_degrees_of_freedom']=perf.residual_degrees_of_freedom()\n",
    "    except:\n",
    "      pass      \n",
    "    try:    \n",
    "      d['residual_deviance']=perf.residual_deviance() \n",
    "    except:\n",
    "      pass      \n",
    "    try:    \n",
    "      d['null_deviance']=perf.null_deviance() \n",
    "    except:\n",
    "      pass      \n",
    "    try:    \n",
    "      d['aic']=perf.aic() \n",
    "    except:\n",
    "      pass      \n",
    "    try:\n",
    "      d['logloss']=perf.logloss() \n",
    "    except:\n",
    "      pass    \n",
    "    try:\n",
    "      d['auc']=perf.auc()\n",
    "    except:\n",
    "      pass  \n",
    "    try:\n",
    "      d['gini']=perf.gini()\n",
    "    except:\n",
    "      pass    \n",
    "    return d\n",
    "    \n",
    "def impute_missing_values(df, x, scal=False):\n",
    "    # determine column types\n",
    "    ints, reals, enums = [], [], []\n",
    "    for key, val in df.types.items():\n",
    "        if key in x:\n",
    "            if val == 'enum':\n",
    "                enums.append(key)\n",
    "            elif val == 'int':\n",
    "                ints.append(key)            \n",
    "            else: \n",
    "                reals.append(key)    \n",
    "    _ = df[reals].impute(method='mean')\n",
    "    _ = df[ints].impute(method='median')\n",
    "    if scal:\n",
    "        df[reals] = df[reals].scale()\n",
    "        df[ints] = df[ints].scale()    \n",
    "    return\n",
    "\n",
    "\n",
    "def get_independent_variables(df, targ):\n",
    "    C = [name for name in df.columns if name != targ]\n",
    "    # determine column types\n",
    "    ints, reals, enums = [], [], []\n",
    "    for key, val in df.types.items():\n",
    "        if key in C:\n",
    "            if val == 'enum':\n",
    "                enums.append(key)\n",
    "            elif val == 'int':\n",
    "                ints.append(key)            \n",
    "            else: \n",
    "                reals.append(key)    \n",
    "    x=ints+enums+reals\n",
    "    return x\n",
    "    \n",
    "def get_all_variables_csv(i):\n",
    "    ivd={}\n",
    "    try:\n",
    "      iv = pd.read_csv(i,header=None)\n",
    "    except:\n",
    "      sys.exit(1)    \n",
    "    col=iv.values.tolist()[0]\n",
    "    dt=iv.values.tolist()[1]\n",
    "    i=0\n",
    "    for c in col:\n",
    "      ivd[c.strip()]=dt[i].strip()\n",
    "      i+=1        \n",
    "    return ivd\n",
    "    \n",
    "    \n",
    "\n",
    "def check_all_variables(df,dct,y=None):     \n",
    "    targ=list(dct.keys())     \n",
    "    for key, val in df.types.items():\n",
    "        if key in targ:\n",
    "          if dct[key] not in ['real','int','enum']:                      \n",
    "            targ.remove(key)  \n",
    "    for key, val in df.types.items():\n",
    "        if key in targ:            \n",
    "          if dct[key] != val:\n",
    "            print('convert ',key,' ',dct[key],' ',val)\n",
    "            if dct[key]=='enum':\n",
    "                try:\n",
    "                  df[key] = df[key].asfactor() \n",
    "                except:\n",
    "                  targ.remove(key)                 \n",
    "            if dct[key]=='int': \n",
    "                try:                \n",
    "                  df[key] = df[key].asnumeric() \n",
    "                except:\n",
    "                  targ.remove(key)                  \n",
    "            if dct[key]=='real':\n",
    "                try:                \n",
    "                  df[key] = df[key].asnumeric()  \n",
    "                except:\n",
    "                  targ.remove(key)                  \n",
    "    if y is None:\n",
    "      y=df.columns[-1] \n",
    "    if y in targ:\n",
    "      targ.remove(y)\n",
    "    else:\n",
    "      y=targ.pop()            \n",
    "    return targ    \n",
    "    \n",
    "def predictions(mod,data,run_id):\n",
    "    test = h2o.import_file(data)\n",
    "    mod_perf=mod_best.model_performance(test)\n",
    "              \n",
    "    stats_test={}\n",
    "    stats_test=model_performance_stats(mod_perf)\n",
    "\n",
    "    n=run_id+'_test_stats.json'\n",
    "    dict_to_json(stats_test,n) \n",
    "\n",
    "    try:    \n",
    "      cf=mod_perf.confusion_matrix(metrics=[\"f1\",\"f2\",\"f0point5\",\"accuracy\",\"precision\",\"recall\",\"specificity\",\"absolute_mcc\",\"min_per_class_accuracy\",\"mean_per_class_accuracy\"])\n",
    "      cf_df=cf[0].table.as_data_frame()\n",
    "      cf_df.to_csv(run_id+'_test_confusion_matrix.csv')\n",
    "    except:\n",
    "      pass\n",
    "\n",
    "    predictions = mod_best.predict(test)\n",
    "    predictions_df=test.cbind(predictions).as_data_frame() \n",
    "    predictions_df.to_csv(run_id+'_predictions.csv')\n",
    "    return\n",
    "\n",
    "def predictions_test(mod,test,run_id):\n",
    "    mod_perf=mod_best.model_performance(test)          \n",
    "    stats_test={}\n",
    "    stats_test=model_performance_stats(mod_perf)\n",
    "    n=run_id+'_test_stats.json'\n",
    "    dict_to_json(stats_test,n) \n",
    "    try:\n",
    "      cf=mod_perf.confusion_matrix()\n",
    "#      cf=mod_perf.confusion_matrix(metrics=[\"f1\",\"f2\",\"f0point5\",\"accuracy\",\"precision\",\"recall\",\"specificity\",\"absolute_mcc\",\"min_per_class_accuracy\",\"mean_per_class_accuracy\"])\n",
    "      cf_df=cf.table.as_data_frame()\n",
    "      cf_df.to_csv(run_id+'_test_confusion_matrix.csv')\n",
    "    except:\n",
    "      pass\n",
    "    predictions = mod_best.predict(test)    \n",
    "    predictions_df=test.cbind(predictions).as_data_frame() \n",
    "    predictions_df.to_csv(run_id+'_predictions.csv')\n",
    "    return predictions\n",
    "\n",
    "def check_X(x,df):\n",
    "    for name in x:\n",
    "        if name not in df.columns:\n",
    "          x.remove(name)  \n",
    "    return x    \n",
    "    \n",
    "    \n",
    "def get_stacked_ensemble(lst):\n",
    "    se=None\n",
    "    for model in model_set:\n",
    "      if 'BestOfFamily' in model:\n",
    "        se=model\n",
    "    if se is None:     \n",
    "      for model in model_set:\n",
    "        if 'AllModels'in model:\n",
    "          se=model           \n",
    "    return se       \n",
    "    \n",
    "def get_variables_types(df):\n",
    "    d={}\n",
    "    for key, val in df.types.items():\n",
    "        d[key]=val           \n",
    "    return d    \n",
    "    \n",
    "#  End Functions"
   ]
  },
  {
   "cell_type": "code",
   "execution_count": 21,
   "metadata": {},
   "outputs": [
    {
     "name": "stdout",
     "output_type": "stream",
     "text": [
      "5lQszLuFC\n"
     ]
    }
   ],
   "source": [
    "run_id=alphabet(9)\n",
    "if server_path==None:\n",
    "  server_path=os.path.abspath(os.curdir)\n",
    "os.chdir(server_path) \n",
    "run_dir = os.path.join(server_path,run_id)\n",
    "os.mkdir(run_dir)\n",
    "os.chdir(run_dir)    \n",
    "\n",
    "# run_id to std out\n",
    "print (run_id)"
   ]
  },
  {
   "cell_type": "code",
   "execution_count": 22,
   "metadata": {},
   "outputs": [
    {
     "name": "stdout",
     "output_type": "stream",
     "text": [
      "Checking whether there is an H2O instance running at http://localhost:6279 ..... not found.\n",
      "Attempting to start a local H2O server...\n",
      "; Java HotSpot(TM) 64-Bit Server VM (build 25.191-b12, mixed mode)\n",
      "  Starting server from C:\\Users\\vrush\\.jupyter\\AnacondaNew\\lib\\site-packages\\h2o\\backend\\bin\\h2o.jar\n",
      "  Ice root: C:\\Users\\vrush\\AppData\\Local\\Temp\\tmpokgxgs82\n",
      "  JVM stdout: C:\\Users\\vrush\\AppData\\Local\\Temp\\tmpokgxgs82\\h2o_vrush_started_from_python.out\n",
      "  JVM stderr: C:\\Users\\vrush\\AppData\\Local\\Temp\\tmpokgxgs82\\h2o_vrush_started_from_python.err\n",
      "  Server is running at http://127.0.0.1:6279\n",
      "Connecting to H2O server at http://127.0.0.1:6279 ... successful.\n"
     ]
    },
    {
     "data": {
      "text/html": [
       "<div style=\"overflow:auto\"><table style=\"width:50%\"><tr><td>H2O cluster uptime:</td>\n",
       "<td>02 secs</td></tr>\n",
       "<tr><td>H2O cluster timezone:</td>\n",
       "<td>America/New_York</td></tr>\n",
       "<tr><td>H2O data parsing timezone:</td>\n",
       "<td>UTC</td></tr>\n",
       "<tr><td>H2O cluster version:</td>\n",
       "<td>3.24.0.1</td></tr>\n",
       "<tr><td>H2O cluster version age:</td>\n",
       "<td>15 days </td></tr>\n",
       "<tr><td>H2O cluster name:</td>\n",
       "<td>H2O_from_python_vrush_enzppw</td></tr>\n",
       "<tr><td>H2O cluster total nodes:</td>\n",
       "<td>1</td></tr>\n",
       "<tr><td>H2O cluster free memory:</td>\n",
       "<td>4.792 Gb</td></tr>\n",
       "<tr><td>H2O cluster total cores:</td>\n",
       "<td>8</td></tr>\n",
       "<tr><td>H2O cluster allowed cores:</td>\n",
       "<td>8</td></tr>\n",
       "<tr><td>H2O cluster status:</td>\n",
       "<td>accepting new members, healthy</td></tr>\n",
       "<tr><td>H2O connection url:</td>\n",
       "<td>http://127.0.0.1:6279</td></tr>\n",
       "<tr><td>H2O connection proxy:</td>\n",
       "<td>None</td></tr>\n",
       "<tr><td>H2O internal security:</td>\n",
       "<td>False</td></tr>\n",
       "<tr><td>H2O API Extensions:</td>\n",
       "<td>Amazon S3, Algos, AutoML, Core V3, Core V4</td></tr>\n",
       "<tr><td>Python version:</td>\n",
       "<td>3.7.1 final</td></tr></table></div>"
      ],
      "text/plain": [
       "--------------------------  ------------------------------------------\n",
       "H2O cluster uptime:         02 secs\n",
       "H2O cluster timezone:       America/New_York\n",
       "H2O data parsing timezone:  UTC\n",
       "H2O cluster version:        3.24.0.1\n",
       "H2O cluster version age:    15 days\n",
       "H2O cluster name:           H2O_from_python_vrush_enzppw\n",
       "H2O cluster total nodes:    1\n",
       "H2O cluster free memory:    4.792 Gb\n",
       "H2O cluster total cores:    8\n",
       "H2O cluster allowed cores:  8\n",
       "H2O cluster status:         accepting new members, healthy\n",
       "H2O connection url:         http://127.0.0.1:6279\n",
       "H2O connection proxy:\n",
       "H2O internal security:      False\n",
       "H2O API Extensions:         Amazon S3, Algos, AutoML, Core V3, Core V4\n",
       "Python version:             3.7.1 final\n",
       "--------------------------  ------------------------------------------"
      ]
     },
     "metadata": {},
     "output_type": "display_data"
    }
   ],
   "source": [
    "# 65535 Highest port no\n",
    "port_no=random.randint(5555,55555)\n",
    "h2o.init(strict_version_check=False,min_mem_size_GB=min_mem_size,port=port_no)"
   ]
  },
  {
   "cell_type": "code",
   "execution_count": 23,
   "metadata": {},
   "outputs": [
    {
     "name": "stdout",
     "output_type": "stream",
     "text": [
      "{'start_time': 1555467663.7836208, 'target': None, 'server_path': 'C:\\\\Users\\\\vrush\\\\Desktop\\\\python\\\\FinalProject\\\\black-friday', 'data_path': None, 'test_path': None, 'max_models': 9, 'run_time': 2000, 'run_id': '5lQszLuFC', 'scale': False, 'classification': False, 'model_path': None, 'balance': False, 'balance_threshold': 0.2, 'project': None, 'end_time': 1555467663.7836208, 'execution_time': 0.0, 'run_path': 'C:\\\\Users\\\\vrush\\\\Desktop\\\\python\\\\FinalProject\\\\black-friday\\\\5lQszLuFC', 'nthreads': 1, 'min_mem_size': 5, 'analysis': 0}\n"
     ]
    }
   ],
   "source": [
    "\n",
    "# meta data\n",
    "meta_data = set_meta_data(analysis, run_id,server_path,data_path,test_path,model_path,target,run_time,classification,scale,max_models,balance_y,balance_threshold,name,run_dir,nthreads,min_mem_size)\n",
    "print(meta_data)"
   ]
  },
  {
   "cell_type": "code",
   "execution_count": 24,
   "metadata": {},
   "outputs": [],
   "source": [
    "df.to_csv('train1.csv')"
   ]
  },
  {
   "cell_type": "code",
   "execution_count": 25,
   "metadata": {},
   "outputs": [],
   "source": [
    "data_path='train1.csv'"
   ]
  },
  {
   "cell_type": "code",
   "execution_count": 26,
   "metadata": {},
   "outputs": [
    {
     "name": "stdout",
     "output_type": "stream",
     "text": [
      "Parse progress: |█████████████████████████████████████████████████████████| 100%\n"
     ]
    }
   ],
   "source": [
    "# Load data into H2O\n",
    "train_data = h2o.import_file(data_path)"
   ]
  },
  {
   "cell_type": "code",
   "execution_count": 27,
   "metadata": {},
   "outputs": [],
   "source": [
    "target = 'Purchase'"
   ]
  },
  {
   "cell_type": "code",
   "execution_count": 28,
   "metadata": {},
   "outputs": [
    {
     "name": "stdout",
     "output_type": "stream",
     "text": [
      "Purchase\n",
      "['User_ID', 'Product_ID', 'Gender', 'Age', 'Occupation', 'City_Category', 'Stay_In_Current_City_Years', 'Marital_Status', 'Product_Category_1', 'Product_Category_2', 'Product_Category_3', 'combined_G_M']\n"
     ]
    }
   ],
   "source": [
    "# assign target and inputs for logistic regression\n",
    "y = target\n",
    "X = [name for name in df.columns if name != y]\n",
    "print(y)\n",
    "print(X)"
   ]
  },
  {
   "cell_type": "code",
   "execution_count": 29,
   "metadata": {},
   "outputs": [],
   "source": [
    "# setup autoML\n",
    "run_time=2000\n",
    "aml = H2OAutoML(max_runtime_secs=run_time)"
   ]
  },
  {
   "cell_type": "code",
   "execution_count": 30,
   "metadata": {},
   "outputs": [],
   "source": [
    "logs_path = os.getcwd()\n",
    "logfile = 'logs.txt'"
   ]
  },
  {
   "cell_type": "code",
   "execution_count": 31,
   "metadata": {},
   "outputs": [
    {
     "name": "stdout",
     "output_type": "stream",
     "text": [
      "AutoML progress: |████████████████████████████████████████████████████████| 100%\n"
     ]
    }
   ],
   "source": [
    "model_start_time = time.time()\n",
    "aml.train(x=X,y=y,training_frame=train_data)  # Change training_frame=train"
   ]
  },
  {
   "cell_type": "code",
   "execution_count": 32,
   "metadata": {},
   "outputs": [
    {
     "data": {
      "text/html": [
       "<table>\n",
       "<thead>\n",
       "<tr><th>model_id                                           </th><th style=\"text-align: right;\">  mean_residual_deviance</th><th style=\"text-align: right;\">   rmse</th><th style=\"text-align: right;\">        mse</th><th style=\"text-align: right;\">    mae</th><th style=\"text-align: right;\">     rmsle</th></tr>\n",
       "</thead>\n",
       "<tbody>\n",
       "<tr><td>GBM_5_AutoML_20190416_222141                       </td><td style=\"text-align: right;\">             6.55027e+06</td><td style=\"text-align: right;\">2559.35</td><td style=\"text-align: right;\">6.55027e+06</td><td style=\"text-align: right;\">1892.94</td><td style=\"text-align: right;\">nan       </td></tr>\n",
       "<tr><td>GBM_4_AutoML_20190416_222141                       </td><td style=\"text-align: right;\">             6.61653e+06</td><td style=\"text-align: right;\">2572.26</td><td style=\"text-align: right;\">6.61653e+06</td><td style=\"text-align: right;\">1910.35</td><td style=\"text-align: right;\">nan       </td></tr>\n",
       "<tr><td>GBM_3_AutoML_20190416_222141                       </td><td style=\"text-align: right;\">             6.77582e+06</td><td style=\"text-align: right;\">2603.04</td><td style=\"text-align: right;\">6.77582e+06</td><td style=\"text-align: right;\">1940.6 </td><td style=\"text-align: right;\">nan       </td></tr>\n",
       "<tr><td>GBM_2_AutoML_20190416_222141                       </td><td style=\"text-align: right;\">             6.85196e+06</td><td style=\"text-align: right;\">2617.62</td><td style=\"text-align: right;\">6.85196e+06</td><td style=\"text-align: right;\">1952.72</td><td style=\"text-align: right;\">nan       </td></tr>\n",
       "<tr><td>GBM_1_AutoML_20190416_222141                       </td><td style=\"text-align: right;\">             6.97429e+06</td><td style=\"text-align: right;\">2640.89</td><td style=\"text-align: right;\">6.97429e+06</td><td style=\"text-align: right;\">1971.57</td><td style=\"text-align: right;\">nan       </td></tr>\n",
       "<tr><td>DeepLearning_1_AutoML_20190416_222141              </td><td style=\"text-align: right;\">             7.31247e+06</td><td style=\"text-align: right;\">2704.16</td><td style=\"text-align: right;\">7.31247e+06</td><td style=\"text-align: right;\">2018.98</td><td style=\"text-align: right;\">nan       </td></tr>\n",
       "<tr><td>DRF_1_AutoML_20190416_222141                       </td><td style=\"text-align: right;\">             9.02593e+06</td><td style=\"text-align: right;\">3004.32</td><td style=\"text-align: right;\">9.02593e+06</td><td style=\"text-align: right;\">2264.33</td><td style=\"text-align: right;\">  0.431603</td></tr>\n",
       "<tr><td>StackedEnsemble_AllModels_AutoML_20190416_222141   </td><td style=\"text-align: right;\">             1.02189e+07</td><td style=\"text-align: right;\">3196.7 </td><td style=\"text-align: right;\">1.02189e+07</td><td style=\"text-align: right;\">2489.79</td><td style=\"text-align: right;\">  0.475411</td></tr>\n",
       "<tr><td>StackedEnsemble_BestOfFamily_AutoML_20190416_222141</td><td style=\"text-align: right;\">             1.44237e+07</td><td style=\"text-align: right;\">3797.85</td><td style=\"text-align: right;\">1.44237e+07</td><td style=\"text-align: right;\">3008.8 </td><td style=\"text-align: right;\">  0.54844 </td></tr>\n",
       "<tr><td>GLM_grid_1_AutoML_20190416_222141_model_1          </td><td style=\"text-align: right;\">             2.48106e+07</td><td style=\"text-align: right;\">4981.02</td><td style=\"text-align: right;\">2.48106e+07</td><td style=\"text-align: right;\">4047.52</td><td style=\"text-align: right;\">  0.666417</td></tr>\n",
       "</tbody>\n",
       "</table>"
      ]
     },
     "metadata": {},
     "output_type": "display_data"
    },
    {
     "data": {
      "text/plain": []
     },
     "execution_count": 32,
     "metadata": {},
     "output_type": "execute_result"
    }
   ],
   "source": [
    "# view leaderboard\n",
    "lb = aml.leaderboard\n",
    "lb.head(100)"
   ]
  },
  {
   "cell_type": "code",
   "execution_count": 33,
   "metadata": {},
   "outputs": [],
   "source": [
    "\n",
    "# get leaderboard\n",
    "aml_leaderboard_df=aml.leaderboard.as_data_frame()"
   ]
  },
  {
   "cell_type": "code",
   "execution_count": 34,
   "metadata": {},
   "outputs": [],
   "source": [
    "\n",
    "# STart best model as first model\n",
    "\n",
    "model_set=aml_leaderboard_df['model_id']\n",
    "mod_best=h2o.get_model(model_set[0])"
   ]
  },
  {
   "cell_type": "code",
   "execution_count": 35,
   "metadata": {},
   "outputs": [
    {
     "data": {
      "text/plain": [
       "'GBM_5_AutoML_20190416_222141'"
      ]
     },
     "execution_count": 35,
     "metadata": {},
     "output_type": "execute_result"
    }
   ],
   "source": [
    "mod_best._id"
   ]
  },
  {
   "cell_type": "code",
   "execution_count": 36,
   "metadata": {},
   "outputs": [
    {
     "data": {
      "text/plain": [
       "{'model_id': {'default': None,\n",
       "  'actual': {'__meta': {'schema_version': 3,\n",
       "    'schema_name': 'ModelKeyV3',\n",
       "    'schema_type': 'Key<Model>'},\n",
       "   'name': 'GBM_5_AutoML_20190416_222141',\n",
       "   'type': 'Key<Model>',\n",
       "   'URL': '/3/Models/GBM_5_AutoML_20190416_222141'}},\n",
       " 'training_frame': {'default': None,\n",
       "  'actual': {'__meta': {'schema_version': 3,\n",
       "    'schema_name': 'FrameKeyV3',\n",
       "    'schema_type': 'Key<Frame>'},\n",
       "   'name': 'automl_training_train1.hex',\n",
       "   'type': 'Key<Frame>',\n",
       "   'URL': '/3/Frames/automl_training_train1.hex'}},\n",
       " 'validation_frame': {'default': None, 'actual': None},\n",
       " 'nfolds': {'default': 0, 'actual': 5},\n",
       " 'keep_cross_validation_models': {'default': True, 'actual': False},\n",
       " 'keep_cross_validation_predictions': {'default': False, 'actual': True},\n",
       " 'keep_cross_validation_fold_assignment': {'default': False, 'actual': False},\n",
       " 'score_each_iteration': {'default': False, 'actual': False},\n",
       " 'score_tree_interval': {'default': 0, 'actual': 5},\n",
       " 'fold_assignment': {'default': 'AUTO', 'actual': 'Modulo'},\n",
       " 'fold_column': {'default': None, 'actual': None},\n",
       " 'response_column': {'default': None,\n",
       "  'actual': {'__meta': {'schema_version': 3,\n",
       "    'schema_name': 'ColSpecifierV3',\n",
       "    'schema_type': 'VecSpecifier'},\n",
       "   'column_name': 'Purchase',\n",
       "   'is_member_of_frames': None}},\n",
       " 'ignored_columns': {'default': None, 'actual': ['C1']},\n",
       " 'ignore_const_cols': {'default': True, 'actual': True},\n",
       " 'offset_column': {'default': None, 'actual': None},\n",
       " 'weights_column': {'default': None, 'actual': None},\n",
       " 'balance_classes': {'default': False, 'actual': False},\n",
       " 'class_sampling_factors': {'default': None, 'actual': None},\n",
       " 'max_after_balance_size': {'default': 5.0, 'actual': 5.0},\n",
       " 'max_confusion_matrix_size': {'default': 20, 'actual': 20},\n",
       " 'max_hit_ratio_k': {'default': 0, 'actual': 0},\n",
       " 'ntrees': {'default': 50, 'actual': 90},\n",
       " 'max_depth': {'default': 5, 'actual': 15},\n",
       " 'min_rows': {'default': 10.0, 'actual': 100.0},\n",
       " 'nbins': {'default': 20, 'actual': 20},\n",
       " 'nbins_top_level': {'default': 1024, 'actual': 1024},\n",
       " 'nbins_cats': {'default': 1024, 'actual': 1024},\n",
       " 'r2_stopping': {'default': 1.7976931348623157e+308,\n",
       "  'actual': 1.7976931348623157e+308},\n",
       " 'stopping_rounds': {'default': 0, 'actual': 0},\n",
       " 'stopping_metric': {'default': 'AUTO', 'actual': 'deviance'},\n",
       " 'stopping_tolerance': {'default': 0.001, 'actual': 0.001363890989782514},\n",
       " 'max_runtime_secs': {'default': 0.0, 'actual': 0.0},\n",
       " 'seed': {'default': -1, 'actual': -5703370725956770481},\n",
       " 'build_tree_one_node': {'default': False, 'actual': False},\n",
       " 'learn_rate': {'default': 0.1, 'actual': 0.1},\n",
       " 'learn_rate_annealing': {'default': 1.0, 'actual': 1.0},\n",
       " 'distribution': {'default': 'AUTO', 'actual': 'gaussian'},\n",
       " 'quantile_alpha': {'default': 0.5, 'actual': 0.5},\n",
       " 'tweedie_power': {'default': 1.5, 'actual': 1.5},\n",
       " 'huber_alpha': {'default': 0.9, 'actual': 0.9},\n",
       " 'checkpoint': {'default': None, 'actual': None},\n",
       " 'sample_rate': {'default': 1.0, 'actual': 0.8},\n",
       " 'sample_rate_per_class': {'default': None, 'actual': None},\n",
       " 'col_sample_rate': {'default': 1.0, 'actual': 0.8},\n",
       " 'col_sample_rate_change_per_level': {'default': 1.0, 'actual': 1.0},\n",
       " 'col_sample_rate_per_tree': {'default': 1.0, 'actual': 0.8},\n",
       " 'min_split_improvement': {'default': 1e-05, 'actual': 1e-05},\n",
       " 'histogram_type': {'default': 'AUTO', 'actual': 'AUTO'},\n",
       " 'max_abs_leafnode_pred': {'default': 1.7976931348623157e+308,\n",
       "  'actual': 1.7976931348623157e+308},\n",
       " 'pred_noise_bandwidth': {'default': 0.0, 'actual': 0.0},\n",
       " 'categorical_encoding': {'default': 'AUTO', 'actual': 'AUTO'},\n",
       " 'calibrate_model': {'default': False, 'actual': False},\n",
       " 'calibration_frame': {'default': None, 'actual': None},\n",
       " 'custom_metric_func': {'default': None, 'actual': None},\n",
       " 'export_checkpoints_dir': {'default': None, 'actual': None},\n",
       " 'monotone_constraints': {'default': None, 'actual': None},\n",
       " 'check_constant_response': {'default': True, 'actual': True}}"
      ]
     },
     "execution_count": 36,
     "metadata": {},
     "output_type": "execute_result"
    }
   ],
   "source": [
    "# h2o.get_model(mod_best)\n",
    "mod_best.params"
   ]
  },
  {
   "cell_type": "code",
   "execution_count": 37,
   "metadata": {},
   "outputs": [],
   "source": [
    "def dict_to_json(dct,n):\n",
    "  j = json.dumps(dct, indent=4)\n",
    "  f = open(n, 'w')\n",
    "  print(j, file=f)\n",
    "  f.close()"
   ]
  },
  {
   "cell_type": "code",
   "execution_count": 38,
   "metadata": {},
   "outputs": [],
   "source": [
    "hy_parameter = mod_best.params\n",
    "n='hyperparameter1_2000.json'"
   ]
  },
  {
   "cell_type": "code",
   "execution_count": 39,
   "metadata": {},
   "outputs": [],
   "source": [
    "dict_to_json(hy_parameter,n)"
   ]
  },
  {
   "cell_type": "markdown",
   "metadata": {},
   "source": [
    "# Hyperparameters for Model 2 for 2000 Seconds"
   ]
  },
  {
   "cell_type": "code",
   "execution_count": 40,
   "metadata": {},
   "outputs": [],
   "source": [
    "\n",
    "model_set=aml_leaderboard_df['model_id']\n",
    "mod_best=h2o.get_model(model_set[1])"
   ]
  },
  {
   "cell_type": "code",
   "execution_count": 41,
   "metadata": {},
   "outputs": [
    {
     "data": {
      "text/plain": [
       "'GBM_4_AutoML_20190416_222141'"
      ]
     },
     "execution_count": 41,
     "metadata": {},
     "output_type": "execute_result"
    }
   ],
   "source": [
    "mod_best._id"
   ]
  },
  {
   "cell_type": "code",
   "execution_count": 42,
   "metadata": {},
   "outputs": [
    {
     "data": {
      "text/plain": [
       "{'model_id': {'default': None,\n",
       "  'actual': {'__meta': {'schema_version': 3,\n",
       "    'schema_name': 'ModelKeyV3',\n",
       "    'schema_type': 'Key<Model>'},\n",
       "   'name': 'GBM_4_AutoML_20190416_222141',\n",
       "   'type': 'Key<Model>',\n",
       "   'URL': '/3/Models/GBM_4_AutoML_20190416_222141'}},\n",
       " 'training_frame': {'default': None,\n",
       "  'actual': {'__meta': {'schema_version': 3,\n",
       "    'schema_name': 'FrameKeyV3',\n",
       "    'schema_type': 'Key<Frame>'},\n",
       "   'name': 'automl_training_train1.hex',\n",
       "   'type': 'Key<Frame>',\n",
       "   'URL': '/3/Frames/automl_training_train1.hex'}},\n",
       " 'validation_frame': {'default': None, 'actual': None},\n",
       " 'nfolds': {'default': 0, 'actual': 5},\n",
       " 'keep_cross_validation_models': {'default': True, 'actual': False},\n",
       " 'keep_cross_validation_predictions': {'default': False, 'actual': True},\n",
       " 'keep_cross_validation_fold_assignment': {'default': False, 'actual': False},\n",
       " 'score_each_iteration': {'default': False, 'actual': False},\n",
       " 'score_tree_interval': {'default': 0, 'actual': 5},\n",
       " 'fold_assignment': {'default': 'AUTO', 'actual': 'Modulo'},\n",
       " 'fold_column': {'default': None, 'actual': None},\n",
       " 'response_column': {'default': None,\n",
       "  'actual': {'__meta': {'schema_version': 3,\n",
       "    'schema_name': 'ColSpecifierV3',\n",
       "    'schema_type': 'VecSpecifier'},\n",
       "   'column_name': 'Purchase',\n",
       "   'is_member_of_frames': None}},\n",
       " 'ignored_columns': {'default': None, 'actual': ['C1']},\n",
       " 'ignore_const_cols': {'default': True, 'actual': True},\n",
       " 'offset_column': {'default': None, 'actual': None},\n",
       " 'weights_column': {'default': None, 'actual': None},\n",
       " 'balance_classes': {'default': False, 'actual': False},\n",
       " 'class_sampling_factors': {'default': None, 'actual': None},\n",
       " 'max_after_balance_size': {'default': 5.0, 'actual': 5.0},\n",
       " 'max_confusion_matrix_size': {'default': 20, 'actual': 20},\n",
       " 'max_hit_ratio_k': {'default': 0, 'actual': 0},\n",
       " 'ntrees': {'default': 50, 'actual': 90},\n",
       " 'max_depth': {'default': 5, 'actual': 15},\n",
       " 'min_rows': {'default': 10.0, 'actual': 100.0},\n",
       " 'nbins': {'default': 20, 'actual': 20},\n",
       " 'nbins_top_level': {'default': 1024, 'actual': 1024},\n",
       " 'nbins_cats': {'default': 1024, 'actual': 1024},\n",
       " 'r2_stopping': {'default': 1.7976931348623157e+308,\n",
       "  'actual': 1.7976931348623157e+308},\n",
       " 'stopping_rounds': {'default': 0, 'actual': 0},\n",
       " 'stopping_metric': {'default': 'AUTO', 'actual': 'deviance'},\n",
       " 'stopping_tolerance': {'default': 0.001, 'actual': 0.001363890989782514},\n",
       " 'max_runtime_secs': {'default': 0.0, 'actual': 0.0},\n",
       " 'seed': {'default': -1, 'actual': -5703370725956770481},\n",
       " 'build_tree_one_node': {'default': False, 'actual': False},\n",
       " 'learn_rate': {'default': 0.1, 'actual': 0.1},\n",
       " 'learn_rate_annealing': {'default': 1.0, 'actual': 1.0},\n",
       " 'distribution': {'default': 'AUTO', 'actual': 'gaussian'},\n",
       " 'quantile_alpha': {'default': 0.5, 'actual': 0.5},\n",
       " 'tweedie_power': {'default': 1.5, 'actual': 1.5},\n",
       " 'huber_alpha': {'default': 0.9, 'actual': 0.9},\n",
       " 'checkpoint': {'default': None, 'actual': None},\n",
       " 'sample_rate': {'default': 1.0, 'actual': 0.8},\n",
       " 'sample_rate_per_class': {'default': None, 'actual': None},\n",
       " 'col_sample_rate': {'default': 1.0, 'actual': 0.8},\n",
       " 'col_sample_rate_change_per_level': {'default': 1.0, 'actual': 1.0},\n",
       " 'col_sample_rate_per_tree': {'default': 1.0, 'actual': 0.8},\n",
       " 'min_split_improvement': {'default': 1e-05, 'actual': 1e-05},\n",
       " 'histogram_type': {'default': 'AUTO', 'actual': 'AUTO'},\n",
       " 'max_abs_leafnode_pred': {'default': 1.7976931348623157e+308,\n",
       "  'actual': 1.7976931348623157e+308},\n",
       " 'pred_noise_bandwidth': {'default': 0.0, 'actual': 0.0},\n",
       " 'categorical_encoding': {'default': 'AUTO', 'actual': 'AUTO'},\n",
       " 'calibrate_model': {'default': False, 'actual': False},\n",
       " 'calibration_frame': {'default': None, 'actual': None},\n",
       " 'custom_metric_func': {'default': None, 'actual': None},\n",
       " 'export_checkpoints_dir': {'default': None, 'actual': None},\n",
       " 'monotone_constraints': {'default': None, 'actual': None},\n",
       " 'check_constant_response': {'default': True, 'actual': True}}"
      ]
     },
     "execution_count": 42,
     "metadata": {},
     "output_type": "execute_result"
    }
   ],
   "source": [
    "# h2o.get_model(mod_best)\n",
    "mod_best.params"
   ]
  },
  {
   "cell_type": "code",
   "execution_count": 43,
   "metadata": {},
   "outputs": [],
   "source": [
    "def dict_to_json(dct,n):\n",
    "  j = json.dumps(dct, indent=4)\n",
    "  f = open(n, 'w')\n",
    "  print(j, file=f)\n",
    "  f.close()"
   ]
  },
  {
   "cell_type": "code",
   "execution_count": 55,
   "metadata": {},
   "outputs": [],
   "source": [
    "hy_parameter = mod_best.params\n",
    "n='hyperparameter2_2000.json'"
   ]
  },
  {
   "cell_type": "code",
   "execution_count": 56,
   "metadata": {},
   "outputs": [],
   "source": [
    "dict_to_json(hy_parameter,n)"
   ]
  },
  {
   "cell_type": "markdown",
   "metadata": {},
   "source": [
    "# Hyperparameters for model 2 for 2000 Seconds"
   ]
  },
  {
   "cell_type": "code",
   "execution_count": 45,
   "metadata": {},
   "outputs": [],
   "source": [
    "\n",
    "model_set=aml_leaderboard_df['model_id']\n",
    "mod_best=h2o.get_model(model_set[2])"
   ]
  },
  {
   "cell_type": "code",
   "execution_count": 46,
   "metadata": {},
   "outputs": [
    {
     "data": {
      "text/plain": [
       "'GBM_3_AutoML_20190416_222141'"
      ]
     },
     "execution_count": 46,
     "metadata": {},
     "output_type": "execute_result"
    }
   ],
   "source": [
    "mod_best._id"
   ]
  },
  {
   "cell_type": "code",
   "execution_count": 47,
   "metadata": {},
   "outputs": [
    {
     "data": {
      "text/plain": [
       "{'model_id': {'default': None,\n",
       "  'actual': {'__meta': {'schema_version': 3,\n",
       "    'schema_name': 'ModelKeyV3',\n",
       "    'schema_type': 'Key<Model>'},\n",
       "   'name': 'GBM_3_AutoML_20190416_222141',\n",
       "   'type': 'Key<Model>',\n",
       "   'URL': '/3/Models/GBM_3_AutoML_20190416_222141'}},\n",
       " 'training_frame': {'default': None,\n",
       "  'actual': {'__meta': {'schema_version': 3,\n",
       "    'schema_name': 'FrameKeyV3',\n",
       "    'schema_type': 'Key<Frame>'},\n",
       "   'name': 'automl_training_train1.hex',\n",
       "   'type': 'Key<Frame>',\n",
       "   'URL': '/3/Frames/automl_training_train1.hex'}},\n",
       " 'validation_frame': {'default': None, 'actual': None},\n",
       " 'nfolds': {'default': 0, 'actual': 5},\n",
       " 'keep_cross_validation_models': {'default': True, 'actual': False},\n",
       " 'keep_cross_validation_predictions': {'default': False, 'actual': True},\n",
       " 'keep_cross_validation_fold_assignment': {'default': False, 'actual': False},\n",
       " 'score_each_iteration': {'default': False, 'actual': False},\n",
       " 'score_tree_interval': {'default': 0, 'actual': 5},\n",
       " 'fold_assignment': {'default': 'AUTO', 'actual': 'Modulo'},\n",
       " 'fold_column': {'default': None, 'actual': None},\n",
       " 'response_column': {'default': None,\n",
       "  'actual': {'__meta': {'schema_version': 3,\n",
       "    'schema_name': 'ColSpecifierV3',\n",
       "    'schema_type': 'VecSpecifier'},\n",
       "   'column_name': 'Purchase',\n",
       "   'is_member_of_frames': None}},\n",
       " 'ignored_columns': {'default': None, 'actual': ['C1']},\n",
       " 'ignore_const_cols': {'default': True, 'actual': True},\n",
       " 'offset_column': {'default': None, 'actual': None},\n",
       " 'weights_column': {'default': None, 'actual': None},\n",
       " 'balance_classes': {'default': False, 'actual': False},\n",
       " 'class_sampling_factors': {'default': None, 'actual': None},\n",
       " 'max_after_balance_size': {'default': 5.0, 'actual': 5.0},\n",
       " 'max_confusion_matrix_size': {'default': 20, 'actual': 20},\n",
       " 'max_hit_ratio_k': {'default': 0, 'actual': 0},\n",
       " 'ntrees': {'default': 50, 'actual': 90},\n",
       " 'max_depth': {'default': 5, 'actual': 15},\n",
       " 'min_rows': {'default': 10.0, 'actual': 100.0},\n",
       " 'nbins': {'default': 20, 'actual': 20},\n",
       " 'nbins_top_level': {'default': 1024, 'actual': 1024},\n",
       " 'nbins_cats': {'default': 1024, 'actual': 1024},\n",
       " 'r2_stopping': {'default': 1.7976931348623157e+308,\n",
       "  'actual': 1.7976931348623157e+308},\n",
       " 'stopping_rounds': {'default': 0, 'actual': 0},\n",
       " 'stopping_metric': {'default': 'AUTO', 'actual': 'deviance'},\n",
       " 'stopping_tolerance': {'default': 0.001, 'actual': 0.001363890989782514},\n",
       " 'max_runtime_secs': {'default': 0.0, 'actual': 0.0},\n",
       " 'seed': {'default': -1, 'actual': -5703370725956770481},\n",
       " 'build_tree_one_node': {'default': False, 'actual': False},\n",
       " 'learn_rate': {'default': 0.1, 'actual': 0.1},\n",
       " 'learn_rate_annealing': {'default': 1.0, 'actual': 1.0},\n",
       " 'distribution': {'default': 'AUTO', 'actual': 'gaussian'},\n",
       " 'quantile_alpha': {'default': 0.5, 'actual': 0.5},\n",
       " 'tweedie_power': {'default': 1.5, 'actual': 1.5},\n",
       " 'huber_alpha': {'default': 0.9, 'actual': 0.9},\n",
       " 'checkpoint': {'default': None, 'actual': None},\n",
       " 'sample_rate': {'default': 1.0, 'actual': 0.8},\n",
       " 'sample_rate_per_class': {'default': None, 'actual': None},\n",
       " 'col_sample_rate': {'default': 1.0, 'actual': 0.8},\n",
       " 'col_sample_rate_change_per_level': {'default': 1.0, 'actual': 1.0},\n",
       " 'col_sample_rate_per_tree': {'default': 1.0, 'actual': 0.8},\n",
       " 'min_split_improvement': {'default': 1e-05, 'actual': 1e-05},\n",
       " 'histogram_type': {'default': 'AUTO', 'actual': 'AUTO'},\n",
       " 'max_abs_leafnode_pred': {'default': 1.7976931348623157e+308,\n",
       "  'actual': 1.7976931348623157e+308},\n",
       " 'pred_noise_bandwidth': {'default': 0.0, 'actual': 0.0},\n",
       " 'categorical_encoding': {'default': 'AUTO', 'actual': 'AUTO'},\n",
       " 'calibrate_model': {'default': False, 'actual': False},\n",
       " 'calibration_frame': {'default': None, 'actual': None},\n",
       " 'custom_metric_func': {'default': None, 'actual': None},\n",
       " 'export_checkpoints_dir': {'default': None, 'actual': None},\n",
       " 'monotone_constraints': {'default': None, 'actual': None},\n",
       " 'check_constant_response': {'default': True, 'actual': True}}"
      ]
     },
     "execution_count": 47,
     "metadata": {},
     "output_type": "execute_result"
    }
   ],
   "source": [
    "# h2o.get_model(mod_best)\n",
    "mod_best.params"
   ]
  },
  {
   "cell_type": "code",
   "execution_count": 48,
   "metadata": {},
   "outputs": [],
   "source": [
    "def dict_to_json(dct,n):\n",
    "  j = json.dumps(dct, indent=4)\n",
    "  f = open(n, 'w')\n",
    "  print(j, file=f)\n",
    "  f.close()"
   ]
  },
  {
   "cell_type": "code",
   "execution_count": 57,
   "metadata": {},
   "outputs": [],
   "source": [
    "hy_parameter = mod_best.params\n",
    "n='hyperparameter3_2000.json'"
   ]
  },
  {
   "cell_type": "code",
   "execution_count": 58,
   "metadata": {},
   "outputs": [],
   "source": [
    "dict_to_json(hy_parameter,n)"
   ]
  },
  {
   "cell_type": "markdown",
   "metadata": {},
   "source": [
    "# Hyperparameter Model 4 for 2000 Seconds"
   ]
  },
  {
   "cell_type": "code",
   "execution_count": 50,
   "metadata": {},
   "outputs": [],
   "source": [
    "\n",
    "model_set=aml_leaderboard_df['model_id']\n",
    "mod_best=h2o.get_model(model_set[3])"
   ]
  },
  {
   "cell_type": "code",
   "execution_count": 51,
   "metadata": {},
   "outputs": [
    {
     "data": {
      "text/plain": [
       "'GBM_2_AutoML_20190416_222141'"
      ]
     },
     "execution_count": 51,
     "metadata": {},
     "output_type": "execute_result"
    }
   ],
   "source": [
    "mod_best._id"
   ]
  },
  {
   "cell_type": "code",
   "execution_count": 52,
   "metadata": {},
   "outputs": [
    {
     "data": {
      "text/plain": [
       "{'model_id': {'default': None,\n",
       "  'actual': {'__meta': {'schema_version': 3,\n",
       "    'schema_name': 'ModelKeyV3',\n",
       "    'schema_type': 'Key<Model>'},\n",
       "   'name': 'GBM_2_AutoML_20190416_222141',\n",
       "   'type': 'Key<Model>',\n",
       "   'URL': '/3/Models/GBM_2_AutoML_20190416_222141'}},\n",
       " 'training_frame': {'default': None,\n",
       "  'actual': {'__meta': {'schema_version': 3,\n",
       "    'schema_name': 'FrameKeyV3',\n",
       "    'schema_type': 'Key<Frame>'},\n",
       "   'name': 'automl_training_train1.hex',\n",
       "   'type': 'Key<Frame>',\n",
       "   'URL': '/3/Frames/automl_training_train1.hex'}},\n",
       " 'validation_frame': {'default': None, 'actual': None},\n",
       " 'nfolds': {'default': 0, 'actual': 5},\n",
       " 'keep_cross_validation_models': {'default': True, 'actual': False},\n",
       " 'keep_cross_validation_predictions': {'default': False, 'actual': True},\n",
       " 'keep_cross_validation_fold_assignment': {'default': False, 'actual': False},\n",
       " 'score_each_iteration': {'default': False, 'actual': False},\n",
       " 'score_tree_interval': {'default': 0, 'actual': 5},\n",
       " 'fold_assignment': {'default': 'AUTO', 'actual': 'Modulo'},\n",
       " 'fold_column': {'default': None, 'actual': None},\n",
       " 'response_column': {'default': None,\n",
       "  'actual': {'__meta': {'schema_version': 3,\n",
       "    'schema_name': 'ColSpecifierV3',\n",
       "    'schema_type': 'VecSpecifier'},\n",
       "   'column_name': 'Purchase',\n",
       "   'is_member_of_frames': None}},\n",
       " 'ignored_columns': {'default': None, 'actual': ['C1']},\n",
       " 'ignore_const_cols': {'default': True, 'actual': True},\n",
       " 'offset_column': {'default': None, 'actual': None},\n",
       " 'weights_column': {'default': None, 'actual': None},\n",
       " 'balance_classes': {'default': False, 'actual': False},\n",
       " 'class_sampling_factors': {'default': None, 'actual': None},\n",
       " 'max_after_balance_size': {'default': 5.0, 'actual': 5.0},\n",
       " 'max_confusion_matrix_size': {'default': 20, 'actual': 20},\n",
       " 'max_hit_ratio_k': {'default': 0, 'actual': 0},\n",
       " 'ntrees': {'default': 50, 'actual': 90},\n",
       " 'max_depth': {'default': 5, 'actual': 15},\n",
       " 'min_rows': {'default': 10.0, 'actual': 100.0},\n",
       " 'nbins': {'default': 20, 'actual': 20},\n",
       " 'nbins_top_level': {'default': 1024, 'actual': 1024},\n",
       " 'nbins_cats': {'default': 1024, 'actual': 1024},\n",
       " 'r2_stopping': {'default': 1.7976931348623157e+308,\n",
       "  'actual': 1.7976931348623157e+308},\n",
       " 'stopping_rounds': {'default': 0, 'actual': 0},\n",
       " 'stopping_metric': {'default': 'AUTO', 'actual': 'deviance'},\n",
       " 'stopping_tolerance': {'default': 0.001, 'actual': 0.001363890989782514},\n",
       " 'max_runtime_secs': {'default': 0.0, 'actual': 0.0},\n",
       " 'seed': {'default': -1, 'actual': -5703370725956770481},\n",
       " 'build_tree_one_node': {'default': False, 'actual': False},\n",
       " 'learn_rate': {'default': 0.1, 'actual': 0.1},\n",
       " 'learn_rate_annealing': {'default': 1.0, 'actual': 1.0},\n",
       " 'distribution': {'default': 'AUTO', 'actual': 'gaussian'},\n",
       " 'quantile_alpha': {'default': 0.5, 'actual': 0.5},\n",
       " 'tweedie_power': {'default': 1.5, 'actual': 1.5},\n",
       " 'huber_alpha': {'default': 0.9, 'actual': 0.9},\n",
       " 'checkpoint': {'default': None, 'actual': None},\n",
       " 'sample_rate': {'default': 1.0, 'actual': 0.8},\n",
       " 'sample_rate_per_class': {'default': None, 'actual': None},\n",
       " 'col_sample_rate': {'default': 1.0, 'actual': 0.8},\n",
       " 'col_sample_rate_change_per_level': {'default': 1.0, 'actual': 1.0},\n",
       " 'col_sample_rate_per_tree': {'default': 1.0, 'actual': 0.8},\n",
       " 'min_split_improvement': {'default': 1e-05, 'actual': 1e-05},\n",
       " 'histogram_type': {'default': 'AUTO', 'actual': 'AUTO'},\n",
       " 'max_abs_leafnode_pred': {'default': 1.7976931348623157e+308,\n",
       "  'actual': 1.7976931348623157e+308},\n",
       " 'pred_noise_bandwidth': {'default': 0.0, 'actual': 0.0},\n",
       " 'categorical_encoding': {'default': 'AUTO', 'actual': 'AUTO'},\n",
       " 'calibrate_model': {'default': False, 'actual': False},\n",
       " 'calibration_frame': {'default': None, 'actual': None},\n",
       " 'custom_metric_func': {'default': None, 'actual': None},\n",
       " 'export_checkpoints_dir': {'default': None, 'actual': None},\n",
       " 'monotone_constraints': {'default': None, 'actual': None},\n",
       " 'check_constant_response': {'default': True, 'actual': True}}"
      ]
     },
     "execution_count": 52,
     "metadata": {},
     "output_type": "execute_result"
    }
   ],
   "source": [
    "# h2o.get_model(mod_best)\n",
    "mod_best.params"
   ]
  },
  {
   "cell_type": "code",
   "execution_count": 53,
   "metadata": {},
   "outputs": [],
   "source": [
    "def dict_to_json(dct,n):\n",
    "  j = json.dumps(dct, indent=4)\n",
    "  f = open(n, 'w')\n",
    "  print(j, file=f)\n",
    "  f.close()"
   ]
  },
  {
   "cell_type": "code",
   "execution_count": 59,
   "metadata": {},
   "outputs": [],
   "source": [
    "hy_parameter = mod_best.params\n",
    "n='hyperparameter4_2000.json'"
   ]
  },
  {
   "cell_type": "code",
   "execution_count": 60,
   "metadata": {},
   "outputs": [],
   "source": [
    "dict_to_json(hy_parameter,n)"
   ]
  },
  {
   "cell_type": "markdown",
   "metadata": {},
   "source": [
    "# Hyperparameter for Model 5 for 2000 Seconds"
   ]
  },
  {
   "cell_type": "code",
   "execution_count": 61,
   "metadata": {},
   "outputs": [],
   "source": [
    "\n",
    "model_set=aml_leaderboard_df['model_id']\n",
    "mod_best=h2o.get_model(model_set[4])"
   ]
  },
  {
   "cell_type": "code",
   "execution_count": 62,
   "metadata": {},
   "outputs": [
    {
     "data": {
      "text/plain": [
       "'GBM_1_AutoML_20190416_222141'"
      ]
     },
     "execution_count": 62,
     "metadata": {},
     "output_type": "execute_result"
    }
   ],
   "source": [
    "mod_best._id"
   ]
  },
  {
   "cell_type": "code",
   "execution_count": 63,
   "metadata": {},
   "outputs": [
    {
     "data": {
      "text/plain": [
       "{'model_id': {'default': None,\n",
       "  'actual': {'__meta': {'schema_version': 3,\n",
       "    'schema_name': 'ModelKeyV3',\n",
       "    'schema_type': 'Key<Model>'},\n",
       "   'name': 'GBM_1_AutoML_20190416_222141',\n",
       "   'type': 'Key<Model>',\n",
       "   'URL': '/3/Models/GBM_1_AutoML_20190416_222141'}},\n",
       " 'training_frame': {'default': None,\n",
       "  'actual': {'__meta': {'schema_version': 3,\n",
       "    'schema_name': 'FrameKeyV3',\n",
       "    'schema_type': 'Key<Frame>'},\n",
       "   'name': 'automl_training_train1.hex',\n",
       "   'type': 'Key<Frame>',\n",
       "   'URL': '/3/Frames/automl_training_train1.hex'}},\n",
       " 'validation_frame': {'default': None, 'actual': None},\n",
       " 'nfolds': {'default': 0, 'actual': 5},\n",
       " 'keep_cross_validation_models': {'default': True, 'actual': False},\n",
       " 'keep_cross_validation_predictions': {'default': False, 'actual': True},\n",
       " 'keep_cross_validation_fold_assignment': {'default': False, 'actual': False},\n",
       " 'score_each_iteration': {'default': False, 'actual': False},\n",
       " 'score_tree_interval': {'default': 0, 'actual': 5},\n",
       " 'fold_assignment': {'default': 'AUTO', 'actual': 'Modulo'},\n",
       " 'fold_column': {'default': None, 'actual': None},\n",
       " 'response_column': {'default': None,\n",
       "  'actual': {'__meta': {'schema_version': 3,\n",
       "    'schema_name': 'ColSpecifierV3',\n",
       "    'schema_type': 'VecSpecifier'},\n",
       "   'column_name': 'Purchase',\n",
       "   'is_member_of_frames': None}},\n",
       " 'ignored_columns': {'default': None, 'actual': ['C1']},\n",
       " 'ignore_const_cols': {'default': True, 'actual': True},\n",
       " 'offset_column': {'default': None, 'actual': None},\n",
       " 'weights_column': {'default': None, 'actual': None},\n",
       " 'balance_classes': {'default': False, 'actual': False},\n",
       " 'class_sampling_factors': {'default': None, 'actual': None},\n",
       " 'max_after_balance_size': {'default': 5.0, 'actual': 5.0},\n",
       " 'max_confusion_matrix_size': {'default': 20, 'actual': 20},\n",
       " 'max_hit_ratio_k': {'default': 0, 'actual': 0},\n",
       " 'ntrees': {'default': 50, 'actual': 90},\n",
       " 'max_depth': {'default': 5, 'actual': 15},\n",
       " 'min_rows': {'default': 10.0, 'actual': 100.0},\n",
       " 'nbins': {'default': 20, 'actual': 20},\n",
       " 'nbins_top_level': {'default': 1024, 'actual': 1024},\n",
       " 'nbins_cats': {'default': 1024, 'actual': 1024},\n",
       " 'r2_stopping': {'default': 1.7976931348623157e+308,\n",
       "  'actual': 1.7976931348623157e+308},\n",
       " 'stopping_rounds': {'default': 0, 'actual': 0},\n",
       " 'stopping_metric': {'default': 'AUTO', 'actual': 'deviance'},\n",
       " 'stopping_tolerance': {'default': 0.001, 'actual': 0.001363890989782514},\n",
       " 'max_runtime_secs': {'default': 0.0, 'actual': 0.0},\n",
       " 'seed': {'default': -1, 'actual': -5703370725956770481},\n",
       " 'build_tree_one_node': {'default': False, 'actual': False},\n",
       " 'learn_rate': {'default': 0.1, 'actual': 0.1},\n",
       " 'learn_rate_annealing': {'default': 1.0, 'actual': 1.0},\n",
       " 'distribution': {'default': 'AUTO', 'actual': 'gaussian'},\n",
       " 'quantile_alpha': {'default': 0.5, 'actual': 0.5},\n",
       " 'tweedie_power': {'default': 1.5, 'actual': 1.5},\n",
       " 'huber_alpha': {'default': 0.9, 'actual': 0.9},\n",
       " 'checkpoint': {'default': None, 'actual': None},\n",
       " 'sample_rate': {'default': 1.0, 'actual': 0.8},\n",
       " 'sample_rate_per_class': {'default': None, 'actual': None},\n",
       " 'col_sample_rate': {'default': 1.0, 'actual': 0.8},\n",
       " 'col_sample_rate_change_per_level': {'default': 1.0, 'actual': 1.0},\n",
       " 'col_sample_rate_per_tree': {'default': 1.0, 'actual': 0.8},\n",
       " 'min_split_improvement': {'default': 1e-05, 'actual': 1e-05},\n",
       " 'histogram_type': {'default': 'AUTO', 'actual': 'AUTO'},\n",
       " 'max_abs_leafnode_pred': {'default': 1.7976931348623157e+308,\n",
       "  'actual': 1.7976931348623157e+308},\n",
       " 'pred_noise_bandwidth': {'default': 0.0, 'actual': 0.0},\n",
       " 'categorical_encoding': {'default': 'AUTO', 'actual': 'AUTO'},\n",
       " 'calibrate_model': {'default': False, 'actual': False},\n",
       " 'calibration_frame': {'default': None, 'actual': None},\n",
       " 'custom_metric_func': {'default': None, 'actual': None},\n",
       " 'export_checkpoints_dir': {'default': None, 'actual': None},\n",
       " 'monotone_constraints': {'default': None, 'actual': None},\n",
       " 'check_constant_response': {'default': True, 'actual': True}}"
      ]
     },
     "execution_count": 63,
     "metadata": {},
     "output_type": "execute_result"
    }
   ],
   "source": [
    "# h2o.get_model(mod_best)\n",
    "mod_best.params"
   ]
  },
  {
   "cell_type": "code",
   "execution_count": 64,
   "metadata": {},
   "outputs": [],
   "source": [
    "def dict_to_json(dct,n):\n",
    "  j = json.dumps(dct, indent=4)\n",
    "  f = open(n, 'w')\n",
    "  print(j, file=f)\n",
    "  f.close()"
   ]
  },
  {
   "cell_type": "code",
   "execution_count": 65,
   "metadata": {},
   "outputs": [],
   "source": [
    "hy_parameter = mod_best.params\n",
    "n='hyperparameter5_2000.json'"
   ]
  },
  {
   "cell_type": "code",
   "execution_count": 66,
   "metadata": {},
   "outputs": [],
   "source": [
    "dict_to_json(hy_parameter,n)"
   ]
  },
  {
   "cell_type": "markdown",
   "metadata": {},
   "source": [
    "# Hyperparameters for Model 6 for 2000 Seconds"
   ]
  },
  {
   "cell_type": "code",
   "execution_count": 76,
   "metadata": {},
   "outputs": [],
   "source": [
    "\n",
    "model_set=aml_leaderboard_df['model_id']\n",
    "mod_best=h2o.get_model(model_set[5])"
   ]
  },
  {
   "cell_type": "code",
   "execution_count": 77,
   "metadata": {},
   "outputs": [
    {
     "data": {
      "text/plain": [
       "'DeepLearning_1_AutoML_20190416_222141'"
      ]
     },
     "execution_count": 77,
     "metadata": {},
     "output_type": "execute_result"
    }
   ],
   "source": [
    "mod_best._id"
   ]
  },
  {
   "cell_type": "code",
   "execution_count": 78,
   "metadata": {},
   "outputs": [
    {
     "data": {
      "text/plain": [
       "{'model_id': {'default': None,\n",
       "  'actual': {'__meta': {'schema_version': 3,\n",
       "    'schema_name': 'ModelKeyV3',\n",
       "    'schema_type': 'Key<Model>'},\n",
       "   'name': 'DeepLearning_1_AutoML_20190416_222141',\n",
       "   'type': 'Key<Model>',\n",
       "   'URL': '/3/Models/DeepLearning_1_AutoML_20190416_222141'}},\n",
       " 'training_frame': {'default': None,\n",
       "  'actual': {'__meta': {'schema_version': 3,\n",
       "    'schema_name': 'FrameKeyV3',\n",
       "    'schema_type': 'Key<Frame>'},\n",
       "   'name': 'automl_training_train1.hex',\n",
       "   'type': 'Key<Frame>',\n",
       "   'URL': '/3/Frames/automl_training_train1.hex'}},\n",
       " 'validation_frame': {'default': None, 'actual': None},\n",
       " 'nfolds': {'default': 0, 'actual': 5},\n",
       " 'keep_cross_validation_models': {'default': True, 'actual': False},\n",
       " 'keep_cross_validation_predictions': {'default': False, 'actual': True},\n",
       " 'keep_cross_validation_fold_assignment': {'default': False, 'actual': False},\n",
       " 'fold_assignment': {'default': 'AUTO', 'actual': 'Modulo'},\n",
       " 'fold_column': {'default': None, 'actual': None},\n",
       " 'response_column': {'default': None,\n",
       "  'actual': {'__meta': {'schema_version': 3,\n",
       "    'schema_name': 'ColSpecifierV3',\n",
       "    'schema_type': 'VecSpecifier'},\n",
       "   'column_name': 'Purchase',\n",
       "   'is_member_of_frames': None}},\n",
       " 'ignored_columns': {'default': None, 'actual': ['C1']},\n",
       " 'ignore_const_cols': {'default': True, 'actual': True},\n",
       " 'score_each_iteration': {'default': False, 'actual': False},\n",
       " 'weights_column': {'default': None, 'actual': None},\n",
       " 'offset_column': {'default': None, 'actual': None},\n",
       " 'balance_classes': {'default': False, 'actual': False},\n",
       " 'class_sampling_factors': {'default': None, 'actual': None},\n",
       " 'max_after_balance_size': {'default': 5.0, 'actual': 5.0},\n",
       " 'max_confusion_matrix_size': {'default': 20, 'actual': 20},\n",
       " 'max_hit_ratio_k': {'default': 0, 'actual': 0},\n",
       " 'checkpoint': {'default': None, 'actual': None},\n",
       " 'pretrained_autoencoder': {'default': None, 'actual': None},\n",
       " 'overwrite_with_best_model': {'default': True, 'actual': False},\n",
       " 'use_all_factor_levels': {'default': True, 'actual': True},\n",
       " 'standardize': {'default': True, 'actual': True},\n",
       " 'activation': {'default': 'Rectifier', 'actual': 'Rectifier'},\n",
       " 'hidden': {'default': [200, 200], 'actual': [10, 10, 10]},\n",
       " 'epochs': {'default': 10.0, 'actual': 10.010255739844956},\n",
       " 'train_samples_per_iteration': {'default': -2, 'actual': -2},\n",
       " 'target_ratio_comm_to_comp': {'default': 0.05, 'actual': 0.05},\n",
       " 'seed': {'default': -1, 'actual': 2493872501377996002},\n",
       " 'adaptive_rate': {'default': True, 'actual': True},\n",
       " 'rho': {'default': 0.99, 'actual': 0.99},\n",
       " 'epsilon': {'default': 1e-08, 'actual': 1e-08},\n",
       " 'rate': {'default': 0.005, 'actual': 0.005},\n",
       " 'rate_annealing': {'default': 1e-06, 'actual': 1e-06},\n",
       " 'rate_decay': {'default': 1.0, 'actual': 1.0},\n",
       " 'momentum_start': {'default': 0.0, 'actual': 0.0},\n",
       " 'momentum_ramp': {'default': 1000000.0, 'actual': 1000000.0},\n",
       " 'momentum_stable': {'default': 0.0, 'actual': 0.0},\n",
       " 'nesterov_accelerated_gradient': {'default': True, 'actual': True},\n",
       " 'input_dropout_ratio': {'default': 0.0, 'actual': 0.0},\n",
       " 'hidden_dropout_ratios': {'default': None, 'actual': None},\n",
       " 'l1': {'default': 0.0, 'actual': 0.0},\n",
       " 'l2': {'default': 0.0, 'actual': 0.0},\n",
       " 'max_w2': {'default': 3.4028235e+38, 'actual': 3.4028235e+38},\n",
       " 'initial_weight_distribution': {'default': 'UniformAdaptive',\n",
       "  'actual': 'UniformAdaptive'},\n",
       " 'initial_weight_scale': {'default': 1.0, 'actual': 1.0},\n",
       " 'initial_weights': {'default': None, 'actual': None},\n",
       " 'initial_biases': {'default': None, 'actual': None},\n",
       " 'loss': {'default': 'Automatic', 'actual': 'Automatic'},\n",
       " 'distribution': {'default': 'AUTO', 'actual': 'AUTO'},\n",
       " 'quantile_alpha': {'default': 0.5, 'actual': 0.5},\n",
       " 'tweedie_power': {'default': 1.5, 'actual': 1.5},\n",
       " 'huber_alpha': {'default': 0.9, 'actual': 0.9},\n",
       " 'score_interval': {'default': 5.0, 'actual': 5.0},\n",
       " 'score_training_samples': {'default': 10000, 'actual': 10000},\n",
       " 'score_validation_samples': {'default': 0, 'actual': 0},\n",
       " 'score_duty_cycle': {'default': 0.1, 'actual': 0.1},\n",
       " 'classification_stop': {'default': 0.0, 'actual': 0.0},\n",
       " 'regression_stop': {'default': 1e-06, 'actual': 1e-06},\n",
       " 'stopping_rounds': {'default': 5, 'actual': 0},\n",
       " 'stopping_metric': {'default': 'AUTO', 'actual': 'deviance'},\n",
       " 'stopping_tolerance': {'default': 0.0, 'actual': 0.001363890989782514},\n",
       " 'max_runtime_secs': {'default': 0.0, 'actual': 0.0},\n",
       " 'score_validation_sampling': {'default': 'Uniform', 'actual': 'Uniform'},\n",
       " 'diagnostics': {'default': True, 'actual': True},\n",
       " 'fast_mode': {'default': True, 'actual': True},\n",
       " 'force_load_balance': {'default': True, 'actual': True},\n",
       " 'variable_importances': {'default': True, 'actual': True},\n",
       " 'replicate_training_data': {'default': True, 'actual': True},\n",
       " 'single_node_mode': {'default': False, 'actual': False},\n",
       " 'shuffle_training_data': {'default': False, 'actual': False},\n",
       " 'missing_values_handling': {'default': 'MeanImputation',\n",
       "  'actual': 'MeanImputation'},\n",
       " 'quiet_mode': {'default': False, 'actual': False},\n",
       " 'autoencoder': {'default': False, 'actual': False},\n",
       " 'sparse': {'default': False, 'actual': False},\n",
       " 'col_major': {'default': False, 'actual': False},\n",
       " 'average_activation': {'default': 0.0, 'actual': 0.0},\n",
       " 'sparsity_beta': {'default': 0.0, 'actual': 0.0},\n",
       " 'max_categorical_features': {'default': 2147483647, 'actual': 2147483647},\n",
       " 'reproducible': {'default': False, 'actual': False},\n",
       " 'export_weights_and_biases': {'default': False, 'actual': False},\n",
       " 'mini_batch_size': {'default': 1, 'actual': 1},\n",
       " 'categorical_encoding': {'default': 'AUTO', 'actual': 'AUTO'},\n",
       " 'elastic_averaging': {'default': False, 'actual': False},\n",
       " 'elastic_averaging_moving_rate': {'default': 0.9, 'actual': 0.9},\n",
       " 'elastic_averaging_regularization': {'default': 0.001, 'actual': 0.001},\n",
       " 'export_checkpoints_dir': {'default': None, 'actual': None}}"
      ]
     },
     "execution_count": 78,
     "metadata": {},
     "output_type": "execute_result"
    }
   ],
   "source": [
    "# h2o.get_model(mod_best)\n",
    "mod_best.params"
   ]
  },
  {
   "cell_type": "code",
   "execution_count": 70,
   "metadata": {},
   "outputs": [],
   "source": [
    "def dict_to_json(dct,n):\n",
    "  j = json.dumps(dct, indent=4)\n",
    "  f = open(n, 'w')\n",
    "  print(j, file=f)\n",
    "  f.close()"
   ]
  },
  {
   "cell_type": "code",
   "execution_count": 71,
   "metadata": {},
   "outputs": [],
   "source": [
    "hy_parameter = mod_best.params\n",
    "n='hyperparameter6_2000.json'"
   ]
  },
  {
   "cell_type": "code",
   "execution_count": 72,
   "metadata": {},
   "outputs": [],
   "source": [
    "dict_to_json(hy_parameter,n)"
   ]
  },
  {
   "cell_type": "markdown",
   "metadata": {},
   "source": [
    "# Hyperparameters for model 7 for 2000 Seconds"
   ]
  },
  {
   "cell_type": "code",
   "execution_count": 79,
   "metadata": {},
   "outputs": [],
   "source": [
    "\n",
    "model_set=aml_leaderboard_df['model_id']\n",
    "mod_best=h2o.get_model(model_set[6])"
   ]
  },
  {
   "cell_type": "code",
   "execution_count": 80,
   "metadata": {},
   "outputs": [
    {
     "data": {
      "text/plain": [
       "'DRF_1_AutoML_20190416_222141'"
      ]
     },
     "execution_count": 80,
     "metadata": {},
     "output_type": "execute_result"
    }
   ],
   "source": [
    "mod_best._id"
   ]
  },
  {
   "cell_type": "code",
   "execution_count": 81,
   "metadata": {},
   "outputs": [
    {
     "data": {
      "text/plain": [
       "{'model_id': {'default': None,\n",
       "  'actual': {'__meta': {'schema_version': 3,\n",
       "    'schema_name': 'ModelKeyV3',\n",
       "    'schema_type': 'Key<Model>'},\n",
       "   'name': 'DRF_1_AutoML_20190416_222141',\n",
       "   'type': 'Key<Model>',\n",
       "   'URL': '/3/Models/DRF_1_AutoML_20190416_222141'}},\n",
       " 'training_frame': {'default': None,\n",
       "  'actual': {'__meta': {'schema_version': 3,\n",
       "    'schema_name': 'FrameKeyV3',\n",
       "    'schema_type': 'Key<Frame>'},\n",
       "   'name': 'automl_training_train1.hex',\n",
       "   'type': 'Key<Frame>',\n",
       "   'URL': '/3/Frames/automl_training_train1.hex'}},\n",
       " 'validation_frame': {'default': None, 'actual': None},\n",
       " 'nfolds': {'default': 0, 'actual': 5},\n",
       " 'keep_cross_validation_models': {'default': True, 'actual': False},\n",
       " 'keep_cross_validation_predictions': {'default': False, 'actual': True},\n",
       " 'keep_cross_validation_fold_assignment': {'default': False, 'actual': False},\n",
       " 'score_each_iteration': {'default': False, 'actual': False},\n",
       " 'score_tree_interval': {'default': 0, 'actual': 0},\n",
       " 'fold_assignment': {'default': 'AUTO', 'actual': 'Modulo'},\n",
       " 'fold_column': {'default': None, 'actual': None},\n",
       " 'response_column': {'default': None,\n",
       "  'actual': {'__meta': {'schema_version': 3,\n",
       "    'schema_name': 'ColSpecifierV3',\n",
       "    'schema_type': 'VecSpecifier'},\n",
       "   'column_name': 'Purchase',\n",
       "   'is_member_of_frames': None}},\n",
       " 'ignored_columns': {'default': None, 'actual': ['C1']},\n",
       " 'ignore_const_cols': {'default': True, 'actual': True},\n",
       " 'offset_column': {'default': None, 'actual': None},\n",
       " 'weights_column': {'default': None, 'actual': None},\n",
       " 'balance_classes': {'default': False, 'actual': False},\n",
       " 'class_sampling_factors': {'default': None, 'actual': None},\n",
       " 'max_after_balance_size': {'default': 5.0, 'actual': 5.0},\n",
       " 'max_confusion_matrix_size': {'default': 20, 'actual': 20},\n",
       " 'max_hit_ratio_k': {'default': 0, 'actual': 0},\n",
       " 'ntrees': {'default': 50, 'actual': 39},\n",
       " 'max_depth': {'default': 20, 'actual': 20},\n",
       " 'min_rows': {'default': 1.0, 'actual': 1.0},\n",
       " 'nbins': {'default': 20, 'actual': 20},\n",
       " 'nbins_top_level': {'default': 1024, 'actual': 1024},\n",
       " 'nbins_cats': {'default': 1024, 'actual': 1024},\n",
       " 'r2_stopping': {'default': 1.7976931348623157e+308,\n",
       "  'actual': 1.7976931348623157e+308},\n",
       " 'stopping_rounds': {'default': 0, 'actual': 0},\n",
       " 'stopping_metric': {'default': 'AUTO', 'actual': 'deviance'},\n",
       " 'stopping_tolerance': {'default': 0.001, 'actual': 0.001363890989782514},\n",
       " 'max_runtime_secs': {'default': 0.0, 'actual': 0.0},\n",
       " 'seed': {'default': -1, 'actual': 4890277355178315857},\n",
       " 'build_tree_one_node': {'default': False, 'actual': False},\n",
       " 'mtries': {'default': -1, 'actual': -1},\n",
       " 'sample_rate': {'default': 0.6320000290870667, 'actual': 0.6320000290870667},\n",
       " 'sample_rate_per_class': {'default': None, 'actual': None},\n",
       " 'binomial_double_trees': {'default': False, 'actual': False},\n",
       " 'checkpoint': {'default': None, 'actual': None},\n",
       " 'col_sample_rate_change_per_level': {'default': 1.0, 'actual': 1.0},\n",
       " 'col_sample_rate_per_tree': {'default': 1.0, 'actual': 1.0},\n",
       " 'min_split_improvement': {'default': 1e-05, 'actual': 1e-05},\n",
       " 'histogram_type': {'default': 'AUTO', 'actual': 'AUTO'},\n",
       " 'categorical_encoding': {'default': 'AUTO', 'actual': 'AUTO'},\n",
       " 'calibrate_model': {'default': False, 'actual': False},\n",
       " 'calibration_frame': {'default': None, 'actual': None},\n",
       " 'distribution': {'default': 'AUTO', 'actual': 'gaussian'},\n",
       " 'custom_metric_func': {'default': None, 'actual': None},\n",
       " 'export_checkpoints_dir': {'default': None, 'actual': None},\n",
       " 'check_constant_response': {'default': True, 'actual': True}}"
      ]
     },
     "execution_count": 81,
     "metadata": {},
     "output_type": "execute_result"
    }
   ],
   "source": [
    "# h2o.get_model(mod_best)\n",
    "mod_best.params"
   ]
  },
  {
   "cell_type": "code",
   "execution_count": 82,
   "metadata": {},
   "outputs": [],
   "source": [
    "def dict_to_json(dct,n):\n",
    "  j = json.dumps(dct, indent=4)\n",
    "  f = open(n, 'w')\n",
    "  print(j, file=f)\n",
    "  f.close()"
   ]
  },
  {
   "cell_type": "code",
   "execution_count": 83,
   "metadata": {},
   "outputs": [],
   "source": [
    "hy_parameter = mod_best.params\n",
    "n='hyperparameter7_2000.json'"
   ]
  },
  {
   "cell_type": "code",
   "execution_count": 84,
   "metadata": {},
   "outputs": [],
   "source": [
    "dict_to_json(hy_parameter,n)"
   ]
  },
  {
   "cell_type": "markdown",
   "metadata": {},
   "source": [
    "# Hyperparameters for Model 8 for 2000 Seconds"
   ]
  },
  {
   "cell_type": "code",
   "execution_count": 105,
   "metadata": {},
   "outputs": [],
   "source": [
    "\n",
    "model_set=aml_leaderboard_df['model_id']\n",
    "mod_best=h2o.get_model(model_set[7])"
   ]
  },
  {
   "cell_type": "code",
   "execution_count": 106,
   "metadata": {},
   "outputs": [
    {
     "data": {
      "text/plain": [
       "'StackedEnsemble_AllModels_AutoML_20190416_222141'"
      ]
     },
     "execution_count": 106,
     "metadata": {},
     "output_type": "execute_result"
    }
   ],
   "source": [
    "mod_best._id"
   ]
  },
  {
   "cell_type": "code",
   "execution_count": 107,
   "metadata": {},
   "outputs": [
    {
     "data": {
      "text/plain": [
       "{'model_id': {'default': None,\n",
       "  'actual': {'__meta': {'schema_version': 3,\n",
       "    'schema_name': 'ModelKeyV3',\n",
       "    'schema_type': 'Key<Model>'},\n",
       "   'name': 'StackedEnsemble_AllModels_AutoML_20190416_222141',\n",
       "   'type': 'Key<Model>',\n",
       "   'URL': '/3/Models/StackedEnsemble_AllModels_AutoML_20190416_222141'}},\n",
       " 'training_frame': {'default': None,\n",
       "  'actual': {'__meta': {'schema_version': 3,\n",
       "    'schema_name': 'FrameKeyV3',\n",
       "    'schema_type': 'Key<Frame>'},\n",
       "   'name': 'automl_training_train1.hex',\n",
       "   'type': 'Key<Frame>',\n",
       "   'URL': '/3/Frames/automl_training_train1.hex'}},\n",
       " 'response_column': {'default': None,\n",
       "  'actual': {'__meta': {'schema_version': 3,\n",
       "    'schema_name': 'ColSpecifierV3',\n",
       "    'schema_type': 'VecSpecifier'},\n",
       "   'column_name': 'Purchase',\n",
       "   'is_member_of_frames': None}},\n",
       " 'validation_frame': {'default': None, 'actual': None},\n",
       " 'blending_frame': {'default': None, 'actual': None},\n",
       " 'base_models': {'default': [],\n",
       "  'actual': [{'__meta': {'schema_version': 3,\n",
       "     'schema_name': 'ModelKeyV3',\n",
       "     'schema_type': 'Key<Model>'},\n",
       "    'name': 'GBM_5_AutoML_20190416_222141',\n",
       "    'type': 'Key<Model>',\n",
       "    'URL': '/3/Models/GBM_5_AutoML_20190416_222141'},\n",
       "   {'__meta': {'schema_version': 3,\n",
       "     'schema_name': 'ModelKeyV3',\n",
       "     'schema_type': 'Key<Model>'},\n",
       "    'name': 'GBM_4_AutoML_20190416_222141',\n",
       "    'type': 'Key<Model>',\n",
       "    'URL': '/3/Models/GBM_4_AutoML_20190416_222141'},\n",
       "   {'__meta': {'schema_version': 3,\n",
       "     'schema_name': 'ModelKeyV3',\n",
       "     'schema_type': 'Key<Model>'},\n",
       "    'name': 'GBM_3_AutoML_20190416_222141',\n",
       "    'type': 'Key<Model>',\n",
       "    'URL': '/3/Models/GBM_3_AutoML_20190416_222141'},\n",
       "   {'__meta': {'schema_version': 3,\n",
       "     'schema_name': 'ModelKeyV3',\n",
       "     'schema_type': 'Key<Model>'},\n",
       "    'name': 'GBM_2_AutoML_20190416_222141',\n",
       "    'type': 'Key<Model>',\n",
       "    'URL': '/3/Models/GBM_2_AutoML_20190416_222141'},\n",
       "   {'__meta': {'schema_version': 3,\n",
       "     'schema_name': 'ModelKeyV3',\n",
       "     'schema_type': 'Key<Model>'},\n",
       "    'name': 'GBM_1_AutoML_20190416_222141',\n",
       "    'type': 'Key<Model>',\n",
       "    'URL': '/3/Models/GBM_1_AutoML_20190416_222141'},\n",
       "   {'__meta': {'schema_version': 3,\n",
       "     'schema_name': 'ModelKeyV3',\n",
       "     'schema_type': 'Key<Model>'},\n",
       "    'name': 'DeepLearning_1_AutoML_20190416_222141',\n",
       "    'type': 'Key<Model>',\n",
       "    'URL': '/3/Models/DeepLearning_1_AutoML_20190416_222141'},\n",
       "   {'__meta': {'schema_version': 3,\n",
       "     'schema_name': 'ModelKeyV3',\n",
       "     'schema_type': 'Key<Model>'},\n",
       "    'name': 'DRF_1_AutoML_20190416_222141',\n",
       "    'type': 'Key<Model>',\n",
       "    'URL': '/3/Models/DRF_1_AutoML_20190416_222141'},\n",
       "   {'__meta': {'schema_version': 3,\n",
       "     'schema_name': 'ModelKeyV3',\n",
       "     'schema_type': 'Key<Model>'},\n",
       "    'name': 'GLM_grid_1_AutoML_20190416_222141_model_1',\n",
       "    'type': 'Key<Model>',\n",
       "    'URL': '/3/Models/GLM_grid_1_AutoML_20190416_222141_model_1'}]},\n",
       " 'metalearner_algorithm': {'default': 'AUTO', 'actual': 'AUTO'},\n",
       " 'metalearner_nfolds': {'default': 0, 'actual': 5},\n",
       " 'metalearner_fold_assignment': {'default': None, 'actual': None},\n",
       " 'metalearner_fold_column': {'default': None, 'actual': None},\n",
       " 'metalearner_params': {'default': '', 'actual': ''},\n",
       " 'seed': {'default': -1, 'actual': 961529647773581433},\n",
       " 'keep_levelone_frame': {'default': False, 'actual': True},\n",
       " 'export_checkpoints_dir': {'default': None, 'actual': None}}"
      ]
     },
     "execution_count": 107,
     "metadata": {},
     "output_type": "execute_result"
    }
   ],
   "source": [
    "mod_best.params"
   ]
  },
  {
   "cell_type": "code",
   "execution_count": 108,
   "metadata": {},
   "outputs": [],
   "source": [
    "def dict_to_json(dct,n):\n",
    "  j = json.dumps(dct, indent=4)\n",
    "  f = open(n, 'w')\n",
    "  print(j, file=f)\n",
    "  f.close()"
   ]
  },
  {
   "cell_type": "code",
   "execution_count": 109,
   "metadata": {},
   "outputs": [],
   "source": [
    "hy_parameter = mod_best.params\n",
    "n='hyperparameter8_2000.json'"
   ]
  },
  {
   "cell_type": "code",
   "execution_count": 110,
   "metadata": {},
   "outputs": [],
   "source": [
    "dict_to_json(hy_parameter,n)"
   ]
  },
  {
   "cell_type": "markdown",
   "metadata": {},
   "source": [
    "# Hyperparameters for Model 9 for 2000 Seconds"
   ]
  },
  {
   "cell_type": "code",
   "execution_count": 111,
   "metadata": {},
   "outputs": [],
   "source": [
    "\n",
    "model_set=aml_leaderboard_df['model_id']\n",
    "mod_best=h2o.get_model(model_set[8])"
   ]
  },
  {
   "cell_type": "code",
   "execution_count": 112,
   "metadata": {},
   "outputs": [
    {
     "data": {
      "text/plain": [
       "'StackedEnsemble_BestOfFamily_AutoML_20190416_222141'"
      ]
     },
     "execution_count": 112,
     "metadata": {},
     "output_type": "execute_result"
    }
   ],
   "source": [
    "mod_best._id"
   ]
  },
  {
   "cell_type": "code",
   "execution_count": 113,
   "metadata": {},
   "outputs": [
    {
     "data": {
      "text/plain": [
       "{'model_id': {'default': None,\n",
       "  'actual': {'__meta': {'schema_version': 3,\n",
       "    'schema_name': 'ModelKeyV3',\n",
       "    'schema_type': 'Key<Model>'},\n",
       "   'name': 'StackedEnsemble_BestOfFamily_AutoML_20190416_222141',\n",
       "   'type': 'Key<Model>',\n",
       "   'URL': '/3/Models/StackedEnsemble_BestOfFamily_AutoML_20190416_222141'}},\n",
       " 'training_frame': {'default': None,\n",
       "  'actual': {'__meta': {'schema_version': 3,\n",
       "    'schema_name': 'FrameKeyV3',\n",
       "    'schema_type': 'Key<Frame>'},\n",
       "   'name': 'automl_training_train1.hex',\n",
       "   'type': 'Key<Frame>',\n",
       "   'URL': '/3/Frames/automl_training_train1.hex'}},\n",
       " 'response_column': {'default': None,\n",
       "  'actual': {'__meta': {'schema_version': 3,\n",
       "    'schema_name': 'ColSpecifierV3',\n",
       "    'schema_type': 'VecSpecifier'},\n",
       "   'column_name': 'Purchase',\n",
       "   'is_member_of_frames': None}},\n",
       " 'validation_frame': {'default': None, 'actual': None},\n",
       " 'blending_frame': {'default': None, 'actual': None},\n",
       " 'base_models': {'default': [],\n",
       "  'actual': [{'__meta': {'schema_version': 3,\n",
       "     'schema_name': 'ModelKeyV3',\n",
       "     'schema_type': 'Key<Model>'},\n",
       "    'name': 'GBM_5_AutoML_20190416_222141',\n",
       "    'type': 'Key<Model>',\n",
       "    'URL': '/3/Models/GBM_5_AutoML_20190416_222141'},\n",
       "   {'__meta': {'schema_version': 3,\n",
       "     'schema_name': 'ModelKeyV3',\n",
       "     'schema_type': 'Key<Model>'},\n",
       "    'name': 'DeepLearning_1_AutoML_20190416_222141',\n",
       "    'type': 'Key<Model>',\n",
       "    'URL': '/3/Models/DeepLearning_1_AutoML_20190416_222141'},\n",
       "   {'__meta': {'schema_version': 3,\n",
       "     'schema_name': 'ModelKeyV3',\n",
       "     'schema_type': 'Key<Model>'},\n",
       "    'name': 'DRF_1_AutoML_20190416_222141',\n",
       "    'type': 'Key<Model>',\n",
       "    'URL': '/3/Models/DRF_1_AutoML_20190416_222141'},\n",
       "   {'__meta': {'schema_version': 3,\n",
       "     'schema_name': 'ModelKeyV3',\n",
       "     'schema_type': 'Key<Model>'},\n",
       "    'name': 'GLM_grid_1_AutoML_20190416_222141_model_1',\n",
       "    'type': 'Key<Model>',\n",
       "    'URL': '/3/Models/GLM_grid_1_AutoML_20190416_222141_model_1'}]},\n",
       " 'metalearner_algorithm': {'default': 'AUTO', 'actual': 'AUTO'},\n",
       " 'metalearner_nfolds': {'default': 0, 'actual': 5},\n",
       " 'metalearner_fold_assignment': {'default': None, 'actual': None},\n",
       " 'metalearner_fold_column': {'default': None, 'actual': None},\n",
       " 'metalearner_params': {'default': '', 'actual': ''},\n",
       " 'seed': {'default': -1, 'actual': 8308505861112126012},\n",
       " 'keep_levelone_frame': {'default': False, 'actual': True},\n",
       " 'export_checkpoints_dir': {'default': None, 'actual': None}}"
      ]
     },
     "execution_count": 113,
     "metadata": {},
     "output_type": "execute_result"
    }
   ],
   "source": [
    "mod_best.params"
   ]
  },
  {
   "cell_type": "code",
   "execution_count": 114,
   "metadata": {},
   "outputs": [],
   "source": [
    "def dict_to_json(dct,n):\n",
    "  j = json.dumps(dct, indent=4)\n",
    "  f = open(n, 'w')\n",
    "  print(j, file=f)\n",
    "  f.close()"
   ]
  },
  {
   "cell_type": "code",
   "execution_count": 115,
   "metadata": {},
   "outputs": [],
   "source": [
    "hy_parameter = mod_best.params\n",
    "n='hyperparameter9_2000.json'"
   ]
  },
  {
   "cell_type": "code",
   "execution_count": 116,
   "metadata": {},
   "outputs": [],
   "source": [
    "dict_to_json(hy_parameter,n)"
   ]
  },
  {
   "cell_type": "markdown",
   "metadata": {},
   "source": [
    "# Hyperparameters for Model 10 for 2000 Seconds"
   ]
  },
  {
   "cell_type": "code",
   "execution_count": 99,
   "metadata": {},
   "outputs": [],
   "source": [
    "\n",
    "model_set=aml_leaderboard_df['model_id']\n",
    "mod_best=h2o.get_model(model_set[9])"
   ]
  },
  {
   "cell_type": "code",
   "execution_count": 100,
   "metadata": {},
   "outputs": [
    {
     "data": {
      "text/plain": [
       "'GLM_grid_1_AutoML_20190416_222141_model_1'"
      ]
     },
     "execution_count": 100,
     "metadata": {},
     "output_type": "execute_result"
    }
   ],
   "source": [
    "mod_best._id"
   ]
  },
  {
   "cell_type": "code",
   "execution_count": 101,
   "metadata": {},
   "outputs": [
    {
     "data": {
      "text/plain": [
       "{'model_id': {'default': None,\n",
       "  'actual': {'__meta': {'schema_version': 3,\n",
       "    'schema_name': 'ModelKeyV3',\n",
       "    'schema_type': 'Key<Model>'},\n",
       "   'name': 'GLM_grid_1_AutoML_20190416_222141_model_1',\n",
       "   'type': 'Key<Model>',\n",
       "   'URL': '/3/Models/GLM_grid_1_AutoML_20190416_222141_model_1'}},\n",
       " 'training_frame': {'default': None,\n",
       "  'actual': {'__meta': {'schema_version': 3,\n",
       "    'schema_name': 'FrameKeyV3',\n",
       "    'schema_type': 'Key<Frame>'},\n",
       "   'name': 'automl_training_train1.hex',\n",
       "   'type': 'Key<Frame>',\n",
       "   'URL': '/3/Frames/automl_training_train1.hex'}},\n",
       " 'validation_frame': {'default': None, 'actual': None},\n",
       " 'nfolds': {'default': 0, 'actual': 5},\n",
       " 'seed': {'default': -1, 'actual': 3259049994933407152},\n",
       " 'keep_cross_validation_models': {'default': True, 'actual': False},\n",
       " 'keep_cross_validation_predictions': {'default': False, 'actual': True},\n",
       " 'keep_cross_validation_fold_assignment': {'default': False, 'actual': False},\n",
       " 'fold_assignment': {'default': 'AUTO', 'actual': 'Modulo'},\n",
       " 'fold_column': {'default': None, 'actual': None},\n",
       " 'response_column': {'default': None,\n",
       "  'actual': {'__meta': {'schema_version': 3,\n",
       "    'schema_name': 'ColSpecifierV3',\n",
       "    'schema_type': 'VecSpecifier'},\n",
       "   'column_name': 'Purchase',\n",
       "   'is_member_of_frames': None}},\n",
       " 'ignored_columns': {'default': None, 'actual': ['C1']},\n",
       " 'ignore_const_cols': {'default': True, 'actual': True},\n",
       " 'score_each_iteration': {'default': False, 'actual': False},\n",
       " 'offset_column': {'default': None, 'actual': None},\n",
       " 'weights_column': {'default': None, 'actual': None},\n",
       " 'family': {'default': 'gaussian', 'actual': 'gaussian'},\n",
       " 'tweedie_variance_power': {'default': 0.0, 'actual': 0.0},\n",
       " 'tweedie_link_power': {'default': 1.0, 'actual': 1.0},\n",
       " 'theta': {'default': 1e-10, 'actual': 1e-10},\n",
       " 'solver': {'default': 'AUTO', 'actual': 'COORDINATE_DESCENT'},\n",
       " 'alpha': {'default': None, 'actual': [0.0, 0.2, 0.4, 0.6, 0.8, 1.0]},\n",
       " 'lambda': {'default': None,\n",
       "  'actual': [156465.93492127347,\n",
       "   97167.99641501333,\n",
       "   60342.971983381794,\n",
       "   37474.00792576794,\n",
       "   23271.993802480545]},\n",
       " 'lambda_search': {'default': False, 'actual': True},\n",
       " 'early_stopping': {'default': True, 'actual': True},\n",
       " 'nlambdas': {'default': -1, 'actual': 30},\n",
       " 'standardize': {'default': True, 'actual': True},\n",
       " 'missing_values_handling': {'default': 'MeanImputation',\n",
       "  'actual': 'MeanImputation'},\n",
       " 'compute_p_values': {'default': False, 'actual': False},\n",
       " 'remove_collinear_columns': {'default': False, 'actual': False},\n",
       " 'intercept': {'default': True, 'actual': True},\n",
       " 'non_negative': {'default': False, 'actual': False},\n",
       " 'max_iterations': {'default': -1, 'actual': 300},\n",
       " 'objective_epsilon': {'default': -1.0, 'actual': 0.0001},\n",
       " 'beta_epsilon': {'default': 0.0001, 'actual': 0.0001},\n",
       " 'gradient_epsilon': {'default': -1.0, 'actual': 1.0000000000000002e-06},\n",
       " 'link': {'default': 'family_default', 'actual': 'identity'},\n",
       " 'prior': {'default': -1.0, 'actual': -1.0},\n",
       " 'lambda_min_ratio': {'default': -1.0, 'actual': 1.0000000000000002e-06},\n",
       " 'beta_constraints': {'default': None, 'actual': None},\n",
       " 'max_active_predictors': {'default': -1, 'actual': 5000},\n",
       " 'interactions': {'default': None, 'actual': None},\n",
       " 'interaction_pairs': {'default': None, 'actual': None},\n",
       " 'obj_reg': {'default': -1.0, 'actual': 1.860198632009926e-06},\n",
       " 'export_checkpoints_dir': {'default': None, 'actual': None},\n",
       " 'balance_classes': {'default': False, 'actual': False},\n",
       " 'class_sampling_factors': {'default': None, 'actual': None},\n",
       " 'max_after_balance_size': {'default': 5.0, 'actual': 5.0},\n",
       " 'max_confusion_matrix_size': {'default': 20, 'actual': 20},\n",
       " 'max_hit_ratio_k': {'default': 0, 'actual': 0},\n",
       " 'max_runtime_secs': {'default': 0.0, 'actual': 0.0},\n",
       " 'custom_metric_func': {'default': None, 'actual': None}}"
      ]
     },
     "execution_count": 101,
     "metadata": {},
     "output_type": "execute_result"
    }
   ],
   "source": [
    "mod_best.params"
   ]
  },
  {
   "cell_type": "code",
   "execution_count": 102,
   "metadata": {},
   "outputs": [],
   "source": [
    "def dict_to_json(dct,n):\n",
    "  j = json.dumps(dct, indent=4)\n",
    "  f = open(n, 'w')\n",
    "  print(j, file=f)\n",
    "  f.close()"
   ]
  },
  {
   "cell_type": "code",
   "execution_count": 103,
   "metadata": {},
   "outputs": [],
   "source": [
    "hy_parameter = mod_best.params\n",
    "n='hyperparameter10_2000.json'"
   ]
  },
  {
   "cell_type": "code",
   "execution_count": 104,
   "metadata": {},
   "outputs": [],
   "source": [
    "dict_to_json(hy_parameter,n)"
   ]
  },
  {
   "cell_type": "markdown",
   "metadata": {},
   "source": [
    "# H2O Model5"
   ]
  },
  {
   "cell_type": "code",
   "execution_count": 117,
   "metadata": {},
   "outputs": [],
   "source": [
    "data_path=None\n",
    "all_variables=None\n",
    "test_path=None\n",
    "# target='search_term'\n",
    "target=None\n",
    "nthreads=1 \n",
    "min_mem_size=6 \n",
    "run_time=2500\n",
    "classification=False\n",
    "scale=False\n",
    "max_models=9    \n",
    "model_path=None\n",
    "balance_y=False \n",
    "balance_threshold=0.2\n",
    "name=None \n",
    "server_path=None  \n",
    "analysis=0"
   ]
  },
  {
   "cell_type": "code",
   "execution_count": 118,
   "metadata": {},
   "outputs": [
    {
     "name": "stdout",
     "output_type": "stream",
     "text": [
      "4\n"
     ]
    }
   ],
   "source": [
    "pct_memory=0.5\n",
    "virtual_memory=psutil.virtual_memory()\n",
    "min_mem_size=int(round(int(pct_memory*virtual_memory.available)/1073741824,0))\n",
    "print(min_mem_size)"
   ]
  },
  {
   "cell_type": "code",
   "execution_count": 119,
   "metadata": {},
   "outputs": [],
   "source": [
    "# Functions\n",
    "\n",
    "def alphabet(n):\n",
    "  alpha='0123456789abcdefghijklmnopqrstuvwxyzABCDEFGHIJKLMNOPQRSTUVWXYZ'    \n",
    "  str=''\n",
    "  r=len(alpha)-1   \n",
    "  while len(str)<n:\n",
    "    i=random.randint(0,r)\n",
    "    str+=alpha[i]   \n",
    "  return str\n",
    "  \n",
    "  \n",
    "def set_meta_data(analysis,run_id,server,data,test,model_path,target,run_time,classification,scale,model,balance,balance_threshold,name,path,nthreads,min_mem_size):\n",
    "  m_data={}\n",
    "  m_data['start_time'] = time.time()\n",
    "  m_data['target']=target\n",
    "  m_data['server_path']=server\n",
    "  m_data['data_path']=data \n",
    "  m_data['test_path']=test\n",
    "  m_data['max_models']=model\n",
    "  m_data['run_time']=run_time\n",
    "  m_data['run_id'] =run_id\n",
    "  m_data['scale']=scale\n",
    "  m_data['classification']=classification\n",
    "  m_data['scale']=False\n",
    "  m_data['model_path']=model_path\n",
    "  m_data['balance']=balance\n",
    "  m_data['balance_threshold']=balance_threshold\n",
    "  m_data['project'] =name\n",
    "  m_data['end_time'] = time.time()\n",
    "  m_data['execution_time'] = 0.0\n",
    "  m_data['run_path'] =path\n",
    "  m_data['nthreads'] = nthreads\n",
    "  m_data['min_mem_size'] = min_mem_size\n",
    "  m_data['analysis'] = analysis\n",
    "  return m_data\n",
    "\n",
    "\n",
    "def dict_to_json(dct,n):\n",
    "  j = json.dumps(dct, indent=4)\n",
    "  f = open(n, 'w')\n",
    "  print(j, file=f)\n",
    "  f.close()\n",
    "  \n",
    "  \n",
    "def stackedensemble(mod):\n",
    "    coef_norm=None\n",
    "    try:\n",
    "      metalearner = h2o.get_model(mod.metalearner()['name'])\n",
    "      coef_norm=metalearner.coef_norm()\n",
    "    except:\n",
    "      pass        \n",
    "    return coef_norm\n",
    "\n",
    "def stackedensemble_df(df):\n",
    "    bm_algo={ 'GBM': None,'GLM': None,'DRF': None,'XRT': None,'Dee': None}\n",
    "    for index, row in df.iterrows():\n",
    "      if len(row['model_id'])>3:\n",
    "        key=row['model_id'][0:3]\n",
    "        if key in bm_algo:\n",
    "          if bm_algo[key] is None:\n",
    "                bm_algo[key]=row['model_id']\n",
    "    bm=list(bm_algo.values()) \n",
    "    bm=list(filter(None.__ne__, bm))             \n",
    "    return bm\n",
    "\n",
    "def se_stats(modl):\n",
    "    d={}\n",
    "    d['algo']=modl.algo\n",
    "    d['model_id']=modl.model_id   \n",
    "    d['auc']=modl.auc()   \n",
    "    d['roc']=modl.roc()\n",
    "    d['mse']=modl.mse()   \n",
    "    d['null_degrees_of_freedom']=modl.null_degrees_of_freedom()\n",
    "    d['null_deviance']=modl.null_deviance()\n",
    "    d['residual_degrees_of_freedom']=modl.residual_degrees_of_freedom()   \n",
    "    d['residual_deviance']=modl.residual_deviance()\n",
    "    d['rmse']=modl.rmse()\n",
    "    return d\n",
    "\n",
    "def get_model_by_algo(algo,models_dict):\n",
    "    mod=None\n",
    "    mod_id=None    \n",
    "    for m in list(models_dict.keys()):\n",
    "        if m[0:3]==algo:\n",
    "            mod_id=m\n",
    "            mod=h2o.get_model(m)      \n",
    "    return mod,mod_id     \n",
    "    \n",
    "    \n",
    "def gbm_stats(modl):\n",
    "    d={}\n",
    "    d['algo']=modl.algo\n",
    "    d['model_id']=modl.model_id   \n",
    "    d['varimp']=modl.varimp()  \n",
    "    return d\n",
    "    \n",
    "    \n",
    "def dl_stats(modl):\n",
    "    d={}\n",
    "    d['algo']=modl.algo\n",
    "    d['model_id']=modl.model_id   \n",
    "    d['varimp']=modl.varimp()  \n",
    "    return d\n",
    "    \n",
    "    \n",
    "def drf_stats(modl):\n",
    "    d={}\n",
    "    d['algo']=modl.algo\n",
    "    d['model_id']=modl.model_id   \n",
    "    d['varimp']=modl.varimp()  \n",
    "    d['roc']=modl.roc()      \n",
    "    return d\n",
    "    \n",
    "def xrt_stats(modl):\n",
    "    d={}\n",
    "    d['algo']=modl.algo\n",
    "    d['model_id']=modl.model_id   \n",
    "    d['varimp']=modl.varimp()  \n",
    "    d['roc']=modl.roc()      \n",
    "    return d\n",
    "    \n",
    "    \n",
    "def glm_stats(modl):\n",
    "    d={}\n",
    "    d['algo']=modl.algo\n",
    "    d['model_id']=modl.model_id   \n",
    "    d['coef']=modl.coef()  \n",
    "    d['coef_norm']=modl.coef_norm()      \n",
    "    return d\n",
    "    \n",
    "def model_performance_stats(perf):\n",
    "    d={}\n",
    "    try:    \n",
    "      d['mse']=perf.mse()\n",
    "    except:\n",
    "      pass      \n",
    "    try:    \n",
    "      d['rmse']=perf.rmse() \n",
    "    except:\n",
    "      pass      \n",
    "    try:    \n",
    "      d['null_degrees_of_freedom']=perf.null_degrees_of_freedom()\n",
    "    except:\n",
    "      pass      \n",
    "    try:    \n",
    "      d['residual_degrees_of_freedom']=perf.residual_degrees_of_freedom()\n",
    "    except:\n",
    "      pass      \n",
    "    try:    \n",
    "      d['residual_deviance']=perf.residual_deviance() \n",
    "    except:\n",
    "      pass      \n",
    "    try:    \n",
    "      d['null_deviance']=perf.null_deviance() \n",
    "    except:\n",
    "      pass      \n",
    "    try:    \n",
    "      d['aic']=perf.aic() \n",
    "    except:\n",
    "      pass      \n",
    "    try:\n",
    "      d['logloss']=perf.logloss() \n",
    "    except:\n",
    "      pass    \n",
    "    try:\n",
    "      d['auc']=perf.auc()\n",
    "    except:\n",
    "      pass  \n",
    "    try:\n",
    "      d['gini']=perf.gini()\n",
    "    except:\n",
    "      pass    \n",
    "    return d\n",
    "    \n",
    "def impute_missing_values(df, x, scal=False):\n",
    "    # determine column types\n",
    "    ints, reals, enums = [], [], []\n",
    "    for key, val in df.types.items():\n",
    "        if key in x:\n",
    "            if val == 'enum':\n",
    "                enums.append(key)\n",
    "            elif val == 'int':\n",
    "                ints.append(key)            \n",
    "            else: \n",
    "                reals.append(key)    \n",
    "    _ = df[reals].impute(method='mean')\n",
    "    _ = df[ints].impute(method='median')\n",
    "    if scal:\n",
    "        df[reals] = df[reals].scale()\n",
    "        df[ints] = df[ints].scale()    \n",
    "    return\n",
    "\n",
    "\n",
    "def get_independent_variables(df, targ):\n",
    "    C = [name for name in df.columns if name != targ]\n",
    "    # determine column types\n",
    "    ints, reals, enums = [], [], []\n",
    "    for key, val in df.types.items():\n",
    "        if key in C:\n",
    "            if val == 'enum':\n",
    "                enums.append(key)\n",
    "            elif val == 'int':\n",
    "                ints.append(key)            \n",
    "            else: \n",
    "                reals.append(key)    \n",
    "    x=ints+enums+reals\n",
    "    return x\n",
    "    \n",
    "def get_all_variables_csv(i):\n",
    "    ivd={}\n",
    "    try:\n",
    "      iv = pd.read_csv(i,header=None)\n",
    "    except:\n",
    "      sys.exit(1)    \n",
    "    col=iv.values.tolist()[0]\n",
    "    dt=iv.values.tolist()[1]\n",
    "    i=0\n",
    "    for c in col:\n",
    "      ivd[c.strip()]=dt[i].strip()\n",
    "      i+=1        \n",
    "    return ivd\n",
    "    \n",
    "    \n",
    "\n",
    "def check_all_variables(df,dct,y=None):     \n",
    "    targ=list(dct.keys())     \n",
    "    for key, val in df.types.items():\n",
    "        if key in targ:\n",
    "          if dct[key] not in ['real','int','enum']:                      \n",
    "            targ.remove(key)  \n",
    "    for key, val in df.types.items():\n",
    "        if key in targ:            \n",
    "          if dct[key] != val:\n",
    "            print('convert ',key,' ',dct[key],' ',val)\n",
    "            if dct[key]=='enum':\n",
    "                try:\n",
    "                  df[key] = df[key].asfactor() \n",
    "                except:\n",
    "                  targ.remove(key)                 \n",
    "            if dct[key]=='int': \n",
    "                try:                \n",
    "                  df[key] = df[key].asnumeric() \n",
    "                except:\n",
    "                  targ.remove(key)                  \n",
    "            if dct[key]=='real':\n",
    "                try:                \n",
    "                  df[key] = df[key].asnumeric()  \n",
    "                except:\n",
    "                  targ.remove(key)                  \n",
    "    if y is None:\n",
    "      y=df.columns[-1] \n",
    "    if y in targ:\n",
    "      targ.remove(y)\n",
    "    else:\n",
    "      y=targ.pop()            \n",
    "    return targ    \n",
    "    \n",
    "def predictions(mod,data,run_id):\n",
    "    test = h2o.import_file(data)\n",
    "    mod_perf=mod_best.model_performance(test)\n",
    "              \n",
    "    stats_test={}\n",
    "    stats_test=model_performance_stats(mod_perf)\n",
    "\n",
    "    n=run_id+'_test_stats.json'\n",
    "    dict_to_json(stats_test,n) \n",
    "\n",
    "    try:    \n",
    "      cf=mod_perf.confusion_matrix(metrics=[\"f1\",\"f2\",\"f0point5\",\"accuracy\",\"precision\",\"recall\",\"specificity\",\"absolute_mcc\",\"min_per_class_accuracy\",\"mean_per_class_accuracy\"])\n",
    "      cf_df=cf[0].table.as_data_frame()\n",
    "      cf_df.to_csv(run_id+'_test_confusion_matrix.csv')\n",
    "    except:\n",
    "      pass\n",
    "\n",
    "    predictions = mod_best.predict(test)\n",
    "    predictions_df=test.cbind(predictions).as_data_frame() \n",
    "    predictions_df.to_csv(run_id+'_predictions.csv')\n",
    "    return\n",
    "\n",
    "def predictions_test(mod,test,run_id):\n",
    "    mod_perf=mod_best.model_performance(test)          \n",
    "    stats_test={}\n",
    "    stats_test=model_performance_stats(mod_perf)\n",
    "    n=run_id+'_test_stats.json'\n",
    "    dict_to_json(stats_test,n) \n",
    "    try:\n",
    "      cf=mod_perf.confusion_matrix()\n",
    "#      cf=mod_perf.confusion_matrix(metrics=[\"f1\",\"f2\",\"f0point5\",\"accuracy\",\"precision\",\"recall\",\"specificity\",\"absolute_mcc\",\"min_per_class_accuracy\",\"mean_per_class_accuracy\"])\n",
    "      cf_df=cf.table.as_data_frame()\n",
    "      cf_df.to_csv(run_id+'_test_confusion_matrix.csv')\n",
    "    except:\n",
    "      pass\n",
    "    predictions = mod_best.predict(test)    \n",
    "    predictions_df=test.cbind(predictions).as_data_frame() \n",
    "    predictions_df.to_csv(run_id+'_predictions.csv')\n",
    "    return predictions\n",
    "\n",
    "def check_X(x,df):\n",
    "    for name in x:\n",
    "        if name not in df.columns:\n",
    "          x.remove(name)  \n",
    "    return x    \n",
    "    \n",
    "    \n",
    "def get_stacked_ensemble(lst):\n",
    "    se=None\n",
    "    for model in model_set:\n",
    "      if 'BestOfFamily' in model:\n",
    "        se=model\n",
    "    if se is None:     \n",
    "      for model in model_set:\n",
    "        if 'AllModels'in model:\n",
    "          se=model           \n",
    "    return se       \n",
    "    \n",
    "def get_variables_types(df):\n",
    "    d={}\n",
    "    for key, val in df.types.items():\n",
    "        d[key]=val           \n",
    "    return d    \n",
    "    \n",
    "#  End Functions"
   ]
  },
  {
   "cell_type": "code",
   "execution_count": 120,
   "metadata": {},
   "outputs": [
    {
     "name": "stdout",
     "output_type": "stream",
     "text": [
      "ll5x6BXX6\n"
     ]
    }
   ],
   "source": [
    "run_id=alphabet(9)\n",
    "if server_path==None:\n",
    "  server_path=os.path.abspath(os.curdir)\n",
    "os.chdir(server_path) \n",
    "run_dir = os.path.join(server_path,run_id)\n",
    "os.mkdir(run_dir)\n",
    "os.chdir(run_dir)    \n",
    "\n",
    "# run_id to std out\n",
    "print (run_id)"
   ]
  },
  {
   "cell_type": "code",
   "execution_count": 121,
   "metadata": {},
   "outputs": [
    {
     "name": "stdout",
     "output_type": "stream",
     "text": [
      "Checking whether there is an H2O instance running at http://localhost:22496 ..... not found.\n",
      "Attempting to start a local H2O server...\n",
      "; Java HotSpot(TM) 64-Bit Server VM (build 25.191-b12, mixed mode)\n",
      "  Starting server from C:\\Users\\vrush\\.jupyter\\AnacondaNew\\lib\\site-packages\\h2o\\backend\\bin\\h2o.jar\n",
      "  Ice root: C:\\Users\\vrush\\AppData\\Local\\Temp\\tmpgtzm0cid\n",
      "  JVM stdout: C:\\Users\\vrush\\AppData\\Local\\Temp\\tmpgtzm0cid\\h2o_vrush_started_from_python.out\n",
      "  JVM stderr: C:\\Users\\vrush\\AppData\\Local\\Temp\\tmpgtzm0cid\\h2o_vrush_started_from_python.err\n",
      "  Server is running at http://127.0.0.1:22496\n",
      "Connecting to H2O server at http://127.0.0.1:22496 ... successful.\n"
     ]
    },
    {
     "data": {
      "text/html": [
       "<div style=\"overflow:auto\"><table style=\"width:50%\"><tr><td>H2O cluster uptime:</td>\n",
       "<td>03 secs</td></tr>\n",
       "<tr><td>H2O cluster timezone:</td>\n",
       "<td>America/New_York</td></tr>\n",
       "<tr><td>H2O data parsing timezone:</td>\n",
       "<td>UTC</td></tr>\n",
       "<tr><td>H2O cluster version:</td>\n",
       "<td>3.24.0.1</td></tr>\n",
       "<tr><td>H2O cluster version age:</td>\n",
       "<td>16 days </td></tr>\n",
       "<tr><td>H2O cluster name:</td>\n",
       "<td>H2O_from_python_vrush_m01a6v</td></tr>\n",
       "<tr><td>H2O cluster total nodes:</td>\n",
       "<td>1</td></tr>\n",
       "<tr><td>H2O cluster free memory:</td>\n",
       "<td>3.833 Gb</td></tr>\n",
       "<tr><td>H2O cluster total cores:</td>\n",
       "<td>8</td></tr>\n",
       "<tr><td>H2O cluster allowed cores:</td>\n",
       "<td>8</td></tr>\n",
       "<tr><td>H2O cluster status:</td>\n",
       "<td>accepting new members, healthy</td></tr>\n",
       "<tr><td>H2O connection url:</td>\n",
       "<td>http://127.0.0.1:22496</td></tr>\n",
       "<tr><td>H2O connection proxy:</td>\n",
       "<td>None</td></tr>\n",
       "<tr><td>H2O internal security:</td>\n",
       "<td>False</td></tr>\n",
       "<tr><td>H2O API Extensions:</td>\n",
       "<td>Amazon S3, Algos, AutoML, Core V3, Core V4</td></tr>\n",
       "<tr><td>Python version:</td>\n",
       "<td>3.7.1 final</td></tr></table></div>"
      ],
      "text/plain": [
       "--------------------------  ------------------------------------------\n",
       "H2O cluster uptime:         03 secs\n",
       "H2O cluster timezone:       America/New_York\n",
       "H2O data parsing timezone:  UTC\n",
       "H2O cluster version:        3.24.0.1\n",
       "H2O cluster version age:    16 days\n",
       "H2O cluster name:           H2O_from_python_vrush_m01a6v\n",
       "H2O cluster total nodes:    1\n",
       "H2O cluster free memory:    3.833 Gb\n",
       "H2O cluster total cores:    8\n",
       "H2O cluster allowed cores:  8\n",
       "H2O cluster status:         accepting new members, healthy\n",
       "H2O connection url:         http://127.0.0.1:22496\n",
       "H2O connection proxy:\n",
       "H2O internal security:      False\n",
       "H2O API Extensions:         Amazon S3, Algos, AutoML, Core V3, Core V4\n",
       "Python version:             3.7.1 final\n",
       "--------------------------  ------------------------------------------"
      ]
     },
     "metadata": {},
     "output_type": "display_data"
    }
   ],
   "source": [
    "# 65535 Highest port no\n",
    "port_no=random.randint(5555,55555)\n",
    "h2o.init(strict_version_check=False,min_mem_size_GB=min_mem_size,port=port_no)"
   ]
  },
  {
   "cell_type": "code",
   "execution_count": 122,
   "metadata": {},
   "outputs": [
    {
     "name": "stdout",
     "output_type": "stream",
     "text": [
      "{'start_time': 1555473113.2784011, 'target': None, 'server_path': 'C:\\\\Users\\\\vrush\\\\Desktop\\\\python\\\\FinalProject\\\\black-friday\\\\5lQszLuFC', 'data_path': None, 'test_path': None, 'max_models': 9, 'run_time': 2500, 'run_id': 'll5x6BXX6', 'scale': False, 'classification': False, 'model_path': None, 'balance': False, 'balance_threshold': 0.2, 'project': None, 'end_time': 1555473113.2784011, 'execution_time': 0.0, 'run_path': 'C:\\\\Users\\\\vrush\\\\Desktop\\\\python\\\\FinalProject\\\\black-friday\\\\5lQszLuFC\\\\ll5x6BXX6', 'nthreads': 1, 'min_mem_size': 4, 'analysis': 0}\n"
     ]
    }
   ],
   "source": [
    "\n",
    "# meta data\n",
    "meta_data = set_meta_data(analysis, run_id,server_path,data_path,test_path,model_path,target,run_time,classification,scale,max_models,balance_y,balance_threshold,name,run_dir,nthreads,min_mem_size)\n",
    "print(meta_data)"
   ]
  },
  {
   "cell_type": "code",
   "execution_count": 123,
   "metadata": {},
   "outputs": [],
   "source": [
    "df.to_csv('train1.csv')"
   ]
  },
  {
   "cell_type": "code",
   "execution_count": 124,
   "metadata": {},
   "outputs": [],
   "source": [
    "data_path='train1.csv'"
   ]
  },
  {
   "cell_type": "code",
   "execution_count": 125,
   "metadata": {},
   "outputs": [
    {
     "name": "stdout",
     "output_type": "stream",
     "text": [
      "Parse progress: |█████████████████████████████████████████████████████████| 100%\n"
     ]
    }
   ],
   "source": [
    "# Load data into H2O\n",
    "train_data = h2o.import_file(data_path)"
   ]
  },
  {
   "cell_type": "code",
   "execution_count": 126,
   "metadata": {},
   "outputs": [],
   "source": [
    "target = 'Purchase'"
   ]
  },
  {
   "cell_type": "code",
   "execution_count": 127,
   "metadata": {},
   "outputs": [
    {
     "name": "stdout",
     "output_type": "stream",
     "text": [
      "Purchase\n",
      "['User_ID', 'Product_ID', 'Gender', 'Age', 'Occupation', 'City_Category', 'Stay_In_Current_City_Years', 'Marital_Status', 'Product_Category_1', 'Product_Category_2', 'Product_Category_3', 'combined_G_M']\n"
     ]
    }
   ],
   "source": [
    "# assign target and inputs for logistic regression\n",
    "y = target\n",
    "X = [name for name in df.columns if name != y]\n",
    "print(y)\n",
    "print(X)"
   ]
  },
  {
   "cell_type": "code",
   "execution_count": 128,
   "metadata": {},
   "outputs": [],
   "source": [
    "# setup autoML\n",
    "run_time=2500\n",
    "aml = H2OAutoML(max_runtime_secs=run_time)"
   ]
  },
  {
   "cell_type": "code",
   "execution_count": 129,
   "metadata": {},
   "outputs": [],
   "source": [
    "logs_path = os.getcwd()\n",
    "logfile = 'logs.txt'"
   ]
  },
  {
   "cell_type": "code",
   "execution_count": 130,
   "metadata": {},
   "outputs": [
    {
     "name": "stdout",
     "output_type": "stream",
     "text": [
      "AutoML progress: |████████████████████████████████████████████████████████| 100%\n"
     ]
    }
   ],
   "source": [
    "model_start_time = time.time()\n",
    "aml.train(x=X,y=y,training_frame=train_data)  # Change training_frame=train"
   ]
  },
  {
   "cell_type": "code",
   "execution_count": 131,
   "metadata": {},
   "outputs": [
    {
     "data": {
      "text/html": [
       "<table>\n",
       "<thead>\n",
       "<tr><th>model_id                                           </th><th style=\"text-align: right;\">  mean_residual_deviance</th><th style=\"text-align: right;\">   rmse</th><th style=\"text-align: right;\">        mse</th><th style=\"text-align: right;\">    mae</th><th style=\"text-align: right;\">     rmsle</th></tr>\n",
       "</thead>\n",
       "<tbody>\n",
       "<tr><td>GBM_5_AutoML_20190416_235225                       </td><td style=\"text-align: right;\">             6.5359e+06 </td><td style=\"text-align: right;\">2556.54</td><td style=\"text-align: right;\">6.5359e+06 </td><td style=\"text-align: right;\">1891.25</td><td style=\"text-align: right;\">nan       </td></tr>\n",
       "<tr><td>GBM_4_AutoML_20190416_235225                       </td><td style=\"text-align: right;\">             6.63833e+06</td><td style=\"text-align: right;\">2576.5 </td><td style=\"text-align: right;\">6.63833e+06</td><td style=\"text-align: right;\">1915.21</td><td style=\"text-align: right;\">nan       </td></tr>\n",
       "<tr><td>GBM_3_AutoML_20190416_235225                       </td><td style=\"text-align: right;\">             6.74257e+06</td><td style=\"text-align: right;\">2596.65</td><td style=\"text-align: right;\">6.74257e+06</td><td style=\"text-align: right;\">1933.7 </td><td style=\"text-align: right;\">nan       </td></tr>\n",
       "<tr><td>GBM_2_AutoML_20190416_235225                       </td><td style=\"text-align: right;\">             6.86087e+06</td><td style=\"text-align: right;\">2619.33</td><td style=\"text-align: right;\">6.86087e+06</td><td style=\"text-align: right;\">1954.31</td><td style=\"text-align: right;\">nan       </td></tr>\n",
       "<tr><td>GBM_1_AutoML_20190416_235225                       </td><td style=\"text-align: right;\">             6.95863e+06</td><td style=\"text-align: right;\">2637.92</td><td style=\"text-align: right;\">6.95863e+06</td><td style=\"text-align: right;\">1970.24</td><td style=\"text-align: right;\">nan       </td></tr>\n",
       "<tr><td>DeepLearning_1_AutoML_20190416_235225              </td><td style=\"text-align: right;\">             7.3317e+06 </td><td style=\"text-align: right;\">2707.71</td><td style=\"text-align: right;\">7.3317e+06 </td><td style=\"text-align: right;\">2014.29</td><td style=\"text-align: right;\">nan       </td></tr>\n",
       "<tr><td>DRF_1_AutoML_20190416_235225                       </td><td style=\"text-align: right;\">             8.48362e+06</td><td style=\"text-align: right;\">2912.67</td><td style=\"text-align: right;\">8.48362e+06</td><td style=\"text-align: right;\">2195.74</td><td style=\"text-align: right;\">  0.414412</td></tr>\n",
       "<tr><td>XRT_1_AutoML_20190416_235225                       </td><td style=\"text-align: right;\">             8.98243e+06</td><td style=\"text-align: right;\">2997.07</td><td style=\"text-align: right;\">8.98243e+06</td><td style=\"text-align: right;\">2263.63</td><td style=\"text-align: right;\">  0.422218</td></tr>\n",
       "<tr><td>StackedEnsemble_AllModels_AutoML_20190416_235225   </td><td style=\"text-align: right;\">             9.07923e+06</td><td style=\"text-align: right;\">3013.18</td><td style=\"text-align: right;\">9.07923e+06</td><td style=\"text-align: right;\">2319.38</td><td style=\"text-align: right;\">  0.448756</td></tr>\n",
       "<tr><td>GBM_grid_1_AutoML_20190416_235225_model_2          </td><td style=\"text-align: right;\">             9.36139e+06</td><td style=\"text-align: right;\">3059.64</td><td style=\"text-align: right;\">9.36139e+06</td><td style=\"text-align: right;\">2355.88</td><td style=\"text-align: right;\">  0.450477</td></tr>\n",
       "<tr><td>GBM_grid_1_AutoML_20190416_235225_model_3          </td><td style=\"text-align: right;\">             1.28106e+07</td><td style=\"text-align: right;\">3579.19</td><td style=\"text-align: right;\">1.28106e+07</td><td style=\"text-align: right;\">2802.56</td><td style=\"text-align: right;\">  0.520913</td></tr>\n",
       "<tr><td>StackedEnsemble_BestOfFamily_AutoML_20190416_235225</td><td style=\"text-align: right;\">             1.30357e+07</td><td style=\"text-align: right;\">3610.49</td><td style=\"text-align: right;\">1.30357e+07</td><td style=\"text-align: right;\">2843.15</td><td style=\"text-align: right;\">  0.527275</td></tr>\n",
       "<tr><td>GBM_grid_1_AutoML_20190416_235225_model_1          </td><td style=\"text-align: right;\">             1.58931e+07</td><td style=\"text-align: right;\">3986.62</td><td style=\"text-align: right;\">1.58931e+07</td><td style=\"text-align: right;\">2998.86</td><td style=\"text-align: right;\">  0.571397</td></tr>\n",
       "<tr><td>GLM_grid_1_AutoML_20190416_235225_model_1          </td><td style=\"text-align: right;\">             2.48106e+07</td><td style=\"text-align: right;\">4981.02</td><td style=\"text-align: right;\">2.48106e+07</td><td style=\"text-align: right;\">4047.52</td><td style=\"text-align: right;\">  0.666417</td></tr>\n",
       "</tbody>\n",
       "</table>"
      ]
     },
     "metadata": {},
     "output_type": "display_data"
    },
    {
     "data": {
      "text/plain": []
     },
     "execution_count": 131,
     "metadata": {},
     "output_type": "execute_result"
    }
   ],
   "source": [
    "# view leaderboard\n",
    "lb = aml.leaderboard\n",
    "lb.head(100)"
   ]
  },
  {
   "cell_type": "code",
   "execution_count": 132,
   "metadata": {},
   "outputs": [],
   "source": [
    "\n",
    "# get leaderboard\n",
    "aml_leaderboard_df=aml.leaderboard.as_data_frame()"
   ]
  },
  {
   "cell_type": "code",
   "execution_count": 133,
   "metadata": {},
   "outputs": [],
   "source": [
    "\n",
    "# STart best model as first model\n",
    "\n",
    "model_set=aml_leaderboard_df['model_id']\n",
    "mod_best=h2o.get_model(model_set[0])"
   ]
  },
  {
   "cell_type": "code",
   "execution_count": 134,
   "metadata": {},
   "outputs": [
    {
     "data": {
      "text/plain": [
       "'GBM_5_AutoML_20190416_235225'"
      ]
     },
     "execution_count": 134,
     "metadata": {},
     "output_type": "execute_result"
    }
   ],
   "source": [
    "mod_best._id"
   ]
  },
  {
   "cell_type": "code",
   "execution_count": 135,
   "metadata": {},
   "outputs": [
    {
     "data": {
      "text/plain": [
       "{'model_id': {'default': None,\n",
       "  'actual': {'__meta': {'schema_version': 3,\n",
       "    'schema_name': 'ModelKeyV3',\n",
       "    'schema_type': 'Key<Model>'},\n",
       "   'name': 'GBM_5_AutoML_20190416_235225',\n",
       "   'type': 'Key<Model>',\n",
       "   'URL': '/3/Models/GBM_5_AutoML_20190416_235225'}},\n",
       " 'training_frame': {'default': None,\n",
       "  'actual': {'__meta': {'schema_version': 3,\n",
       "    'schema_name': 'FrameKeyV3',\n",
       "    'schema_type': 'Key<Frame>'},\n",
       "   'name': 'automl_training_train1.hex',\n",
       "   'type': 'Key<Frame>',\n",
       "   'URL': '/3/Frames/automl_training_train1.hex'}},\n",
       " 'validation_frame': {'default': None, 'actual': None},\n",
       " 'nfolds': {'default': 0, 'actual': 5},\n",
       " 'keep_cross_validation_models': {'default': True, 'actual': False},\n",
       " 'keep_cross_validation_predictions': {'default': False, 'actual': True},\n",
       " 'keep_cross_validation_fold_assignment': {'default': False, 'actual': False},\n",
       " 'score_each_iteration': {'default': False, 'actual': False},\n",
       " 'score_tree_interval': {'default': 0, 'actual': 5},\n",
       " 'fold_assignment': {'default': 'AUTO', 'actual': 'Modulo'},\n",
       " 'fold_column': {'default': None, 'actual': None},\n",
       " 'response_column': {'default': None,\n",
       "  'actual': {'__meta': {'schema_version': 3,\n",
       "    'schema_name': 'ColSpecifierV3',\n",
       "    'schema_type': 'VecSpecifier'},\n",
       "   'column_name': 'Purchase',\n",
       "   'is_member_of_frames': None}},\n",
       " 'ignored_columns': {'default': None, 'actual': ['C1']},\n",
       " 'ignore_const_cols': {'default': True, 'actual': True},\n",
       " 'offset_column': {'default': None, 'actual': None},\n",
       " 'weights_column': {'default': None, 'actual': None},\n",
       " 'balance_classes': {'default': False, 'actual': False},\n",
       " 'class_sampling_factors': {'default': None, 'actual': None},\n",
       " 'max_after_balance_size': {'default': 5.0, 'actual': 5.0},\n",
       " 'max_confusion_matrix_size': {'default': 20, 'actual': 20},\n",
       " 'max_hit_ratio_k': {'default': 0, 'actual': 0},\n",
       " 'ntrees': {'default': 50, 'actual': 94},\n",
       " 'max_depth': {'default': 5, 'actual': 15},\n",
       " 'min_rows': {'default': 10.0, 'actual': 100.0},\n",
       " 'nbins': {'default': 20, 'actual': 20},\n",
       " 'nbins_top_level': {'default': 1024, 'actual': 1024},\n",
       " 'nbins_cats': {'default': 1024, 'actual': 1024},\n",
       " 'r2_stopping': {'default': 1.7976931348623157e+308,\n",
       "  'actual': 1.7976931348623157e+308},\n",
       " 'stopping_rounds': {'default': 0, 'actual': 0},\n",
       " 'stopping_metric': {'default': 'AUTO', 'actual': 'deviance'},\n",
       " 'stopping_tolerance': {'default': 0.001, 'actual': 0.001363890989782514},\n",
       " 'max_runtime_secs': {'default': 0.0, 'actual': 0.0},\n",
       " 'seed': {'default': -1, 'actual': -2561463964729000483},\n",
       " 'build_tree_one_node': {'default': False, 'actual': False},\n",
       " 'learn_rate': {'default': 0.1, 'actual': 0.1},\n",
       " 'learn_rate_annealing': {'default': 1.0, 'actual': 1.0},\n",
       " 'distribution': {'default': 'AUTO', 'actual': 'gaussian'},\n",
       " 'quantile_alpha': {'default': 0.5, 'actual': 0.5},\n",
       " 'tweedie_power': {'default': 1.5, 'actual': 1.5},\n",
       " 'huber_alpha': {'default': 0.9, 'actual': 0.9},\n",
       " 'checkpoint': {'default': None, 'actual': None},\n",
       " 'sample_rate': {'default': 1.0, 'actual': 0.8},\n",
       " 'sample_rate_per_class': {'default': None, 'actual': None},\n",
       " 'col_sample_rate': {'default': 1.0, 'actual': 0.8},\n",
       " 'col_sample_rate_change_per_level': {'default': 1.0, 'actual': 1.0},\n",
       " 'col_sample_rate_per_tree': {'default': 1.0, 'actual': 0.8},\n",
       " 'min_split_improvement': {'default': 1e-05, 'actual': 1e-05},\n",
       " 'histogram_type': {'default': 'AUTO', 'actual': 'AUTO'},\n",
       " 'max_abs_leafnode_pred': {'default': 1.7976931348623157e+308,\n",
       "  'actual': 1.7976931348623157e+308},\n",
       " 'pred_noise_bandwidth': {'default': 0.0, 'actual': 0.0},\n",
       " 'categorical_encoding': {'default': 'AUTO', 'actual': 'AUTO'},\n",
       " 'calibrate_model': {'default': False, 'actual': False},\n",
       " 'calibration_frame': {'default': None, 'actual': None},\n",
       " 'custom_metric_func': {'default': None, 'actual': None},\n",
       " 'export_checkpoints_dir': {'default': None, 'actual': None},\n",
       " 'monotone_constraints': {'default': None, 'actual': None},\n",
       " 'check_constant_response': {'default': True, 'actual': True}}"
      ]
     },
     "execution_count": 135,
     "metadata": {},
     "output_type": "execute_result"
    }
   ],
   "source": [
    "# h2o.get_model(mod_best)\n",
    "mod_best.params"
   ]
  },
  {
   "cell_type": "code",
   "execution_count": 136,
   "metadata": {},
   "outputs": [],
   "source": [
    "def dict_to_json(dct,n):\n",
    "  j = json.dumps(dct, indent=4)\n",
    "  f = open(n, 'w')\n",
    "  print(j, file=f)\n",
    "  f.close()"
   ]
  },
  {
   "cell_type": "code",
   "execution_count": 137,
   "metadata": {},
   "outputs": [],
   "source": [
    "hy_parameter = mod_best.params\n",
    "n='hyperparameter1_2500.json'"
   ]
  },
  {
   "cell_type": "code",
   "execution_count": 138,
   "metadata": {},
   "outputs": [],
   "source": [
    "dict_to_json(hy_parameter,n)"
   ]
  },
  {
   "cell_type": "markdown",
   "metadata": {},
   "source": [
    "# H2O Model 2 for 2500 Seconds"
   ]
  },
  {
   "cell_type": "code",
   "execution_count": 139,
   "metadata": {},
   "outputs": [],
   "source": [
    "\n",
    "model_set=aml_leaderboard_df['model_id']\n",
    "mod_best=h2o.get_model(model_set[1])"
   ]
  },
  {
   "cell_type": "code",
   "execution_count": 140,
   "metadata": {},
   "outputs": [
    {
     "data": {
      "text/plain": [
       "'GBM_4_AutoML_20190416_235225'"
      ]
     },
     "execution_count": 140,
     "metadata": {},
     "output_type": "execute_result"
    }
   ],
   "source": [
    "mod_best._id"
   ]
  },
  {
   "cell_type": "code",
   "execution_count": 141,
   "metadata": {},
   "outputs": [
    {
     "data": {
      "text/plain": [
       "{'model_id': {'default': None,\n",
       "  'actual': {'__meta': {'schema_version': 3,\n",
       "    'schema_name': 'ModelKeyV3',\n",
       "    'schema_type': 'Key<Model>'},\n",
       "   'name': 'GBM_4_AutoML_20190416_235225',\n",
       "   'type': 'Key<Model>',\n",
       "   'URL': '/3/Models/GBM_4_AutoML_20190416_235225'}},\n",
       " 'training_frame': {'default': None,\n",
       "  'actual': {'__meta': {'schema_version': 3,\n",
       "    'schema_name': 'FrameKeyV3',\n",
       "    'schema_type': 'Key<Frame>'},\n",
       "   'name': 'automl_training_train1.hex',\n",
       "   'type': 'Key<Frame>',\n",
       "   'URL': '/3/Frames/automl_training_train1.hex'}},\n",
       " 'validation_frame': {'default': None, 'actual': None},\n",
       " 'nfolds': {'default': 0, 'actual': 5},\n",
       " 'keep_cross_validation_models': {'default': True, 'actual': False},\n",
       " 'keep_cross_validation_predictions': {'default': False, 'actual': True},\n",
       " 'keep_cross_validation_fold_assignment': {'default': False, 'actual': False},\n",
       " 'score_each_iteration': {'default': False, 'actual': False},\n",
       " 'score_tree_interval': {'default': 0, 'actual': 5},\n",
       " 'fold_assignment': {'default': 'AUTO', 'actual': 'Modulo'},\n",
       " 'fold_column': {'default': None, 'actual': None},\n",
       " 'response_column': {'default': None,\n",
       "  'actual': {'__meta': {'schema_version': 3,\n",
       "    'schema_name': 'ColSpecifierV3',\n",
       "    'schema_type': 'VecSpecifier'},\n",
       "   'column_name': 'Purchase',\n",
       "   'is_member_of_frames': None}},\n",
       " 'ignored_columns': {'default': None, 'actual': ['C1']},\n",
       " 'ignore_const_cols': {'default': True, 'actual': True},\n",
       " 'offset_column': {'default': None, 'actual': None},\n",
       " 'weights_column': {'default': None, 'actual': None},\n",
       " 'balance_classes': {'default': False, 'actual': False},\n",
       " 'class_sampling_factors': {'default': None, 'actual': None},\n",
       " 'max_after_balance_size': {'default': 5.0, 'actual': 5.0},\n",
       " 'max_confusion_matrix_size': {'default': 20, 'actual': 20},\n",
       " 'max_hit_ratio_k': {'default': 0, 'actual': 0},\n",
       " 'ntrees': {'default': 50, 'actual': 94},\n",
       " 'max_depth': {'default': 5, 'actual': 15},\n",
       " 'min_rows': {'default': 10.0, 'actual': 100.0},\n",
       " 'nbins': {'default': 20, 'actual': 20},\n",
       " 'nbins_top_level': {'default': 1024, 'actual': 1024},\n",
       " 'nbins_cats': {'default': 1024, 'actual': 1024},\n",
       " 'r2_stopping': {'default': 1.7976931348623157e+308,\n",
       "  'actual': 1.7976931348623157e+308},\n",
       " 'stopping_rounds': {'default': 0, 'actual': 0},\n",
       " 'stopping_metric': {'default': 'AUTO', 'actual': 'deviance'},\n",
       " 'stopping_tolerance': {'default': 0.001, 'actual': 0.001363890989782514},\n",
       " 'max_runtime_secs': {'default': 0.0, 'actual': 0.0},\n",
       " 'seed': {'default': -1, 'actual': -2561463964729000483},\n",
       " 'build_tree_one_node': {'default': False, 'actual': False},\n",
       " 'learn_rate': {'default': 0.1, 'actual': 0.1},\n",
       " 'learn_rate_annealing': {'default': 1.0, 'actual': 1.0},\n",
       " 'distribution': {'default': 'AUTO', 'actual': 'gaussian'},\n",
       " 'quantile_alpha': {'default': 0.5, 'actual': 0.5},\n",
       " 'tweedie_power': {'default': 1.5, 'actual': 1.5},\n",
       " 'huber_alpha': {'default': 0.9, 'actual': 0.9},\n",
       " 'checkpoint': {'default': None, 'actual': None},\n",
       " 'sample_rate': {'default': 1.0, 'actual': 0.8},\n",
       " 'sample_rate_per_class': {'default': None, 'actual': None},\n",
       " 'col_sample_rate': {'default': 1.0, 'actual': 0.8},\n",
       " 'col_sample_rate_change_per_level': {'default': 1.0, 'actual': 1.0},\n",
       " 'col_sample_rate_per_tree': {'default': 1.0, 'actual': 0.8},\n",
       " 'min_split_improvement': {'default': 1e-05, 'actual': 1e-05},\n",
       " 'histogram_type': {'default': 'AUTO', 'actual': 'AUTO'},\n",
       " 'max_abs_leafnode_pred': {'default': 1.7976931348623157e+308,\n",
       "  'actual': 1.7976931348623157e+308},\n",
       " 'pred_noise_bandwidth': {'default': 0.0, 'actual': 0.0},\n",
       " 'categorical_encoding': {'default': 'AUTO', 'actual': 'AUTO'},\n",
       " 'calibrate_model': {'default': False, 'actual': False},\n",
       " 'calibration_frame': {'default': None, 'actual': None},\n",
       " 'custom_metric_func': {'default': None, 'actual': None},\n",
       " 'export_checkpoints_dir': {'default': None, 'actual': None},\n",
       " 'monotone_constraints': {'default': None, 'actual': None},\n",
       " 'check_constant_response': {'default': True, 'actual': True}}"
      ]
     },
     "execution_count": 141,
     "metadata": {},
     "output_type": "execute_result"
    }
   ],
   "source": [
    "mod_best.params"
   ]
  },
  {
   "cell_type": "code",
   "execution_count": 142,
   "metadata": {},
   "outputs": [],
   "source": [
    "def dict_to_json(dct,n):\n",
    "  j = json.dumps(dct, indent=4)\n",
    "  f = open(n, 'w')\n",
    "  print(j, file=f)\n",
    "  f.close()"
   ]
  },
  {
   "cell_type": "code",
   "execution_count": 143,
   "metadata": {},
   "outputs": [],
   "source": [
    "hy_parameter = mod_best.params\n",
    "n='hyperparameter2_2500.json'"
   ]
  },
  {
   "cell_type": "code",
   "execution_count": 144,
   "metadata": {},
   "outputs": [],
   "source": [
    "dict_to_json(hy_parameter,n)"
   ]
  },
  {
   "cell_type": "markdown",
   "metadata": {},
   "source": [
    "# Hyperparameter for Model 3"
   ]
  },
  {
   "cell_type": "code",
   "execution_count": 157,
   "metadata": {},
   "outputs": [],
   "source": [
    "model_set=aml_leaderboard_df['model_id']\n",
    "mod_best=h2o.get_model(model_set[2])"
   ]
  },
  {
   "cell_type": "code",
   "execution_count": 158,
   "metadata": {},
   "outputs": [
    {
     "data": {
      "text/plain": [
       "'GBM_3_AutoML_20190416_235225'"
      ]
     },
     "execution_count": 158,
     "metadata": {},
     "output_type": "execute_result"
    }
   ],
   "source": [
    "mod_best._id"
   ]
  },
  {
   "cell_type": "code",
   "execution_count": 159,
   "metadata": {},
   "outputs": [
    {
     "data": {
      "text/plain": [
       "{'model_id': {'default': None,\n",
       "  'actual': {'__meta': {'schema_version': 3,\n",
       "    'schema_name': 'ModelKeyV3',\n",
       "    'schema_type': 'Key<Model>'},\n",
       "   'name': 'GBM_3_AutoML_20190416_235225',\n",
       "   'type': 'Key<Model>',\n",
       "   'URL': '/3/Models/GBM_3_AutoML_20190416_235225'}},\n",
       " 'training_frame': {'default': None,\n",
       "  'actual': {'__meta': {'schema_version': 3,\n",
       "    'schema_name': 'FrameKeyV3',\n",
       "    'schema_type': 'Key<Frame>'},\n",
       "   'name': 'automl_training_train1.hex',\n",
       "   'type': 'Key<Frame>',\n",
       "   'URL': '/3/Frames/automl_training_train1.hex'}},\n",
       " 'validation_frame': {'default': None, 'actual': None},\n",
       " 'nfolds': {'default': 0, 'actual': 5},\n",
       " 'keep_cross_validation_models': {'default': True, 'actual': False},\n",
       " 'keep_cross_validation_predictions': {'default': False, 'actual': True},\n",
       " 'keep_cross_validation_fold_assignment': {'default': False, 'actual': False},\n",
       " 'score_each_iteration': {'default': False, 'actual': False},\n",
       " 'score_tree_interval': {'default': 0, 'actual': 5},\n",
       " 'fold_assignment': {'default': 'AUTO', 'actual': 'Modulo'},\n",
       " 'fold_column': {'default': None, 'actual': None},\n",
       " 'response_column': {'default': None,\n",
       "  'actual': {'__meta': {'schema_version': 3,\n",
       "    'schema_name': 'ColSpecifierV3',\n",
       "    'schema_type': 'VecSpecifier'},\n",
       "   'column_name': 'Purchase',\n",
       "   'is_member_of_frames': None}},\n",
       " 'ignored_columns': {'default': None, 'actual': ['C1']},\n",
       " 'ignore_const_cols': {'default': True, 'actual': True},\n",
       " 'offset_column': {'default': None, 'actual': None},\n",
       " 'weights_column': {'default': None, 'actual': None},\n",
       " 'balance_classes': {'default': False, 'actual': False},\n",
       " 'class_sampling_factors': {'default': None, 'actual': None},\n",
       " 'max_after_balance_size': {'default': 5.0, 'actual': 5.0},\n",
       " 'max_confusion_matrix_size': {'default': 20, 'actual': 20},\n",
       " 'max_hit_ratio_k': {'default': 0, 'actual': 0},\n",
       " 'ntrees': {'default': 50, 'actual': 94},\n",
       " 'max_depth': {'default': 5, 'actual': 15},\n",
       " 'min_rows': {'default': 10.0, 'actual': 100.0},\n",
       " 'nbins': {'default': 20, 'actual': 20},\n",
       " 'nbins_top_level': {'default': 1024, 'actual': 1024},\n",
       " 'nbins_cats': {'default': 1024, 'actual': 1024},\n",
       " 'r2_stopping': {'default': 1.7976931348623157e+308,\n",
       "  'actual': 1.7976931348623157e+308},\n",
       " 'stopping_rounds': {'default': 0, 'actual': 0},\n",
       " 'stopping_metric': {'default': 'AUTO', 'actual': 'deviance'},\n",
       " 'stopping_tolerance': {'default': 0.001, 'actual': 0.001363890989782514},\n",
       " 'max_runtime_secs': {'default': 0.0, 'actual': 0.0},\n",
       " 'seed': {'default': -1, 'actual': -2561463964729000483},\n",
       " 'build_tree_one_node': {'default': False, 'actual': False},\n",
       " 'learn_rate': {'default': 0.1, 'actual': 0.1},\n",
       " 'learn_rate_annealing': {'default': 1.0, 'actual': 1.0},\n",
       " 'distribution': {'default': 'AUTO', 'actual': 'gaussian'},\n",
       " 'quantile_alpha': {'default': 0.5, 'actual': 0.5},\n",
       " 'tweedie_power': {'default': 1.5, 'actual': 1.5},\n",
       " 'huber_alpha': {'default': 0.9, 'actual': 0.9},\n",
       " 'checkpoint': {'default': None, 'actual': None},\n",
       " 'sample_rate': {'default': 1.0, 'actual': 0.8},\n",
       " 'sample_rate_per_class': {'default': None, 'actual': None},\n",
       " 'col_sample_rate': {'default': 1.0, 'actual': 0.8},\n",
       " 'col_sample_rate_change_per_level': {'default': 1.0, 'actual': 1.0},\n",
       " 'col_sample_rate_per_tree': {'default': 1.0, 'actual': 0.8},\n",
       " 'min_split_improvement': {'default': 1e-05, 'actual': 1e-05},\n",
       " 'histogram_type': {'default': 'AUTO', 'actual': 'AUTO'},\n",
       " 'max_abs_leafnode_pred': {'default': 1.7976931348623157e+308,\n",
       "  'actual': 1.7976931348623157e+308},\n",
       " 'pred_noise_bandwidth': {'default': 0.0, 'actual': 0.0},\n",
       " 'categorical_encoding': {'default': 'AUTO', 'actual': 'AUTO'},\n",
       " 'calibrate_model': {'default': False, 'actual': False},\n",
       " 'calibration_frame': {'default': None, 'actual': None},\n",
       " 'custom_metric_func': {'default': None, 'actual': None},\n",
       " 'export_checkpoints_dir': {'default': None, 'actual': None},\n",
       " 'monotone_constraints': {'default': None, 'actual': None},\n",
       " 'check_constant_response': {'default': True, 'actual': True}}"
      ]
     },
     "execution_count": 159,
     "metadata": {},
     "output_type": "execute_result"
    }
   ],
   "source": [
    "mod_best.params"
   ]
  },
  {
   "cell_type": "code",
   "execution_count": 160,
   "metadata": {},
   "outputs": [],
   "source": [
    "def dict_to_json(dct,n):\n",
    "  j = json.dumps(dct, indent=4)\n",
    "  f = open(n, 'w')\n",
    "  print(j, file=f)\n",
    "  f.close()"
   ]
  },
  {
   "cell_type": "code",
   "execution_count": 161,
   "metadata": {},
   "outputs": [],
   "source": [
    "hy_parameter = mod_best.params\n",
    "n='hyperparameter3_2500.json'"
   ]
  },
  {
   "cell_type": "code",
   "execution_count": 162,
   "metadata": {},
   "outputs": [],
   "source": [
    "dict_to_json(hy_parameter,n)"
   ]
  },
  {
   "cell_type": "markdown",
   "metadata": {},
   "source": [
    "# Hyperparameter for Model4"
   ]
  },
  {
   "cell_type": "code",
   "execution_count": 163,
   "metadata": {},
   "outputs": [],
   "source": [
    "model_set=aml_leaderboard_df['model_id']\n",
    "mod_best=h2o.get_model(model_set[3])"
   ]
  },
  {
   "cell_type": "code",
   "execution_count": 164,
   "metadata": {},
   "outputs": [
    {
     "data": {
      "text/plain": [
       "'GBM_2_AutoML_20190416_235225'"
      ]
     },
     "execution_count": 164,
     "metadata": {},
     "output_type": "execute_result"
    }
   ],
   "source": [
    "mod_best._id"
   ]
  },
  {
   "cell_type": "code",
   "execution_count": 165,
   "metadata": {},
   "outputs": [
    {
     "data": {
      "text/plain": [
       "{'model_id': {'default': None,\n",
       "  'actual': {'__meta': {'schema_version': 3,\n",
       "    'schema_name': 'ModelKeyV3',\n",
       "    'schema_type': 'Key<Model>'},\n",
       "   'name': 'GBM_2_AutoML_20190416_235225',\n",
       "   'type': 'Key<Model>',\n",
       "   'URL': '/3/Models/GBM_2_AutoML_20190416_235225'}},\n",
       " 'training_frame': {'default': None,\n",
       "  'actual': {'__meta': {'schema_version': 3,\n",
       "    'schema_name': 'FrameKeyV3',\n",
       "    'schema_type': 'Key<Frame>'},\n",
       "   'name': 'automl_training_train1.hex',\n",
       "   'type': 'Key<Frame>',\n",
       "   'URL': '/3/Frames/automl_training_train1.hex'}},\n",
       " 'validation_frame': {'default': None, 'actual': None},\n",
       " 'nfolds': {'default': 0, 'actual': 5},\n",
       " 'keep_cross_validation_models': {'default': True, 'actual': False},\n",
       " 'keep_cross_validation_predictions': {'default': False, 'actual': True},\n",
       " 'keep_cross_validation_fold_assignment': {'default': False, 'actual': False},\n",
       " 'score_each_iteration': {'default': False, 'actual': False},\n",
       " 'score_tree_interval': {'default': 0, 'actual': 5},\n",
       " 'fold_assignment': {'default': 'AUTO', 'actual': 'Modulo'},\n",
       " 'fold_column': {'default': None, 'actual': None},\n",
       " 'response_column': {'default': None,\n",
       "  'actual': {'__meta': {'schema_version': 3,\n",
       "    'schema_name': 'ColSpecifierV3',\n",
       "    'schema_type': 'VecSpecifier'},\n",
       "   'column_name': 'Purchase',\n",
       "   'is_member_of_frames': None}},\n",
       " 'ignored_columns': {'default': None, 'actual': ['C1']},\n",
       " 'ignore_const_cols': {'default': True, 'actual': True},\n",
       " 'offset_column': {'default': None, 'actual': None},\n",
       " 'weights_column': {'default': None, 'actual': None},\n",
       " 'balance_classes': {'default': False, 'actual': False},\n",
       " 'class_sampling_factors': {'default': None, 'actual': None},\n",
       " 'max_after_balance_size': {'default': 5.0, 'actual': 5.0},\n",
       " 'max_confusion_matrix_size': {'default': 20, 'actual': 20},\n",
       " 'max_hit_ratio_k': {'default': 0, 'actual': 0},\n",
       " 'ntrees': {'default': 50, 'actual': 94},\n",
       " 'max_depth': {'default': 5, 'actual': 15},\n",
       " 'min_rows': {'default': 10.0, 'actual': 100.0},\n",
       " 'nbins': {'default': 20, 'actual': 20},\n",
       " 'nbins_top_level': {'default': 1024, 'actual': 1024},\n",
       " 'nbins_cats': {'default': 1024, 'actual': 1024},\n",
       " 'r2_stopping': {'default': 1.7976931348623157e+308,\n",
       "  'actual': 1.7976931348623157e+308},\n",
       " 'stopping_rounds': {'default': 0, 'actual': 0},\n",
       " 'stopping_metric': {'default': 'AUTO', 'actual': 'deviance'},\n",
       " 'stopping_tolerance': {'default': 0.001, 'actual': 0.001363890989782514},\n",
       " 'max_runtime_secs': {'default': 0.0, 'actual': 0.0},\n",
       " 'seed': {'default': -1, 'actual': -2561463964729000483},\n",
       " 'build_tree_one_node': {'default': False, 'actual': False},\n",
       " 'learn_rate': {'default': 0.1, 'actual': 0.1},\n",
       " 'learn_rate_annealing': {'default': 1.0, 'actual': 1.0},\n",
       " 'distribution': {'default': 'AUTO', 'actual': 'gaussian'},\n",
       " 'quantile_alpha': {'default': 0.5, 'actual': 0.5},\n",
       " 'tweedie_power': {'default': 1.5, 'actual': 1.5},\n",
       " 'huber_alpha': {'default': 0.9, 'actual': 0.9},\n",
       " 'checkpoint': {'default': None, 'actual': None},\n",
       " 'sample_rate': {'default': 1.0, 'actual': 0.8},\n",
       " 'sample_rate_per_class': {'default': None, 'actual': None},\n",
       " 'col_sample_rate': {'default': 1.0, 'actual': 0.8},\n",
       " 'col_sample_rate_change_per_level': {'default': 1.0, 'actual': 1.0},\n",
       " 'col_sample_rate_per_tree': {'default': 1.0, 'actual': 0.8},\n",
       " 'min_split_improvement': {'default': 1e-05, 'actual': 1e-05},\n",
       " 'histogram_type': {'default': 'AUTO', 'actual': 'AUTO'},\n",
       " 'max_abs_leafnode_pred': {'default': 1.7976931348623157e+308,\n",
       "  'actual': 1.7976931348623157e+308},\n",
       " 'pred_noise_bandwidth': {'default': 0.0, 'actual': 0.0},\n",
       " 'categorical_encoding': {'default': 'AUTO', 'actual': 'AUTO'},\n",
       " 'calibrate_model': {'default': False, 'actual': False},\n",
       " 'calibration_frame': {'default': None, 'actual': None},\n",
       " 'custom_metric_func': {'default': None, 'actual': None},\n",
       " 'export_checkpoints_dir': {'default': None, 'actual': None},\n",
       " 'monotone_constraints': {'default': None, 'actual': None},\n",
       " 'check_constant_response': {'default': True, 'actual': True}}"
      ]
     },
     "execution_count": 165,
     "metadata": {},
     "output_type": "execute_result"
    }
   ],
   "source": [
    "mod_best.params"
   ]
  },
  {
   "cell_type": "code",
   "execution_count": 166,
   "metadata": {},
   "outputs": [],
   "source": [
    "def dict_to_json(dct,n):\n",
    "  j = json.dumps(dct, indent=4)\n",
    "  f = open(n, 'w')\n",
    "  print(j, file=f)\n",
    "  f.close()"
   ]
  },
  {
   "cell_type": "code",
   "execution_count": 167,
   "metadata": {},
   "outputs": [],
   "source": [
    "hy_parameter = mod_best.params\n",
    "n='hyperparameter4_2500.json'"
   ]
  },
  {
   "cell_type": "code",
   "execution_count": 168,
   "metadata": {},
   "outputs": [],
   "source": [
    "dict_to_json(hy_parameter,n)"
   ]
  },
  {
   "cell_type": "markdown",
   "metadata": {},
   "source": [
    "# Hyperparameter for Model 5"
   ]
  },
  {
   "cell_type": "code",
   "execution_count": 169,
   "metadata": {},
   "outputs": [],
   "source": [
    "model_set=aml_leaderboard_df['model_id']\n",
    "mod_best=h2o.get_model(model_set[4])"
   ]
  },
  {
   "cell_type": "code",
   "execution_count": 170,
   "metadata": {},
   "outputs": [
    {
     "data": {
      "text/plain": [
       "'GBM_1_AutoML_20190416_235225'"
      ]
     },
     "execution_count": 170,
     "metadata": {},
     "output_type": "execute_result"
    }
   ],
   "source": [
    "mod_best._id"
   ]
  },
  {
   "cell_type": "code",
   "execution_count": 171,
   "metadata": {},
   "outputs": [
    {
     "data": {
      "text/plain": [
       "{'model_id': {'default': None,\n",
       "  'actual': {'__meta': {'schema_version': 3,\n",
       "    'schema_name': 'ModelKeyV3',\n",
       "    'schema_type': 'Key<Model>'},\n",
       "   'name': 'GBM_1_AutoML_20190416_235225',\n",
       "   'type': 'Key<Model>',\n",
       "   'URL': '/3/Models/GBM_1_AutoML_20190416_235225'}},\n",
       " 'training_frame': {'default': None,\n",
       "  'actual': {'__meta': {'schema_version': 3,\n",
       "    'schema_name': 'FrameKeyV3',\n",
       "    'schema_type': 'Key<Frame>'},\n",
       "   'name': 'automl_training_train1.hex',\n",
       "   'type': 'Key<Frame>',\n",
       "   'URL': '/3/Frames/automl_training_train1.hex'}},\n",
       " 'validation_frame': {'default': None, 'actual': None},\n",
       " 'nfolds': {'default': 0, 'actual': 5},\n",
       " 'keep_cross_validation_models': {'default': True, 'actual': False},\n",
       " 'keep_cross_validation_predictions': {'default': False, 'actual': True},\n",
       " 'keep_cross_validation_fold_assignment': {'default': False, 'actual': False},\n",
       " 'score_each_iteration': {'default': False, 'actual': False},\n",
       " 'score_tree_interval': {'default': 0, 'actual': 5},\n",
       " 'fold_assignment': {'default': 'AUTO', 'actual': 'Modulo'},\n",
       " 'fold_column': {'default': None, 'actual': None},\n",
       " 'response_column': {'default': None,\n",
       "  'actual': {'__meta': {'schema_version': 3,\n",
       "    'schema_name': 'ColSpecifierV3',\n",
       "    'schema_type': 'VecSpecifier'},\n",
       "   'column_name': 'Purchase',\n",
       "   'is_member_of_frames': None}},\n",
       " 'ignored_columns': {'default': None, 'actual': ['C1']},\n",
       " 'ignore_const_cols': {'default': True, 'actual': True},\n",
       " 'offset_column': {'default': None, 'actual': None},\n",
       " 'weights_column': {'default': None, 'actual': None},\n",
       " 'balance_classes': {'default': False, 'actual': False},\n",
       " 'class_sampling_factors': {'default': None, 'actual': None},\n",
       " 'max_after_balance_size': {'default': 5.0, 'actual': 5.0},\n",
       " 'max_confusion_matrix_size': {'default': 20, 'actual': 20},\n",
       " 'max_hit_ratio_k': {'default': 0, 'actual': 0},\n",
       " 'ntrees': {'default': 50, 'actual': 94},\n",
       " 'max_depth': {'default': 5, 'actual': 15},\n",
       " 'min_rows': {'default': 10.0, 'actual': 100.0},\n",
       " 'nbins': {'default': 20, 'actual': 20},\n",
       " 'nbins_top_level': {'default': 1024, 'actual': 1024},\n",
       " 'nbins_cats': {'default': 1024, 'actual': 1024},\n",
       " 'r2_stopping': {'default': 1.7976931348623157e+308,\n",
       "  'actual': 1.7976931348623157e+308},\n",
       " 'stopping_rounds': {'default': 0, 'actual': 0},\n",
       " 'stopping_metric': {'default': 'AUTO', 'actual': 'deviance'},\n",
       " 'stopping_tolerance': {'default': 0.001, 'actual': 0.001363890989782514},\n",
       " 'max_runtime_secs': {'default': 0.0, 'actual': 0.0},\n",
       " 'seed': {'default': -1, 'actual': -2561463964729000483},\n",
       " 'build_tree_one_node': {'default': False, 'actual': False},\n",
       " 'learn_rate': {'default': 0.1, 'actual': 0.1},\n",
       " 'learn_rate_annealing': {'default': 1.0, 'actual': 1.0},\n",
       " 'distribution': {'default': 'AUTO', 'actual': 'gaussian'},\n",
       " 'quantile_alpha': {'default': 0.5, 'actual': 0.5},\n",
       " 'tweedie_power': {'default': 1.5, 'actual': 1.5},\n",
       " 'huber_alpha': {'default': 0.9, 'actual': 0.9},\n",
       " 'checkpoint': {'default': None, 'actual': None},\n",
       " 'sample_rate': {'default': 1.0, 'actual': 0.8},\n",
       " 'sample_rate_per_class': {'default': None, 'actual': None},\n",
       " 'col_sample_rate': {'default': 1.0, 'actual': 0.8},\n",
       " 'col_sample_rate_change_per_level': {'default': 1.0, 'actual': 1.0},\n",
       " 'col_sample_rate_per_tree': {'default': 1.0, 'actual': 0.8},\n",
       " 'min_split_improvement': {'default': 1e-05, 'actual': 1e-05},\n",
       " 'histogram_type': {'default': 'AUTO', 'actual': 'AUTO'},\n",
       " 'max_abs_leafnode_pred': {'default': 1.7976931348623157e+308,\n",
       "  'actual': 1.7976931348623157e+308},\n",
       " 'pred_noise_bandwidth': {'default': 0.0, 'actual': 0.0},\n",
       " 'categorical_encoding': {'default': 'AUTO', 'actual': 'AUTO'},\n",
       " 'calibrate_model': {'default': False, 'actual': False},\n",
       " 'calibration_frame': {'default': None, 'actual': None},\n",
       " 'custom_metric_func': {'default': None, 'actual': None},\n",
       " 'export_checkpoints_dir': {'default': None, 'actual': None},\n",
       " 'monotone_constraints': {'default': None, 'actual': None},\n",
       " 'check_constant_response': {'default': True, 'actual': True}}"
      ]
     },
     "execution_count": 171,
     "metadata": {},
     "output_type": "execute_result"
    }
   ],
   "source": [
    "mod_best.params"
   ]
  },
  {
   "cell_type": "code",
   "execution_count": 172,
   "metadata": {},
   "outputs": [],
   "source": [
    "def dict_to_json(dct,n):\n",
    "  j = json.dumps(dct, indent=4)\n",
    "  f = open(n, 'w')\n",
    "  print(j, file=f)\n",
    "  f.close()"
   ]
  },
  {
   "cell_type": "code",
   "execution_count": 173,
   "metadata": {},
   "outputs": [],
   "source": [
    "hy_parameter = mod_best.params\n",
    "n='hyperparameter5_2500.json'"
   ]
  },
  {
   "cell_type": "code",
   "execution_count": 174,
   "metadata": {},
   "outputs": [],
   "source": [
    "dict_to_json(hy_parameter,n)"
   ]
  },
  {
   "cell_type": "markdown",
   "metadata": {},
   "source": [
    "# Hyperparameter for Model 6"
   ]
  },
  {
   "cell_type": "code",
   "execution_count": 175,
   "metadata": {},
   "outputs": [],
   "source": [
    "model_set=aml_leaderboard_df['model_id']\n",
    "mod_best=h2o.get_model(model_set[5])"
   ]
  },
  {
   "cell_type": "code",
   "execution_count": 176,
   "metadata": {},
   "outputs": [
    {
     "data": {
      "text/plain": [
       "'DeepLearning_1_AutoML_20190416_235225'"
      ]
     },
     "execution_count": 176,
     "metadata": {},
     "output_type": "execute_result"
    }
   ],
   "source": [
    "mod_best._id"
   ]
  },
  {
   "cell_type": "code",
   "execution_count": 177,
   "metadata": {},
   "outputs": [
    {
     "data": {
      "text/plain": [
       "{'model_id': {'default': None,\n",
       "  'actual': {'__meta': {'schema_version': 3,\n",
       "    'schema_name': 'ModelKeyV3',\n",
       "    'schema_type': 'Key<Model>'},\n",
       "   'name': 'DeepLearning_1_AutoML_20190416_235225',\n",
       "   'type': 'Key<Model>',\n",
       "   'URL': '/3/Models/DeepLearning_1_AutoML_20190416_235225'}},\n",
       " 'training_frame': {'default': None,\n",
       "  'actual': {'__meta': {'schema_version': 3,\n",
       "    'schema_name': 'FrameKeyV3',\n",
       "    'schema_type': 'Key<Frame>'},\n",
       "   'name': 'automl_training_train1.hex',\n",
       "   'type': 'Key<Frame>',\n",
       "   'URL': '/3/Frames/automl_training_train1.hex'}},\n",
       " 'validation_frame': {'default': None, 'actual': None},\n",
       " 'nfolds': {'default': 0, 'actual': 5},\n",
       " 'keep_cross_validation_models': {'default': True, 'actual': False},\n",
       " 'keep_cross_validation_predictions': {'default': False, 'actual': True},\n",
       " 'keep_cross_validation_fold_assignment': {'default': False, 'actual': False},\n",
       " 'fold_assignment': {'default': 'AUTO', 'actual': 'Modulo'},\n",
       " 'fold_column': {'default': None, 'actual': None},\n",
       " 'response_column': {'default': None,\n",
       "  'actual': {'__meta': {'schema_version': 3,\n",
       "    'schema_name': 'ColSpecifierV3',\n",
       "    'schema_type': 'VecSpecifier'},\n",
       "   'column_name': 'Purchase',\n",
       "   'is_member_of_frames': None}},\n",
       " 'ignored_columns': {'default': None, 'actual': ['C1']},\n",
       " 'ignore_const_cols': {'default': True, 'actual': True},\n",
       " 'score_each_iteration': {'default': False, 'actual': False},\n",
       " 'weights_column': {'default': None, 'actual': None},\n",
       " 'offset_column': {'default': None, 'actual': None},\n",
       " 'balance_classes': {'default': False, 'actual': False},\n",
       " 'class_sampling_factors': {'default': None, 'actual': None},\n",
       " 'max_after_balance_size': {'default': 5.0, 'actual': 5.0},\n",
       " 'max_confusion_matrix_size': {'default': 20, 'actual': 20},\n",
       " 'max_hit_ratio_k': {'default': 0, 'actual': 0},\n",
       " 'checkpoint': {'default': None, 'actual': None},\n",
       " 'pretrained_autoencoder': {'default': None, 'actual': None},\n",
       " 'overwrite_with_best_model': {'default': True, 'actual': False},\n",
       " 'use_all_factor_levels': {'default': True, 'actual': True},\n",
       " 'standardize': {'default': True, 'actual': True},\n",
       " 'activation': {'default': 'Rectifier', 'actual': 'Rectifier'},\n",
       " 'hidden': {'default': [200, 200], 'actual': [10, 10, 10]},\n",
       " 'epochs': {'default': 10.0, 'actual': 10.008961043638243},\n",
       " 'train_samples_per_iteration': {'default': -2, 'actual': -2},\n",
       " 'target_ratio_comm_to_comp': {'default': 0.05, 'actual': 0.05},\n",
       " 'seed': {'default': -1, 'actual': 4255121415739143370},\n",
       " 'adaptive_rate': {'default': True, 'actual': True},\n",
       " 'rho': {'default': 0.99, 'actual': 0.99},\n",
       " 'epsilon': {'default': 1e-08, 'actual': 1e-08},\n",
       " 'rate': {'default': 0.005, 'actual': 0.005},\n",
       " 'rate_annealing': {'default': 1e-06, 'actual': 1e-06},\n",
       " 'rate_decay': {'default': 1.0, 'actual': 1.0},\n",
       " 'momentum_start': {'default': 0.0, 'actual': 0.0},\n",
       " 'momentum_ramp': {'default': 1000000.0, 'actual': 1000000.0},\n",
       " 'momentum_stable': {'default': 0.0, 'actual': 0.0},\n",
       " 'nesterov_accelerated_gradient': {'default': True, 'actual': True},\n",
       " 'input_dropout_ratio': {'default': 0.0, 'actual': 0.0},\n",
       " 'hidden_dropout_ratios': {'default': None, 'actual': None},\n",
       " 'l1': {'default': 0.0, 'actual': 0.0},\n",
       " 'l2': {'default': 0.0, 'actual': 0.0},\n",
       " 'max_w2': {'default': 3.4028235e+38, 'actual': 3.4028235e+38},\n",
       " 'initial_weight_distribution': {'default': 'UniformAdaptive',\n",
       "  'actual': 'UniformAdaptive'},\n",
       " 'initial_weight_scale': {'default': 1.0, 'actual': 1.0},\n",
       " 'initial_weights': {'default': None, 'actual': None},\n",
       " 'initial_biases': {'default': None, 'actual': None},\n",
       " 'loss': {'default': 'Automatic', 'actual': 'Automatic'},\n",
       " 'distribution': {'default': 'AUTO', 'actual': 'AUTO'},\n",
       " 'quantile_alpha': {'default': 0.5, 'actual': 0.5},\n",
       " 'tweedie_power': {'default': 1.5, 'actual': 1.5},\n",
       " 'huber_alpha': {'default': 0.9, 'actual': 0.9},\n",
       " 'score_interval': {'default': 5.0, 'actual': 5.0},\n",
       " 'score_training_samples': {'default': 10000, 'actual': 10000},\n",
       " 'score_validation_samples': {'default': 0, 'actual': 0},\n",
       " 'score_duty_cycle': {'default': 0.1, 'actual': 0.1},\n",
       " 'classification_stop': {'default': 0.0, 'actual': 0.0},\n",
       " 'regression_stop': {'default': 1e-06, 'actual': 1e-06},\n",
       " 'stopping_rounds': {'default': 5, 'actual': 0},\n",
       " 'stopping_metric': {'default': 'AUTO', 'actual': 'deviance'},\n",
       " 'stopping_tolerance': {'default': 0.0, 'actual': 0.001363890989782514},\n",
       " 'max_runtime_secs': {'default': 0.0, 'actual': 0.0},\n",
       " 'score_validation_sampling': {'default': 'Uniform', 'actual': 'Uniform'},\n",
       " 'diagnostics': {'default': True, 'actual': True},\n",
       " 'fast_mode': {'default': True, 'actual': True},\n",
       " 'force_load_balance': {'default': True, 'actual': True},\n",
       " 'variable_importances': {'default': True, 'actual': True},\n",
       " 'replicate_training_data': {'default': True, 'actual': True},\n",
       " 'single_node_mode': {'default': False, 'actual': False},\n",
       " 'shuffle_training_data': {'default': False, 'actual': False},\n",
       " 'missing_values_handling': {'default': 'MeanImputation',\n",
       "  'actual': 'MeanImputation'},\n",
       " 'quiet_mode': {'default': False, 'actual': False},\n",
       " 'autoencoder': {'default': False, 'actual': False},\n",
       " 'sparse': {'default': False, 'actual': False},\n",
       " 'col_major': {'default': False, 'actual': False},\n",
       " 'average_activation': {'default': 0.0, 'actual': 0.0},\n",
       " 'sparsity_beta': {'default': 0.0, 'actual': 0.0},\n",
       " 'max_categorical_features': {'default': 2147483647, 'actual': 2147483647},\n",
       " 'reproducible': {'default': False, 'actual': False},\n",
       " 'export_weights_and_biases': {'default': False, 'actual': False},\n",
       " 'mini_batch_size': {'default': 1, 'actual': 1},\n",
       " 'categorical_encoding': {'default': 'AUTO', 'actual': 'AUTO'},\n",
       " 'elastic_averaging': {'default': False, 'actual': False},\n",
       " 'elastic_averaging_moving_rate': {'default': 0.9, 'actual': 0.9},\n",
       " 'elastic_averaging_regularization': {'default': 0.001, 'actual': 0.001},\n",
       " 'export_checkpoints_dir': {'default': None, 'actual': None}}"
      ]
     },
     "execution_count": 177,
     "metadata": {},
     "output_type": "execute_result"
    }
   ],
   "source": [
    "mod_best.params"
   ]
  },
  {
   "cell_type": "code",
   "execution_count": 178,
   "metadata": {},
   "outputs": [],
   "source": [
    "def dict_to_json(dct,n):\n",
    "  j = json.dumps(dct, indent=4)\n",
    "  f = open(n, 'w')\n",
    "  print(j, file=f)\n",
    "  f.close()"
   ]
  },
  {
   "cell_type": "code",
   "execution_count": 179,
   "metadata": {},
   "outputs": [],
   "source": [
    "hy_parameter = mod_best.params\n",
    "n='hyperparameter6_2500.json'"
   ]
  },
  {
   "cell_type": "code",
   "execution_count": 180,
   "metadata": {},
   "outputs": [],
   "source": [
    "dict_to_json(hy_parameter,n)"
   ]
  },
  {
   "cell_type": "markdown",
   "metadata": {},
   "source": [
    "# Hyperparameter for Model 7"
   ]
  },
  {
   "cell_type": "code",
   "execution_count": 181,
   "metadata": {},
   "outputs": [],
   "source": [
    "model_set=aml_leaderboard_df['model_id']\n",
    "mod_best=h2o.get_model(model_set[6])"
   ]
  },
  {
   "cell_type": "code",
   "execution_count": 182,
   "metadata": {},
   "outputs": [
    {
     "data": {
      "text/plain": [
       "'DRF_1_AutoML_20190416_235225'"
      ]
     },
     "execution_count": 182,
     "metadata": {},
     "output_type": "execute_result"
    }
   ],
   "source": [
    "mod_best._id"
   ]
  },
  {
   "cell_type": "code",
   "execution_count": 183,
   "metadata": {},
   "outputs": [
    {
     "data": {
      "text/plain": [
       "{'model_id': {'default': None,\n",
       "  'actual': {'__meta': {'schema_version': 3,\n",
       "    'schema_name': 'ModelKeyV3',\n",
       "    'schema_type': 'Key<Model>'},\n",
       "   'name': 'DRF_1_AutoML_20190416_235225',\n",
       "   'type': 'Key<Model>',\n",
       "   'URL': '/3/Models/DRF_1_AutoML_20190416_235225'}},\n",
       " 'training_frame': {'default': None,\n",
       "  'actual': {'__meta': {'schema_version': 3,\n",
       "    'schema_name': 'FrameKeyV3',\n",
       "    'schema_type': 'Key<Frame>'},\n",
       "   'name': 'automl_training_train1.hex',\n",
       "   'type': 'Key<Frame>',\n",
       "   'URL': '/3/Frames/automl_training_train1.hex'}},\n",
       " 'validation_frame': {'default': None, 'actual': None},\n",
       " 'nfolds': {'default': 0, 'actual': 5},\n",
       " 'keep_cross_validation_models': {'default': True, 'actual': False},\n",
       " 'keep_cross_validation_predictions': {'default': False, 'actual': True},\n",
       " 'keep_cross_validation_fold_assignment': {'default': False, 'actual': False},\n",
       " 'score_each_iteration': {'default': False, 'actual': False},\n",
       " 'score_tree_interval': {'default': 0, 'actual': 0},\n",
       " 'fold_assignment': {'default': 'AUTO', 'actual': 'Modulo'},\n",
       " 'fold_column': {'default': None, 'actual': None},\n",
       " 'response_column': {'default': None,\n",
       "  'actual': {'__meta': {'schema_version': 3,\n",
       "    'schema_name': 'ColSpecifierV3',\n",
       "    'schema_type': 'VecSpecifier'},\n",
       "   'column_name': 'Purchase',\n",
       "   'is_member_of_frames': None}},\n",
       " 'ignored_columns': {'default': None, 'actual': ['C1']},\n",
       " 'ignore_const_cols': {'default': True, 'actual': True},\n",
       " 'offset_column': {'default': None, 'actual': None},\n",
       " 'weights_column': {'default': None, 'actual': None},\n",
       " 'balance_classes': {'default': False, 'actual': False},\n",
       " 'class_sampling_factors': {'default': None, 'actual': None},\n",
       " 'max_after_balance_size': {'default': 5.0, 'actual': 5.0},\n",
       " 'max_confusion_matrix_size': {'default': 20, 'actual': 20},\n",
       " 'max_hit_ratio_k': {'default': 0, 'actual': 0},\n",
       " 'ntrees': {'default': 50, 'actual': 24},\n",
       " 'max_depth': {'default': 20, 'actual': 20},\n",
       " 'min_rows': {'default': 1.0, 'actual': 1.0},\n",
       " 'nbins': {'default': 20, 'actual': 20},\n",
       " 'nbins_top_level': {'default': 1024, 'actual': 1024},\n",
       " 'nbins_cats': {'default': 1024, 'actual': 1024},\n",
       " 'r2_stopping': {'default': 1.7976931348623157e+308,\n",
       "  'actual': 1.7976931348623157e+308},\n",
       " 'stopping_rounds': {'default': 0, 'actual': 0},\n",
       " 'stopping_metric': {'default': 'AUTO', 'actual': 'deviance'},\n",
       " 'stopping_tolerance': {'default': 0.001, 'actual': 0.001363890989782514},\n",
       " 'max_runtime_secs': {'default': 0.0, 'actual': 0.0},\n",
       " 'seed': {'default': -1, 'actual': 1416182018738725738},\n",
       " 'build_tree_one_node': {'default': False, 'actual': False},\n",
       " 'mtries': {'default': -1, 'actual': -1},\n",
       " 'sample_rate': {'default': 0.6320000290870667, 'actual': 0.6320000290870667},\n",
       " 'sample_rate_per_class': {'default': None, 'actual': None},\n",
       " 'binomial_double_trees': {'default': False, 'actual': False},\n",
       " 'checkpoint': {'default': None, 'actual': None},\n",
       " 'col_sample_rate_change_per_level': {'default': 1.0, 'actual': 1.0},\n",
       " 'col_sample_rate_per_tree': {'default': 1.0, 'actual': 1.0},\n",
       " 'min_split_improvement': {'default': 1e-05, 'actual': 1e-05},\n",
       " 'histogram_type': {'default': 'AUTO', 'actual': 'AUTO'},\n",
       " 'categorical_encoding': {'default': 'AUTO', 'actual': 'AUTO'},\n",
       " 'calibrate_model': {'default': False, 'actual': False},\n",
       " 'calibration_frame': {'default': None, 'actual': None},\n",
       " 'distribution': {'default': 'AUTO', 'actual': 'gaussian'},\n",
       " 'custom_metric_func': {'default': None, 'actual': None},\n",
       " 'export_checkpoints_dir': {'default': None, 'actual': None},\n",
       " 'check_constant_response': {'default': True, 'actual': True}}"
      ]
     },
     "execution_count": 183,
     "metadata": {},
     "output_type": "execute_result"
    }
   ],
   "source": [
    "mod_best.params"
   ]
  },
  {
   "cell_type": "code",
   "execution_count": 184,
   "metadata": {},
   "outputs": [],
   "source": [
    "def dict_to_json(dct,n):\n",
    "  j = json.dumps(dct, indent=4)\n",
    "  f = open(n, 'w')\n",
    "  print(j, file=f)\n",
    "  f.close()"
   ]
  },
  {
   "cell_type": "code",
   "execution_count": 185,
   "metadata": {},
   "outputs": [],
   "source": [
    "hy_parameter = mod_best.params\n",
    "n='hyperparameter7_2500.json'"
   ]
  },
  {
   "cell_type": "code",
   "execution_count": 186,
   "metadata": {},
   "outputs": [],
   "source": [
    "dict_to_json(hy_parameter,n)"
   ]
  },
  {
   "cell_type": "markdown",
   "metadata": {},
   "source": [
    "# Hyperparameter for Model 8"
   ]
  },
  {
   "cell_type": "code",
   "execution_count": 187,
   "metadata": {},
   "outputs": [],
   "source": [
    "model_set=aml_leaderboard_df['model_id']\n",
    "mod_best=h2o.get_model(model_set[7])"
   ]
  },
  {
   "cell_type": "code",
   "execution_count": 188,
   "metadata": {},
   "outputs": [
    {
     "data": {
      "text/plain": [
       "'XRT_1_AutoML_20190416_235225'"
      ]
     },
     "execution_count": 188,
     "metadata": {},
     "output_type": "execute_result"
    }
   ],
   "source": [
    "mod_best._id"
   ]
  },
  {
   "cell_type": "code",
   "execution_count": 189,
   "metadata": {},
   "outputs": [
    {
     "data": {
      "text/plain": [
       "{'model_id': {'default': None,\n",
       "  'actual': {'__meta': {'schema_version': 3,\n",
       "    'schema_name': 'ModelKeyV3',\n",
       "    'schema_type': 'Key<Model>'},\n",
       "   'name': 'XRT_1_AutoML_20190416_235225',\n",
       "   'type': 'Key<Model>',\n",
       "   'URL': '/3/Models/XRT_1_AutoML_20190416_235225'}},\n",
       " 'training_frame': {'default': None,\n",
       "  'actual': {'__meta': {'schema_version': 3,\n",
       "    'schema_name': 'FrameKeyV3',\n",
       "    'schema_type': 'Key<Frame>'},\n",
       "   'name': 'automl_training_train1.hex',\n",
       "   'type': 'Key<Frame>',\n",
       "   'URL': '/3/Frames/automl_training_train1.hex'}},\n",
       " 'validation_frame': {'default': None, 'actual': None},\n",
       " 'nfolds': {'default': 0, 'actual': 5},\n",
       " 'keep_cross_validation_models': {'default': True, 'actual': False},\n",
       " 'keep_cross_validation_predictions': {'default': False, 'actual': True},\n",
       " 'keep_cross_validation_fold_assignment': {'default': False, 'actual': False},\n",
       " 'score_each_iteration': {'default': False, 'actual': False},\n",
       " 'score_tree_interval': {'default': 0, 'actual': 0},\n",
       " 'fold_assignment': {'default': 'AUTO', 'actual': 'Modulo'},\n",
       " 'fold_column': {'default': None, 'actual': None},\n",
       " 'response_column': {'default': None,\n",
       "  'actual': {'__meta': {'schema_version': 3,\n",
       "    'schema_name': 'ColSpecifierV3',\n",
       "    'schema_type': 'VecSpecifier'},\n",
       "   'column_name': 'Purchase',\n",
       "   'is_member_of_frames': None}},\n",
       " 'ignored_columns': {'default': None, 'actual': ['C1']},\n",
       " 'ignore_const_cols': {'default': True, 'actual': True},\n",
       " 'offset_column': {'default': None, 'actual': None},\n",
       " 'weights_column': {'default': None, 'actual': None},\n",
       " 'balance_classes': {'default': False, 'actual': False},\n",
       " 'class_sampling_factors': {'default': None, 'actual': None},\n",
       " 'max_after_balance_size': {'default': 5.0, 'actual': 5.0},\n",
       " 'max_confusion_matrix_size': {'default': 20, 'actual': 20},\n",
       " 'max_hit_ratio_k': {'default': 0, 'actual': 0},\n",
       " 'ntrees': {'default': 50, 'actual': 19},\n",
       " 'max_depth': {'default': 20, 'actual': 20},\n",
       " 'min_rows': {'default': 1.0, 'actual': 1.0},\n",
       " 'nbins': {'default': 20, 'actual': 20},\n",
       " 'nbins_top_level': {'default': 1024, 'actual': 1024},\n",
       " 'nbins_cats': {'default': 1024, 'actual': 1024},\n",
       " 'r2_stopping': {'default': 1.7976931348623157e+308,\n",
       "  'actual': 1.7976931348623157e+308},\n",
       " 'stopping_rounds': {'default': 0, 'actual': 0},\n",
       " 'stopping_metric': {'default': 'AUTO', 'actual': 'deviance'},\n",
       " 'stopping_tolerance': {'default': 0.001, 'actual': 0.001363890989782514},\n",
       " 'max_runtime_secs': {'default': 0.0, 'actual': 0.0},\n",
       " 'seed': {'default': -1, 'actual': -7843465042990348998},\n",
       " 'build_tree_one_node': {'default': False, 'actual': False},\n",
       " 'mtries': {'default': -1, 'actual': -1},\n",
       " 'sample_rate': {'default': 0.6320000290870667, 'actual': 0.6320000290870667},\n",
       " 'sample_rate_per_class': {'default': None, 'actual': None},\n",
       " 'binomial_double_trees': {'default': False, 'actual': False},\n",
       " 'checkpoint': {'default': None, 'actual': None},\n",
       " 'col_sample_rate_change_per_level': {'default': 1.0, 'actual': 1.0},\n",
       " 'col_sample_rate_per_tree': {'default': 1.0, 'actual': 1.0},\n",
       " 'min_split_improvement': {'default': 1e-05, 'actual': 1e-05},\n",
       " 'histogram_type': {'default': 'AUTO', 'actual': 'Random'},\n",
       " 'categorical_encoding': {'default': 'AUTO', 'actual': 'AUTO'},\n",
       " 'calibrate_model': {'default': False, 'actual': False},\n",
       " 'calibration_frame': {'default': None, 'actual': None},\n",
       " 'distribution': {'default': 'AUTO', 'actual': 'gaussian'},\n",
       " 'custom_metric_func': {'default': None, 'actual': None},\n",
       " 'export_checkpoints_dir': {'default': None, 'actual': None},\n",
       " 'check_constant_response': {'default': True, 'actual': True}}"
      ]
     },
     "execution_count": 189,
     "metadata": {},
     "output_type": "execute_result"
    }
   ],
   "source": [
    "mod_best.params"
   ]
  },
  {
   "cell_type": "code",
   "execution_count": 190,
   "metadata": {},
   "outputs": [],
   "source": [
    "def dict_to_json(dct,n):\n",
    "  j = json.dumps(dct, indent=4)\n",
    "  f = open(n, 'w')\n",
    "  print(j, file=f)\n",
    "  f.close()"
   ]
  },
  {
   "cell_type": "code",
   "execution_count": 191,
   "metadata": {},
   "outputs": [],
   "source": [
    "hy_parameter = mod_best.params\n",
    "n='hyperparameter8_2500.json'"
   ]
  },
  {
   "cell_type": "code",
   "execution_count": 192,
   "metadata": {},
   "outputs": [],
   "source": [
    "dict_to_json(hy_parameter,n)"
   ]
  },
  {
   "cell_type": "markdown",
   "metadata": {},
   "source": [
    "# Hyperparameter for Model 9"
   ]
  },
  {
   "cell_type": "code",
   "execution_count": 193,
   "metadata": {},
   "outputs": [],
   "source": [
    "model_set=aml_leaderboard_df['model_id']\n",
    "mod_best=h2o.get_model(model_set[8])"
   ]
  },
  {
   "cell_type": "code",
   "execution_count": 194,
   "metadata": {},
   "outputs": [
    {
     "data": {
      "text/plain": [
       "'StackedEnsemble_AllModels_AutoML_20190416_235225'"
      ]
     },
     "execution_count": 194,
     "metadata": {},
     "output_type": "execute_result"
    }
   ],
   "source": [
    "mod_best._id"
   ]
  },
  {
   "cell_type": "code",
   "execution_count": 195,
   "metadata": {},
   "outputs": [
    {
     "data": {
      "text/plain": [
       "{'model_id': {'default': None,\n",
       "  'actual': {'__meta': {'schema_version': 3,\n",
       "    'schema_name': 'ModelKeyV3',\n",
       "    'schema_type': 'Key<Model>'},\n",
       "   'name': 'StackedEnsemble_AllModels_AutoML_20190416_235225',\n",
       "   'type': 'Key<Model>',\n",
       "   'URL': '/3/Models/StackedEnsemble_AllModels_AutoML_20190416_235225'}},\n",
       " 'training_frame': {'default': None,\n",
       "  'actual': {'__meta': {'schema_version': 3,\n",
       "    'schema_name': 'FrameKeyV3',\n",
       "    'schema_type': 'Key<Frame>'},\n",
       "   'name': 'automl_training_train1.hex',\n",
       "   'type': 'Key<Frame>',\n",
       "   'URL': '/3/Frames/automl_training_train1.hex'}},\n",
       " 'response_column': {'default': None,\n",
       "  'actual': {'__meta': {'schema_version': 3,\n",
       "    'schema_name': 'ColSpecifierV3',\n",
       "    'schema_type': 'VecSpecifier'},\n",
       "   'column_name': 'Purchase',\n",
       "   'is_member_of_frames': None}},\n",
       " 'validation_frame': {'default': None, 'actual': None},\n",
       " 'blending_frame': {'default': None, 'actual': None},\n",
       " 'base_models': {'default': [],\n",
       "  'actual': [{'__meta': {'schema_version': 3,\n",
       "     'schema_name': 'ModelKeyV3',\n",
       "     'schema_type': 'Key<Model>'},\n",
       "    'name': 'GBM_5_AutoML_20190416_235225',\n",
       "    'type': 'Key<Model>',\n",
       "    'URL': '/3/Models/GBM_5_AutoML_20190416_235225'},\n",
       "   {'__meta': {'schema_version': 3,\n",
       "     'schema_name': 'ModelKeyV3',\n",
       "     'schema_type': 'Key<Model>'},\n",
       "    'name': 'GBM_4_AutoML_20190416_235225',\n",
       "    'type': 'Key<Model>',\n",
       "    'URL': '/3/Models/GBM_4_AutoML_20190416_235225'},\n",
       "   {'__meta': {'schema_version': 3,\n",
       "     'schema_name': 'ModelKeyV3',\n",
       "     'schema_type': 'Key<Model>'},\n",
       "    'name': 'GBM_3_AutoML_20190416_235225',\n",
       "    'type': 'Key<Model>',\n",
       "    'URL': '/3/Models/GBM_3_AutoML_20190416_235225'},\n",
       "   {'__meta': {'schema_version': 3,\n",
       "     'schema_name': 'ModelKeyV3',\n",
       "     'schema_type': 'Key<Model>'},\n",
       "    'name': 'GBM_2_AutoML_20190416_235225',\n",
       "    'type': 'Key<Model>',\n",
       "    'URL': '/3/Models/GBM_2_AutoML_20190416_235225'},\n",
       "   {'__meta': {'schema_version': 3,\n",
       "     'schema_name': 'ModelKeyV3',\n",
       "     'schema_type': 'Key<Model>'},\n",
       "    'name': 'GBM_1_AutoML_20190416_235225',\n",
       "    'type': 'Key<Model>',\n",
       "    'URL': '/3/Models/GBM_1_AutoML_20190416_235225'},\n",
       "   {'__meta': {'schema_version': 3,\n",
       "     'schema_name': 'ModelKeyV3',\n",
       "     'schema_type': 'Key<Model>'},\n",
       "    'name': 'DeepLearning_1_AutoML_20190416_235225',\n",
       "    'type': 'Key<Model>',\n",
       "    'URL': '/3/Models/DeepLearning_1_AutoML_20190416_235225'},\n",
       "   {'__meta': {'schema_version': 3,\n",
       "     'schema_name': 'ModelKeyV3',\n",
       "     'schema_type': 'Key<Model>'},\n",
       "    'name': 'DRF_1_AutoML_20190416_235225',\n",
       "    'type': 'Key<Model>',\n",
       "    'URL': '/3/Models/DRF_1_AutoML_20190416_235225'},\n",
       "   {'__meta': {'schema_version': 3,\n",
       "     'schema_name': 'ModelKeyV3',\n",
       "     'schema_type': 'Key<Model>'},\n",
       "    'name': 'XRT_1_AutoML_20190416_235225',\n",
       "    'type': 'Key<Model>',\n",
       "    'URL': '/3/Models/XRT_1_AutoML_20190416_235225'},\n",
       "   {'__meta': {'schema_version': 3,\n",
       "     'schema_name': 'ModelKeyV3',\n",
       "     'schema_type': 'Key<Model>'},\n",
       "    'name': 'GBM_grid_1_AutoML_20190416_235225_model_2',\n",
       "    'type': 'Key<Model>',\n",
       "    'URL': '/3/Models/GBM_grid_1_AutoML_20190416_235225_model_2'},\n",
       "   {'__meta': {'schema_version': 3,\n",
       "     'schema_name': 'ModelKeyV3',\n",
       "     'schema_type': 'Key<Model>'},\n",
       "    'name': 'GBM_grid_1_AutoML_20190416_235225_model_3',\n",
       "    'type': 'Key<Model>',\n",
       "    'URL': '/3/Models/GBM_grid_1_AutoML_20190416_235225_model_3'},\n",
       "   {'__meta': {'schema_version': 3,\n",
       "     'schema_name': 'ModelKeyV3',\n",
       "     'schema_type': 'Key<Model>'},\n",
       "    'name': 'GBM_grid_1_AutoML_20190416_235225_model_1',\n",
       "    'type': 'Key<Model>',\n",
       "    'URL': '/3/Models/GBM_grid_1_AutoML_20190416_235225_model_1'},\n",
       "   {'__meta': {'schema_version': 3,\n",
       "     'schema_name': 'ModelKeyV3',\n",
       "     'schema_type': 'Key<Model>'},\n",
       "    'name': 'GLM_grid_1_AutoML_20190416_235225_model_1',\n",
       "    'type': 'Key<Model>',\n",
       "    'URL': '/3/Models/GLM_grid_1_AutoML_20190416_235225_model_1'}]},\n",
       " 'metalearner_algorithm': {'default': 'AUTO', 'actual': 'AUTO'},\n",
       " 'metalearner_nfolds': {'default': 0, 'actual': 5},\n",
       " 'metalearner_fold_assignment': {'default': None, 'actual': None},\n",
       " 'metalearner_fold_column': {'default': None, 'actual': None},\n",
       " 'metalearner_params': {'default': '', 'actual': ''},\n",
       " 'seed': {'default': -1, 'actual': -867122805223431905},\n",
       " 'keep_levelone_frame': {'default': False, 'actual': True},\n",
       " 'export_checkpoints_dir': {'default': None, 'actual': None}}"
      ]
     },
     "execution_count": 195,
     "metadata": {},
     "output_type": "execute_result"
    }
   ],
   "source": [
    "mod_best.params"
   ]
  },
  {
   "cell_type": "code",
   "execution_count": 196,
   "metadata": {},
   "outputs": [],
   "source": [
    "def dict_to_json(dct,n):\n",
    "  j = json.dumps(dct, indent=4)\n",
    "  f = open(n, 'w')\n",
    "  print(j, file=f)\n",
    "  f.close()"
   ]
  },
  {
   "cell_type": "code",
   "execution_count": 197,
   "metadata": {},
   "outputs": [],
   "source": [
    "hy_parameter = mod_best.params\n",
    "n='hyperparameter9_2500.json'"
   ]
  },
  {
   "cell_type": "code",
   "execution_count": 198,
   "metadata": {},
   "outputs": [],
   "source": [
    "dict_to_json(hy_parameter,n)"
   ]
  },
  {
   "cell_type": "markdown",
   "metadata": {},
   "source": [
    "# Hyperparameter for Model 10"
   ]
  },
  {
   "cell_type": "code",
   "execution_count": 199,
   "metadata": {},
   "outputs": [],
   "source": [
    "model_set=aml_leaderboard_df['model_id']\n",
    "mod_best=h2o.get_model(model_set[9])"
   ]
  },
  {
   "cell_type": "code",
   "execution_count": 200,
   "metadata": {},
   "outputs": [
    {
     "data": {
      "text/plain": [
       "'GBM_grid_1_AutoML_20190416_235225_model_2'"
      ]
     },
     "execution_count": 200,
     "metadata": {},
     "output_type": "execute_result"
    }
   ],
   "source": [
    "mod_best._id"
   ]
  },
  {
   "cell_type": "code",
   "execution_count": 201,
   "metadata": {},
   "outputs": [
    {
     "data": {
      "text/plain": [
       "{'model_id': {'default': None,\n",
       "  'actual': {'__meta': {'schema_version': 3,\n",
       "    'schema_name': 'ModelKeyV3',\n",
       "    'schema_type': 'Key<Model>'},\n",
       "   'name': 'GBM_grid_1_AutoML_20190416_235225_model_2',\n",
       "   'type': 'Key<Model>',\n",
       "   'URL': '/3/Models/GBM_grid_1_AutoML_20190416_235225_model_2'}},\n",
       " 'training_frame': {'default': None,\n",
       "  'actual': {'__meta': {'schema_version': 3,\n",
       "    'schema_name': 'FrameKeyV3',\n",
       "    'schema_type': 'Key<Frame>'},\n",
       "   'name': 'automl_training_train1.hex',\n",
       "   'type': 'Key<Frame>',\n",
       "   'URL': '/3/Frames/automl_training_train1.hex'}},\n",
       " 'validation_frame': {'default': None, 'actual': None},\n",
       " 'nfolds': {'default': 0, 'actual': 5},\n",
       " 'keep_cross_validation_models': {'default': True, 'actual': False},\n",
       " 'keep_cross_validation_predictions': {'default': False, 'actual': True},\n",
       " 'keep_cross_validation_fold_assignment': {'default': False, 'actual': False},\n",
       " 'score_each_iteration': {'default': False, 'actual': False},\n",
       " 'score_tree_interval': {'default': 0, 'actual': 5},\n",
       " 'fold_assignment': {'default': 'AUTO', 'actual': 'Modulo'},\n",
       " 'fold_column': {'default': None, 'actual': None},\n",
       " 'response_column': {'default': None,\n",
       "  'actual': {'__meta': {'schema_version': 3,\n",
       "    'schema_name': 'ColSpecifierV3',\n",
       "    'schema_type': 'VecSpecifier'},\n",
       "   'column_name': 'Purchase',\n",
       "   'is_member_of_frames': None}},\n",
       " 'ignored_columns': {'default': None, 'actual': ['C1']},\n",
       " 'ignore_const_cols': {'default': True, 'actual': True},\n",
       " 'offset_column': {'default': None, 'actual': None},\n",
       " 'weights_column': {'default': None, 'actual': None},\n",
       " 'balance_classes': {'default': False, 'actual': False},\n",
       " 'class_sampling_factors': {'default': None, 'actual': None},\n",
       " 'max_after_balance_size': {'default': 5.0, 'actual': 5.0},\n",
       " 'max_confusion_matrix_size': {'default': 20, 'actual': 20},\n",
       " 'max_hit_ratio_k': {'default': 0, 'actual': 0},\n",
       " 'ntrees': {'default': 50, 'actual': 140},\n",
       " 'max_depth': {'default': 5, 'actual': 12},\n",
       " 'min_rows': {'default': 10.0, 'actual': 1.0},\n",
       " 'nbins': {'default': 20, 'actual': 20},\n",
       " 'nbins_top_level': {'default': 1024, 'actual': 1024},\n",
       " 'nbins_cats': {'default': 1024, 'actual': 1024},\n",
       " 'r2_stopping': {'default': 1.7976931348623157e+308,\n",
       "  'actual': 1.7976931348623157e+308},\n",
       " 'stopping_rounds': {'default': 0, 'actual': 0},\n",
       " 'stopping_metric': {'default': 'AUTO', 'actual': 'deviance'},\n",
       " 'stopping_tolerance': {'default': 0.001, 'actual': 0.001363890989782514},\n",
       " 'max_runtime_secs': {'default': 0.0, 'actual': 0.0},\n",
       " 'seed': {'default': -1, 'actual': 3176680653646086582},\n",
       " 'build_tree_one_node': {'default': False, 'actual': False},\n",
       " 'learn_rate': {'default': 0.1, 'actual': 0.01},\n",
       " 'learn_rate_annealing': {'default': 1.0, 'actual': 1.0},\n",
       " 'distribution': {'default': 'AUTO', 'actual': 'gaussian'},\n",
       " 'quantile_alpha': {'default': 0.5, 'actual': 0.5},\n",
       " 'tweedie_power': {'default': 1.5, 'actual': 1.5},\n",
       " 'huber_alpha': {'default': 0.9, 'actual': 0.9},\n",
       " 'checkpoint': {'default': None, 'actual': None},\n",
       " 'sample_rate': {'default': 1.0, 'actual': 0.7},\n",
       " 'sample_rate_per_class': {'default': None, 'actual': None},\n",
       " 'col_sample_rate': {'default': 1.0, 'actual': 1.0},\n",
       " 'col_sample_rate_change_per_level': {'default': 1.0, 'actual': 1.0},\n",
       " 'col_sample_rate_per_tree': {'default': 1.0, 'actual': 0.7},\n",
       " 'min_split_improvement': {'default': 1e-05, 'actual': 0.0001},\n",
       " 'histogram_type': {'default': 'AUTO', 'actual': 'AUTO'},\n",
       " 'max_abs_leafnode_pred': {'default': 1.7976931348623157e+308,\n",
       "  'actual': 1.7976931348623157e+308},\n",
       " 'pred_noise_bandwidth': {'default': 0.0, 'actual': 0.0},\n",
       " 'categorical_encoding': {'default': 'AUTO', 'actual': 'AUTO'},\n",
       " 'calibrate_model': {'default': False, 'actual': False},\n",
       " 'calibration_frame': {'default': None, 'actual': None},\n",
       " 'custom_metric_func': {'default': None, 'actual': None},\n",
       " 'export_checkpoints_dir': {'default': None, 'actual': None},\n",
       " 'monotone_constraints': {'default': None, 'actual': None},\n",
       " 'check_constant_response': {'default': True, 'actual': True}}"
      ]
     },
     "execution_count": 201,
     "metadata": {},
     "output_type": "execute_result"
    }
   ],
   "source": [
    "mod_best.params"
   ]
  },
  {
   "cell_type": "code",
   "execution_count": 202,
   "metadata": {},
   "outputs": [],
   "source": [
    "def dict_to_json(dct,n):\n",
    "  j = json.dumps(dct, indent=4)\n",
    "  f = open(n, 'w')\n",
    "  print(j, file=f)\n",
    "  f.close()"
   ]
  },
  {
   "cell_type": "code",
   "execution_count": 203,
   "metadata": {},
   "outputs": [],
   "source": [
    "hy_parameter = mod_best.params\n",
    "n='hyperparameter10_2500.json'"
   ]
  },
  {
   "cell_type": "code",
   "execution_count": 204,
   "metadata": {},
   "outputs": [],
   "source": [
    "dict_to_json(hy_parameter,n)"
   ]
  },
  {
   "cell_type": "markdown",
   "metadata": {},
   "source": [
    "# Hyperparameter for Model 11"
   ]
  },
  {
   "cell_type": "code",
   "execution_count": 205,
   "metadata": {},
   "outputs": [],
   "source": [
    "model_set=aml_leaderboard_df['model_id']\n",
    "mod_best=h2o.get_model(model_set[10])"
   ]
  },
  {
   "cell_type": "code",
   "execution_count": 206,
   "metadata": {},
   "outputs": [
    {
     "data": {
      "text/plain": [
       "'GBM_grid_1_AutoML_20190416_235225_model_3'"
      ]
     },
     "execution_count": 206,
     "metadata": {},
     "output_type": "execute_result"
    }
   ],
   "source": [
    "mod_best._id"
   ]
  },
  {
   "cell_type": "code",
   "execution_count": 207,
   "metadata": {},
   "outputs": [
    {
     "data": {
      "text/plain": [
       "{'model_id': {'default': None,\n",
       "  'actual': {'__meta': {'schema_version': 3,\n",
       "    'schema_name': 'ModelKeyV3',\n",
       "    'schema_type': 'Key<Model>'},\n",
       "   'name': 'GBM_grid_1_AutoML_20190416_235225_model_3',\n",
       "   'type': 'Key<Model>',\n",
       "   'URL': '/3/Models/GBM_grid_1_AutoML_20190416_235225_model_3'}},\n",
       " 'training_frame': {'default': None,\n",
       "  'actual': {'__meta': {'schema_version': 3,\n",
       "    'schema_name': 'FrameKeyV3',\n",
       "    'schema_type': 'Key<Frame>'},\n",
       "   'name': 'automl_training_train1.hex',\n",
       "   'type': 'Key<Frame>',\n",
       "   'URL': '/3/Frames/automl_training_train1.hex'}},\n",
       " 'validation_frame': {'default': None, 'actual': None},\n",
       " 'nfolds': {'default': 0, 'actual': 5},\n",
       " 'keep_cross_validation_models': {'default': True, 'actual': False},\n",
       " 'keep_cross_validation_predictions': {'default': False, 'actual': True},\n",
       " 'keep_cross_validation_fold_assignment': {'default': False, 'actual': False},\n",
       " 'score_each_iteration': {'default': False, 'actual': False},\n",
       " 'score_tree_interval': {'default': 0, 'actual': 5},\n",
       " 'fold_assignment': {'default': 'AUTO', 'actual': 'Modulo'},\n",
       " 'fold_column': {'default': None, 'actual': None},\n",
       " 'response_column': {'default': None,\n",
       "  'actual': {'__meta': {'schema_version': 3,\n",
       "    'schema_name': 'ColSpecifierV3',\n",
       "    'schema_type': 'VecSpecifier'},\n",
       "   'column_name': 'Purchase',\n",
       "   'is_member_of_frames': None}},\n",
       " 'ignored_columns': {'default': None, 'actual': ['C1']},\n",
       " 'ignore_const_cols': {'default': True, 'actual': True},\n",
       " 'offset_column': {'default': None, 'actual': None},\n",
       " 'weights_column': {'default': None, 'actual': None},\n",
       " 'balance_classes': {'default': False, 'actual': False},\n",
       " 'class_sampling_factors': {'default': None, 'actual': None},\n",
       " 'max_after_balance_size': {'default': 5.0, 'actual': 5.0},\n",
       " 'max_confusion_matrix_size': {'default': 20, 'actual': 20},\n",
       " 'max_hit_ratio_k': {'default': 0, 'actual': 0},\n",
       " 'ntrees': {'default': 50, 'actual': 7},\n",
       " 'max_depth': {'default': 5, 'actual': 14},\n",
       " 'min_rows': {'default': 10.0, 'actual': 100.0},\n",
       " 'nbins': {'default': 20, 'actual': 20},\n",
       " 'nbins_top_level': {'default': 1024, 'actual': 1024},\n",
       " 'nbins_cats': {'default': 1024, 'actual': 1024},\n",
       " 'r2_stopping': {'default': 1.7976931348623157e+308,\n",
       "  'actual': 1.7976931348623157e+308},\n",
       " 'stopping_rounds': {'default': 0, 'actual': 0},\n",
       " 'stopping_metric': {'default': 'AUTO', 'actual': 'deviance'},\n",
       " 'stopping_tolerance': {'default': 0.001, 'actual': 0.001363890989782514},\n",
       " 'max_runtime_secs': {'default': 0.0, 'actual': 0.0},\n",
       " 'seed': {'default': -1, 'actual': 7524609779146277068},\n",
       " 'build_tree_one_node': {'default': False, 'actual': False},\n",
       " 'learn_rate': {'default': 0.1, 'actual': 0.1},\n",
       " 'learn_rate_annealing': {'default': 1.0, 'actual': 1.0},\n",
       " 'distribution': {'default': 'AUTO', 'actual': 'gaussian'},\n",
       " 'quantile_alpha': {'default': 0.5, 'actual': 0.5},\n",
       " 'tweedie_power': {'default': 1.5, 'actual': 1.5},\n",
       " 'huber_alpha': {'default': 0.9, 'actual': 0.9},\n",
       " 'checkpoint': {'default': None, 'actual': None},\n",
       " 'sample_rate': {'default': 1.0, 'actual': 0.6},\n",
       " 'sample_rate_per_class': {'default': None, 'actual': None},\n",
       " 'col_sample_rate': {'default': 1.0, 'actual': 0.7},\n",
       " 'col_sample_rate_change_per_level': {'default': 1.0, 'actual': 1.0},\n",
       " 'col_sample_rate_per_tree': {'default': 1.0, 'actual': 0.7},\n",
       " 'min_split_improvement': {'default': 1e-05, 'actual': 1e-05},\n",
       " 'histogram_type': {'default': 'AUTO', 'actual': 'AUTO'},\n",
       " 'max_abs_leafnode_pred': {'default': 1.7976931348623157e+308,\n",
       "  'actual': 1.7976931348623157e+308},\n",
       " 'pred_noise_bandwidth': {'default': 0.0, 'actual': 0.0},\n",
       " 'categorical_encoding': {'default': 'AUTO', 'actual': 'AUTO'},\n",
       " 'calibrate_model': {'default': False, 'actual': False},\n",
       " 'calibration_frame': {'default': None, 'actual': None},\n",
       " 'custom_metric_func': {'default': None, 'actual': None},\n",
       " 'export_checkpoints_dir': {'default': None, 'actual': None},\n",
       " 'monotone_constraints': {'default': None, 'actual': None},\n",
       " 'check_constant_response': {'default': True, 'actual': True}}"
      ]
     },
     "execution_count": 207,
     "metadata": {},
     "output_type": "execute_result"
    }
   ],
   "source": [
    "mod_best.params"
   ]
  },
  {
   "cell_type": "code",
   "execution_count": 208,
   "metadata": {},
   "outputs": [],
   "source": [
    "def dict_to_json(dct,n):\n",
    "  j = json.dumps(dct, indent=4)\n",
    "  f = open(n, 'w')\n",
    "  print(j, file=f)\n",
    "  f.close()"
   ]
  },
  {
   "cell_type": "code",
   "execution_count": 209,
   "metadata": {},
   "outputs": [],
   "source": [
    "hy_parameter = mod_best.params\n",
    "n='hyperparameter11_2500.json'"
   ]
  },
  {
   "cell_type": "code",
   "execution_count": 210,
   "metadata": {},
   "outputs": [],
   "source": [
    "dict_to_json(hy_parameter,n)"
   ]
  },
  {
   "cell_type": "markdown",
   "metadata": {},
   "source": [
    "# Hyperparameter for Model 12"
   ]
  },
  {
   "cell_type": "code",
   "execution_count": 212,
   "metadata": {},
   "outputs": [],
   "source": [
    "model_set=aml_leaderboard_df['model_id']\n",
    "mod_best=h2o.get_model(model_set[11])"
   ]
  },
  {
   "cell_type": "code",
   "execution_count": 213,
   "metadata": {},
   "outputs": [
    {
     "data": {
      "text/plain": [
       "'StackedEnsemble_BestOfFamily_AutoML_20190416_235225'"
      ]
     },
     "execution_count": 213,
     "metadata": {},
     "output_type": "execute_result"
    }
   ],
   "source": [
    "mod_best._id"
   ]
  },
  {
   "cell_type": "code",
   "execution_count": 214,
   "metadata": {},
   "outputs": [
    {
     "data": {
      "text/plain": [
       "{'model_id': {'default': None,\n",
       "  'actual': {'__meta': {'schema_version': 3,\n",
       "    'schema_name': 'ModelKeyV3',\n",
       "    'schema_type': 'Key<Model>'},\n",
       "   'name': 'StackedEnsemble_BestOfFamily_AutoML_20190416_235225',\n",
       "   'type': 'Key<Model>',\n",
       "   'URL': '/3/Models/StackedEnsemble_BestOfFamily_AutoML_20190416_235225'}},\n",
       " 'training_frame': {'default': None,\n",
       "  'actual': {'__meta': {'schema_version': 3,\n",
       "    'schema_name': 'FrameKeyV3',\n",
       "    'schema_type': 'Key<Frame>'},\n",
       "   'name': 'automl_training_train1.hex',\n",
       "   'type': 'Key<Frame>',\n",
       "   'URL': '/3/Frames/automl_training_train1.hex'}},\n",
       " 'response_column': {'default': None,\n",
       "  'actual': {'__meta': {'schema_version': 3,\n",
       "    'schema_name': 'ColSpecifierV3',\n",
       "    'schema_type': 'VecSpecifier'},\n",
       "   'column_name': 'Purchase',\n",
       "   'is_member_of_frames': None}},\n",
       " 'validation_frame': {'default': None, 'actual': None},\n",
       " 'blending_frame': {'default': None, 'actual': None},\n",
       " 'base_models': {'default': [],\n",
       "  'actual': [{'__meta': {'schema_version': 3,\n",
       "     'schema_name': 'ModelKeyV3',\n",
       "     'schema_type': 'Key<Model>'},\n",
       "    'name': 'GBM_5_AutoML_20190416_235225',\n",
       "    'type': 'Key<Model>',\n",
       "    'URL': '/3/Models/GBM_5_AutoML_20190416_235225'},\n",
       "   {'__meta': {'schema_version': 3,\n",
       "     'schema_name': 'ModelKeyV3',\n",
       "     'schema_type': 'Key<Model>'},\n",
       "    'name': 'DeepLearning_1_AutoML_20190416_235225',\n",
       "    'type': 'Key<Model>',\n",
       "    'URL': '/3/Models/DeepLearning_1_AutoML_20190416_235225'},\n",
       "   {'__meta': {'schema_version': 3,\n",
       "     'schema_name': 'ModelKeyV3',\n",
       "     'schema_type': 'Key<Model>'},\n",
       "    'name': 'DRF_1_AutoML_20190416_235225',\n",
       "    'type': 'Key<Model>',\n",
       "    'URL': '/3/Models/DRF_1_AutoML_20190416_235225'},\n",
       "   {'__meta': {'schema_version': 3,\n",
       "     'schema_name': 'ModelKeyV3',\n",
       "     'schema_type': 'Key<Model>'},\n",
       "    'name': 'XRT_1_AutoML_20190416_235225',\n",
       "    'type': 'Key<Model>',\n",
       "    'URL': '/3/Models/XRT_1_AutoML_20190416_235225'},\n",
       "   {'__meta': {'schema_version': 3,\n",
       "     'schema_name': 'ModelKeyV3',\n",
       "     'schema_type': 'Key<Model>'},\n",
       "    'name': 'GLM_grid_1_AutoML_20190416_235225_model_1',\n",
       "    'type': 'Key<Model>',\n",
       "    'URL': '/3/Models/GLM_grid_1_AutoML_20190416_235225_model_1'}]},\n",
       " 'metalearner_algorithm': {'default': 'AUTO', 'actual': 'AUTO'},\n",
       " 'metalearner_nfolds': {'default': 0, 'actual': 5},\n",
       " 'metalearner_fold_assignment': {'default': None, 'actual': None},\n",
       " 'metalearner_fold_column': {'default': None, 'actual': None},\n",
       " 'metalearner_params': {'default': '', 'actual': ''},\n",
       " 'seed': {'default': -1, 'actual': 7711027550090137420},\n",
       " 'keep_levelone_frame': {'default': False, 'actual': True},\n",
       " 'export_checkpoints_dir': {'default': None, 'actual': None}}"
      ]
     },
     "execution_count": 214,
     "metadata": {},
     "output_type": "execute_result"
    }
   ],
   "source": [
    "mod_best.params"
   ]
  },
  {
   "cell_type": "code",
   "execution_count": 215,
   "metadata": {},
   "outputs": [],
   "source": [
    "def dict_to_json(dct,n):\n",
    "  j = json.dumps(dct, indent=4)\n",
    "  f = open(n, 'w')\n",
    "  print(j, file=f)\n",
    "  f.close()"
   ]
  },
  {
   "cell_type": "code",
   "execution_count": 216,
   "metadata": {},
   "outputs": [],
   "source": [
    "hy_parameter = mod_best.params\n",
    "n='hyperparameter12_2500.json'"
   ]
  },
  {
   "cell_type": "code",
   "execution_count": 217,
   "metadata": {},
   "outputs": [],
   "source": [
    "dict_to_json(hy_parameter,n)"
   ]
  },
  {
   "cell_type": "markdown",
   "metadata": {},
   "source": [
    "# Hyperparameter for Model 13"
   ]
  },
  {
   "cell_type": "code",
   "execution_count": 218,
   "metadata": {},
   "outputs": [],
   "source": [
    "model_set=aml_leaderboard_df['model_id']\n",
    "mod_best=h2o.get_model(model_set[12])"
   ]
  },
  {
   "cell_type": "code",
   "execution_count": 219,
   "metadata": {},
   "outputs": [
    {
     "data": {
      "text/plain": [
       "'GBM_grid_1_AutoML_20190416_235225_model_1'"
      ]
     },
     "execution_count": 219,
     "metadata": {},
     "output_type": "execute_result"
    }
   ],
   "source": [
    "mod_best._id"
   ]
  },
  {
   "cell_type": "code",
   "execution_count": 220,
   "metadata": {},
   "outputs": [
    {
     "data": {
      "text/plain": [
       "{'model_id': {'default': None,\n",
       "  'actual': {'__meta': {'schema_version': 3,\n",
       "    'schema_name': 'ModelKeyV3',\n",
       "    'schema_type': 'Key<Model>'},\n",
       "   'name': 'GBM_grid_1_AutoML_20190416_235225_model_1',\n",
       "   'type': 'Key<Model>',\n",
       "   'URL': '/3/Models/GBM_grid_1_AutoML_20190416_235225_model_1'}},\n",
       " 'training_frame': {'default': None,\n",
       "  'actual': {'__meta': {'schema_version': 3,\n",
       "    'schema_name': 'FrameKeyV3',\n",
       "    'schema_type': 'Key<Frame>'},\n",
       "   'name': 'automl_training_train1.hex',\n",
       "   'type': 'Key<Frame>',\n",
       "   'URL': '/3/Frames/automl_training_train1.hex'}},\n",
       " 'validation_frame': {'default': None, 'actual': None},\n",
       " 'nfolds': {'default': 0, 'actual': 5},\n",
       " 'keep_cross_validation_models': {'default': True, 'actual': False},\n",
       " 'keep_cross_validation_predictions': {'default': False, 'actual': True},\n",
       " 'keep_cross_validation_fold_assignment': {'default': False, 'actual': False},\n",
       " 'score_each_iteration': {'default': False, 'actual': False},\n",
       " 'score_tree_interval': {'default': 0, 'actual': 5},\n",
       " 'fold_assignment': {'default': 'AUTO', 'actual': 'Modulo'},\n",
       " 'fold_column': {'default': None, 'actual': None},\n",
       " 'response_column': {'default': None,\n",
       "  'actual': {'__meta': {'schema_version': 3,\n",
       "    'schema_name': 'ColSpecifierV3',\n",
       "    'schema_type': 'VecSpecifier'},\n",
       "   'column_name': 'Purchase',\n",
       "   'is_member_of_frames': None}},\n",
       " 'ignored_columns': {'default': None, 'actual': ['C1']},\n",
       " 'ignore_const_cols': {'default': True, 'actual': True},\n",
       " 'offset_column': {'default': None, 'actual': None},\n",
       " 'weights_column': {'default': None, 'actual': None},\n",
       " 'balance_classes': {'default': False, 'actual': False},\n",
       " 'class_sampling_factors': {'default': None, 'actual': None},\n",
       " 'max_after_balance_size': {'default': 5.0, 'actual': 5.0},\n",
       " 'max_confusion_matrix_size': {'default': 20, 'actual': 20},\n",
       " 'max_hit_ratio_k': {'default': 0, 'actual': 0},\n",
       " 'ntrees': {'default': 50, 'actual': 188},\n",
       " 'max_depth': {'default': 5, 'actual': 3},\n",
       " 'min_rows': {'default': 10.0, 'actual': 1.0},\n",
       " 'nbins': {'default': 20, 'actual': 20},\n",
       " 'nbins_top_level': {'default': 1024, 'actual': 1024},\n",
       " 'nbins_cats': {'default': 1024, 'actual': 1024},\n",
       " 'r2_stopping': {'default': 1.7976931348623157e+308,\n",
       "  'actual': 1.7976931348623157e+308},\n",
       " 'stopping_rounds': {'default': 0, 'actual': 0},\n",
       " 'stopping_metric': {'default': 'AUTO', 'actual': 'deviance'},\n",
       " 'stopping_tolerance': {'default': 0.001, 'actual': 0.001363890989782514},\n",
       " 'max_runtime_secs': {'default': 0.0, 'actual': 0.0},\n",
       " 'seed': {'default': -1, 'actual': 3369727435625088296},\n",
       " 'build_tree_one_node': {'default': False, 'actual': False},\n",
       " 'learn_rate': {'default': 0.1, 'actual': 0.05},\n",
       " 'learn_rate_annealing': {'default': 1.0, 'actual': 1.0},\n",
       " 'distribution': {'default': 'AUTO', 'actual': 'gaussian'},\n",
       " 'quantile_alpha': {'default': 0.5, 'actual': 0.5},\n",
       " 'tweedie_power': {'default': 1.5, 'actual': 1.5},\n",
       " 'huber_alpha': {'default': 0.9, 'actual': 0.9},\n",
       " 'checkpoint': {'default': None, 'actual': None},\n",
       " 'sample_rate': {'default': 1.0, 'actual': 0.7},\n",
       " 'sample_rate_per_class': {'default': None, 'actual': None},\n",
       " 'col_sample_rate': {'default': 1.0, 'actual': 0.4},\n",
       " 'col_sample_rate_change_per_level': {'default': 1.0, 'actual': 1.0},\n",
       " 'col_sample_rate_per_tree': {'default': 1.0, 'actual': 0.4},\n",
       " 'min_split_improvement': {'default': 1e-05, 'actual': 0.0001},\n",
       " 'histogram_type': {'default': 'AUTO', 'actual': 'AUTO'},\n",
       " 'max_abs_leafnode_pred': {'default': 1.7976931348623157e+308,\n",
       "  'actual': 1.7976931348623157e+308},\n",
       " 'pred_noise_bandwidth': {'default': 0.0, 'actual': 0.0},\n",
       " 'categorical_encoding': {'default': 'AUTO', 'actual': 'AUTO'},\n",
       " 'calibrate_model': {'default': False, 'actual': False},\n",
       " 'calibration_frame': {'default': None, 'actual': None},\n",
       " 'custom_metric_func': {'default': None, 'actual': None},\n",
       " 'export_checkpoints_dir': {'default': None, 'actual': None},\n",
       " 'monotone_constraints': {'default': None, 'actual': None},\n",
       " 'check_constant_response': {'default': True, 'actual': True}}"
      ]
     },
     "execution_count": 220,
     "metadata": {},
     "output_type": "execute_result"
    }
   ],
   "source": [
    "mod_best.params"
   ]
  },
  {
   "cell_type": "code",
   "execution_count": 221,
   "metadata": {},
   "outputs": [],
   "source": [
    "def dict_to_json(dct,n):\n",
    "  j = json.dumps(dct, indent=4)\n",
    "  f = open(n, 'w')\n",
    "  print(j, file=f)\n",
    "  f.close()"
   ]
  },
  {
   "cell_type": "code",
   "execution_count": 222,
   "metadata": {},
   "outputs": [],
   "source": [
    "hy_parameter = mod_best.params\n",
    "n='hyperparameter13_2500.json'"
   ]
  },
  {
   "cell_type": "code",
   "execution_count": 223,
   "metadata": {},
   "outputs": [],
   "source": [
    "dict_to_json(hy_parameter,n)"
   ]
  },
  {
   "cell_type": "markdown",
   "metadata": {},
   "source": [
    "# Hyperparameters for Model 14"
   ]
  },
  {
   "cell_type": "code",
   "execution_count": 224,
   "metadata": {},
   "outputs": [],
   "source": [
    "model_set=aml_leaderboard_df['model_id']\n",
    "mod_best=h2o.get_model(model_set[13])"
   ]
  },
  {
   "cell_type": "code",
   "execution_count": 225,
   "metadata": {},
   "outputs": [
    {
     "data": {
      "text/plain": [
       "'GLM_grid_1_AutoML_20190416_235225_model_1'"
      ]
     },
     "execution_count": 225,
     "metadata": {},
     "output_type": "execute_result"
    }
   ],
   "source": [
    "mod_best._id"
   ]
  },
  {
   "cell_type": "code",
   "execution_count": 226,
   "metadata": {},
   "outputs": [
    {
     "data": {
      "text/plain": [
       "{'model_id': {'default': None,\n",
       "  'actual': {'__meta': {'schema_version': 3,\n",
       "    'schema_name': 'ModelKeyV3',\n",
       "    'schema_type': 'Key<Model>'},\n",
       "   'name': 'GLM_grid_1_AutoML_20190416_235225_model_1',\n",
       "   'type': 'Key<Model>',\n",
       "   'URL': '/3/Models/GLM_grid_1_AutoML_20190416_235225_model_1'}},\n",
       " 'training_frame': {'default': None,\n",
       "  'actual': {'__meta': {'schema_version': 3,\n",
       "    'schema_name': 'FrameKeyV3',\n",
       "    'schema_type': 'Key<Frame>'},\n",
       "   'name': 'automl_training_train1.hex',\n",
       "   'type': 'Key<Frame>',\n",
       "   'URL': '/3/Frames/automl_training_train1.hex'}},\n",
       " 'validation_frame': {'default': None, 'actual': None},\n",
       " 'nfolds': {'default': 0, 'actual': 5},\n",
       " 'seed': {'default': -1, 'actual': 3850681770674218579},\n",
       " 'keep_cross_validation_models': {'default': True, 'actual': False},\n",
       " 'keep_cross_validation_predictions': {'default': False, 'actual': True},\n",
       " 'keep_cross_validation_fold_assignment': {'default': False, 'actual': False},\n",
       " 'fold_assignment': {'default': 'AUTO', 'actual': 'Modulo'},\n",
       " 'fold_column': {'default': None, 'actual': None},\n",
       " 'response_column': {'default': None,\n",
       "  'actual': {'__meta': {'schema_version': 3,\n",
       "    'schema_name': 'ColSpecifierV3',\n",
       "    'schema_type': 'VecSpecifier'},\n",
       "   'column_name': 'Purchase',\n",
       "   'is_member_of_frames': None}},\n",
       " 'ignored_columns': {'default': None, 'actual': ['C1']},\n",
       " 'ignore_const_cols': {'default': True, 'actual': True},\n",
       " 'score_each_iteration': {'default': False, 'actual': False},\n",
       " 'offset_column': {'default': None, 'actual': None},\n",
       " 'weights_column': {'default': None, 'actual': None},\n",
       " 'family': {'default': 'gaussian', 'actual': 'gaussian'},\n",
       " 'tweedie_variance_power': {'default': 0.0, 'actual': 0.0},\n",
       " 'tweedie_link_power': {'default': 1.0, 'actual': 1.0},\n",
       " 'theta': {'default': 1e-10, 'actual': 1e-10},\n",
       " 'solver': {'default': 'AUTO', 'actual': 'COORDINATE_DESCENT'},\n",
       " 'alpha': {'default': None, 'actual': [0.0, 0.2, 0.4, 0.6, 0.8, 1.0]},\n",
       " 'lambda': {'default': None,\n",
       "  'actual': [156465.93492127347,\n",
       "   97167.99641501333,\n",
       "   60342.971983381794,\n",
       "   37474.00792576794,\n",
       "   23271.993802480545]},\n",
       " 'lambda_search': {'default': False, 'actual': True},\n",
       " 'early_stopping': {'default': True, 'actual': True},\n",
       " 'nlambdas': {'default': -1, 'actual': 30},\n",
       " 'standardize': {'default': True, 'actual': True},\n",
       " 'missing_values_handling': {'default': 'MeanImputation',\n",
       "  'actual': 'MeanImputation'},\n",
       " 'compute_p_values': {'default': False, 'actual': False},\n",
       " 'remove_collinear_columns': {'default': False, 'actual': False},\n",
       " 'intercept': {'default': True, 'actual': True},\n",
       " 'non_negative': {'default': False, 'actual': False},\n",
       " 'max_iterations': {'default': -1, 'actual': 300},\n",
       " 'objective_epsilon': {'default': -1.0, 'actual': 0.0001},\n",
       " 'beta_epsilon': {'default': 0.0001, 'actual': 0.0001},\n",
       " 'gradient_epsilon': {'default': -1.0, 'actual': 1.0000000000000002e-06},\n",
       " 'link': {'default': 'family_default', 'actual': 'identity'},\n",
       " 'prior': {'default': -1.0, 'actual': -1.0},\n",
       " 'lambda_min_ratio': {'default': -1.0, 'actual': 1.0000000000000002e-06},\n",
       " 'beta_constraints': {'default': None, 'actual': None},\n",
       " 'max_active_predictors': {'default': -1, 'actual': 5000},\n",
       " 'interactions': {'default': None, 'actual': None},\n",
       " 'interaction_pairs': {'default': None, 'actual': None},\n",
       " 'obj_reg': {'default': -1.0, 'actual': 1.860198632009926e-06},\n",
       " 'export_checkpoints_dir': {'default': None, 'actual': None},\n",
       " 'balance_classes': {'default': False, 'actual': False},\n",
       " 'class_sampling_factors': {'default': None, 'actual': None},\n",
       " 'max_after_balance_size': {'default': 5.0, 'actual': 5.0},\n",
       " 'max_confusion_matrix_size': {'default': 20, 'actual': 20},\n",
       " 'max_hit_ratio_k': {'default': 0, 'actual': 0},\n",
       " 'max_runtime_secs': {'default': 0.0, 'actual': 0.0},\n",
       " 'custom_metric_func': {'default': None, 'actual': None}}"
      ]
     },
     "execution_count": 226,
     "metadata": {},
     "output_type": "execute_result"
    }
   ],
   "source": [
    "mod_best.params"
   ]
  },
  {
   "cell_type": "code",
   "execution_count": 227,
   "metadata": {},
   "outputs": [],
   "source": [
    "def dict_to_json(dct,n):\n",
    "  j = json.dumps(dct, indent=4)\n",
    "  f = open(n, 'w')\n",
    "  print(j, file=f)\n",
    "  f.close()"
   ]
  },
  {
   "cell_type": "code",
   "execution_count": 228,
   "metadata": {},
   "outputs": [],
   "source": [
    "hy_parameter = mod_best.params\n",
    "n='hyperparameter14_2500.json'"
   ]
  },
  {
   "cell_type": "code",
   "execution_count": 229,
   "metadata": {},
   "outputs": [],
   "source": [
    "dict_to_json(hy_parameter,n)"
   ]
  },
  {
   "cell_type": "code",
   "execution_count": null,
   "metadata": {},
   "outputs": [],
   "source": []
  },
  {
   "cell_type": "code",
   "execution_count": null,
   "metadata": {},
   "outputs": [],
   "source": []
  }
 ],
 "metadata": {
  "kernelspec": {
   "display_name": "Python 3",
   "language": "python",
   "name": "python3"
  },
  "language_info": {
   "codemirror_mode": {
    "name": "ipython",
    "version": 3
   },
   "file_extension": ".py",
   "mimetype": "text/x-python",
   "name": "python",
   "nbconvert_exporter": "python",
   "pygments_lexer": "ipython3",
   "version": "3.7.1"
  }
 },
 "nbformat": 4,
 "nbformat_minor": 2
}
